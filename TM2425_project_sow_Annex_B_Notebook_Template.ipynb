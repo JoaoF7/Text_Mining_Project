{
 "cells": [
  {
   "cell_type": "markdown",
   "metadata": {},
   "source": [
    "<i>## Comments will be provided using this format. Key takeaway: groups are encouraged to change the formatting, but not the structure. Groups are also allowed to create additional notebooks - for instance, create one notebook for data exploration, and one notebook for each preprocessing-modelling-evaluation pipeline -, but must strive to keep an unified style across notebooks.</i>\n",
    "\n",
    "#### NOVA IMS / BSc in Data Science / Text Mining 2024/2025\n",
    "### <b>Group Project: \"Solving the Hyderabadi Word Soup\"</b>\n",
    "#### Notebook `Notebook Title`\n",
    "\n",
    "#### Group:\n",
    "- `Group member #1`\n",
    "- `(...)`\n",
    "- `Group member #5`\n",
    "\n",
    "#### <font color='#BFD72'>Table of Contents </font> <a class=\"anchor\" id='toc'></a> \n",
    "- [1. Data Understanding](#P1)\n",
    "- [2. Data Exploration with visualizations](#P2) \n",
    "    - [2.1 ------------](#P21)\n",
    "    - [2.2 -------------](#P22)\n",
    "    - [2.3 ------------------](#P23)\n",
    "    - [2.4 -------------](#P24)\n",
    "    - [2.5 -------------](#P25)\n",
    "\n",
    "- [3. Sentiment Analysis (Information Requirement 3312)](#P3)\n",
    "    - [3.1 Specific Data Preparation](#P31)\n",
    "    - [3.2 Model Implementation](#P32)\n",
    "    - [3.3 Model Evaluation](#P3n)\n",
    "- [4. Multilabel Classification (Information Requirement 3311)](#P4)\n",
    "    - [4.1 Specific Data Preparation](#P41)\n",
    "    - [4.2 Model Implementation](#P42)\n",
    "    - [4.3 Model Evaluation](#P43)\n",
    "- [...]\n",
    "- [N. Additional Tasks (Information Requirements 332n)](#Pn)\n",
    "    - [N.1 Specific Data Preparation](#Pn1)\n",
    "    - [N.2 Model Implementation](#Pn2)\n",
    "    - [N.3 Model Evaluation](#Pn3)\n",
    "\n",
    "<i>## Note that the notebook structure differs from the report: instead of following the CRISP-DM phases and then specifying the different problems inside the phases, the notebook is structured by problem, with the CRISP-DM phases being defined for each specific problem."
   ]
  },
  {
   "cell_type": "code",
   "execution_count": 1,
   "metadata": {},
   "outputs": [
    {
     "name": "stderr",
     "output_type": "stream",
     "text": [
      "[nltk_data] Downloading package punkt to\n",
      "[nltk_data]     C:\\Users\\joaof\\AppData\\Roaming\\nltk_data...\n",
      "[nltk_data]   Package punkt is already up-to-date!\n",
      "[nltk_data] Downloading package vader_lexicon to\n",
      "[nltk_data]     C:\\Users\\joaof\\AppData\\Roaming\\nltk_data...\n",
      "[nltk_data]   Package vader_lexicon is already up-to-date!\n"
     ]
    }
   ],
   "source": [
    "## All imports must be concentrated on a cell that immediately follow the table of contents\n",
    "%load_ext autoreload\n",
    "%autoreload 2\n",
    "#!pip install nltk==3.7\n",
    "import time\n",
    "import pandas as pd\n",
    "import numpy as np\n",
    "from utils.pipeline_v1d import main_pipeline\n",
    "from sklearn.feature_extraction.text import CountVectorizer\n",
    "import seaborn as sns\n",
    "import matplotlib.pyplot as plt\n",
    "import pickle\n",
    "from sklearn.feature_extraction.text import TfidfVectorizer\n",
    "import os\n",
    "from wordcloud import WordCloud\n",
    "import re\n",
    "import nltk\n",
    "nltk.download(\"punkt\")\n",
    "from nltk.tokenize import PunktSentenceTokenizer\n",
    "nltk.download('vader_lexicon')\n",
    "from nltk.sentiment.vader import SentimentIntensityAnalyzer\n",
    "from textblob import TextBlob\n",
    "from scipy.stats import pearsonr\n",
    "from sklearn import preprocessing\n",
    "from sklearn.metrics import mean_squared_error\n",
    "from sklearn.metrics import mean_absolute_percentage_error\n",
    "import plotly.express as px\n",
    "from tqdm import tqdm\n",
    "from collections import Counter\n",
    "from collections import defaultdict"
   ]
  },
  {
   "cell_type": "markdown",
   "metadata": {},
   "source": [
    "## Explanation of Imported Libraries\n",
    "\n",
    "1. **time**\n",
    "   - **Functions**: Provides various time-related functions.\n",
    "   - **Usage**: Useful for measuring the time taken by different parts of the code, which can help in optimizing performance.\n",
    "\n",
    "2. **pandas**\n",
    "   - **Functions**: Offers data structures and data analysis tools, such as DataFrames.\n",
    "   - **Usage**: Essential for data manipulation and analysis, allowing us to handle and preprocess large datasets efficiently.\n",
    "\n",
    "3. **numpy**\n",
    "   - **Functions**: Provides support for large, multi-dimensional arrays and matrices, along with a collection of mathematical functions.\n",
    "   - **Usage**: Useful for numerical operations and handling arrays, which are common in data preprocessing and feature extraction.\n",
    "\n",
    "4. **utils.pipeline_v1d**\n",
    "   - **Functions**: Contains the `main_pipeline` function.\n",
    "   - **Usage**: Custom module for this project, encapsulating the main workflow or processing steps.\n",
    "\n",
    "5. **sklearn.feature_extraction.text.CountVectorizer**\n",
    "   - **Functions**: Converts a collection of text documents to a matrix of token counts.\n",
    "   - **Usage**: Useful for converting text data into numerical data, which can then be used for machine learning models.\n",
    "\n",
    "6. **seaborn**\n",
    "   - **Functions**: Provides a high-level interface for drawing attractive statistical graphics.\n",
    "   - **Usage**: Useful for data visualization, helping to understand the distribution and relationships in the data.\n",
    "\n",
    "7. **matplotlib.pyplot**\n",
    "   - **Functions**: A plotting library for creating static, animated, and interactive visualizations.\n",
    "   - **Usage**: Essential for creating various types of plots and charts to visualize data and results.\n",
    "\n",
    "8. **pickle**\n",
    "   - **Functions**: Implements binary protocols for serializing and de-serializing a Python object structure.\n",
    "   - **Usage**: Useful for saving and loading machine learning models or other data structures.\n",
    "\n",
    "9. **sklearn.feature_extraction.text.TfidfVectorizer**\n",
    "   - **Functions**: Converts a collection of raw documents to a matrix of TF-IDF features.\n",
    "   - **Usage**: Useful for transforming text data into numerical data, emphasizing important words in the documents.\n",
    "\n",
    "10. **os**\n",
    "    - **Functions**: Provides a way of using operating system-dependent functionality like reading or writing to the file system.\n",
    "    - **Usage**: Useful for file handling operations, such as reading data files or saving results.\n",
    "\n",
    "11. **wordcloud**\n",
    "    - **Functions**: Generates word clouds from text data.\n",
    "    - **Usage**: Useful for visualizing the most frequent words in the text data.\n",
    "\n",
    "12. **re**\n",
    "    - **Functions**: Provides support for regular expressions.\n",
    "    - **Usage**: Useful for text preprocessing tasks such as searching, splitting, or replacing text patterns.\n",
    "\n",
    "13. **nltk**\n",
    "    - **Functions**: A suite of libraries and programs for natural language processing.\n",
    "    - **Usage**: Useful for various NLP tasks such as tokenization, stemming, and lemmatization.\n",
    "\n",
    "14. **plotly.express**\n",
    "    - **Functions**: Provides functions for creating interactive plots.\n",
    "    - **Usage**: Useful for creating interactive visualizations that can be explored in more detail.\n",
    "\n",
    "15. **tqdm**\n",
    "    - **Functions**: Provides a fast, extensible progress bar for loops and other iterable tasks.\n",
    "    - **Usage**: Useful for tracking the progress of long-running tasks.\n",
    "\n",
    "16. **collections.Counter**\n",
    "    - **Functions**: A dict subclass for counting hashable objects.\n",
    "    - **Usage**: Useful for counting occurrences of elements in the text data.\n",
    "\n",
    "17. **collections.defaultdict**\n",
    "    - **Functions**: A dict subclass that calls a factory function to supply missing values.\n",
    "    - **Usage**: Useful for creating dictionaries with default values, which can simplify certain coding tasks.\n",
    "\n",
    "18. **... other / new libararies to be imported ...**"
   ]
  },
  {
   "cell_type": "markdown",
   "metadata": {},
   "source": [
    "<font color='#BFD72F' size=5>1. Data Understanding</font> <a class=\"anchor\" id=\"P1\"></a>\n",
    "  \n",
    "[Back to TOC](#toc)\n",
    "\n",
    "<i>## Use markdown cells to describe the purpose of the code cells that follow them.</i>"
   ]
  },
  {
   "cell_type": "code",
   "execution_count": 2,
   "metadata": {},
   "outputs": [],
   "source": [
    "reviews = pd.read_csv(\"data_hyderabad/10k_reviews.csv\")\n",
    "restaurants = pd.read_csv(\"data_hyderabad/105_restaurants.csv\")"
   ]
  },
  {
   "cell_type": "code",
   "execution_count": 3,
   "metadata": {},
   "outputs": [
    {
     "data": {
      "text/html": [
       "<div>\n",
       "<style scoped>\n",
       "    .dataframe tbody tr th:only-of-type {\n",
       "        vertical-align: middle;\n",
       "    }\n",
       "\n",
       "    .dataframe tbody tr th {\n",
       "        vertical-align: top;\n",
       "    }\n",
       "\n",
       "    .dataframe thead th {\n",
       "        text-align: right;\n",
       "    }\n",
       "</style>\n",
       "<table border=\"1\" class=\"dataframe\">\n",
       "  <thead>\n",
       "    <tr style=\"text-align: right;\">\n",
       "      <th></th>\n",
       "      <th>Restaurant</th>\n",
       "      <th>Reviewer</th>\n",
       "      <th>Review</th>\n",
       "      <th>Rating</th>\n",
       "      <th>Metadata</th>\n",
       "      <th>Time</th>\n",
       "      <th>Pictures</th>\n",
       "    </tr>\n",
       "  </thead>\n",
       "  <tbody>\n",
       "    <tr>\n",
       "      <th>0</th>\n",
       "      <td>Beyond Flavours</td>\n",
       "      <td>Rusha Chakraborty</td>\n",
       "      <td>The ambience was good, food was quite good . h...</td>\n",
       "      <td>5</td>\n",
       "      <td>1 Review , 2 Followers</td>\n",
       "      <td>5/25/2019 15:54</td>\n",
       "      <td>0</td>\n",
       "    </tr>\n",
       "    <tr>\n",
       "      <th>1</th>\n",
       "      <td>Beyond Flavours</td>\n",
       "      <td>Anusha Tirumalaneedi</td>\n",
       "      <td>Ambience is too good for a pleasant evening. S...</td>\n",
       "      <td>5</td>\n",
       "      <td>3 Reviews , 2 Followers</td>\n",
       "      <td>5/25/2019 14:20</td>\n",
       "      <td>0</td>\n",
       "    </tr>\n",
       "    <tr>\n",
       "      <th>2</th>\n",
       "      <td>Beyond Flavours</td>\n",
       "      <td>Ashok Shekhawat</td>\n",
       "      <td>A must try.. great food great ambience. Thnx f...</td>\n",
       "      <td>5</td>\n",
       "      <td>2 Reviews , 3 Followers</td>\n",
       "      <td>5/24/2019 22:54</td>\n",
       "      <td>0</td>\n",
       "    </tr>\n",
       "    <tr>\n",
       "      <th>3</th>\n",
       "      <td>Beyond Flavours</td>\n",
       "      <td>Swapnil Sarkar</td>\n",
       "      <td>Soumen das and Arun was a great guy. Only beca...</td>\n",
       "      <td>5</td>\n",
       "      <td>1 Review , 1 Follower</td>\n",
       "      <td>5/24/2019 22:11</td>\n",
       "      <td>0</td>\n",
       "    </tr>\n",
       "    <tr>\n",
       "      <th>4</th>\n",
       "      <td>Beyond Flavours</td>\n",
       "      <td>Dileep</td>\n",
       "      <td>Food is good.we ordered Kodi drumsticks and ba...</td>\n",
       "      <td>5</td>\n",
       "      <td>3 Reviews , 2 Followers</td>\n",
       "      <td>5/24/2019 21:37</td>\n",
       "      <td>0</td>\n",
       "    </tr>\n",
       "    <tr>\n",
       "      <th>...</th>\n",
       "      <td>...</td>\n",
       "      <td>...</td>\n",
       "      <td>...</td>\n",
       "      <td>...</td>\n",
       "      <td>...</td>\n",
       "      <td>...</td>\n",
       "      <td>...</td>\n",
       "    </tr>\n",
       "    <tr>\n",
       "      <th>9995</th>\n",
       "      <td>Chinese Pavilion</td>\n",
       "      <td>Abhishek Mahajan</td>\n",
       "      <td>Madhumathi Mahajan Well to start with nice cou...</td>\n",
       "      <td>3</td>\n",
       "      <td>53 Reviews , 54 Followers</td>\n",
       "      <td>6/5/2016 0:08</td>\n",
       "      <td>0</td>\n",
       "    </tr>\n",
       "    <tr>\n",
       "      <th>9996</th>\n",
       "      <td>Chinese Pavilion</td>\n",
       "      <td>Sharad Agrawal</td>\n",
       "      <td>This place has never disappointed us.. The foo...</td>\n",
       "      <td>4.5</td>\n",
       "      <td>2 Reviews , 53 Followers</td>\n",
       "      <td>6/4/2016 22:01</td>\n",
       "      <td>0</td>\n",
       "    </tr>\n",
       "    <tr>\n",
       "      <th>9997</th>\n",
       "      <td>Chinese Pavilion</td>\n",
       "      <td>Ramandeep</td>\n",
       "      <td>Bad rating is mainly because of \"Chicken Bone ...</td>\n",
       "      <td>1.5</td>\n",
       "      <td>65 Reviews , 423 Followers</td>\n",
       "      <td>6/3/2016 10:37</td>\n",
       "      <td>3</td>\n",
       "    </tr>\n",
       "    <tr>\n",
       "      <th>9998</th>\n",
       "      <td>Chinese Pavilion</td>\n",
       "      <td>Nayana Shanbhag</td>\n",
       "      <td>I personally love and prefer Chinese Food. Had...</td>\n",
       "      <td>4</td>\n",
       "      <td>13 Reviews , 144 Followers</td>\n",
       "      <td>5/31/2016 17:22</td>\n",
       "      <td>0</td>\n",
       "    </tr>\n",
       "    <tr>\n",
       "      <th>9999</th>\n",
       "      <td>Chinese Pavilion</td>\n",
       "      <td>Bhargava Krishna</td>\n",
       "      <td>Checked in here to try some delicious chinese ...</td>\n",
       "      <td>3.5</td>\n",
       "      <td>472 Reviews , 1302 Followers</td>\n",
       "      <td>5/31/2016 16:41</td>\n",
       "      <td>6</td>\n",
       "    </tr>\n",
       "  </tbody>\n",
       "</table>\n",
       "<p>10000 rows × 7 columns</p>\n",
       "</div>"
      ],
      "text/plain": [
       "            Restaurant              Reviewer  \\\n",
       "0      Beyond Flavours     Rusha Chakraborty   \n",
       "1      Beyond Flavours  Anusha Tirumalaneedi   \n",
       "2      Beyond Flavours       Ashok Shekhawat   \n",
       "3      Beyond Flavours        Swapnil Sarkar   \n",
       "4      Beyond Flavours                Dileep   \n",
       "...                ...                   ...   \n",
       "9995  Chinese Pavilion      Abhishek Mahajan   \n",
       "9996  Chinese Pavilion        Sharad Agrawal   \n",
       "9997  Chinese Pavilion             Ramandeep   \n",
       "9998  Chinese Pavilion       Nayana Shanbhag   \n",
       "9999  Chinese Pavilion      Bhargava Krishna   \n",
       "\n",
       "                                                 Review Rating  \\\n",
       "0     The ambience was good, food was quite good . h...      5   \n",
       "1     Ambience is too good for a pleasant evening. S...      5   \n",
       "2     A must try.. great food great ambience. Thnx f...      5   \n",
       "3     Soumen das and Arun was a great guy. Only beca...      5   \n",
       "4     Food is good.we ordered Kodi drumsticks and ba...      5   \n",
       "...                                                 ...    ...   \n",
       "9995  Madhumathi Mahajan Well to start with nice cou...      3   \n",
       "9996  This place has never disappointed us.. The foo...    4.5   \n",
       "9997  Bad rating is mainly because of \"Chicken Bone ...    1.5   \n",
       "9998  I personally love and prefer Chinese Food. Had...      4   \n",
       "9999  Checked in here to try some delicious chinese ...    3.5   \n",
       "\n",
       "                          Metadata             Time  Pictures  \n",
       "0           1 Review , 2 Followers  5/25/2019 15:54         0  \n",
       "1          3 Reviews , 2 Followers  5/25/2019 14:20         0  \n",
       "2          2 Reviews , 3 Followers  5/24/2019 22:54         0  \n",
       "3            1 Review , 1 Follower  5/24/2019 22:11         0  \n",
       "4          3 Reviews , 2 Followers  5/24/2019 21:37         0  \n",
       "...                            ...              ...       ...  \n",
       "9995     53 Reviews , 54 Followers    6/5/2016 0:08         0  \n",
       "9996      2 Reviews , 53 Followers   6/4/2016 22:01         0  \n",
       "9997    65 Reviews , 423 Followers   6/3/2016 10:37         3  \n",
       "9998    13 Reviews , 144 Followers  5/31/2016 17:22         0  \n",
       "9999  472 Reviews , 1302 Followers  5/31/2016 16:41         6  \n",
       "\n",
       "[10000 rows x 7 columns]"
      ]
     },
     "execution_count": 3,
     "metadata": {},
     "output_type": "execute_result"
    }
   ],
   "source": [
    "reviews"
   ]
  },
  {
   "cell_type": "code",
   "execution_count": 4,
   "metadata": {},
   "outputs": [
    {
     "name": "stdout",
     "output_type": "stream",
     "text": [
      "5       3832\n",
      "4       2373\n",
      "1       1735\n",
      "3       1193\n",
      "2        684\n",
      "4.5       69\n",
      "3.5       47\n",
      "2.5       19\n",
      "1.5        9\n",
      "Like       1\n",
      "Name: Rating, dtype: int64\n"
     ]
    },
    {
     "data": {
      "text/html": [
       "<div>\n",
       "<style scoped>\n",
       "    .dataframe tbody tr th:only-of-type {\n",
       "        vertical-align: middle;\n",
       "    }\n",
       "\n",
       "    .dataframe tbody tr th {\n",
       "        vertical-align: top;\n",
       "    }\n",
       "\n",
       "    .dataframe thead th {\n",
       "        text-align: right;\n",
       "    }\n",
       "</style>\n",
       "<table border=\"1\" class=\"dataframe\">\n",
       "  <thead>\n",
       "    <tr style=\"text-align: right;\">\n",
       "      <th></th>\n",
       "      <th>Restaurant</th>\n",
       "      <th>Reviewer</th>\n",
       "      <th>Review</th>\n",
       "      <th>Rating</th>\n",
       "      <th>Metadata</th>\n",
       "      <th>Time</th>\n",
       "      <th>Pictures</th>\n",
       "    </tr>\n",
       "  </thead>\n",
       "  <tbody>\n",
       "    <tr>\n",
       "      <th>7601</th>\n",
       "      <td>The Old Madras Baking Company</td>\n",
       "      <td>Dhanasekar Kannan</td>\n",
       "      <td>One of the best pizzas to try. It served with ...</td>\n",
       "      <td>Like</td>\n",
       "      <td>12 Reviews , 21 Followers</td>\n",
       "      <td>5/18/2019 12:31</td>\n",
       "      <td>1</td>\n",
       "    </tr>\n",
       "  </tbody>\n",
       "</table>\n",
       "</div>"
      ],
      "text/plain": [
       "                         Restaurant           Reviewer  \\\n",
       "7601  The Old Madras Baking Company  Dhanasekar Kannan   \n",
       "\n",
       "                                                 Review Rating  \\\n",
       "7601  One of the best pizzas to try. It served with ...   Like   \n",
       "\n",
       "                       Metadata             Time  Pictures  \n",
       "7601  12 Reviews , 21 Followers  5/18/2019 12:31         1  "
      ]
     },
     "execution_count": 4,
     "metadata": {},
     "output_type": "execute_result"
    }
   ],
   "source": [
    "print(reviews[\"Rating\"].value_counts()) \n",
    "reviews[reviews[\"Rating\"] == \"Like\"]"
   ]
  },
  {
   "cell_type": "code",
   "execution_count": 5,
   "metadata": {},
   "outputs": [
    {
     "data": {
      "text/html": [
       "<div>\n",
       "<style scoped>\n",
       "    .dataframe tbody tr th:only-of-type {\n",
       "        vertical-align: middle;\n",
       "    }\n",
       "\n",
       "    .dataframe tbody tr th {\n",
       "        vertical-align: top;\n",
       "    }\n",
       "\n",
       "    .dataframe thead th {\n",
       "        text-align: right;\n",
       "    }\n",
       "</style>\n",
       "<table border=\"1\" class=\"dataframe\">\n",
       "  <thead>\n",
       "    <tr style=\"text-align: right;\">\n",
       "      <th></th>\n",
       "      <th>Restaurant</th>\n",
       "      <th>Reviewer</th>\n",
       "      <th>Review</th>\n",
       "      <th>Rating</th>\n",
       "      <th>Metadata</th>\n",
       "      <th>Time</th>\n",
       "      <th>Pictures</th>\n",
       "    </tr>\n",
       "  </thead>\n",
       "  <tbody>\n",
       "    <tr>\n",
       "      <th>count</th>\n",
       "      <td>10000</td>\n",
       "      <td>9962</td>\n",
       "      <td>9955</td>\n",
       "      <td>9962</td>\n",
       "      <td>9962</td>\n",
       "      <td>9962</td>\n",
       "      <td>10000.000000</td>\n",
       "    </tr>\n",
       "    <tr>\n",
       "      <th>unique</th>\n",
       "      <td>100</td>\n",
       "      <td>7446</td>\n",
       "      <td>9364</td>\n",
       "      <td>10</td>\n",
       "      <td>2477</td>\n",
       "      <td>9782</td>\n",
       "      <td>NaN</td>\n",
       "    </tr>\n",
       "    <tr>\n",
       "      <th>top</th>\n",
       "      <td>Beyond Flavours</td>\n",
       "      <td>Parijat Ray</td>\n",
       "      <td>good</td>\n",
       "      <td>5</td>\n",
       "      <td>1 Review</td>\n",
       "      <td>7/29/2018 20:34</td>\n",
       "      <td>NaN</td>\n",
       "    </tr>\n",
       "    <tr>\n",
       "      <th>freq</th>\n",
       "      <td>100</td>\n",
       "      <td>13</td>\n",
       "      <td>237</td>\n",
       "      <td>3832</td>\n",
       "      <td>919</td>\n",
       "      <td>3</td>\n",
       "      <td>NaN</td>\n",
       "    </tr>\n",
       "    <tr>\n",
       "      <th>mean</th>\n",
       "      <td>NaN</td>\n",
       "      <td>NaN</td>\n",
       "      <td>NaN</td>\n",
       "      <td>NaN</td>\n",
       "      <td>NaN</td>\n",
       "      <td>NaN</td>\n",
       "      <td>0.748600</td>\n",
       "    </tr>\n",
       "    <tr>\n",
       "      <th>std</th>\n",
       "      <td>NaN</td>\n",
       "      <td>NaN</td>\n",
       "      <td>NaN</td>\n",
       "      <td>NaN</td>\n",
       "      <td>NaN</td>\n",
       "      <td>NaN</td>\n",
       "      <td>2.570381</td>\n",
       "    </tr>\n",
       "    <tr>\n",
       "      <th>min</th>\n",
       "      <td>NaN</td>\n",
       "      <td>NaN</td>\n",
       "      <td>NaN</td>\n",
       "      <td>NaN</td>\n",
       "      <td>NaN</td>\n",
       "      <td>NaN</td>\n",
       "      <td>0.000000</td>\n",
       "    </tr>\n",
       "    <tr>\n",
       "      <th>25%</th>\n",
       "      <td>NaN</td>\n",
       "      <td>NaN</td>\n",
       "      <td>NaN</td>\n",
       "      <td>NaN</td>\n",
       "      <td>NaN</td>\n",
       "      <td>NaN</td>\n",
       "      <td>0.000000</td>\n",
       "    </tr>\n",
       "    <tr>\n",
       "      <th>50%</th>\n",
       "      <td>NaN</td>\n",
       "      <td>NaN</td>\n",
       "      <td>NaN</td>\n",
       "      <td>NaN</td>\n",
       "      <td>NaN</td>\n",
       "      <td>NaN</td>\n",
       "      <td>0.000000</td>\n",
       "    </tr>\n",
       "    <tr>\n",
       "      <th>75%</th>\n",
       "      <td>NaN</td>\n",
       "      <td>NaN</td>\n",
       "      <td>NaN</td>\n",
       "      <td>NaN</td>\n",
       "      <td>NaN</td>\n",
       "      <td>NaN</td>\n",
       "      <td>0.000000</td>\n",
       "    </tr>\n",
       "    <tr>\n",
       "      <th>max</th>\n",
       "      <td>NaN</td>\n",
       "      <td>NaN</td>\n",
       "      <td>NaN</td>\n",
       "      <td>NaN</td>\n",
       "      <td>NaN</td>\n",
       "      <td>NaN</td>\n",
       "      <td>64.000000</td>\n",
       "    </tr>\n",
       "  </tbody>\n",
       "</table>\n",
       "</div>"
      ],
      "text/plain": [
       "             Restaurant     Reviewer Review Rating  Metadata             Time  \\\n",
       "count             10000         9962   9955   9962      9962             9962   \n",
       "unique              100         7446   9364     10      2477             9782   \n",
       "top     Beyond Flavours  Parijat Ray   good      5  1 Review  7/29/2018 20:34   \n",
       "freq                100           13    237   3832       919                3   \n",
       "mean                NaN          NaN    NaN    NaN       NaN              NaN   \n",
       "std                 NaN          NaN    NaN    NaN       NaN              NaN   \n",
       "min                 NaN          NaN    NaN    NaN       NaN              NaN   \n",
       "25%                 NaN          NaN    NaN    NaN       NaN              NaN   \n",
       "50%                 NaN          NaN    NaN    NaN       NaN              NaN   \n",
       "75%                 NaN          NaN    NaN    NaN       NaN              NaN   \n",
       "max                 NaN          NaN    NaN    NaN       NaN              NaN   \n",
       "\n",
       "            Pictures  \n",
       "count   10000.000000  \n",
       "unique           NaN  \n",
       "top              NaN  \n",
       "freq             NaN  \n",
       "mean        0.748600  \n",
       "std         2.570381  \n",
       "min         0.000000  \n",
       "25%         0.000000  \n",
       "50%         0.000000  \n",
       "75%         0.000000  \n",
       "max        64.000000  "
      ]
     },
     "execution_count": 5,
     "metadata": {},
     "output_type": "execute_result"
    }
   ],
   "source": [
    "reviews.describe(include = \"all\")"
   ]
  },
  {
   "cell_type": "code",
   "execution_count": 6,
   "metadata": {},
   "outputs": [
    {
     "name": "stdout",
     "output_type": "stream",
     "text": [
      "<class 'pandas.core.frame.DataFrame'>\n",
      "RangeIndex: 10000 entries, 0 to 9999\n",
      "Data columns (total 7 columns):\n",
      " #   Column      Non-Null Count  Dtype \n",
      "---  ------      --------------  ----- \n",
      " 0   Restaurant  10000 non-null  object\n",
      " 1   Reviewer    9962 non-null   object\n",
      " 2   Review      9955 non-null   object\n",
      " 3   Rating      9962 non-null   object\n",
      " 4   Metadata    9962 non-null   object\n",
      " 5   Time        9962 non-null   object\n",
      " 6   Pictures    10000 non-null  int64 \n",
      "dtypes: int64(1), object(6)\n",
      "memory usage: 547.0+ KB\n"
     ]
    }
   ],
   "source": [
    "reviews.info()"
   ]
  },
  {
   "cell_type": "code",
   "execution_count": 7,
   "metadata": {},
   "outputs": [
    {
     "data": {
      "text/html": [
       "<div>\n",
       "<style scoped>\n",
       "    .dataframe tbody tr th:only-of-type {\n",
       "        vertical-align: middle;\n",
       "    }\n",
       "\n",
       "    .dataframe tbody tr th {\n",
       "        vertical-align: top;\n",
       "    }\n",
       "\n",
       "    .dataframe thead th {\n",
       "        text-align: right;\n",
       "    }\n",
       "</style>\n",
       "<table border=\"1\" class=\"dataframe\">\n",
       "  <thead>\n",
       "    <tr style=\"text-align: right;\">\n",
       "      <th></th>\n",
       "      <th>Name</th>\n",
       "      <th>Links</th>\n",
       "      <th>Cost</th>\n",
       "      <th>Collections</th>\n",
       "      <th>Cuisines</th>\n",
       "      <th>Timings</th>\n",
       "    </tr>\n",
       "  </thead>\n",
       "  <tbody>\n",
       "    <tr>\n",
       "      <th>0</th>\n",
       "      <td>Beyond Flavours</td>\n",
       "      <td>https://www.zomato.com/hyderabad/beyond-flavou...</td>\n",
       "      <td>800</td>\n",
       "      <td>Food Hygiene Rated Restaurants in Hyderabad, C...</td>\n",
       "      <td>Chinese, Continental, Kebab, European, South I...</td>\n",
       "      <td>12noon to 3:30pm, 6:30pm to 11:30pm (Mon-Sun)</td>\n",
       "    </tr>\n",
       "    <tr>\n",
       "      <th>1</th>\n",
       "      <td>Paradise</td>\n",
       "      <td>https://www.zomato.com/hyderabad/paradise-gach...</td>\n",
       "      <td>800</td>\n",
       "      <td>Hyderabad's Hottest</td>\n",
       "      <td>Biryani, North Indian, Chinese</td>\n",
       "      <td>11 AM to 11 PM</td>\n",
       "    </tr>\n",
       "    <tr>\n",
       "      <th>2</th>\n",
       "      <td>Flechazo</td>\n",
       "      <td>https://www.zomato.com/hyderabad/flechazo-gach...</td>\n",
       "      <td>1,300</td>\n",
       "      <td>Great Buffets, Hyderabad's Hottest</td>\n",
       "      <td>Asian, Mediterranean, North Indian, Desserts</td>\n",
       "      <td>11:30 AM to 4:30 PM, 6:30 PM to 11 PM</td>\n",
       "    </tr>\n",
       "    <tr>\n",
       "      <th>3</th>\n",
       "      <td>Shah Ghouse Hotel &amp; Restaurant</td>\n",
       "      <td>https://www.zomato.com/hyderabad/shah-ghouse-h...</td>\n",
       "      <td>800</td>\n",
       "      <td>Late Night Restaurants</td>\n",
       "      <td>Biryani, North Indian, Chinese, Seafood, Bever...</td>\n",
       "      <td>12 Noon to 2 AM</td>\n",
       "    </tr>\n",
       "    <tr>\n",
       "      <th>4</th>\n",
       "      <td>Over The Moon Brew Company</td>\n",
       "      <td>https://www.zomato.com/hyderabad/over-the-moon...</td>\n",
       "      <td>1,200</td>\n",
       "      <td>Best Bars &amp; Pubs, Food Hygiene Rated Restauran...</td>\n",
       "      <td>Asian, Continental, North Indian, Chinese, Med...</td>\n",
       "      <td>12noon to 11pm (Mon, Tue, Wed, Thu, Sun), 12no...</td>\n",
       "    </tr>\n",
       "    <tr>\n",
       "      <th>...</th>\n",
       "      <td>...</td>\n",
       "      <td>...</td>\n",
       "      <td>...</td>\n",
       "      <td>...</td>\n",
       "      <td>...</td>\n",
       "      <td>...</td>\n",
       "    </tr>\n",
       "    <tr>\n",
       "      <th>100</th>\n",
       "      <td>IndiBlaze</td>\n",
       "      <td>https://www.zomato.com/hyderabad/indiblaze-gac...</td>\n",
       "      <td>600</td>\n",
       "      <td>NaN</td>\n",
       "      <td>Fast Food, Salad</td>\n",
       "      <td>11 AM to 11 PM</td>\n",
       "    </tr>\n",
       "    <tr>\n",
       "      <th>101</th>\n",
       "      <td>Sweet Basket</td>\n",
       "      <td>https://www.zomato.com/hyderabad/sweet-basket-...</td>\n",
       "      <td>200</td>\n",
       "      <td>NaN</td>\n",
       "      <td>Bakery, Mithai</td>\n",
       "      <td>10 AM to 10 PM (Mon-Thu), 8 AM to 10:30 PM (Fr...</td>\n",
       "    </tr>\n",
       "    <tr>\n",
       "      <th>102</th>\n",
       "      <td>Angaara Counts 3</td>\n",
       "      <td>https://www.zomato.com/hyderabad/angaara-count...</td>\n",
       "      <td>500</td>\n",
       "      <td>NaN</td>\n",
       "      <td>North Indian, Biryani, Chinese</td>\n",
       "      <td>12 Noon to 11 PM</td>\n",
       "    </tr>\n",
       "    <tr>\n",
       "      <th>103</th>\n",
       "      <td>Wich Please</td>\n",
       "      <td>https://www.zomato.com/hyderabad/wich-please-1...</td>\n",
       "      <td>250</td>\n",
       "      <td>NaN</td>\n",
       "      <td>Fast Food</td>\n",
       "      <td>8am to 12:30AM (Mon-Sun)</td>\n",
       "    </tr>\n",
       "    <tr>\n",
       "      <th>104</th>\n",
       "      <td>Republic Of Noodles - Lemon Tree Hotel</td>\n",
       "      <td>https://www.zomato.com/hyderabad/republic-of-n...</td>\n",
       "      <td>1,700</td>\n",
       "      <td>Pan-Asian Delicacies</td>\n",
       "      <td>Thai, Asian, Chinese, Malaysian</td>\n",
       "      <td>11:30 AM to 3 PM, 7 PM to 12 Midnight</td>\n",
       "    </tr>\n",
       "  </tbody>\n",
       "</table>\n",
       "<p>105 rows × 6 columns</p>\n",
       "</div>"
      ],
      "text/plain": [
       "                                       Name  \\\n",
       "0                           Beyond Flavours   \n",
       "1                                  Paradise   \n",
       "2                                  Flechazo   \n",
       "3            Shah Ghouse Hotel & Restaurant   \n",
       "4                Over The Moon Brew Company   \n",
       "..                                      ...   \n",
       "100                               IndiBlaze   \n",
       "101                            Sweet Basket   \n",
       "102                        Angaara Counts 3   \n",
       "103                             Wich Please   \n",
       "104  Republic Of Noodles - Lemon Tree Hotel   \n",
       "\n",
       "                                                 Links   Cost  \\\n",
       "0    https://www.zomato.com/hyderabad/beyond-flavou...    800   \n",
       "1    https://www.zomato.com/hyderabad/paradise-gach...    800   \n",
       "2    https://www.zomato.com/hyderabad/flechazo-gach...  1,300   \n",
       "3    https://www.zomato.com/hyderabad/shah-ghouse-h...    800   \n",
       "4    https://www.zomato.com/hyderabad/over-the-moon...  1,200   \n",
       "..                                                 ...    ...   \n",
       "100  https://www.zomato.com/hyderabad/indiblaze-gac...    600   \n",
       "101  https://www.zomato.com/hyderabad/sweet-basket-...    200   \n",
       "102  https://www.zomato.com/hyderabad/angaara-count...    500   \n",
       "103  https://www.zomato.com/hyderabad/wich-please-1...    250   \n",
       "104  https://www.zomato.com/hyderabad/republic-of-n...  1,700   \n",
       "\n",
       "                                           Collections  \\\n",
       "0    Food Hygiene Rated Restaurants in Hyderabad, C...   \n",
       "1                                  Hyderabad's Hottest   \n",
       "2                   Great Buffets, Hyderabad's Hottest   \n",
       "3                               Late Night Restaurants   \n",
       "4    Best Bars & Pubs, Food Hygiene Rated Restauran...   \n",
       "..                                                 ...   \n",
       "100                                                NaN   \n",
       "101                                                NaN   \n",
       "102                                                NaN   \n",
       "103                                                NaN   \n",
       "104                               Pan-Asian Delicacies   \n",
       "\n",
       "                                              Cuisines  \\\n",
       "0    Chinese, Continental, Kebab, European, South I...   \n",
       "1                       Biryani, North Indian, Chinese   \n",
       "2         Asian, Mediterranean, North Indian, Desserts   \n",
       "3    Biryani, North Indian, Chinese, Seafood, Bever...   \n",
       "4    Asian, Continental, North Indian, Chinese, Med...   \n",
       "..                                                 ...   \n",
       "100                                   Fast Food, Salad   \n",
       "101                                     Bakery, Mithai   \n",
       "102                     North Indian, Biryani, Chinese   \n",
       "103                                          Fast Food   \n",
       "104                    Thai, Asian, Chinese, Malaysian   \n",
       "\n",
       "                                               Timings  \n",
       "0        12noon to 3:30pm, 6:30pm to 11:30pm (Mon-Sun)  \n",
       "1                                       11 AM to 11 PM  \n",
       "2                11:30 AM to 4:30 PM, 6:30 PM to 11 PM  \n",
       "3                                      12 Noon to 2 AM  \n",
       "4    12noon to 11pm (Mon, Tue, Wed, Thu, Sun), 12no...  \n",
       "..                                                 ...  \n",
       "100                                     11 AM to 11 PM  \n",
       "101  10 AM to 10 PM (Mon-Thu), 8 AM to 10:30 PM (Fr...  \n",
       "102                                   12 Noon to 11 PM  \n",
       "103                           8am to 12:30AM (Mon-Sun)  \n",
       "104              11:30 AM to 3 PM, 7 PM to 12 Midnight  \n",
       "\n",
       "[105 rows x 6 columns]"
      ]
     },
     "execution_count": 7,
     "metadata": {},
     "output_type": "execute_result"
    }
   ],
   "source": [
    "restaurants"
   ]
  },
  {
   "cell_type": "code",
   "execution_count": 8,
   "metadata": {},
   "outputs": [
    {
     "name": "stdout",
     "output_type": "stream",
     "text": [
      "<class 'pandas.core.frame.DataFrame'>\n",
      "RangeIndex: 105 entries, 0 to 104\n",
      "Data columns (total 6 columns):\n",
      " #   Column       Non-Null Count  Dtype \n",
      "---  ------       --------------  ----- \n",
      " 0   Name         105 non-null    object\n",
      " 1   Links        105 non-null    object\n",
      " 2   Cost         105 non-null    object\n",
      " 3   Collections  51 non-null     object\n",
      " 4   Cuisines     105 non-null    object\n",
      " 5   Timings      104 non-null    object\n",
      "dtypes: object(6)\n",
      "memory usage: 5.0+ KB\n"
     ]
    }
   ],
   "source": [
    "restaurants.info()"
   ]
  },
  {
   "cell_type": "code",
   "execution_count": 9,
   "metadata": {},
   "outputs": [
    {
     "data": {
      "text/html": [
       "<div>\n",
       "<style scoped>\n",
       "    .dataframe tbody tr th:only-of-type {\n",
       "        vertical-align: middle;\n",
       "    }\n",
       "\n",
       "    .dataframe tbody tr th {\n",
       "        vertical-align: top;\n",
       "    }\n",
       "\n",
       "    .dataframe thead th {\n",
       "        text-align: right;\n",
       "    }\n",
       "</style>\n",
       "<table border=\"1\" class=\"dataframe\">\n",
       "  <thead>\n",
       "    <tr style=\"text-align: right;\">\n",
       "      <th></th>\n",
       "      <th>Name</th>\n",
       "      <th>Links</th>\n",
       "      <th>Cost</th>\n",
       "      <th>Collections</th>\n",
       "      <th>Cuisines</th>\n",
       "      <th>Timings</th>\n",
       "    </tr>\n",
       "  </thead>\n",
       "  <tbody>\n",
       "    <tr>\n",
       "      <th>count</th>\n",
       "      <td>105</td>\n",
       "      <td>105</td>\n",
       "      <td>105</td>\n",
       "      <td>51</td>\n",
       "      <td>105</td>\n",
       "      <td>104</td>\n",
       "    </tr>\n",
       "    <tr>\n",
       "      <th>unique</th>\n",
       "      <td>105</td>\n",
       "      <td>105</td>\n",
       "      <td>29</td>\n",
       "      <td>42</td>\n",
       "      <td>92</td>\n",
       "      <td>77</td>\n",
       "    </tr>\n",
       "    <tr>\n",
       "      <th>top</th>\n",
       "      <td>Beyond Flavours</td>\n",
       "      <td>https://www.zomato.com/hyderabad/beyond-flavou...</td>\n",
       "      <td>500</td>\n",
       "      <td>Food Hygiene Rated Restaurants in Hyderabad</td>\n",
       "      <td>North Indian, Chinese</td>\n",
       "      <td>11 AM to 11 PM</td>\n",
       "    </tr>\n",
       "    <tr>\n",
       "      <th>freq</th>\n",
       "      <td>1</td>\n",
       "      <td>1</td>\n",
       "      <td>13</td>\n",
       "      <td>4</td>\n",
       "      <td>4</td>\n",
       "      <td>6</td>\n",
       "    </tr>\n",
       "  </tbody>\n",
       "</table>\n",
       "</div>"
      ],
      "text/plain": [
       "                   Name                                              Links  \\\n",
       "count               105                                                105   \n",
       "unique              105                                                105   \n",
       "top     Beyond Flavours  https://www.zomato.com/hyderabad/beyond-flavou...   \n",
       "freq                  1                                                  1   \n",
       "\n",
       "       Cost                                  Collections  \\\n",
       "count   105                                           51   \n",
       "unique   29                                           42   \n",
       "top     500  Food Hygiene Rated Restaurants in Hyderabad   \n",
       "freq     13                                            4   \n",
       "\n",
       "                     Cuisines         Timings  \n",
       "count                     105             104  \n",
       "unique                     92              77  \n",
       "top     North Indian, Chinese  11 AM to 11 PM  \n",
       "freq                        4               6  "
      ]
     },
     "execution_count": 9,
     "metadata": {},
     "output_type": "execute_result"
    }
   ],
   "source": [
    "restaurants.describe(include=\"all\")"
   ]
  },
  {
   "cell_type": "code",
   "execution_count": 10,
   "metadata": {},
   "outputs": [],
   "source": [
    "# In this cell, we created a dictionary called dicti that maps restaurant names to their corresponding cuisines:\n",
    "dicti = {}\n",
    "for i in range(len(restaurants)):\n",
    "    dicti[restaurants[\"Name\"][i]] = restaurants[\"Cuisines\"][i]"
   ]
  },
  {
   "cell_type": "markdown",
   "metadata": {},
   "source": [
    "## Explanation:\n",
    "\n",
    "If restaurants is a list of dictionaries like this:\n",
    "\n",
    "```\n",
    "restaurants = [\n",
    "    {\"Name\": \"Restaurant A\", \"Cuisines\": \"Italian\"},\n",
    "    {\"Name\": \"Restaurant B\", \"Cuisines\": \"Chinese\"},\n",
    "              ]\n",
    "```\n",
    "\n",
    "After running the code, dicti will look like this:\n",
    "\n",
    "``` \n",
    "{\n",
    "    \"Restaurant A\": \"Italian\",\n",
    "    \"Restaurant B\": \"Chinese\"\n",
    "}\n",
    "\n",
    "```  \n",
    "\n",
    "\n",
    "## Possible improvement of code:\n",
    "\n",
    "```\n",
    "dicti = {}\n",
    "for restaurant in restaurants:\n",
    "    if \"Name\" in restaurant and \"Cuisines\" in restaurant:\n",
    "        dicti[restaurant[\"Name\"]] = restaurant[\"Cuisines\"] \n",
    "```  "
   ]
  },
  {
   "cell_type": "code",
   "execution_count": 11,
   "metadata": {},
   "outputs": [],
   "source": [
    "#Miguel revê estes comentários pq mudei o codigo para um dos teus possiveis improvements\n",
    "# initialize a new column named \"Cuisine\" in the reviews DataFrame and sets all its values to None. \n",
    "# This is a common practice to prepare a column for future data insertion.\n",
    "reviews[\"Cuisine\"] = reviews[\"Restaurant\"].map(dicti)\n",
    "# The original code initializes a \"Cuisine\" column and populates it by looking up values in a dictionary based on the \"Restaurant\" column."
   ]
  },
  {
   "cell_type": "markdown",
   "metadata": {},
   "source": [
    "## Potential Improvements\n",
    "#### Vectorized Operations:\n",
    "\n",
    "The current approach uses a loop to assign values, which can be slow for large DataFrames. Pandas supports vectorized operations that are more efficient.\n",
    "You can achieve the same result without a loop using the .map() function:\n",
    "\n",
    "\n",
    "``` \n",
    "{\n",
    "\n",
    "reviews[\"Cuisine\"] = reviews[\"Restaurant\"].map(dicti)\n",
    "\n",
    "or\n",
    "\n",
    "reviews[\"Cuisine\"] = reviews[\"Restaurant\"].map(dicti).fillna(\"Unknown\")\n",
    "\n",
    "}\n",
    "\n",
    "``` "
   ]
  },
  {
   "cell_type": "code",
   "execution_count": 12,
   "metadata": {},
   "outputs": [
    {
     "data": {
      "text/html": [
       "<div>\n",
       "<style scoped>\n",
       "    .dataframe tbody tr th:only-of-type {\n",
       "        vertical-align: middle;\n",
       "    }\n",
       "\n",
       "    .dataframe tbody tr th {\n",
       "        vertical-align: top;\n",
       "    }\n",
       "\n",
       "    .dataframe thead th {\n",
       "        text-align: right;\n",
       "    }\n",
       "</style>\n",
       "<table border=\"1\" class=\"dataframe\">\n",
       "  <thead>\n",
       "    <tr style=\"text-align: right;\">\n",
       "      <th></th>\n",
       "      <th>Restaurant</th>\n",
       "      <th>Reviewer</th>\n",
       "      <th>Review</th>\n",
       "      <th>Rating</th>\n",
       "      <th>Metadata</th>\n",
       "      <th>Time</th>\n",
       "      <th>Pictures</th>\n",
       "      <th>Cuisine</th>\n",
       "    </tr>\n",
       "  </thead>\n",
       "  <tbody>\n",
       "    <tr>\n",
       "      <th>0</th>\n",
       "      <td>Beyond Flavours</td>\n",
       "      <td>Rusha Chakraborty</td>\n",
       "      <td>The ambience was good, food was quite good . h...</td>\n",
       "      <td>5</td>\n",
       "      <td>1 Review , 2 Followers</td>\n",
       "      <td>5/25/2019 15:54</td>\n",
       "      <td>0</td>\n",
       "      <td>Chinese, Continental, Kebab, European, South I...</td>\n",
       "    </tr>\n",
       "    <tr>\n",
       "      <th>1</th>\n",
       "      <td>Beyond Flavours</td>\n",
       "      <td>Anusha Tirumalaneedi</td>\n",
       "      <td>Ambience is too good for a pleasant evening. S...</td>\n",
       "      <td>5</td>\n",
       "      <td>3 Reviews , 2 Followers</td>\n",
       "      <td>5/25/2019 14:20</td>\n",
       "      <td>0</td>\n",
       "      <td>Chinese, Continental, Kebab, European, South I...</td>\n",
       "    </tr>\n",
       "    <tr>\n",
       "      <th>2</th>\n",
       "      <td>Beyond Flavours</td>\n",
       "      <td>Ashok Shekhawat</td>\n",
       "      <td>A must try.. great food great ambience. Thnx f...</td>\n",
       "      <td>5</td>\n",
       "      <td>2 Reviews , 3 Followers</td>\n",
       "      <td>5/24/2019 22:54</td>\n",
       "      <td>0</td>\n",
       "      <td>Chinese, Continental, Kebab, European, South I...</td>\n",
       "    </tr>\n",
       "    <tr>\n",
       "      <th>3</th>\n",
       "      <td>Beyond Flavours</td>\n",
       "      <td>Swapnil Sarkar</td>\n",
       "      <td>Soumen das and Arun was a great guy. Only beca...</td>\n",
       "      <td>5</td>\n",
       "      <td>1 Review , 1 Follower</td>\n",
       "      <td>5/24/2019 22:11</td>\n",
       "      <td>0</td>\n",
       "      <td>Chinese, Continental, Kebab, European, South I...</td>\n",
       "    </tr>\n",
       "    <tr>\n",
       "      <th>4</th>\n",
       "      <td>Beyond Flavours</td>\n",
       "      <td>Dileep</td>\n",
       "      <td>Food is good.we ordered Kodi drumsticks and ba...</td>\n",
       "      <td>5</td>\n",
       "      <td>3 Reviews , 2 Followers</td>\n",
       "      <td>5/24/2019 21:37</td>\n",
       "      <td>0</td>\n",
       "      <td>Chinese, Continental, Kebab, European, South I...</td>\n",
       "    </tr>\n",
       "    <tr>\n",
       "      <th>...</th>\n",
       "      <td>...</td>\n",
       "      <td>...</td>\n",
       "      <td>...</td>\n",
       "      <td>...</td>\n",
       "      <td>...</td>\n",
       "      <td>...</td>\n",
       "      <td>...</td>\n",
       "      <td>...</td>\n",
       "    </tr>\n",
       "    <tr>\n",
       "      <th>9995</th>\n",
       "      <td>Chinese Pavilion</td>\n",
       "      <td>Abhishek Mahajan</td>\n",
       "      <td>Madhumathi Mahajan Well to start with nice cou...</td>\n",
       "      <td>3</td>\n",
       "      <td>53 Reviews , 54 Followers</td>\n",
       "      <td>6/5/2016 0:08</td>\n",
       "      <td>0</td>\n",
       "      <td>Chinese, Seafood</td>\n",
       "    </tr>\n",
       "    <tr>\n",
       "      <th>9996</th>\n",
       "      <td>Chinese Pavilion</td>\n",
       "      <td>Sharad Agrawal</td>\n",
       "      <td>This place has never disappointed us.. The foo...</td>\n",
       "      <td>4.5</td>\n",
       "      <td>2 Reviews , 53 Followers</td>\n",
       "      <td>6/4/2016 22:01</td>\n",
       "      <td>0</td>\n",
       "      <td>Chinese, Seafood</td>\n",
       "    </tr>\n",
       "    <tr>\n",
       "      <th>9997</th>\n",
       "      <td>Chinese Pavilion</td>\n",
       "      <td>Ramandeep</td>\n",
       "      <td>Bad rating is mainly because of \"Chicken Bone ...</td>\n",
       "      <td>1.5</td>\n",
       "      <td>65 Reviews , 423 Followers</td>\n",
       "      <td>6/3/2016 10:37</td>\n",
       "      <td>3</td>\n",
       "      <td>Chinese, Seafood</td>\n",
       "    </tr>\n",
       "    <tr>\n",
       "      <th>9998</th>\n",
       "      <td>Chinese Pavilion</td>\n",
       "      <td>Nayana Shanbhag</td>\n",
       "      <td>I personally love and prefer Chinese Food. Had...</td>\n",
       "      <td>4</td>\n",
       "      <td>13 Reviews , 144 Followers</td>\n",
       "      <td>5/31/2016 17:22</td>\n",
       "      <td>0</td>\n",
       "      <td>Chinese, Seafood</td>\n",
       "    </tr>\n",
       "    <tr>\n",
       "      <th>9999</th>\n",
       "      <td>Chinese Pavilion</td>\n",
       "      <td>Bhargava Krishna</td>\n",
       "      <td>Checked in here to try some delicious chinese ...</td>\n",
       "      <td>3.5</td>\n",
       "      <td>472 Reviews , 1302 Followers</td>\n",
       "      <td>5/31/2016 16:41</td>\n",
       "      <td>6</td>\n",
       "      <td>Chinese, Seafood</td>\n",
       "    </tr>\n",
       "  </tbody>\n",
       "</table>\n",
       "<p>10000 rows × 8 columns</p>\n",
       "</div>"
      ],
      "text/plain": [
       "            Restaurant              Reviewer  \\\n",
       "0      Beyond Flavours     Rusha Chakraborty   \n",
       "1      Beyond Flavours  Anusha Tirumalaneedi   \n",
       "2      Beyond Flavours       Ashok Shekhawat   \n",
       "3      Beyond Flavours        Swapnil Sarkar   \n",
       "4      Beyond Flavours                Dileep   \n",
       "...                ...                   ...   \n",
       "9995  Chinese Pavilion      Abhishek Mahajan   \n",
       "9996  Chinese Pavilion        Sharad Agrawal   \n",
       "9997  Chinese Pavilion             Ramandeep   \n",
       "9998  Chinese Pavilion       Nayana Shanbhag   \n",
       "9999  Chinese Pavilion      Bhargava Krishna   \n",
       "\n",
       "                                                 Review Rating  \\\n",
       "0     The ambience was good, food was quite good . h...      5   \n",
       "1     Ambience is too good for a pleasant evening. S...      5   \n",
       "2     A must try.. great food great ambience. Thnx f...      5   \n",
       "3     Soumen das and Arun was a great guy. Only beca...      5   \n",
       "4     Food is good.we ordered Kodi drumsticks and ba...      5   \n",
       "...                                                 ...    ...   \n",
       "9995  Madhumathi Mahajan Well to start with nice cou...      3   \n",
       "9996  This place has never disappointed us.. The foo...    4.5   \n",
       "9997  Bad rating is mainly because of \"Chicken Bone ...    1.5   \n",
       "9998  I personally love and prefer Chinese Food. Had...      4   \n",
       "9999  Checked in here to try some delicious chinese ...    3.5   \n",
       "\n",
       "                          Metadata             Time  Pictures  \\\n",
       "0           1 Review , 2 Followers  5/25/2019 15:54         0   \n",
       "1          3 Reviews , 2 Followers  5/25/2019 14:20         0   \n",
       "2          2 Reviews , 3 Followers  5/24/2019 22:54         0   \n",
       "3            1 Review , 1 Follower  5/24/2019 22:11         0   \n",
       "4          3 Reviews , 2 Followers  5/24/2019 21:37         0   \n",
       "...                            ...              ...       ...   \n",
       "9995     53 Reviews , 54 Followers    6/5/2016 0:08         0   \n",
       "9996      2 Reviews , 53 Followers   6/4/2016 22:01         0   \n",
       "9997    65 Reviews , 423 Followers   6/3/2016 10:37         3   \n",
       "9998    13 Reviews , 144 Followers  5/31/2016 17:22         0   \n",
       "9999  472 Reviews , 1302 Followers  5/31/2016 16:41         6   \n",
       "\n",
       "                                                Cuisine  \n",
       "0     Chinese, Continental, Kebab, European, South I...  \n",
       "1     Chinese, Continental, Kebab, European, South I...  \n",
       "2     Chinese, Continental, Kebab, European, South I...  \n",
       "3     Chinese, Continental, Kebab, European, South I...  \n",
       "4     Chinese, Continental, Kebab, European, South I...  \n",
       "...                                                 ...  \n",
       "9995                                   Chinese, Seafood  \n",
       "9996                                   Chinese, Seafood  \n",
       "9997                                   Chinese, Seafood  \n",
       "9998                                   Chinese, Seafood  \n",
       "9999                                   Chinese, Seafood  \n",
       "\n",
       "[10000 rows x 8 columns]"
      ]
     },
     "execution_count": 12,
     "metadata": {},
     "output_type": "execute_result"
    }
   ],
   "source": [
    "reviews"
   ]
  },
  {
   "cell_type": "code",
   "execution_count": 13,
   "metadata": {},
   "outputs": [
    {
     "name": "stdout",
     "output_type": "stream",
     "text": [
      "2421    Well went to this place on a ladies night so d...\n",
      "9394    We went on a weekend to this place as we had b...\n",
      "6673                                                 good\n",
      "4263    A cafe by the legendary Karachi Bakery,it live...\n",
      "7819    The restaurant was quite big and maintained ve...\n",
      "5813    Since i am not an ice cream lover, still i ord...\n",
      "8887                                         Excellent!!!\n",
      "1322    Good concept, based on some other existing clu...\n",
      "7108    This place has a good ambiance and is a treat ...\n",
      "1891    I have always loved the TDS chain. Been to Kol...\n",
      "8575                   nice deliver boy by good behaviour\n",
      "407     Service is amazing!!! Three cheese mushroom is...\n",
      "Name: Review, dtype: object\n"
     ]
    }
   ],
   "source": [
    "print(reviews[\"Review\"].sample(12))"
   ]
  },
  {
   "cell_type": "code",
   "execution_count": 14,
   "metadata": {},
   "outputs": [
    {
     "name": "stdout",
     "output_type": "stream",
     "text": [
      "822     American, Chinese, North Indian, Kebab, South ...\n",
      "4211                            Cafe, Desserts, Fast Food\n",
      "910                                   Ice Cream, Desserts\n",
      "2544                                          Continental\n",
      "8437               North Indian, Andhra, Biryani, Chinese\n",
      "6004          North Indian, Continental, Chinese, Italian\n",
      "2730                North Indian, Mediterranean, European\n",
      "3016                   Andhra, South Indian, North Indian\n",
      "7709                Italian, North Indian, Chinese, Salad\n",
      "2378                                  Ice Cream, Desserts\n",
      "8017                          North Indian, Burger, Kebab\n",
      "2972                                            Fast Food\n",
      "Name: Cuisine, dtype: object\n"
     ]
    }
   ],
   "source": [
    "print(reviews[\"Cuisine\"].sample(12))"
   ]
  },
  {
   "cell_type": "markdown",
   "metadata": {},
   "source": [
    "From the initial data exploration we concluded:\n",
    "- There are missing values in a lot of columns which should be dealt with accordingly to the tasks \n",
    "- We joined the cuisines from the `restaurants` to the `reviews` dataset so that we have the column `Cuisines` merged in only one dataset\n",
    "- After taking samples of the `Review`, it is a string of words, numbers and emojis and some other signs and punctuation\n",
    "- After taking samples of the `Cuisine`, it is a of types of cuisines separated by comas\n",
    "- The column `Rating` has one value \"Like\" instead of being a number from 1 to 5 like all the others\n",
    "- The columns `Restaurant` and `Name` from `reviews` and `restaurants` respectively consist in a string with the name of the restaurant\n",
    "- The column `Metadata` consists of a string with the number of followers and numbers of reviews\n",
    "- The column `Time` consists of a string with the time and date the review was made\n",
    "- The column `Pictures` consists of an integer that is the number of fotos uploaded along with the review\n",
    "- The column `Reviewer` consists of a string with the name of the person who wrote the review\n",
    "- The column `Cost` consists of integers representing the estimate cost of dining in the restaurant\n",
    "- The column `Link` consists of a string with the link corresponding to the restaurant in Zomato's website\n",
    "- The column  `Collections` consists of a string with of which Zomato's collection the restaurant belongs to\n",
    "- The column `Timings` consists of a string with the hours and days of the week the restaurant is open"
   ]
  },
  {
   "cell_type": "markdown",
   "metadata": {},
   "source": [
    "<font color='#BFD72F' size=5>2. Data exploration with visualizations</font> <a class=\"anchor\" id=\"P2\"></a>\n",
    "  \n",
    "[Back to TOC](#toc)\n"
   ]
  },
  {
   "cell_type": "code",
   "execution_count": 15,
   "metadata": {},
   "outputs": [
    {
     "data": {
      "text/html": [
       "<div>\n",
       "<style scoped>\n",
       "    .dataframe tbody tr th:only-of-type {\n",
       "        vertical-align: middle;\n",
       "    }\n",
       "\n",
       "    .dataframe tbody tr th {\n",
       "        vertical-align: top;\n",
       "    }\n",
       "\n",
       "    .dataframe thead th {\n",
       "        text-align: right;\n",
       "    }\n",
       "</style>\n",
       "<table border=\"1\" class=\"dataframe\">\n",
       "  <thead>\n",
       "    <tr style=\"text-align: right;\">\n",
       "      <th></th>\n",
       "      <th>Restaurant</th>\n",
       "      <th>Review</th>\n",
       "      <th>Cuisine</th>\n",
       "    </tr>\n",
       "  </thead>\n",
       "  <tbody>\n",
       "    <tr>\n",
       "      <th>0</th>\n",
       "      <td>Beyond Flavours</td>\n",
       "      <td>The ambience was good, food was quite good . h...</td>\n",
       "      <td>Chinese, Continental, Kebab, European, South I...</td>\n",
       "    </tr>\n",
       "    <tr>\n",
       "      <th>1</th>\n",
       "      <td>Beyond Flavours</td>\n",
       "      <td>Ambience is too good for a pleasant evening. S...</td>\n",
       "      <td>Chinese, Continental, Kebab, European, South I...</td>\n",
       "    </tr>\n",
       "    <tr>\n",
       "      <th>2</th>\n",
       "      <td>Beyond Flavours</td>\n",
       "      <td>A must try.. great food great ambience. Thnx f...</td>\n",
       "      <td>Chinese, Continental, Kebab, European, South I...</td>\n",
       "    </tr>\n",
       "    <tr>\n",
       "      <th>3</th>\n",
       "      <td>Beyond Flavours</td>\n",
       "      <td>Soumen das and Arun was a great guy. Only beca...</td>\n",
       "      <td>Chinese, Continental, Kebab, European, South I...</td>\n",
       "    </tr>\n",
       "    <tr>\n",
       "      <th>4</th>\n",
       "      <td>Beyond Flavours</td>\n",
       "      <td>Food is good.we ordered Kodi drumsticks and ba...</td>\n",
       "      <td>Chinese, Continental, Kebab, European, South I...</td>\n",
       "    </tr>\n",
       "    <tr>\n",
       "      <th>...</th>\n",
       "      <td>...</td>\n",
       "      <td>...</td>\n",
       "      <td>...</td>\n",
       "    </tr>\n",
       "    <tr>\n",
       "      <th>9995</th>\n",
       "      <td>Chinese Pavilion</td>\n",
       "      <td>Madhumathi Mahajan Well to start with nice cou...</td>\n",
       "      <td>Chinese, Seafood</td>\n",
       "    </tr>\n",
       "    <tr>\n",
       "      <th>9996</th>\n",
       "      <td>Chinese Pavilion</td>\n",
       "      <td>This place has never disappointed us.. The foo...</td>\n",
       "      <td>Chinese, Seafood</td>\n",
       "    </tr>\n",
       "    <tr>\n",
       "      <th>9997</th>\n",
       "      <td>Chinese Pavilion</td>\n",
       "      <td>Bad rating is mainly because of \"Chicken Bone ...</td>\n",
       "      <td>Chinese, Seafood</td>\n",
       "    </tr>\n",
       "    <tr>\n",
       "      <th>9998</th>\n",
       "      <td>Chinese Pavilion</td>\n",
       "      <td>I personally love and prefer Chinese Food. Had...</td>\n",
       "      <td>Chinese, Seafood</td>\n",
       "    </tr>\n",
       "    <tr>\n",
       "      <th>9999</th>\n",
       "      <td>Chinese Pavilion</td>\n",
       "      <td>Checked in here to try some delicious chinese ...</td>\n",
       "      <td>Chinese, Seafood</td>\n",
       "    </tr>\n",
       "  </tbody>\n",
       "</table>\n",
       "<p>9955 rows × 3 columns</p>\n",
       "</div>"
      ],
      "text/plain": [
       "            Restaurant                                             Review  \\\n",
       "0      Beyond Flavours  The ambience was good, food was quite good . h...   \n",
       "1      Beyond Flavours  Ambience is too good for a pleasant evening. S...   \n",
       "2      Beyond Flavours  A must try.. great food great ambience. Thnx f...   \n",
       "3      Beyond Flavours  Soumen das and Arun was a great guy. Only beca...   \n",
       "4      Beyond Flavours  Food is good.we ordered Kodi drumsticks and ba...   \n",
       "...                ...                                                ...   \n",
       "9995  Chinese Pavilion  Madhumathi Mahajan Well to start with nice cou...   \n",
       "9996  Chinese Pavilion  This place has never disappointed us.. The foo...   \n",
       "9997  Chinese Pavilion  Bad rating is mainly because of \"Chicken Bone ...   \n",
       "9998  Chinese Pavilion  I personally love and prefer Chinese Food. Had...   \n",
       "9999  Chinese Pavilion  Checked in here to try some delicious chinese ...   \n",
       "\n",
       "                                                Cuisine  \n",
       "0     Chinese, Continental, Kebab, European, South I...  \n",
       "1     Chinese, Continental, Kebab, European, South I...  \n",
       "2     Chinese, Continental, Kebab, European, South I...  \n",
       "3     Chinese, Continental, Kebab, European, South I...  \n",
       "4     Chinese, Continental, Kebab, European, South I...  \n",
       "...                                                 ...  \n",
       "9995                                   Chinese, Seafood  \n",
       "9996                                   Chinese, Seafood  \n",
       "9997                                   Chinese, Seafood  \n",
       "9998                                   Chinese, Seafood  \n",
       "9999                                   Chinese, Seafood  \n",
       "\n",
       "[9955 rows x 3 columns]"
      ]
     },
     "execution_count": 15,
     "metadata": {},
     "output_type": "execute_result"
    }
   ],
   "source": [
    "reviews_text_only = reviews.copy()\n",
    "reviews_text_only.dropna(subset=['Review'], inplace= True) # remove all rows from the reviews DataFrame where the 'Review' column has missing (NaN) values:\n",
    "\n",
    "# we are removing the columns that are irrelevant to the analysis:\n",
    "reviews_text_only.drop(columns = [\"Reviewer\", \"Time\", \"Pictures\", \"Metadata\", \"Rating\"], inplace= True)\n",
    "reviews_text_only"
   ]
  },
  {
   "cell_type": "code",
   "execution_count": 16,
   "metadata": {},
   "outputs": [
    {
     "data": {
      "text/html": [
       "<div>\n",
       "<style scoped>\n",
       "    .dataframe tbody tr th:only-of-type {\n",
       "        vertical-align: middle;\n",
       "    }\n",
       "\n",
       "    .dataframe tbody tr th {\n",
       "        vertical-align: top;\n",
       "    }\n",
       "\n",
       "    .dataframe thead th {\n",
       "        text-align: right;\n",
       "    }\n",
       "</style>\n",
       "<table border=\"1\" class=\"dataframe\">\n",
       "  <thead>\n",
       "    <tr style=\"text-align: right;\">\n",
       "      <th></th>\n",
       "      <th>Restaurant</th>\n",
       "      <th>Review</th>\n",
       "      <th>Cuisine</th>\n",
       "      <th>All_lower</th>\n",
       "    </tr>\n",
       "  </thead>\n",
       "  <tbody>\n",
       "    <tr>\n",
       "      <th>0</th>\n",
       "      <td>Beyond Flavours</td>\n",
       "      <td>The ambience was good, food was quite good . h...</td>\n",
       "      <td>Chinese, Continental, Kebab, European, South I...</td>\n",
       "      <td>the ambience was good, food was quite good . h...</td>\n",
       "    </tr>\n",
       "    <tr>\n",
       "      <th>1</th>\n",
       "      <td>Beyond Flavours</td>\n",
       "      <td>Ambience is too good for a pleasant evening. S...</td>\n",
       "      <td>Chinese, Continental, Kebab, European, South I...</td>\n",
       "      <td>ambience is too good for a pleasant evening. s...</td>\n",
       "    </tr>\n",
       "    <tr>\n",
       "      <th>2</th>\n",
       "      <td>Beyond Flavours</td>\n",
       "      <td>A must try.. great food great ambience. Thnx f...</td>\n",
       "      <td>Chinese, Continental, Kebab, European, South I...</td>\n",
       "      <td>a must try.. great food great ambience. thnx f...</td>\n",
       "    </tr>\n",
       "    <tr>\n",
       "      <th>3</th>\n",
       "      <td>Beyond Flavours</td>\n",
       "      <td>Soumen das and Arun was a great guy. Only beca...</td>\n",
       "      <td>Chinese, Continental, Kebab, European, South I...</td>\n",
       "      <td>soumen das and arun was a great guy. only beca...</td>\n",
       "    </tr>\n",
       "    <tr>\n",
       "      <th>4</th>\n",
       "      <td>Beyond Flavours</td>\n",
       "      <td>Food is good.we ordered Kodi drumsticks and ba...</td>\n",
       "      <td>Chinese, Continental, Kebab, European, South I...</td>\n",
       "      <td>food is good.we ordered kodi drumsticks and ba...</td>\n",
       "    </tr>\n",
       "    <tr>\n",
       "      <th>...</th>\n",
       "      <td>...</td>\n",
       "      <td>...</td>\n",
       "      <td>...</td>\n",
       "      <td>...</td>\n",
       "    </tr>\n",
       "    <tr>\n",
       "      <th>9995</th>\n",
       "      <td>Chinese Pavilion</td>\n",
       "      <td>Madhumathi Mahajan Well to start with nice cou...</td>\n",
       "      <td>Chinese, Seafood</td>\n",
       "      <td>madhumathi mahajan well to start with nice cou...</td>\n",
       "    </tr>\n",
       "    <tr>\n",
       "      <th>9996</th>\n",
       "      <td>Chinese Pavilion</td>\n",
       "      <td>This place has never disappointed us.. The foo...</td>\n",
       "      <td>Chinese, Seafood</td>\n",
       "      <td>this place has never disappointed us.. the foo...</td>\n",
       "    </tr>\n",
       "    <tr>\n",
       "      <th>9997</th>\n",
       "      <td>Chinese Pavilion</td>\n",
       "      <td>Bad rating is mainly because of \"Chicken Bone ...</td>\n",
       "      <td>Chinese, Seafood</td>\n",
       "      <td>bad rating is mainly because of \"chicken bone ...</td>\n",
       "    </tr>\n",
       "    <tr>\n",
       "      <th>9998</th>\n",
       "      <td>Chinese Pavilion</td>\n",
       "      <td>I personally love and prefer Chinese Food. Had...</td>\n",
       "      <td>Chinese, Seafood</td>\n",
       "      <td>i personally love and prefer chinese food. had...</td>\n",
       "    </tr>\n",
       "    <tr>\n",
       "      <th>9999</th>\n",
       "      <td>Chinese Pavilion</td>\n",
       "      <td>Checked in here to try some delicious chinese ...</td>\n",
       "      <td>Chinese, Seafood</td>\n",
       "      <td>checked in here to try some delicious chinese ...</td>\n",
       "    </tr>\n",
       "  </tbody>\n",
       "</table>\n",
       "<p>9955 rows × 4 columns</p>\n",
       "</div>"
      ],
      "text/plain": [
       "            Restaurant                                             Review  \\\n",
       "0      Beyond Flavours  The ambience was good, food was quite good . h...   \n",
       "1      Beyond Flavours  Ambience is too good for a pleasant evening. S...   \n",
       "2      Beyond Flavours  A must try.. great food great ambience. Thnx f...   \n",
       "3      Beyond Flavours  Soumen das and Arun was a great guy. Only beca...   \n",
       "4      Beyond Flavours  Food is good.we ordered Kodi drumsticks and ba...   \n",
       "...                ...                                                ...   \n",
       "9995  Chinese Pavilion  Madhumathi Mahajan Well to start with nice cou...   \n",
       "9996  Chinese Pavilion  This place has never disappointed us.. The foo...   \n",
       "9997  Chinese Pavilion  Bad rating is mainly because of \"Chicken Bone ...   \n",
       "9998  Chinese Pavilion  I personally love and prefer Chinese Food. Had...   \n",
       "9999  Chinese Pavilion  Checked in here to try some delicious chinese ...   \n",
       "\n",
       "                                                Cuisine  \\\n",
       "0     Chinese, Continental, Kebab, European, South I...   \n",
       "1     Chinese, Continental, Kebab, European, South I...   \n",
       "2     Chinese, Continental, Kebab, European, South I...   \n",
       "3     Chinese, Continental, Kebab, European, South I...   \n",
       "4     Chinese, Continental, Kebab, European, South I...   \n",
       "...                                                 ...   \n",
       "9995                                   Chinese, Seafood   \n",
       "9996                                   Chinese, Seafood   \n",
       "9997                                   Chinese, Seafood   \n",
       "9998                                   Chinese, Seafood   \n",
       "9999                                   Chinese, Seafood   \n",
       "\n",
       "                                              All_lower  \n",
       "0     the ambience was good, food was quite good . h...  \n",
       "1     ambience is too good for a pleasant evening. s...  \n",
       "2     a must try.. great food great ambience. thnx f...  \n",
       "3     soumen das and arun was a great guy. only beca...  \n",
       "4     food is good.we ordered kodi drumsticks and ba...  \n",
       "...                                                 ...  \n",
       "9995  madhumathi mahajan well to start with nice cou...  \n",
       "9996  this place has never disappointed us.. the foo...  \n",
       "9997  bad rating is mainly because of \"chicken bone ...  \n",
       "9998  i personally love and prefer chinese food. had...  \n",
       "9999  checked in here to try some delicious chinese ...  \n",
       "\n",
       "[9955 rows x 4 columns]"
      ]
     },
     "execution_count": 16,
     "metadata": {},
     "output_type": "execute_result"
    }
   ],
   "source": [
    "reviews_text_only[\"All_lower\"] = reviews_text_only[\"Review\"].apply(lambda x: x.lower())\n",
    "reviews_text_only"
   ]
  },
  {
   "cell_type": "code",
   "execution_count": 17,
   "metadata": {},
   "outputs": [
    {
     "name": "stdout",
     "output_type": "stream",
     "text": [
      "Went for a Sunday bruch and compared to other places of the same league the staff is definitely the most friendliest 😀, but the food options are the bottom most on my list. The food is good definitely, but for a Sunday brunch the options are extremely limited compared to what's being offered around. I am thankful to the staff for pulling together a cheese platter just to accompany my wine and for that I took them to 4 from my initial 3* . Sometimes the smiles and the courtesy make a lot of difference and might want me to visit again. The beverage (alcohol 😋) menu is very limited , does not match back to others - I hope they match it up. We had to separately order drinks as there was nothing on their selection that we drank !! 😋. And before I forget , their dessert bar is good !\n",
      "went for a sunday bruch and compared to other places of the same league the staff is definitely the most friendliest 😀, but the food options are the bottom most on my list. the food is good definitely, but for a sunday brunch the options are extremely limited compared to what's being offered around. i am thankful to the staff for pulling together a cheese platter just to accompany my wine and for that i took them to 4 from my initial 3* . sometimes the smiles and the courtesy make a lot of difference and might want me to visit again. the beverage (alcohol 😋) menu is very limited , does not match back to others - i hope they match it up. we had to separately order drinks as there was nothing on their selection that we drank !! 😋. and before i forget , their dessert bar is good !\n"
     ]
    }
   ],
   "source": [
    "n = np.random.randint(0,9555)\n",
    "print(reviews_text_only.iloc[n][\"Review\"])\n",
    "print(reviews_text_only.iloc[n][\"All_lower\"])"
   ]
  },
  {
   "cell_type": "markdown",
   "metadata": {},
   "source": [
    "<font color='#BFD72F' size=4>2.1 BOW plot for the reviews</font> <a class=\"anchor\" id=\"P21\"></a>\n",
    "  \n",
    "[Back to TOC](#toc)"
   ]
  },
  {
   "cell_type": "code",
   "execution_count": 18,
   "metadata": {},
   "outputs": [],
   "source": [
    "def word_freq_calculator(td_matrix, word_list, df_output=True):\n",
    "    #counts the number of times a word appears\n",
    "    word_counts = np.sum(td_matrix, axis=0).tolist()\n",
    "    if df_output == False:\n",
    "        word_counts_dict = dict(zip(word_list, word_counts))\n",
    "        return word_counts_dict\n",
    "    else:\n",
    "        word_counts_df = pd.DataFrame({\"words\":word_list, \"frequency\":word_counts})\n",
    "        word_counts_df = word_counts_df.sort_values(by=[\"frequency\"], ascending=False)\n",
    "        return word_counts_df"
   ]
  },
  {
   "cell_type": "code",
   "execution_count": 19,
   "metadata": {},
   "outputs": [
    {
     "data": {
      "text/html": [
       "<div>\n",
       "<style scoped>\n",
       "    .dataframe tbody tr th:only-of-type {\n",
       "        vertical-align: middle;\n",
       "    }\n",
       "\n",
       "    .dataframe tbody tr th {\n",
       "        vertical-align: top;\n",
       "    }\n",
       "\n",
       "    .dataframe thead th {\n",
       "        text-align: right;\n",
       "    }\n",
       "</style>\n",
       "<table border=\"1\" class=\"dataframe\">\n",
       "  <thead>\n",
       "    <tr style=\"text-align: right;\">\n",
       "      <th></th>\n",
       "      <th>words</th>\n",
       "      <th>frequency</th>\n",
       "    </tr>\n",
       "  </thead>\n",
       "  <tbody>\n",
       "    <tr>\n",
       "      <th>13504</th>\n",
       "      <td>the</td>\n",
       "      <td>23291</td>\n",
       "    </tr>\n",
       "    <tr>\n",
       "      <th>898</th>\n",
       "      <td>and</td>\n",
       "      <td>17638</td>\n",
       "    </tr>\n",
       "    <tr>\n",
       "      <th>14576</th>\n",
       "      <td>was</td>\n",
       "      <td>10320</td>\n",
       "    </tr>\n",
       "    <tr>\n",
       "      <th>13709</th>\n",
       "      <td>to</td>\n",
       "      <td>9905</td>\n",
       "    </tr>\n",
       "    <tr>\n",
       "      <th>6960</th>\n",
       "      <td>is</td>\n",
       "      <td>9253</td>\n",
       "    </tr>\n",
       "    <tr>\n",
       "      <th>...</th>\n",
       "      <td>...</td>\n",
       "      <td>...</td>\n",
       "    </tr>\n",
       "    <tr>\n",
       "      <th>8489</th>\n",
       "      <td>million</td>\n",
       "      <td>1</td>\n",
       "    </tr>\n",
       "    <tr>\n",
       "      <th>8486</th>\n",
       "      <td>millers</td>\n",
       "      <td>1</td>\n",
       "    </tr>\n",
       "    <tr>\n",
       "      <th>8485</th>\n",
       "      <td>millennials</td>\n",
       "      <td>1</td>\n",
       "    </tr>\n",
       "    <tr>\n",
       "      <th>8484</th>\n",
       "      <td>millennial</td>\n",
       "      <td>1</td>\n",
       "    </tr>\n",
       "    <tr>\n",
       "      <th>15066</th>\n",
       "      <td>éclat</td>\n",
       "      <td>1</td>\n",
       "    </tr>\n",
       "  </tbody>\n",
       "</table>\n",
       "<p>15067 rows × 2 columns</p>\n",
       "</div>"
      ],
      "text/plain": [
       "             words  frequency\n",
       "13504          the      23291\n",
       "898            and      17638\n",
       "14576          was      10320\n",
       "13709           to       9905\n",
       "6960            is       9253\n",
       "...            ...        ...\n",
       "8489       million          1\n",
       "8486       millers          1\n",
       "8485   millennials          1\n",
       "8484    millennial          1\n",
       "15066        éclat          1\n",
       "\n",
       "[15067 rows x 2 columns]"
      ]
     },
     "execution_count": 19,
     "metadata": {},
     "output_type": "execute_result"
    }
   ],
   "source": [
    "#Create a BOW and get the number of times each word in the reviews appears\n",
    "bow_vectorizer = CountVectorizer()\n",
    "clean_bow_td_matrix = bow_vectorizer.fit_transform(reviews_text_only[\"All_lower\"]).toarray()\n",
    "clean_bow_word_list = bow_vectorizer.get_feature_names_out().tolist()\n",
    "clean_bow_words_freq = word_freq_calculator(clean_bow_td_matrix, clean_bow_word_list)\n",
    "clean_bow_words_freq"
   ]
  },
  {
   "cell_type": "code",
   "execution_count": 20,
   "metadata": {},
   "outputs": [
    {
     "data": {
      "text/html": [
       "<div>\n",
       "<style scoped>\n",
       "    .dataframe tbody tr th:only-of-type {\n",
       "        vertical-align: middle;\n",
       "    }\n",
       "\n",
       "    .dataframe tbody tr th {\n",
       "        vertical-align: top;\n",
       "    }\n",
       "\n",
       "    .dataframe thead th {\n",
       "        text-align: right;\n",
       "    }\n",
       "</style>\n",
       "<table border=\"1\" class=\"dataframe\">\n",
       "  <thead>\n",
       "    <tr style=\"text-align: right;\">\n",
       "      <th></th>\n",
       "      <th>Restaurant</th>\n",
       "      <th>Review</th>\n",
       "      <th>Cuisine</th>\n",
       "      <th>All_lower</th>\n",
       "      <th>First_BOW</th>\n",
       "    </tr>\n",
       "  </thead>\n",
       "  <tbody>\n",
       "    <tr>\n",
       "      <th>0</th>\n",
       "      <td>Beyond Flavours</td>\n",
       "      <td>The ambience was good, food was quite good . h...</td>\n",
       "      <td>Chinese, Continental, Kebab, European, South I...</td>\n",
       "      <td>the ambience was good, food was quite good . h...</td>\n",
       "      <td>[0, 0, 0, 0, 0, 0, 0, 0, 0, 0, 0, 0, 0, 0, 0, ...</td>\n",
       "    </tr>\n",
       "    <tr>\n",
       "      <th>1</th>\n",
       "      <td>Beyond Flavours</td>\n",
       "      <td>Ambience is too good for a pleasant evening. S...</td>\n",
       "      <td>Chinese, Continental, Kebab, European, South I...</td>\n",
       "      <td>ambience is too good for a pleasant evening. s...</td>\n",
       "      <td>[0, 0, 0, 0, 0, 0, 0, 0, 0, 0, 0, 0, 0, 0, 0, ...</td>\n",
       "    </tr>\n",
       "    <tr>\n",
       "      <th>2</th>\n",
       "      <td>Beyond Flavours</td>\n",
       "      <td>A must try.. great food great ambience. Thnx f...</td>\n",
       "      <td>Chinese, Continental, Kebab, European, South I...</td>\n",
       "      <td>a must try.. great food great ambience. thnx f...</td>\n",
       "      <td>[0, 0, 0, 0, 0, 0, 0, 0, 0, 0, 0, 0, 0, 0, 0, ...</td>\n",
       "    </tr>\n",
       "    <tr>\n",
       "      <th>3</th>\n",
       "      <td>Beyond Flavours</td>\n",
       "      <td>Soumen das and Arun was a great guy. Only beca...</td>\n",
       "      <td>Chinese, Continental, Kebab, European, South I...</td>\n",
       "      <td>soumen das and arun was a great guy. only beca...</td>\n",
       "      <td>[0, 0, 0, 0, 0, 0, 0, 0, 0, 0, 0, 0, 0, 0, 0, ...</td>\n",
       "    </tr>\n",
       "    <tr>\n",
       "      <th>4</th>\n",
       "      <td>Beyond Flavours</td>\n",
       "      <td>Food is good.we ordered Kodi drumsticks and ba...</td>\n",
       "      <td>Chinese, Continental, Kebab, European, South I...</td>\n",
       "      <td>food is good.we ordered kodi drumsticks and ba...</td>\n",
       "      <td>[0, 0, 0, 0, 0, 0, 0, 0, 0, 0, 0, 0, 0, 0, 0, ...</td>\n",
       "    </tr>\n",
       "    <tr>\n",
       "      <th>...</th>\n",
       "      <td>...</td>\n",
       "      <td>...</td>\n",
       "      <td>...</td>\n",
       "      <td>...</td>\n",
       "      <td>...</td>\n",
       "    </tr>\n",
       "    <tr>\n",
       "      <th>9995</th>\n",
       "      <td>Chinese Pavilion</td>\n",
       "      <td>Madhumathi Mahajan Well to start with nice cou...</td>\n",
       "      <td>Chinese, Seafood</td>\n",
       "      <td>madhumathi mahajan well to start with nice cou...</td>\n",
       "      <td>[0, 0, 0, 0, 0, 0, 0, 0, 0, 0, 0, 0, 0, 0, 0, ...</td>\n",
       "    </tr>\n",
       "    <tr>\n",
       "      <th>9996</th>\n",
       "      <td>Chinese Pavilion</td>\n",
       "      <td>This place has never disappointed us.. The foo...</td>\n",
       "      <td>Chinese, Seafood</td>\n",
       "      <td>this place has never disappointed us.. the foo...</td>\n",
       "      <td>[0, 0, 0, 0, 0, 0, 0, 0, 0, 0, 0, 0, 0, 0, 0, ...</td>\n",
       "    </tr>\n",
       "    <tr>\n",
       "      <th>9997</th>\n",
       "      <td>Chinese Pavilion</td>\n",
       "      <td>Bad rating is mainly because of \"Chicken Bone ...</td>\n",
       "      <td>Chinese, Seafood</td>\n",
       "      <td>bad rating is mainly because of \"chicken bone ...</td>\n",
       "      <td>[0, 0, 0, 0, 0, 0, 0, 0, 0, 0, 0, 0, 0, 0, 0, ...</td>\n",
       "    </tr>\n",
       "    <tr>\n",
       "      <th>9998</th>\n",
       "      <td>Chinese Pavilion</td>\n",
       "      <td>I personally love and prefer Chinese Food. Had...</td>\n",
       "      <td>Chinese, Seafood</td>\n",
       "      <td>i personally love and prefer chinese food. had...</td>\n",
       "      <td>[0, 0, 0, 0, 0, 0, 0, 0, 0, 0, 0, 0, 0, 0, 0, ...</td>\n",
       "    </tr>\n",
       "    <tr>\n",
       "      <th>9999</th>\n",
       "      <td>Chinese Pavilion</td>\n",
       "      <td>Checked in here to try some delicious chinese ...</td>\n",
       "      <td>Chinese, Seafood</td>\n",
       "      <td>checked in here to try some delicious chinese ...</td>\n",
       "      <td>[0, 0, 0, 0, 0, 0, 0, 0, 0, 0, 0, 0, 0, 0, 0, ...</td>\n",
       "    </tr>\n",
       "  </tbody>\n",
       "</table>\n",
       "<p>9955 rows × 5 columns</p>\n",
       "</div>"
      ],
      "text/plain": [
       "            Restaurant                                             Review  \\\n",
       "0      Beyond Flavours  The ambience was good, food was quite good . h...   \n",
       "1      Beyond Flavours  Ambience is too good for a pleasant evening. S...   \n",
       "2      Beyond Flavours  A must try.. great food great ambience. Thnx f...   \n",
       "3      Beyond Flavours  Soumen das and Arun was a great guy. Only beca...   \n",
       "4      Beyond Flavours  Food is good.we ordered Kodi drumsticks and ba...   \n",
       "...                ...                                                ...   \n",
       "9995  Chinese Pavilion  Madhumathi Mahajan Well to start with nice cou...   \n",
       "9996  Chinese Pavilion  This place has never disappointed us.. The foo...   \n",
       "9997  Chinese Pavilion  Bad rating is mainly because of \"Chicken Bone ...   \n",
       "9998  Chinese Pavilion  I personally love and prefer Chinese Food. Had...   \n",
       "9999  Chinese Pavilion  Checked in here to try some delicious chinese ...   \n",
       "\n",
       "                                                Cuisine  \\\n",
       "0     Chinese, Continental, Kebab, European, South I...   \n",
       "1     Chinese, Continental, Kebab, European, South I...   \n",
       "2     Chinese, Continental, Kebab, European, South I...   \n",
       "3     Chinese, Continental, Kebab, European, South I...   \n",
       "4     Chinese, Continental, Kebab, European, South I...   \n",
       "...                                                 ...   \n",
       "9995                                   Chinese, Seafood   \n",
       "9996                                   Chinese, Seafood   \n",
       "9997                                   Chinese, Seafood   \n",
       "9998                                   Chinese, Seafood   \n",
       "9999                                   Chinese, Seafood   \n",
       "\n",
       "                                              All_lower  \\\n",
       "0     the ambience was good, food was quite good . h...   \n",
       "1     ambience is too good for a pleasant evening. s...   \n",
       "2     a must try.. great food great ambience. thnx f...   \n",
       "3     soumen das and arun was a great guy. only beca...   \n",
       "4     food is good.we ordered kodi drumsticks and ba...   \n",
       "...                                                 ...   \n",
       "9995  madhumathi mahajan well to start with nice cou...   \n",
       "9996  this place has never disappointed us.. the foo...   \n",
       "9997  bad rating is mainly because of \"chicken bone ...   \n",
       "9998  i personally love and prefer chinese food. had...   \n",
       "9999  checked in here to try some delicious chinese ...   \n",
       "\n",
       "                                              First_BOW  \n",
       "0     [0, 0, 0, 0, 0, 0, 0, 0, 0, 0, 0, 0, 0, 0, 0, ...  \n",
       "1     [0, 0, 0, 0, 0, 0, 0, 0, 0, 0, 0, 0, 0, 0, 0, ...  \n",
       "2     [0, 0, 0, 0, 0, 0, 0, 0, 0, 0, 0, 0, 0, 0, 0, ...  \n",
       "3     [0, 0, 0, 0, 0, 0, 0, 0, 0, 0, 0, 0, 0, 0, 0, ...  \n",
       "4     [0, 0, 0, 0, 0, 0, 0, 0, 0, 0, 0, 0, 0, 0, 0, ...  \n",
       "...                                                 ...  \n",
       "9995  [0, 0, 0, 0, 0, 0, 0, 0, 0, 0, 0, 0, 0, 0, 0, ...  \n",
       "9996  [0, 0, 0, 0, 0, 0, 0, 0, 0, 0, 0, 0, 0, 0, 0, ...  \n",
       "9997  [0, 0, 0, 0, 0, 0, 0, 0, 0, 0, 0, 0, 0, 0, 0, ...  \n",
       "9998  [0, 0, 0, 0, 0, 0, 0, 0, 0, 0, 0, 0, 0, 0, 0, ...  \n",
       "9999  [0, 0, 0, 0, 0, 0, 0, 0, 0, 0, 0, 0, 0, 0, 0, ...  \n",
       "\n",
       "[9955 rows x 5 columns]"
      ]
     },
     "execution_count": 20,
     "metadata": {},
     "output_type": "execute_result"
    }
   ],
   "source": [
    "reviews_text_only[\"First_BOW\"] = clean_bow_td_matrix.tolist()\n",
    "reviews_text_only"
   ]
  },
  {
   "cell_type": "code",
   "execution_count": 21,
   "metadata": {},
   "outputs": [],
   "source": [
    "def plot_term_frequency(df,name, nr_terms, df_name, show=True):\n",
    "    \n",
    "    # Create the Seaborn bar plot\n",
    "    plt.figure(figsize=(10, 8))\n",
    "    sns_plot = sns.barplot(x='frequency', y='words', data=df.head(nr_terms))  # Plotting top 20 terms for better visualization\n",
    "    plt.title('Top 20 Term Frequencies of {}'.format(df_name))\n",
    "    plt.xlabel('Frequency')\n",
    "    plt.ylabel('Words')\n",
    "    if show:\n",
    "        plt.show()\n",
    "\n",
    "    fig = sns_plot.get_figure()\n",
    "    plt.savefig(f'graphs/{name}.png', dpi=300, bbox_inches='tight')\n",
    "\n",
    "    return fig"
   ]
  },
  {
   "cell_type": "code",
   "execution_count": 22,
   "metadata": {},
   "outputs": [
    {
     "data": {
      "image/png": "[encoded data removed]",
      "text/plain": [
       "<Figure size 1000x800 with 1 Axes>"
      ]
     },
     "metadata": {},
     "output_type": "display_data"
    }
   ],
   "source": [
    "graph_clean_freq = plot_term_frequency(clean_bow_words_freq, name = \"20_most_commun_words_initial\", nr_terms=20, df_name = \"Lower Initial BOW\", show = False)"
   ]
  },
  {
   "cell_type": "markdown",
   "metadata": {},
   "source": [
    "<font color='#BFD72F' size=4>2.2 Word cloud of reviews</font> <a class=\"anchor\" id=\"P22\"></a>\n",
    "  \n",
    "[Back to TOC](#toc)"
   ]
  },
  {
   "cell_type": "code",
   "execution_count": 23,
   "metadata": {},
   "outputs": [],
   "source": [
    "def word_cloud_generator(folder_path, wc):\n",
    "    if not os.path.exists(folder_path):\n",
    "        os.makedirs(folder_path)\n",
    "\n",
    "    ##Bow visualization\n",
    "    chapter_bow_df = word_freq_calculator(clean_bow_td_matrix, clean_bow_word_list, df_output=False)\n",
    "    wc.generate_from_frequencies(chapter_bow_df) ##Use color_func in word cloud?\n",
    "    wc.to_file(os.path.join(folder_path, \"First_BOW.png\"))"
   ]
  },
  {
   "cell_type": "code",
   "execution_count": 24,
   "metadata": {},
   "outputs": [],
   "source": [
    "wc = WordCloud(background_color=\"white\",max_words=120, width = 220,height = 220, color_func=lambda *args, **kwargs: (0,0,0))\n",
    "word_cloud_generator(\"graphs\", wc)\n"
   ]
  },
  {
   "cell_type": "markdown",
   "metadata": {},
   "source": [
    "<font color='#BFD72F' size=4>2.3 BOW treemap for the reviews</font> <a class=\"anchor\" id=\"P23\"></a>\n",
    "  \n",
    "[Back to TOC](#toc)"
   ]
  },
  {
   "cell_type": "code",
   "execution_count": 64,
   "metadata": {},
   "outputs": [],
   "source": [
    "def get_pos_tag(word):\n",
    "    tag = nltk.tag.pos_tag([word])[0][1]\n",
    "    return tag"
   ]
  },
  {
   "cell_type": "code",
   "execution_count": 65,
   "metadata": {},
   "outputs": [
    {
     "data": {
      "application/vnd.plotly.v1+json": {
       "config": {
        "plotlyServerURL": "https://plot.ly"
       },
       "data": [
        {
         "branchvalues": "total",
         "customdata": [
          [
           232
          ],
          [
           703
          ],
          [
           698
          ],
          [
           897
          ],
          [
           2002
          ],
          [
           209
          ],
          [
           229
          ],
          [
           1600
          ],
          [
           371
          ],
          [
           429
          ],
          [
           1010
          ],
          [
           640
          ],
          [
           2126
          ],
          [
           824
          ],
          [
           17638
          ],
          [
           458
          ],
          [
           2800
          ],
          [
           259
          ],
          [
           287
          ],
          [
           2350
          ],
          [
           272
          ],
          [
           1821
          ],
          [
           188
          ],
          [
           291
          ],
          [
           421
          ],
          [
           880
          ],
          [
           312
          ],
          [
           695
          ],
          [
           196
          ],
          [
           1690
          ],
          [
           338
          ],
          [
           892
          ],
          [
           190
          ],
          [
           259
          ],
          [
           276
          ],
          [
           1449
          ],
          [
           596
          ],
          [
           288
          ],
          [
           238
          ],
          [
           1368
          ],
          [
           476
          ],
          [
           472
          ],
          [
           664
          ],
          [
           312
          ],
          [
           3419
          ],
          [
           385
          ],
          [
           865
          ],
          [
           374
          ],
          [
           297
          ],
          [
           1321
          ],
          [
           419
          ],
          [
           3105
          ],
          [
           253
          ],
          [
           303
          ],
          [
           383
          ],
          [
           255
          ],
          [
           225
          ],
          [
           298
          ],
          [
           310
          ],
          [
           355
          ],
          [
           297
          ],
          [
           484
          ],
          [
           561
          ],
          [
           251
          ],
          [
           425
          ],
          [
           276
          ],
          [
           205
          ],
          [
           371
          ],
          [
           233
          ],
          [
           208
          ],
          [
           205
          ],
          [
           216
          ],
          [
           336
          ],
          [
           496
          ],
          [
           492
          ],
          [
           651
          ],
          [
           221
          ],
          [
           519
          ],
          [
           333
          ],
          [
           290
          ],
          [
           461
          ],
          [
           354
          ],
          [
           448
          ],
          [
           330
          ],
          [
           445
          ],
          [
           580
          ],
          [
           192
          ],
          [
           436
          ],
          [
           596
          ],
          [
           205
          ],
          [
           523
          ],
          [
           404
          ],
          [
           187
          ],
          [
           242
          ],
          [
           232
          ],
          [
           226
          ],
          [
           298
          ],
          [
           876
          ],
          [
           220
          ],
          [
           419
          ],
          [
           337
          ],
          [
           359
          ],
          [
           492
          ],
          [
           1197
          ],
          [
           356
          ],
          [
           320
          ],
          [
           213
          ],
          [
           322
          ],
          [
           232
          ],
          [
           197
          ],
          [
           480
          ],
          [
           530
          ],
          [
           283
          ],
          [
           6641
          ],
          [
           6566
          ],
          [
           192
          ],
          [
           316
          ],
          [
           515
          ],
          [
           565
          ],
          [
           718
          ],
          [
           1694
          ],
          [
           258
          ],
          [
           407
          ],
          [
           266
          ],
          [
           674
          ],
          [
           384
          ],
          [
           189
          ],
          [
           778
          ],
          [
           246
          ],
          [
           202
          ],
          [
           7230
          ],
          [
           572
          ],
          [
           1978
          ],
          [
           240
          ],
          [
           2628
          ],
          [
           267
          ],
          [
           267
          ],
          [
           933
          ],
          [
           3207
          ],
          [
           265
          ],
          [
           518
          ],
          [
           1821
          ],
          [
           242
          ],
          [
           198
          ],
          [
           188
          ],
          [
           377
          ],
          [
           290
          ],
          [
           200
          ],
          [
           560
          ],
          [
           423
          ],
          [
           1227
          ],
          [
           5276
          ],
          [
           362
          ],
          [
           9253
          ],
          [
           7008
          ],
          [
           573
          ],
          [
           663
          ],
          [
           1308
          ],
          [
           269
          ],
          [
           238
          ],
          [
           214
          ],
          [
           272
          ],
          [
           229
          ],
          [
           195
          ],
          [
           495
          ],
          [
           1458
          ],
          [
           326
          ],
          [
           522
          ],
          [
           222
          ],
          [
           203
          ],
          [
           222
          ],
          [
           446
          ],
          [
           653
          ],
          [
           620
          ],
          [
           566
          ],
          [
           507
          ],
          [
           587
          ],
          [
           346
          ],
          [
           218
          ],
          [
           212
          ],
          [
           364
          ],
          [
           320
          ],
          [
           862
          ],
          [
           195
          ],
          [
           708
          ],
          [
           513
          ],
          [
           922
          ],
          [
           343
          ],
          [
           672
          ],
          [
           543
          ],
          [
           953
          ],
          [
           376
          ],
          [
           2267
          ],
          [
           220
          ],
          [
           279
          ],
          [
           491
          ],
          [
           218
          ],
          [
           1504
          ],
          [
           396
          ],
          [
           1016
          ],
          [
           440
          ],
          [
           368
          ],
          [
           217
          ],
          [
           3651
          ],
          [
           274
          ],
          [
           298
          ],
          [
           7459
          ],
          [
           412
          ],
          [
           237
          ],
          [
           2667
          ],
          [
           239
          ],
          [
           1943
          ],
          [
           876
          ],
          [
           347
          ],
          [
           747
          ],
          [
           1176
          ],
          [
           2178
          ],
          [
           663
          ],
          [
           721
          ],
          [
           874
          ],
          [
           492
          ],
          [
           770
          ],
          [
           719
          ],
          [
           187
          ],
          [
           243
          ],
          [
           236
          ],
          [
           288
          ],
          [
           205
          ],
          [
           548
          ],
          [
           418
          ],
          [
           209
          ],
          [
           244
          ],
          [
           496
          ],
          [
           5734
          ],
          [
           274
          ],
          [
           258
          ],
          [
           300
          ],
          [
           275
          ],
          [
           360
          ],
          [
           515
          ],
          [
           223
          ],
          [
           870
          ],
          [
           692
          ],
          [
           271
          ],
          [
           464
          ],
          [
           209
          ],
          [
           1674
          ],
          [
           520
          ],
          [
           226
          ],
          [
           1281
          ],
          [
           196
          ],
          [
           786
          ],
          [
           235
          ],
          [
           336
          ],
          [
           343
          ],
          [
           397
          ],
          [
           324
          ],
          [
           202
          ],
          [
           374
          ],
          [
           833
          ],
          [
           3246
          ],
          [
           280
          ],
          [
           215
          ],
          [
           410
          ],
          [
           235
          ],
          [
           229
          ],
          [
           312
          ],
          [
           1853
          ],
          [
           230
          ],
          [
           972
          ],
          [
           265
          ],
          [
           412
          ],
          [
           436
          ],
          [
           191
          ],
          [
           592
          ],
          [
           208
          ],
          [
           1331
          ],
          [
           209
          ],
          [
           232
          ],
          [
           861
          ],
          [
           192
          ],
          [
           295
          ],
          [
           245
          ],
          [
           281
          ],
          [
           348
          ],
          [
           402
          ],
          [
           301
          ],
          [
           2283
          ],
          [
           542
          ],
          [
           711
          ],
          [
           328
          ],
          [
           494
          ],
          [
           206
          ],
          [
           314
          ],
          [
           2613
          ],
          [
           23291
          ],
          [
           1537
          ],
          [
           595
          ],
          [
           496
          ],
          [
           1585
          ],
          [
           232
          ],
          [
           3521
          ],
          [
           352
          ],
          [
           197
          ],
          [
           4833
          ],
          [
           468
          ],
          [
           384
          ],
          [
           1618
          ],
          [
           432
          ],
          [
           9905
          ],
          [
           1372
          ],
          [
           274
          ],
          [
           243
          ],
          [
           659
          ],
          [
           1300
          ],
          [
           315
          ],
          [
           670
          ],
          [
           862
          ],
          [
           251
          ],
          [
           338
          ],
          [
           291
          ],
          [
           1248
          ],
          [
           204
          ],
          [
           3734
          ],
          [
           1264
          ],
          [
           453
          ],
          [
           358
          ],
          [
           10320
          ],
          [
           200
          ],
          [
           308
          ],
          [
           4101
          ],
          [
           1162
          ],
          [
           737
          ],
          [
           2664
          ],
          [
           582
          ],
          [
           839
          ],
          [
           266
          ],
          [
           1766
          ],
          [
           226
          ],
          [
           435
          ],
          [
           1207
          ],
          [
           274
          ],
          [
           5509
          ],
          [
           549
          ],
          [
           510
          ],
          [
           1074
          ],
          [
           3133
          ],
          [
           885
          ],
          [
           207
          ],
          [
           514
          ],
          [
           14829.692441753807
          ],
          [
           1577.629718875502
          ],
          [
           16641.767023840635
          ],
          [
           4257.740582864066
          ],
          [
           2787.0241995369765
          ],
          [
           1075.8868005126014
          ],
          [
           1039.8111580106442
          ],
          [
           1792.6495041710577
          ],
          [
           482.35110533159946
          ],
          [
           4381.156893203884
          ],
          [
           1522.195455293924
          ],
          [
           1742.0761224898258
          ],
          [
           720.4793840039741
          ],
          [
           9905
          ],
          [
           1577.0846757538206
          ],
          [
           6570.900188020413
          ],
          [
           508.7779892166191
          ],
          [
           989.4021961184883
          ],
          [
           2484.9925673583152
          ],
          [
           8490.918711957589
          ],
          [
           1766
          ],
          [
           519.1238938053098
          ],
          [
           615.610752688172
          ],
          [
           5216.459587140049
          ]
         ],
         "domain": {
          "x": [
           0,
           1
          ],
          "y": [
           0,
           1
          ]
         },
         "hovertemplate": "labels=%{label}<br>frequency_sum=%{value}<br>parent=%{parent}<br>id=%{id}<br>frequency=%{color}<extra></extra>",
         "ids": [
          "Reviews/CD/10",
          "Reviews/IN/about",
          "Reviews/IN/after",
          "Reviews/RB/again",
          "Reviews/DT/all",
          "Reviews/RB/almost",
          "Reviews/IN/along",
          "Reviews/RB/also",
          "Reviews/RB/always",
          "Reviews/VBP/am",
          "Reviews/VBG/amazing",
          "Reviews/NN/ambiance",
          "Reviews/NN/ambience",
          "Reviews/DT/an",
          "Reviews/CC/and",
          "Reviews/DT/any",
          "Reviews/VBP/are",
          "Reviews/NN/area",
          "Reviews/IN/around",
          "Reviews/IN/as",
          "Reviews/VBN/asked",
          "Reviews/IN/at",
          "Reviews/JJ/authentic",
          "Reviews/JJ/available",
          "Reviews/JJ/average",
          "Reviews/NN/awesome",
          "Reviews/RB/back",
          "Reviews/JJ/bad",
          "Reviews/NN/bar",
          "Reviews/VB/be",
          "Reviews/IN/because",
          "Reviews/VBN/been",
          "Reviews/NN/beer",
          "Reviews/IN/before",
          "Reviews/VBG/being",
          "Reviews/JJS/best",
          "Reviews/RBR/better",
          "Reviews/JJ/big",
          "Reviews/NN/biriyani",
          "Reviews/NN/biryani",
          "Reviews/NN/bit",
          "Reviews/DT/both",
          "Reviews/NN/buffet",
          "Reviews/NN/burger",
          "Reviews/CC/but",
          "Reviews/NN/butter",
          "Reviews/IN/by",
          "Reviews/NN/cake",
          "Reviews/VBD/came",
          "Reviews/MD/can",
          "Reviews/NN/cheese",
          "Reviews/NN/chicken",
          "Reviews/NN/chilli",
          "Reviews/JJ/chinese",
          "Reviews/NN/chocolate",
          "Reviews/NN/coffee",
          "Reviews/NN/cold",
          "Reviews/VB/come",
          "Reviews/VBG/coming",
          "Reviews/NNS/cooked",
          "Reviews/NN/corn",
          "Reviews/MD/could",
          "Reviews/NN/course",
          "Reviews/JJ/courteous",
          "Reviews/NN/cream",
          "Reviews/NN/crispy",
          "Reviews/NN/crowd",
          "Reviews/NN/curry",
          "Reviews/NN/customer",
          "Reviews/NNS/customers",
          "Reviews/NN/dal",
          "Reviews/NN/dance",
          "Reviews/NN/day",
          "Reviews/NN/decent",
          "Reviews/RB/definitely",
          "Reviews/JJ/delicious",
          "Reviews/VBN/delivered",
          "Reviews/NN/delivery",
          "Reviews/NNS/desserts",
          "Reviews/VBD/did",
          "Reviews/NN/didn",
          "Reviews/JJ/different",
          "Reviews/NN/dinner",
          "Reviews/JJ/disappointed",
          "Reviews/NN/dish",
          "Reviews/NNS/dishes",
          "Reviews/NN/dj",
          "Reviews/VB/do",
          "Reviews/NN/don",
          "Reviews/NN/drink",
          "Reviews/NNS/drinks",
          "Reviews/NN/eat",
          "Reviews/NN/egg",
          "Reviews/NN/enjoy",
          "Reviews/VBN/enjoyed",
          "Reviews/RB/enough",
          "Reviews/RB/especially",
          "Reviews/RB/even",
          "Reviews/VBG/evening",
          "Reviews/RB/ever",
          "Reviews/DT/every",
          "Reviews/NN/everything",
          "Reviews/NN/excellent",
          "Reviews/NN/experience",
          "Reviews/NN/family",
          "Reviews/NN/feel",
          "Reviews/NN/felt",
          "Reviews/JJ/few",
          "Reviews/VB/find",
          "Reviews/NN/fine",
          "Reviews/RB/first",
          "Reviews/NN/fish",
          "Reviews/NN/floor",
          "Reviews/NN/food",
          "Reviews/IN/for",
          "Reviews/NN/found",
          "Reviews/JJ/fresh",
          "Reviews/VBN/fried",
          "Reviews/RB/friendly",
          "Reviews/NNS/friends",
          "Reviews/IN/from",
          "Reviews/JJ/full",
          "Reviews/NN/gachibowli",
          "Reviews/NN/garlic",
          "Reviews/VB/get",
          "Reviews/VB/give",
          "Reviews/VBN/given",
          "Reviews/VB/go",
          "Reviews/VBG/going",
          "Reviews/NN/gold",
          "Reviews/JJ/good",
          "Reviews/VBD/got",
          "Reviews/JJ/great",
          "Reviews/NNS/guys",
          "Reviews/VBD/had",
          "Reviews/NN/hangout",
          "Reviews/JJ/happy",
          "Reviews/VBZ/has",
          "Reviews/VB/have",
          "Reviews/VBG/having",
          "Reviews/PRP/he",
          "Reviews/RB/here",
          "Reviews/JJ/high",
          "Reviews/RB/highly",
          "Reviews/NN/hospitality",
          "Reviews/JJ/hot",
          "Reviews/WRB/how",
          "Reviews/RB/however",
          "Reviews/NN/hyderabad",
          "Reviews/NN/ice",
          "Reviews/IN/if",
          "Reviews/IN/in",
          "Reviews/JJ/indian",
          "Reviews/VBZ/is",
          "Reviews/PRP/it",
          "Reviews/NNS/items",
          "Reviews/PRP$/its",
          "Reviews/RB/just",
          "Reviews/NN/kebab",
          "Reviews/VB/keep",
          "Reviews/NN/kind",
          "Reviews/VB/know",
          "Reviews/JJ/last",
          "Reviews/RB/late",
          "Reviews/RBR/less",
          "Reviews/IN/like",
          "Reviews/VBN/liked",
          "Reviews/JJ/little",
          "Reviews/JJ/live",
          "Reviews/RB/long",
          "Reviews/VBG/looking",
          "Reviews/NN/lot",
          "Reviews/NN/love",
          "Reviews/VBN/loved",
          "Reviews/NN/lunch",
          "Reviews/VBN/made",
          "Reviews/JJ/main",
          "Reviews/VB/make",
          "Reviews/NN/manager",
          "Reviews/NN/mandi",
          "Reviews/JJ/many",
          "Reviews/NN/masala",
          "Reviews/PRP/me",
          "Reviews/NN/meal",
          "Reviews/NN/menu",
          "Reviews/NN/money",
          "Reviews/RBR/more",
          "Reviews/JJS/most",
          "Reviews/JJ/much",
          "Reviews/NN/music",
          "Reviews/MD/must",
          "Reviews/NN/mutton",
          "Reviews/PRP$/my",
          "Reviews/NN/name",
          "Reviews/NN/need",
          "Reviews/RB/never",
          "Reviews/JJ/next",
          "Reviews/JJ/nice",
          "Reviews/NN/night",
          "Reviews/DT/no",
          "Reviews/NN/non",
          "Reviews/NNS/noodles",
          "Reviews/NN/north",
          "Reviews/RB/not",
          "Reviews/NN/nothing",
          "Reviews/RB/now",
          "Reviews/IN/of",
          "Reviews/NN/ok",
          "Reviews/NN/okay",
          "Reviews/IN/on",
          "Reviews/RB/once",
          "Reviews/CD/one",
          "Reviews/RB/only",
          "Reviews/NNS/options",
          "Reviews/CC/or",
          "Reviews/NN/order",
          "Reviews/VBN/ordered",
          "Reviews/JJ/other",
          "Reviews/PRP$/our",
          "Reviews/IN/out",
          "Reviews/IN/over",
          "Reviews/JJ/overall",
          "Reviews/NN/paneer",
          "Reviews/NN/paratha",
          "Reviews/NN/part",
          "Reviews/NN/party",
          "Reviews/NN/pasta",
          "Reviews/JJ/pathetic",
          "Reviews/NNS/people",
          "Reviews/NN/perfect",
          "Reviews/NN/person",
          "Reviews/NNS/pieces",
          "Reviews/NN/pizza",
          "Reviews/NN/place",
          "Reviews/NNS/places",
          "Reviews/NN/please",
          "Reviews/NN/polite",
          "Reviews/NNS/prawns",
          "Reviews/RB/pretty",
          "Reviews/NN/price",
          "Reviews/NNS/prices",
          "Reviews/NN/quality",
          "Reviews/NN/quantity",
          "Reviews/NN/quick",
          "Reviews/RB/quite",
          "Reviews/NN/rating",
          "Reviews/RB/really",
          "Reviews/NN/recommend",
          "Reviews/VBN/recommended",
          "Reviews/NN/restaurant",
          "Reviews/NN/review",
          "Reviews/NN/rice",
          "Reviews/NN/right",
          "Reviews/JJ/same",
          "Reviews/NN/sauce",
          "Reviews/VB/say",
          "Reviews/VBG/seating",
          "Reviews/VB/see",
          "Reviews/NN/serve",
          "Reviews/VBD/served",
          "Reviews/NN/service",
          "Reviews/VBG/serving",
          "Reviews/NN/shawarma",
          "Reviews/MD/should",
          "Reviews/NN/side",
          "Reviews/VB/slow",
          "Reviews/JJ/small",
          "Reviews/RB/so",
          "Reviews/JJ/soft",
          "Reviews/DT/some",
          "Reviews/NN/something",
          "Reviews/NN/soup",
          "Reviews/JJ/special",
          "Reviews/RB/specially",
          "Reviews/NN/spicy",
          "Reviews/NN/spread",
          "Reviews/NN/staff",
          "Reviews/NN/star",
          "Reviews/NN/starter",
          "Reviews/NNS/starters",
          "Reviews/RB/still",
          "Reviews/JJ/such",
          "Reviews/NN/super",
          "Reviews/NN/sure",
          "Reviews/NN/sweet",
          "Reviews/NN/table",
          "Reviews/VB/take",
          "Reviews/NN/taste",
          "Reviews/VBN/tasted",
          "Reviews/NN/tasty",
          "Reviews/NN/team",
          "Reviews/IN/than",
          "Reviews/NN/thank",
          "Reviews/NNS/thanks",
          "Reviews/IN/that",
          "Reviews/DT/the",
          "Reviews/PRP$/their",
          "Reviews/PRP/them",
          "Reviews/RB/then",
          "Reviews/RB/there",
          "Reviews/DT/these",
          "Reviews/PRP/they",
          "Reviews/NN/thing",
          "Reviews/NN/think",
          "Reviews/DT/this",
          "Reviews/IN/though",
          "Reviews/NN/tikka",
          "Reviews/NN/time",
          "Reviews/NNS/times",
          "Reviews/TO/to",
          "Reviews/RB/too",
          "Reviews/VBD/took",
          "Reviews/NN/top",
          "Reviews/VBN/tried",
          "Reviews/NN/try",
          "Reviews/CD/two",
          "Reviews/RB/up",
          "Reviews/PRP/us",
          "Reviews/NN/value",
          "Reviews/NN/variety",
          "Reviews/NN/ve",
          "Reviews/NN/veg",
          "Reviews/JJ/vegetarian",
          "Reviews/RB/very",
          "Reviews/NN/visit",
          "Reviews/VBN/visited",
          "Reviews/NN/want",
          "Reviews/VBD/was",
          "Reviews/NN/wasn",
          "Reviews/NN/way",
          "Reviews/PRP/we",
          "Reviews/RB/well",
          "Reviews/VBD/went",
          "Reviews/VBD/were",
          "Reviews/WP/what",
          "Reviews/WRB/when",
          "Reviews/WRB/where",
          "Reviews/WDT/which",
          "Reviews/IN/while",
          "Reviews/WP/who",
          "Reviews/MD/will",
          "Reviews/NNS/wings",
          "Reviews/IN/with",
          "Reviews/JJS/worst",
          "Reviews/NN/worth",
          "Reviews/MD/would",
          "Reviews/PRP/you",
          "Reviews/PRP$/your",
          "Reviews/NN/yummy",
          "Reviews/NN/zomato",
          "Reviews/CC",
          "Reviews/CD",
          "Reviews/DT",
          "Reviews/IN",
          "Reviews/JJ",
          "Reviews/JJS",
          "Reviews/MD",
          "Reviews/NN",
          "Reviews/NNS",
          "Reviews/PRP",
          "Reviews/PRP$",
          "Reviews/RB",
          "Reviews/RBR",
          "Reviews/TO",
          "Reviews/VB",
          "Reviews/VBD",
          "Reviews/VBG",
          "Reviews/VBN",
          "Reviews/VBP",
          "Reviews/VBZ",
          "Reviews/WDT",
          "Reviews/WP",
          "Reviews/WRB",
          "Reviews"
         ],
         "labels": [
          "10",
          "about",
          "after",
          "again",
          "all",
          "almost",
          "along",
          "also",
          "always",
          "am",
          "amazing",
          "ambiance",
          "ambience",
          "an",
          "and",
          "any",
          "are",
          "area",
          "around",
          "as",
          "asked",
          "at",
          "authentic",
          "available",
          "average",
          "awesome",
          "back",
          "bad",
          "bar",
          "be",
          "because",
          "been",
          "beer",
          "before",
          "being",
          "best",
          "better",
          "big",
          "biriyani",
          "biryani",
          "bit",
          "both",
          "buffet",
          "burger",
          "but",
          "butter",
          "by",
          "cake",
          "came",
          "can",
          "cheese",
          "chicken",
          "chilli",
          "chinese",
          "chocolate",
          "coffee",
          "cold",
          "come",
          "coming",
          "cooked",
          "corn",
          "could",
          "course",
          "courteous",
          "cream",
          "crispy",
          "crowd",
          "curry",
          "customer",
          "customers",
          "dal",
          "dance",
          "day",
          "decent",
          "definitely",
          "delicious",
          "delivered",
          "delivery",
          "desserts",
          "did",
          "didn",
          "different",
          "dinner",
          "disappointed",
          "dish",
          "dishes",
          "dj",
          "do",
          "don",
          "drink",
          "drinks",
          "eat",
          "egg",
          "enjoy",
          "enjoyed",
          "enough",
          "especially",
          "even",
          "evening",
          "ever",
          "every",
          "everything",
          "excellent",
          "experience",
          "family",
          "feel",
          "felt",
          "few",
          "find",
          "fine",
          "first",
          "fish",
          "floor",
          "food",
          "for",
          "found",
          "fresh",
          "fried",
          "friendly",
          "friends",
          "from",
          "full",
          "gachibowli",
          "garlic",
          "get",
          "give",
          "given",
          "go",
          "going",
          "gold",
          "good",
          "got",
          "great",
          "guys",
          "had",
          "hangout",
          "happy",
          "has",
          "have",
          "having",
          "he",
          "here",
          "high",
          "highly",
          "hospitality",
          "hot",
          "how",
          "however",
          "hyderabad",
          "ice",
          "if",
          "in",
          "indian",
          "is",
          "it",
          "items",
          "its",
          "just",
          "kebab",
          "keep",
          "kind",
          "know",
          "last",
          "late",
          "less",
          "like",
          "liked",
          "little",
          "live",
          "long",
          "looking",
          "lot",
          "love",
          "loved",
          "lunch",
          "made",
          "main",
          "make",
          "manager",
          "mandi",
          "many",
          "masala",
          "me",
          "meal",
          "menu",
          "money",
          "more",
          "most",
          "much",
          "music",
          "must",
          "mutton",
          "my",
          "name",
          "need",
          "never",
          "next",
          "nice",
          "night",
          "no",
          "non",
          "noodles",
          "north",
          "not",
          "nothing",
          "now",
          "of",
          "ok",
          "okay",
          "on",
          "once",
          "one",
          "only",
          "options",
          "or",
          "order",
          "ordered",
          "other",
          "our",
          "out",
          "over",
          "overall",
          "paneer",
          "paratha",
          "part",
          "party",
          "pasta",
          "pathetic",
          "people",
          "perfect",
          "person",
          "pieces",
          "pizza",
          "place",
          "places",
          "please",
          "polite",
          "prawns",
          "pretty",
          "price",
          "prices",
          "quality",
          "quantity",
          "quick",
          "quite",
          "rating",
          "really",
          "recommend",
          "recommended",
          "restaurant",
          "review",
          "rice",
          "right",
          "same",
          "sauce",
          "say",
          "seating",
          "see",
          "serve",
          "served",
          "service",
          "serving",
          "shawarma",
          "should",
          "side",
          "slow",
          "small",
          "so",
          "soft",
          "some",
          "something",
          "soup",
          "special",
          "specially",
          "spicy",
          "spread",
          "staff",
          "star",
          "starter",
          "starters",
          "still",
          "such",
          "super",
          "sure",
          "sweet",
          "table",
          "take",
          "taste",
          "tasted",
          "tasty",
          "team",
          "than",
          "thank",
          "thanks",
          "that",
          "the",
          "their",
          "them",
          "then",
          "there",
          "these",
          "they",
          "thing",
          "think",
          "this",
          "though",
          "tikka",
          "time",
          "times",
          "to",
          "too",
          "took",
          "top",
          "tried",
          "try",
          "two",
          "up",
          "us",
          "value",
          "variety",
          "ve",
          "veg",
          "vegetarian",
          "very",
          "visit",
          "visited",
          "want",
          "was",
          "wasn",
          "way",
          "we",
          "well",
          "went",
          "were",
          "what",
          "when",
          "where",
          "which",
          "while",
          "who",
          "will",
          "wings",
          "with",
          "worst",
          "worth",
          "would",
          "you",
          "your",
          "yummy",
          "zomato",
          "CC",
          "CD",
          "DT",
          "IN",
          "JJ",
          "JJS",
          "MD",
          "NN",
          "NNS",
          "PRP",
          "PRP$",
          "RB",
          "RBR",
          "TO",
          "VB",
          "VBD",
          "VBG",
          "VBN",
          "VBP",
          "VBZ",
          "WDT",
          "WP",
          "WRB",
          "Reviews"
         ],
         "marker": {
          "coloraxis": "coloraxis",
          "colors": [
           232,
           703,
           698,
           897,
           2002,
           209,
           229,
           1600,
           371,
           429,
           1010,
           640,
           2126,
           824,
           17638,
           458,
           2800,
           259,
           287,
           2350,
           272,
           1821,
           188,
           291,
           421,
           880,
           312,
           695,
           196,
           1690,
           338,
           892,
           190,
           259,
           276,
           1449,
           596,
           288,
           238,
           1368,
           476,
           472,
           664,
           312,
           3419,
           385,
           865,
           374,
           297,
           1321,
           419,
           3105,
           253,
           303,
           383,
           255,
           225,
           298,
           310,
           355,
           297,
           484,
           561,
           251,
           425,
           276,
           205,
           371,
           233,
           208,
           205,
           216,
           336,
           496,
           492,
           651,
           221,
           519,
           333,
           290,
           461,
           354,
           448,
           330,
           445,
           580,
           192,
           436,
           596,
           205,
           523,
           404,
           187,
           242,
           232,
           226,
           298,
           876,
           220,
           419,
           337,
           359,
           492,
           1197,
           356,
           320,
           213,
           322,
           232,
           197,
           480,
           530,
           283,
           6641,
           6566,
           192,
           316,
           515,
           565,
           718,
           1694,
           258,
           407,
           266,
           674,
           384,
           189,
           778,
           246,
           202,
           7230,
           572,
           1978,
           240,
           2628,
           267,
           267,
           933,
           3207,
           265,
           518,
           1821,
           242,
           198,
           188,
           377,
           290,
           200,
           560,
           423,
           1227,
           5276,
           362,
           9253,
           7008,
           573,
           663,
           1308,
           269,
           238,
           214,
           272,
           229,
           195,
           495,
           1458,
           326,
           522,
           222,
           203,
           222,
           446,
           653,
           620,
           566,
           507,
           587,
           346,
           218,
           212,
           364,
           320,
           862,
           195,
           708,
           513,
           922,
           343,
           672,
           543,
           953,
           376,
           2267,
           220,
           279,
           491,
           218,
           1504,
           396,
           1016,
           440,
           368,
           217,
           3651,
           274,
           298,
           7459,
           412,
           237,
           2667,
           239,
           1943,
           876,
           347,
           747,
           1176,
           2178,
           663,
           721,
           874,
           492,
           770,
           719,
           187,
           243,
           236,
           288,
           205,
           548,
           418,
           209,
           244,
           496,
           5734,
           274,
           258,
           300,
           275,
           360,
           515,
           223,
           870,
           692,
           271,
           464,
           209,
           1674,
           520,
           226,
           1281,
           196,
           786,
           235,
           336,
           343,
           397,
           324,
           202,
           374,
           833,
           3246,
           280,
           215,
           410,
           235,
           229,
           312,
           1853,
           230,
           972,
           265,
           412,
           436,
           191,
           592,
           208,
           1331,
           209,
           232,
           861,
           192,
           295,
           245,
           281,
           348,
           402,
           301,
           2283,
           542,
           711,
           328,
           494,
           206,
           314,
           2613,
           23291,
           1537,
           595,
           496,
           1585,
           232,
           3521,
           352,
           197,
           4833,
           468,
           384,
           1618,
           432,
           9905,
           1372,
           274,
           243,
           659,
           1300,
           315,
           670,
           862,
           251,
           338,
           291,
           1248,
           204,
           3734,
           1264,
           453,
           358,
           10320,
           200,
           308,
           4101,
           1162,
           737,
           2664,
           582,
           839,
           266,
           1766,
           226,
           435,
           1207,
           274,
           5509,
           549,
           510,
           1074,
           3133,
           885,
           207,
           514,
           14829.692441753807,
           1577.629718875502,
           16641.767023840635,
           4257.740582864066,
           2787.0241995369765,
           1075.8868005126014,
           1039.8111580106442,
           1792.6495041710577,
           482.35110533159946,
           4381.156893203884,
           1522.195455293924,
           1742.0761224898258,
           720.4793840039741,
           9905,
           1577.0846757538206,
           6570.900188020413,
           508.7779892166191,
           989.4021961184883,
           2484.9925673583152,
           8490.918711957589,
           1766,
           519.1238938053098,
           615.610752688172,
           5216.459587140049
          ]
         },
         "name": "",
         "parents": [
          "Reviews/CD",
          "Reviews/IN",
          "Reviews/IN",
          "Reviews/RB",
          "Reviews/DT",
          "Reviews/RB",
          "Reviews/IN",
          "Reviews/RB",
          "Reviews/RB",
          "Reviews/VBP",
          "Reviews/VBG",
          "Reviews/NN",
          "Reviews/NN",
          "Reviews/DT",
          "Reviews/CC",
          "Reviews/DT",
          "Reviews/VBP",
          "Reviews/NN",
          "Reviews/IN",
          "Reviews/IN",
          "Reviews/VBN",
          "Reviews/IN",
          "Reviews/JJ",
          "Reviews/JJ",
          "Reviews/JJ",
          "Reviews/NN",
          "Reviews/RB",
          "Reviews/JJ",
          "Reviews/NN",
          "Reviews/VB",
          "Reviews/IN",
          "Reviews/VBN",
          "Reviews/NN",
          "Reviews/IN",
          "Reviews/VBG",
          "Reviews/JJS",
          "Reviews/RBR",
          "Reviews/JJ",
          "Reviews/NN",
          "Reviews/NN",
          "Reviews/NN",
          "Reviews/DT",
          "Reviews/NN",
          "Reviews/NN",
          "Reviews/CC",
          "Reviews/NN",
          "Reviews/IN",
          "Reviews/NN",
          "Reviews/VBD",
          "Reviews/MD",
          "Reviews/NN",
          "Reviews/NN",
          "Reviews/NN",
          "Reviews/JJ",
          "Reviews/NN",
          "Reviews/NN",
          "Reviews/NN",
          "Reviews/VB",
          "Reviews/VBG",
          "Reviews/NNS",
          "Reviews/NN",
          "Reviews/MD",
          "Reviews/NN",
          "Reviews/JJ",
          "Reviews/NN",
          "Reviews/NN",
          "Reviews/NN",
          "Reviews/NN",
          "Reviews/NN",
          "Reviews/NNS",
          "Reviews/NN",
          "Reviews/NN",
          "Reviews/NN",
          "Reviews/NN",
          "Reviews/RB",
          "Reviews/JJ",
          "Reviews/VBN",
          "Reviews/NN",
          "Reviews/NNS",
          "Reviews/VBD",
          "Reviews/NN",
          "Reviews/JJ",
          "Reviews/NN",
          "Reviews/JJ",
          "Reviews/NN",
          "Reviews/NNS",
          "Reviews/NN",
          "Reviews/VB",
          "Reviews/NN",
          "Reviews/NN",
          "Reviews/NNS",
          "Reviews/NN",
          "Reviews/NN",
          "Reviews/NN",
          "Reviews/VBN",
          "Reviews/RB",
          "Reviews/RB",
          "Reviews/RB",
          "Reviews/VBG",
          "Reviews/RB",
          "Reviews/DT",
          "Reviews/NN",
          "Reviews/NN",
          "Reviews/NN",
          "Reviews/NN",
          "Reviews/NN",
          "Reviews/NN",
          "Reviews/JJ",
          "Reviews/VB",
          "Reviews/NN",
          "Reviews/RB",
          "Reviews/NN",
          "Reviews/NN",
          "Reviews/NN",
          "Reviews/IN",
          "Reviews/NN",
          "Reviews/JJ",
          "Reviews/VBN",
          "Reviews/RB",
          "Reviews/NNS",
          "Reviews/IN",
          "Reviews/JJ",
          "Reviews/NN",
          "Reviews/NN",
          "Reviews/VB",
          "Reviews/VB",
          "Reviews/VBN",
          "Reviews/VB",
          "Reviews/VBG",
          "Reviews/NN",
          "Reviews/JJ",
          "Reviews/VBD",
          "Reviews/JJ",
          "Reviews/NNS",
          "Reviews/VBD",
          "Reviews/NN",
          "Reviews/JJ",
          "Reviews/VBZ",
          "Reviews/VB",
          "Reviews/VBG",
          "Reviews/PRP",
          "Reviews/RB",
          "Reviews/JJ",
          "Reviews/RB",
          "Reviews/NN",
          "Reviews/JJ",
          "Reviews/WRB",
          "Reviews/RB",
          "Reviews/NN",
          "Reviews/NN",
          "Reviews/IN",
          "Reviews/IN",
          "Reviews/JJ",
          "Reviews/VBZ",
          "Reviews/PRP",
          "Reviews/NNS",
          "Reviews/PRP$",
          "Reviews/RB",
          "Reviews/NN",
          "Reviews/VB",
          "Reviews/NN",
          "Reviews/VB",
          "Reviews/JJ",
          "Reviews/RB",
          "Reviews/RBR",
          "Reviews/IN",
          "Reviews/VBN",
          "Reviews/JJ",
          "Reviews/JJ",
          "Reviews/RB",
          "Reviews/VBG",
          "Reviews/NN",
          "Reviews/NN",
          "Reviews/VBN",
          "Reviews/NN",
          "Reviews/VBN",
          "Reviews/JJ",
          "Reviews/VB",
          "Reviews/NN",
          "Reviews/NN",
          "Reviews/JJ",
          "Reviews/NN",
          "Reviews/PRP",
          "Reviews/NN",
          "Reviews/NN",
          "Reviews/NN",
          "Reviews/RBR",
          "Reviews/JJS",
          "Reviews/JJ",
          "Reviews/NN",
          "Reviews/MD",
          "Reviews/NN",
          "Reviews/PRP$",
          "Reviews/NN",
          "Reviews/NN",
          "Reviews/RB",
          "Reviews/JJ",
          "Reviews/JJ",
          "Reviews/NN",
          "Reviews/DT",
          "Reviews/NN",
          "Reviews/NNS",
          "Reviews/NN",
          "Reviews/RB",
          "Reviews/NN",
          "Reviews/RB",
          "Reviews/IN",
          "Reviews/NN",
          "Reviews/NN",
          "Reviews/IN",
          "Reviews/RB",
          "Reviews/CD",
          "Reviews/RB",
          "Reviews/NNS",
          "Reviews/CC",
          "Reviews/NN",
          "Reviews/VBN",
          "Reviews/JJ",
          "Reviews/PRP$",
          "Reviews/IN",
          "Reviews/IN",
          "Reviews/JJ",
          "Reviews/NN",
          "Reviews/NN",
          "Reviews/NN",
          "Reviews/NN",
          "Reviews/NN",
          "Reviews/JJ",
          "Reviews/NNS",
          "Reviews/NN",
          "Reviews/NN",
          "Reviews/NNS",
          "Reviews/NN",
          "Reviews/NN",
          "Reviews/NNS",
          "Reviews/NN",
          "Reviews/NN",
          "Reviews/NNS",
          "Reviews/RB",
          "Reviews/NN",
          "Reviews/NNS",
          "Reviews/NN",
          "Reviews/NN",
          "Reviews/NN",
          "Reviews/RB",
          "Reviews/NN",
          "Reviews/RB",
          "Reviews/NN",
          "Reviews/VBN",
          "Reviews/NN",
          "Reviews/NN",
          "Reviews/NN",
          "Reviews/NN",
          "Reviews/JJ",
          "Reviews/NN",
          "Reviews/VB",
          "Reviews/VBG",
          "Reviews/VB",
          "Reviews/NN",
          "Reviews/VBD",
          "Reviews/NN",
          "Reviews/VBG",
          "Reviews/NN",
          "Reviews/MD",
          "Reviews/NN",
          "Reviews/VB",
          "Reviews/JJ",
          "Reviews/RB",
          "Reviews/JJ",
          "Reviews/DT",
          "Reviews/NN",
          "Reviews/NN",
          "Reviews/JJ",
          "Reviews/RB",
          "Reviews/NN",
          "Reviews/NN",
          "Reviews/NN",
          "Reviews/NN",
          "Reviews/NN",
          "Reviews/NNS",
          "Reviews/RB",
          "Reviews/JJ",
          "Reviews/NN",
          "Reviews/NN",
          "Reviews/NN",
          "Reviews/NN",
          "Reviews/VB",
          "Reviews/NN",
          "Reviews/VBN",
          "Reviews/NN",
          "Reviews/NN",
          "Reviews/IN",
          "Reviews/NN",
          "Reviews/NNS",
          "Reviews/IN",
          "Reviews/DT",
          "Reviews/PRP$",
          "Reviews/PRP",
          "Reviews/RB",
          "Reviews/RB",
          "Reviews/DT",
          "Reviews/PRP",
          "Reviews/NN",
          "Reviews/NN",
          "Reviews/DT",
          "Reviews/IN",
          "Reviews/NN",
          "Reviews/NN",
          "Reviews/NNS",
          "Reviews/TO",
          "Reviews/RB",
          "Reviews/VBD",
          "Reviews/NN",
          "Reviews/VBN",
          "Reviews/NN",
          "Reviews/CD",
          "Reviews/RB",
          "Reviews/PRP",
          "Reviews/NN",
          "Reviews/NN",
          "Reviews/NN",
          "Reviews/NN",
          "Reviews/JJ",
          "Reviews/RB",
          "Reviews/NN",
          "Reviews/VBN",
          "Reviews/NN",
          "Reviews/VBD",
          "Reviews/NN",
          "Reviews/NN",
          "Reviews/PRP",
          "Reviews/RB",
          "Reviews/VBD",
          "Reviews/VBD",
          "Reviews/WP",
          "Reviews/WRB",
          "Reviews/WRB",
          "Reviews/WDT",
          "Reviews/IN",
          "Reviews/WP",
          "Reviews/MD",
          "Reviews/NNS",
          "Reviews/IN",
          "Reviews/JJS",
          "Reviews/NN",
          "Reviews/MD",
          "Reviews/PRP",
          "Reviews/PRP$",
          "Reviews/NN",
          "Reviews/NN",
          "Reviews",
          "Reviews",
          "Reviews",
          "Reviews",
          "Reviews",
          "Reviews",
          "Reviews",
          "Reviews",
          "Reviews",
          "Reviews",
          "Reviews",
          "Reviews",
          "Reviews",
          "Reviews",
          "Reviews",
          "Reviews",
          "Reviews",
          "Reviews",
          "Reviews",
          "Reviews",
          "Reviews",
          "Reviews",
          "Reviews",
          ""
         ],
         "type": "treemap",
         "values": [
          232,
          703,
          698,
          897,
          2002,
          209,
          229,
          1600,
          371,
          429,
          1010,
          640,
          2126,
          824,
          17638,
          458,
          2800,
          259,
          287,
          2350,
          272,
          1821,
          188,
          291,
          421,
          880,
          312,
          695,
          196,
          1690,
          338,
          892,
          190,
          259,
          276,
          1449,
          596,
          288,
          238,
          1368,
          476,
          472,
          664,
          312,
          3419,
          385,
          865,
          374,
          297,
          1321,
          419,
          3105,
          253,
          303,
          383,
          255,
          225,
          298,
          310,
          355,
          297,
          484,
          561,
          251,
          425,
          276,
          205,
          371,
          233,
          208,
          205,
          216,
          336,
          496,
          492,
          651,
          221,
          519,
          333,
          290,
          461,
          354,
          448,
          330,
          445,
          580,
          192,
          436,
          596,
          205,
          523,
          404,
          187,
          242,
          232,
          226,
          298,
          876,
          220,
          419,
          337,
          359,
          492,
          1197,
          356,
          320,
          213,
          322,
          232,
          197,
          480,
          530,
          283,
          6641,
          6566,
          192,
          316,
          515,
          565,
          718,
          1694,
          258,
          407,
          266,
          674,
          384,
          189,
          778,
          246,
          202,
          7230,
          572,
          1978,
          240,
          2628,
          267,
          267,
          933,
          3207,
          265,
          518,
          1821,
          242,
          198,
          188,
          377,
          290,
          200,
          560,
          423,
          1227,
          5276,
          362,
          9253,
          7008,
          573,
          663,
          1308,
          269,
          238,
          214,
          272,
          229,
          195,
          495,
          1458,
          326,
          522,
          222,
          203,
          222,
          446,
          653,
          620,
          566,
          507,
          587,
          346,
          218,
          212,
          364,
          320,
          862,
          195,
          708,
          513,
          922,
          343,
          672,
          543,
          953,
          376,
          2267,
          220,
          279,
          491,
          218,
          1504,
          396,
          1016,
          440,
          368,
          217,
          3651,
          274,
          298,
          7459,
          412,
          237,
          2667,
          239,
          1943,
          876,
          347,
          747,
          1176,
          2178,
          663,
          721,
          874,
          492,
          770,
          719,
          187,
          243,
          236,
          288,
          205,
          548,
          418,
          209,
          244,
          496,
          5734,
          274,
          258,
          300,
          275,
          360,
          515,
          223,
          870,
          692,
          271,
          464,
          209,
          1674,
          520,
          226,
          1281,
          196,
          786,
          235,
          336,
          343,
          397,
          324,
          202,
          374,
          833,
          3246,
          280,
          215,
          410,
          235,
          229,
          312,
          1853,
          230,
          972,
          265,
          412,
          436,
          191,
          592,
          208,
          1331,
          209,
          232,
          861,
          192,
          295,
          245,
          281,
          348,
          402,
          301,
          2283,
          542,
          711,
          328,
          494,
          206,
          314,
          2613,
          23291,
          1537,
          595,
          496,
          1585,
          232,
          3521,
          352,
          197,
          4833,
          468,
          384,
          1618,
          432,
          9905,
          1372,
          274,
          243,
          659,
          1300,
          315,
          670,
          862,
          251,
          338,
          291,
          1248,
          204,
          3734,
          1264,
          453,
          358,
          10320,
          200,
          308,
          4101,
          1162,
          737,
          2664,
          582,
          839,
          266,
          1766,
          226,
          435,
          1207,
          274,
          5509,
          549,
          510,
          1074,
          3133,
          885,
          207,
          514,
          21804,
          2490,
          34437,
          44573,
          22893,
          2341,
          5449,
          78757,
          7690,
          20600,
          6073,
          29978,
          2013,
          9905,
          9684,
          18615,
          3153,
          7832,
          3229,
          10186,
          1766,
          1017,
          1395,
          345880
         ]
        }
       ],
       "layout": {
        "coloraxis": {
         "colorbar": {
          "title": {
           "text": "frequency"
          }
         },
         "colorscale": [
          [
           0,
           "#440154"
          ],
          [
           0.1111111111111111,
           "#482878"
          ],
          [
           0.2222222222222222,
           "#3e4989"
          ],
          [
           0.3333333333333333,
           "#31688e"
          ],
          [
           0.4444444444444444,
           "#26828e"
          ],
          [
           0.5555555555555556,
           "#1f9e89"
          ],
          [
           0.6666666666666666,
           "#35b779"
          ],
          [
           0.7777777777777778,
           "#6ece58"
          ],
          [
           0.8888888888888888,
           "#b5de2b"
          ],
          [
           1,
           "#fde725"
          ]
         ]
        },
        "legend": {
         "tracegroupgap": 0
        },
        "margin": {
         "b": 25,
         "l": 25,
         "r": 25,
         "t": 50
        },
        "template": {
         "data": {
          "bar": [
           {
            "error_x": {
             "color": "#2a3f5f"
            },
            "error_y": {
             "color": "#2a3f5f"
            },
            "marker": {
             "line": {
              "color": "#E5ECF6",
              "width": 0.5
             },
             "pattern": {
              "fillmode": "overlay",
              "size": 10,
              "solidity": 0.2
             }
            },
            "type": "bar"
           }
          ],
          "barpolar": [
           {
            "marker": {
             "line": {
              "color": "#E5ECF6",
              "width": 0.5
             },
             "pattern": {
              "fillmode": "overlay",
              "size": 10,
              "solidity": 0.2
             }
            },
            "type": "barpolar"
           }
          ],
          "carpet": [
           {
            "aaxis": {
             "endlinecolor": "#2a3f5f",
             "gridcolor": "white",
             "linecolor": "white",
             "minorgridcolor": "white",
             "startlinecolor": "#2a3f5f"
            },
            "baxis": {
             "endlinecolor": "#2a3f5f",
             "gridcolor": "white",
             "linecolor": "white",
             "minorgridcolor": "white",
             "startlinecolor": "#2a3f5f"
            },
            "type": "carpet"
           }
          ],
          "choropleth": [
           {
            "colorbar": {
             "outlinewidth": 0,
             "ticks": ""
            },
            "type": "choropleth"
           }
          ],
          "contour": [
           {
            "colorbar": {
             "outlinewidth": 0,
             "ticks": ""
            },
            "colorscale": [
             [
              0,
              "#0d0887"
             ],
             [
              0.1111111111111111,
              "#46039f"
             ],
             [
              0.2222222222222222,
              "#7201a8"
             ],
             [
              0.3333333333333333,
              "#9c179e"
             ],
             [
              0.4444444444444444,
              "#bd3786"
             ],
             [
              0.5555555555555556,
              "#d8576b"
             ],
             [
              0.6666666666666666,
              "#ed7953"
             ],
             [
              0.7777777777777778,
              "#fb9f3a"
             ],
             [
              0.8888888888888888,
              "#fdca26"
             ],
             [
              1,
              "#f0f921"
             ]
            ],
            "type": "contour"
           }
          ],
          "contourcarpet": [
           {
            "colorbar": {
             "outlinewidth": 0,
             "ticks": ""
            },
            "type": "contourcarpet"
           }
          ],
          "heatmap": [
           {
            "colorbar": {
             "outlinewidth": 0,
             "ticks": ""
            },
            "colorscale": [
             [
              0,
              "#0d0887"
             ],
             [
              0.1111111111111111,
              "#46039f"
             ],
             [
              0.2222222222222222,
              "#7201a8"
             ],
             [
              0.3333333333333333,
              "#9c179e"
             ],
             [
              0.4444444444444444,
              "#bd3786"
             ],
             [
              0.5555555555555556,
              "#d8576b"
             ],
             [
              0.6666666666666666,
              "#ed7953"
             ],
             [
              0.7777777777777778,
              "#fb9f3a"
             ],
             [
              0.8888888888888888,
              "#fdca26"
             ],
             [
              1,
              "#f0f921"
             ]
            ],
            "type": "heatmap"
           }
          ],
          "heatmapgl": [
           {
            "colorbar": {
             "outlinewidth": 0,
             "ticks": ""
            },
            "colorscale": [
             [
              0,
              "#0d0887"
             ],
             [
              0.1111111111111111,
              "#46039f"
             ],
             [
              0.2222222222222222,
              "#7201a8"
             ],
             [
              0.3333333333333333,
              "#9c179e"
             ],
             [
              0.4444444444444444,
              "#bd3786"
             ],
             [
              0.5555555555555556,
              "#d8576b"
             ],
             [
              0.6666666666666666,
              "#ed7953"
             ],
             [
              0.7777777777777778,
              "#fb9f3a"
             ],
             [
              0.8888888888888888,
              "#fdca26"
             ],
             [
              1,
              "#f0f921"
             ]
            ],
            "type": "heatmapgl"
           }
          ],
          "histogram": [
           {
            "marker": {
             "pattern": {
              "fillmode": "overlay",
              "size": 10,
              "solidity": 0.2
             }
            },
            "type": "histogram"
           }
          ],
          "histogram2d": [
           {
            "colorbar": {
             "outlinewidth": 0,
             "ticks": ""
            },
            "colorscale": [
             [
              0,
              "#0d0887"
             ],
             [
              0.1111111111111111,
              "#46039f"
             ],
             [
              0.2222222222222222,
              "#7201a8"
             ],
             [
              0.3333333333333333,
              "#9c179e"
             ],
             [
              0.4444444444444444,
              "#bd3786"
             ],
             [
              0.5555555555555556,
              "#d8576b"
             ],
             [
              0.6666666666666666,
              "#ed7953"
             ],
             [
              0.7777777777777778,
              "#fb9f3a"
             ],
             [
              0.8888888888888888,
              "#fdca26"
             ],
             [
              1,
              "#f0f921"
             ]
            ],
            "type": "histogram2d"
           }
          ],
          "histogram2dcontour": [
           {
            "colorbar": {
             "outlinewidth": 0,
             "ticks": ""
            },
            "colorscale": [
             [
              0,
              "#0d0887"
             ],
             [
              0.1111111111111111,
              "#46039f"
             ],
             [
              0.2222222222222222,
              "#7201a8"
             ],
             [
              0.3333333333333333,
              "#9c179e"
             ],
             [
              0.4444444444444444,
              "#bd3786"
             ],
             [
              0.5555555555555556,
              "#d8576b"
             ],
             [
              0.6666666666666666,
              "#ed7953"
             ],
             [
              0.7777777777777778,
              "#fb9f3a"
             ],
             [
              0.8888888888888888,
              "#fdca26"
             ],
             [
              1,
              "#f0f921"
             ]
            ],
            "type": "histogram2dcontour"
           }
          ],
          "mesh3d": [
           {
            "colorbar": {
             "outlinewidth": 0,
             "ticks": ""
            },
            "type": "mesh3d"
           }
          ],
          "parcoords": [
           {
            "line": {
             "colorbar": {
              "outlinewidth": 0,
              "ticks": ""
             }
            },
            "type": "parcoords"
           }
          ],
          "pie": [
           {
            "automargin": true,
            "type": "pie"
           }
          ],
          "scatter": [
           {
            "fillpattern": {
             "fillmode": "overlay",
             "size": 10,
             "solidity": 0.2
            },
            "type": "scatter"
           }
          ],
          "scatter3d": [
           {
            "line": {
             "colorbar": {
              "outlinewidth": 0,
              "ticks": ""
             }
            },
            "marker": {
             "colorbar": {
              "outlinewidth": 0,
              "ticks": ""
             }
            },
            "type": "scatter3d"
           }
          ],
          "scattercarpet": [
           {
            "marker": {
             "colorbar": {
              "outlinewidth": 0,
              "ticks": ""
             }
            },
            "type": "scattercarpet"
           }
          ],
          "scattergeo": [
           {
            "marker": {
             "colorbar": {
              "outlinewidth": 0,
              "ticks": ""
             }
            },
            "type": "scattergeo"
           }
          ],
          "scattergl": [
           {
            "marker": {
             "colorbar": {
              "outlinewidth": 0,
              "ticks": ""
             }
            },
            "type": "scattergl"
           }
          ],
          "scattermapbox": [
           {
            "marker": {
             "colorbar": {
              "outlinewidth": 0,
              "ticks": ""
             }
            },
            "type": "scattermapbox"
           }
          ],
          "scatterpolar": [
           {
            "marker": {
             "colorbar": {
              "outlinewidth": 0,
              "ticks": ""
             }
            },
            "type": "scatterpolar"
           }
          ],
          "scatterpolargl": [
           {
            "marker": {
             "colorbar": {
              "outlinewidth": 0,
              "ticks": ""
             }
            },
            "type": "scatterpolargl"
           }
          ],
          "scatterternary": [
           {
            "marker": {
             "colorbar": {
              "outlinewidth": 0,
              "ticks": ""
             }
            },
            "type": "scatterternary"
           }
          ],
          "surface": [
           {
            "colorbar": {
             "outlinewidth": 0,
             "ticks": ""
            },
            "colorscale": [
             [
              0,
              "#0d0887"
             ],
             [
              0.1111111111111111,
              "#46039f"
             ],
             [
              0.2222222222222222,
              "#7201a8"
             ],
             [
              0.3333333333333333,
              "#9c179e"
             ],
             [
              0.4444444444444444,
              "#bd3786"
             ],
             [
              0.5555555555555556,
              "#d8576b"
             ],
             [
              0.6666666666666666,
              "#ed7953"
             ],
             [
              0.7777777777777778,
              "#fb9f3a"
             ],
             [
              0.8888888888888888,
              "#fdca26"
             ],
             [
              1,
              "#f0f921"
             ]
            ],
            "type": "surface"
           }
          ],
          "table": [
           {
            "cells": {
             "fill": {
              "color": "#EBF0F8"
             },
             "line": {
              "color": "white"
             }
            },
            "header": {
             "fill": {
              "color": "#C8D4E3"
             },
             "line": {
              "color": "white"
             }
            },
            "type": "table"
           }
          ]
         },
         "layout": {
          "annotationdefaults": {
           "arrowcolor": "#2a3f5f",
           "arrowhead": 0,
           "arrowwidth": 1
          },
          "autotypenumbers": "strict",
          "coloraxis": {
           "colorbar": {
            "outlinewidth": 0,
            "ticks": ""
           }
          },
          "colorscale": {
           "diverging": [
            [
             0,
             "#8e0152"
            ],
            [
             0.1,
             "#c51b7d"
            ],
            [
             0.2,
             "#de77ae"
            ],
            [
             0.3,
             "#f1b6da"
            ],
            [
             0.4,
             "#fde0ef"
            ],
            [
             0.5,
             "#f7f7f7"
            ],
            [
             0.6,
             "#e6f5d0"
            ],
            [
             0.7,
             "#b8e186"
            ],
            [
             0.8,
             "#7fbc41"
            ],
            [
             0.9,
             "#4d9221"
            ],
            [
             1,
             "#276419"
            ]
           ],
           "sequential": [
            [
             0,
             "#0d0887"
            ],
            [
             0.1111111111111111,
             "#46039f"
            ],
            [
             0.2222222222222222,
             "#7201a8"
            ],
            [
             0.3333333333333333,
             "#9c179e"
            ],
            [
             0.4444444444444444,
             "#bd3786"
            ],
            [
             0.5555555555555556,
             "#d8576b"
            ],
            [
             0.6666666666666666,
             "#ed7953"
            ],
            [
             0.7777777777777778,
             "#fb9f3a"
            ],
            [
             0.8888888888888888,
             "#fdca26"
            ],
            [
             1,
             "#f0f921"
            ]
           ],
           "sequentialminus": [
            [
             0,
             "#0d0887"
            ],
            [
             0.1111111111111111,
             "#46039f"
            ],
            [
             0.2222222222222222,
             "#7201a8"
            ],
            [
             0.3333333333333333,
             "#9c179e"
            ],
            [
             0.4444444444444444,
             "#bd3786"
            ],
            [
             0.5555555555555556,
             "#d8576b"
            ],
            [
             0.6666666666666666,
             "#ed7953"
            ],
            [
             0.7777777777777778,
             "#fb9f3a"
            ],
            [
             0.8888888888888888,
             "#fdca26"
            ],
            [
             1,
             "#f0f921"
            ]
           ]
          },
          "colorway": [
           "#636efa",
           "#EF553B",
           "#00cc96",
           "#ab63fa",
           "#FFA15A",
           "#19d3f3",
           "#FF6692",
           "#B6E880",
           "#FF97FF",
           "#FECB52"
          ],
          "font": {
           "color": "#2a3f5f"
          },
          "geo": {
           "bgcolor": "white",
           "lakecolor": "white",
           "landcolor": "#E5ECF6",
           "showlakes": true,
           "showland": true,
           "subunitcolor": "white"
          },
          "hoverlabel": {
           "align": "left"
          },
          "hovermode": "closest",
          "mapbox": {
           "style": "light"
          },
          "paper_bgcolor": "white",
          "plot_bgcolor": "#E5ECF6",
          "polar": {
           "angularaxis": {
            "gridcolor": "white",
            "linecolor": "white",
            "ticks": ""
           },
           "bgcolor": "#E5ECF6",
           "radialaxis": {
            "gridcolor": "white",
            "linecolor": "white",
            "ticks": ""
           }
          },
          "scene": {
           "xaxis": {
            "backgroundcolor": "#E5ECF6",
            "gridcolor": "white",
            "gridwidth": 2,
            "linecolor": "white",
            "showbackground": true,
            "ticks": "",
            "zerolinecolor": "white"
           },
           "yaxis": {
            "backgroundcolor": "#E5ECF6",
            "gridcolor": "white",
            "gridwidth": 2,
            "linecolor": "white",
            "showbackground": true,
            "ticks": "",
            "zerolinecolor": "white"
           },
           "zaxis": {
            "backgroundcolor": "#E5ECF6",
            "gridcolor": "white",
            "gridwidth": 2,
            "linecolor": "white",
            "showbackground": true,
            "ticks": "",
            "zerolinecolor": "white"
           }
          },
          "shapedefaults": {
           "line": {
            "color": "#2a3f5f"
           }
          },
          "ternary": {
           "aaxis": {
            "gridcolor": "white",
            "linecolor": "white",
            "ticks": ""
           },
           "baxis": {
            "gridcolor": "white",
            "linecolor": "white",
            "ticks": ""
           },
           "bgcolor": "#E5ECF6",
           "caxis": {
            "gridcolor": "white",
            "linecolor": "white",
            "ticks": ""
           }
          },
          "title": {
           "x": 0.05
          },
          "xaxis": {
           "automargin": true,
           "gridcolor": "white",
           "linecolor": "white",
           "ticks": "",
           "title": {
            "standoff": 15
           },
           "zerolinecolor": "white",
           "zerolinewidth": 2
          },
          "yaxis": {
           "automargin": true,
           "gridcolor": "white",
           "linecolor": "white",
           "ticks": "",
           "title": {
            "standoff": 15
           },
           "zerolinecolor": "white",
           "zerolinewidth": 2
          }
         }
        }
       }
      }
     },
     "metadata": {},
     "output_type": "display_data"
    }
   ],
   "source": [
    "clean_bow_words_freq[\"pos_tag\"] = clean_bow_words_freq[\"words\"].apply(get_pos_tag)\n",
    "\n",
    "#create a tree map\n",
    "fig = px.treemap(clean_bow_words_freq[:350], \n",
    "                path=[px.Constant('Reviews'), 'pos_tag','words'], \n",
    "                values='frequency',\n",
    "                color='frequency',\n",
    "                color_continuous_scale='viridis',\n",
    "                )\n",
    "\n",
    "fig.update_layout(margin = dict(t=50, l=25, r=25, b=25))\n",
    "fig.show()"
   ]
  },
  {
   "cell_type": "markdown",
   "metadata": {},
   "source": [
    "<font color='#BFD72F' size=4>2.4 BOW plot for the cuisine types</font> <a class=\"anchor\" id=\"P24\"></a>\n",
    "  \n",
    "[Back to TOC](#toc)"
   ]
  },
  {
   "cell_type": "code",
   "execution_count": 27,
   "metadata": {},
   "outputs": [
    {
     "data": {
      "text/html": [
       "<div>\n",
       "<style scoped>\n",
       "    .dataframe tbody tr th:only-of-type {\n",
       "        vertical-align: middle;\n",
       "    }\n",
       "\n",
       "    .dataframe tbody tr th {\n",
       "        vertical-align: top;\n",
       "    }\n",
       "\n",
       "    .dataframe thead th {\n",
       "        text-align: right;\n",
       "    }\n",
       "</style>\n",
       "<table border=\"1\" class=\"dataframe\">\n",
       "  <thead>\n",
       "    <tr style=\"text-align: right;\">\n",
       "      <th></th>\n",
       "      <th>words</th>\n",
       "      <th>frequency</th>\n",
       "    </tr>\n",
       "  </thead>\n",
       "  <tbody>\n",
       "    <tr>\n",
       "      <th>101</th>\n",
       "      <td>indian</td>\n",
       "      <td>7095</td>\n",
       "    </tr>\n",
       "    <tr>\n",
       "      <th>150</th>\n",
       "      <td>north</td>\n",
       "      <td>6095</td>\n",
       "    </tr>\n",
       "    <tr>\n",
       "      <th>152</th>\n",
       "      <td>north indian</td>\n",
       "      <td>5995</td>\n",
       "    </tr>\n",
       "    <tr>\n",
       "      <th>42</th>\n",
       "      <td>chinese</td>\n",
       "      <td>4095</td>\n",
       "    </tr>\n",
       "    <tr>\n",
       "      <th>106</th>\n",
       "      <td>indian chinese</td>\n",
       "      <td>2495</td>\n",
       "    </tr>\n",
       "    <tr>\n",
       "      <th>...</th>\n",
       "      <td>...</td>\n",
       "      <td>...</td>\n",
       "    </tr>\n",
       "    <tr>\n",
       "      <th>60</th>\n",
       "      <td>continental biryani</td>\n",
       "      <td>99</td>\n",
       "    </tr>\n",
       "    <tr>\n",
       "      <th>153</th>\n",
       "      <td>pizza</td>\n",
       "      <td>99</td>\n",
       "    </tr>\n",
       "    <tr>\n",
       "      <th>155</th>\n",
       "      <td>salad burger</td>\n",
       "      <td>77</td>\n",
       "    </tr>\n",
       "    <tr>\n",
       "      <th>91</th>\n",
       "      <td>food salad</td>\n",
       "      <td>77</td>\n",
       "    </tr>\n",
       "    <tr>\n",
       "      <th>2</th>\n",
       "      <td>american fast</td>\n",
       "      <td>77</td>\n",
       "    </tr>\n",
       "  </tbody>\n",
       "</table>\n",
       "<p>173 rows × 2 columns</p>\n",
       "</div>"
      ],
      "text/plain": [
       "                   words  frequency\n",
       "101               indian       7095\n",
       "150                north       6095\n",
       "152         north indian       5995\n",
       "42               chinese       4095\n",
       "106       indian chinese       2495\n",
       "..                   ...        ...\n",
       "60   continental biryani         99\n",
       "153                pizza         99\n",
       "155         salad burger         77\n",
       "91            food salad         77\n",
       "2          american fast         77\n",
       "\n",
       "[173 rows x 2 columns]"
      ]
     },
     "execution_count": 27,
     "metadata": {},
     "output_type": "execute_result"
    }
   ],
   "source": [
    "#Create a BOW and get the number of times each type of cuisine appears\n",
    "bow_vectorizer = CountVectorizer(ngram_range=(1,2))\n",
    "cuisine_td_matrix = bow_vectorizer.fit_transform(reviews_text_only[\"Cuisine\"]).toarray()\n",
    "cuisine_word_list = bow_vectorizer.get_feature_names_out().tolist()\n",
    "cuisine_words_freq = word_freq_calculator(cuisine_td_matrix, cuisine_word_list)\n",
    "cuisine_words_freq"
   ]
  },
  {
   "cell_type": "code",
   "execution_count": 28,
   "metadata": {},
   "outputs": [
    {
     "data": {
      "image/png": "[encoded data removed]",
      "text/plain": [
       "<Figure size 1000x800 with 1 Axes>"
      ]
     },
     "metadata": {},
     "output_type": "display_data"
    }
   ],
   "source": [
    "graph_clean_freq = plot_term_frequency(cuisine_words_freq, \"20_most_commun_cuisine_types\", 20, \"Cuisines\", show = False, )"
   ]
  },
  {
   "cell_type": "markdown",
   "metadata": {},
   "source": [
    "<font color='#BFD72F' size=4>2.5 Co-occurrence in `Cuisines` visualization</font> <a class=\"anchor\" id=\"P25\"></a>\n",
    "  \n",
    "[Back to TOC](#toc)"
   ]
  },
  {
   "cell_type": "code",
   "execution_count": 29,
   "metadata": {},
   "outputs": [],
   "source": [
    "def cooccurrence_matrix_window_generator(preproc_sentences, window_size):\n",
    "\n",
    "    co_occurrences = defaultdict(Counter)\n",
    "\n",
    "    # Compute co-occurrences\n",
    "    for sentence in tqdm(preproc_sentences):\n",
    "        for i, word in enumerate(sentence):\n",
    "            for j in range(max(0, i - window_size), min(len(sentence), i + window_size + 1)):\n",
    "                if i != j:\n",
    "                    co_occurrences[word][sentence[j]] += 1\n",
    "\n",
    "    #ensure that words are unique\n",
    "    unique_words = list(set([word for sentence in preproc_sentences for word in sentence]))\n",
    "\n",
    "    # Initialize the co-occurrence matrix\n",
    "    co_matrix = np.zeros((len(unique_words), len(unique_words)), dtype=int)\n",
    "\n",
    "    # Populate the co-occurrence matrix\n",
    "    word_index = {word: idx for idx, word in enumerate(unique_words)}\n",
    "    for word, neighbors in co_occurrences.items():\n",
    "        for neighbor, count in neighbors.items():\n",
    "            co_matrix[word_index[word]][word_index[neighbor]] = count\n",
    "\n",
    "    # Create a DataFrame for better readability\n",
    "    co_matrix_df = pd.DataFrame(co_matrix, index=unique_words, columns=unique_words)\n",
    "\n",
    "    co_matrix_df = co_matrix_df.reindex(co_matrix_df.sum().sort_values(ascending=False).index, axis=1)\n",
    "    co_matrix_df = co_matrix_df.reindex(co_matrix_df.sum().sort_values(ascending=False).index, axis=0)\n",
    "\n",
    "    # Return the co-occurrence matrix\n",
    "    return co_matrix_df"
   ]
  },
  {
   "cell_type": "code",
   "execution_count": 30,
   "metadata": {},
   "outputs": [],
   "source": [
    "reviews_text_only[\"Cuisine_spit\"] = reviews_text_only[\"Cuisine\"].apply(lambda x: x.lower().split(\", \"))"
   ]
  },
  {
   "cell_type": "code",
   "execution_count": 31,
   "metadata": {},
   "outputs": [
    {
     "name": "stdout",
     "output_type": "stream",
     "text": [
      "9188    [north indian, italian, continental, asian]\n",
      "Name: Cuisine_spit, dtype: object\n"
     ]
    }
   ],
   "source": [
    "print(reviews_text_only[\"Cuisine_spit\"].sample(1))"
   ]
  },
  {
   "cell_type": "code",
   "execution_count": 32,
   "metadata": {},
   "outputs": [
    {
     "name": "stderr",
     "output_type": "stream",
     "text": [
      "100%|██████████| 9955/9955 [00:00<00:00, 263815.21it/s]\n"
     ]
    }
   ],
   "source": [
    "cuisines_cooccurrence_window = cooccurrence_matrix_window_generator(reviews_text_only[\"Cuisine_spit\"].tolist(),10)"
   ]
  },
  {
   "cell_type": "code",
   "execution_count": 33,
   "metadata": {},
   "outputs": [
    {
     "data": {
      "application/vnd.plotly.v1+json": {
       "config": {
        "plotlyServerURL": "https://plot.ly"
       },
       "data": [
        {
         "coloraxis": "coloraxis",
         "hovertemplate": "Words: %{x}<br>Words: %{y}<br>Count: %{z}<extra></extra>",
         "name": "0",
         "type": "heatmap",
         "x": [
          "north indian",
          "chinese",
          "continental",
          "italian",
          "biryani",
          "asian",
          "south indian",
          "desserts",
          "fast food",
          "kebab",
          "andhra",
          "mediterranean",
          "salad",
          "beverages",
          "mughlai",
          "seafood",
          "cafe",
          "european",
          "sushi",
          "american",
          "burger",
          "bakery",
          "hyderabadi",
          "japanese",
          "thai",
          "momos",
          "bbq",
          "modern indian",
          "finger food",
          "mexican",
          "juices",
          "goan",
          "healthy food",
          "arabian",
          "spanish",
          "street food",
          "indonesian",
          "wraps",
          "ice cream",
          "north eastern",
          "pizza",
          "lebanese"
         ],
         "xaxis": "x",
         "y": [
          "north indian",
          "chinese",
          "continental",
          "italian",
          "biryani",
          "asian",
          "south indian",
          "desserts",
          "fast food",
          "kebab",
          "andhra",
          "mediterranean",
          "salad",
          "beverages",
          "mughlai",
          "seafood",
          "cafe",
          "european",
          "sushi",
          "american",
          "burger",
          "bakery",
          "hyderabadi",
          "thai",
          "momos",
          "japanese",
          "bbq",
          "modern indian",
          "finger food",
          "mexican",
          "juices",
          "goan",
          "street food",
          "indonesian",
          "healthy food",
          "spanish",
          "arabian",
          "wraps",
          "ice cream",
          "north eastern",
          "pizza",
          "lebanese"
         ],
         "yaxis": "y",
         "z": [
          [
           0,
           3395,
           1399,
           1100,
           1298,
           700,
           900,
           100,
           300,
           600,
           600,
           500,
           300,
           200,
           400,
           299,
           0,
           300,
           200,
           100,
           100,
           100,
           299,
           200,
           0,
           0,
           100,
           0,
           200,
           100,
           100,
           100,
           100,
           100,
           0,
           100,
           0,
           0,
           0,
           0,
           0,
           0
          ],
          [
           3395,
           0,
           899,
           500,
           1198,
           500,
           500,
           0,
           100,
           300,
           400,
           100,
           200,
           100,
           300,
           299,
           0,
           100,
           200,
           200,
           0,
           100,
           199,
           100,
           200,
           200,
           0,
           0,
           100,
           100,
           100,
           0,
           0,
           100,
           0,
           0,
           100,
           0,
           0,
           0,
           0,
           0
          ],
          [
           1399,
           899,
           0,
           900,
           99,
           600,
           200,
           100,
           0,
           200,
           0,
           100,
           0,
           0,
           0,
           100,
           100,
           200,
           0,
           100,
           0,
           0,
           0,
           0,
           0,
           0,
           0,
           100,
           0,
           0,
           0,
           100,
           100,
           0,
           100,
           0,
           0,
           0,
           0,
           0,
           0,
           0
          ],
          [
           1100,
           500,
           900,
           0,
           0,
           500,
           100,
           0,
           0,
           100,
           0,
           0,
           300,
           0,
           0,
           0,
           0,
           100,
           100,
           0,
           0,
           0,
           0,
           100,
           0,
           0,
           0,
           100,
           100,
           100,
           0,
           0,
           0,
           0,
           100,
           0,
           0,
           0,
           0,
           0,
           0,
           0
          ],
          [
           1298,
           1198,
           99,
           0,
           0,
           0,
           100,
           100,
           100,
           0,
           400,
           0,
           0,
           100,
           200,
           199,
           0,
           0,
           0,
           0,
           0,
           0,
           199,
           0,
           0,
           0,
           0,
           0,
           0,
           0,
           0,
           0,
           0,
           0,
           0,
           0,
           0,
           0,
           0,
           0,
           0,
           0
          ],
          [
           700,
           500,
           600,
           500,
           0,
           0,
           100,
           100,
           0,
           0,
           0,
           200,
           0,
           0,
           0,
           100,
           0,
           0,
           200,
           0,
           0,
           0,
           0,
           0,
           200,
           200,
           100,
           200,
           0,
           0,
           0,
           100,
           0,
           0,
           0,
           0,
           100,
           0,
           0,
           0,
           0,
           0
          ],
          [
           900,
           500,
           200,
           100,
           100,
           100,
           0,
           0,
           0,
           200,
           200,
           0,
           0,
           0,
           0,
           0,
           0,
           100,
           0,
           100,
           0,
           0,
           0,
           0,
           0,
           0,
           0,
           0,
           0,
           0,
           0,
           0,
           100,
           0,
           0,
           0,
           0,
           0,
           0,
           0,
           0,
           0
          ],
          [
           100,
           0,
           100,
           0,
           100,
           100,
           0,
           0,
           500,
           0,
           0,
           100,
           0,
           200,
           0,
           0,
           400,
           0,
           0,
           100,
           100,
           300,
           0,
           0,
           0,
           0,
           0,
           0,
           0,
           0,
           0,
           0,
           0,
           0,
           0,
           0,
           0,
           100,
           199,
           0,
           0,
           0
          ],
          [
           300,
           100,
           0,
           0,
           100,
           0,
           0,
           500,
           0,
           0,
           0,
           0,
           77,
           200,
           0,
           0,
           300,
           0,
           0,
           77,
           277,
           200,
           0,
           0,
           0,
           0,
           0,
           0,
           0,
           0,
           0,
           0,
           0,
           0,
           0,
           100,
           0,
           0,
           0,
           0,
           99,
           0
          ],
          [
           600,
           300,
           200,
           100,
           0,
           0,
           200,
           0,
           0,
           0,
           0,
           100,
           0,
           0,
           0,
           0,
           0,
           100,
           0,
           100,
           100,
           0,
           0,
           0,
           0,
           0,
           100,
           0,
           100,
           0,
           0,
           0,
           0,
           0,
           0,
           0,
           0,
           0,
           0,
           0,
           0,
           0
          ],
          [
           600,
           400,
           0,
           0,
           400,
           0,
           200,
           0,
           0,
           0,
           0,
           0,
           0,
           0,
           0,
           0,
           0,
           0,
           0,
           0,
           0,
           0,
           100,
           0,
           0,
           0,
           0,
           0,
           0,
           0,
           0,
           0,
           0,
           0,
           0,
           0,
           0,
           0,
           0,
           0,
           0,
           0
          ],
          [
           500,
           100,
           100,
           0,
           0,
           200,
           0,
           100,
           0,
           100,
           0,
           0,
           0,
           0,
           0,
           0,
           0,
           200,
           0,
           0,
           0,
           0,
           0,
           0,
           0,
           0,
           100,
           0,
           0,
           0,
           0,
           0,
           0,
           0,
           0,
           0,
           0,
           0,
           0,
           0,
           0,
           0
          ],
          [
           300,
           200,
           0,
           300,
           0,
           0,
           0,
           0,
           77,
           0,
           0,
           0,
           0,
           0,
           0,
           0,
           0,
           0,
           100,
           77,
           77,
           0,
           0,
           100,
           0,
           0,
           0,
           0,
           0,
           100,
           0,
           0,
           0,
           0,
           0,
           0,
           0,
           0,
           0,
           0,
           0,
           0
          ],
          [
           200,
           100,
           0,
           0,
           100,
           0,
           0,
           200,
           200,
           0,
           0,
           0,
           0,
           0,
           100,
           100,
           200,
           0,
           0,
           0,
           100,
           0,
           0,
           0,
           0,
           0,
           0,
           0,
           0,
           0,
           0,
           0,
           0,
           0,
           0,
           0,
           0,
           0,
           0,
           0,
           0,
           0
          ],
          [
           400,
           300,
           0,
           0,
           200,
           0,
           0,
           0,
           0,
           0,
           0,
           0,
           0,
           100,
           0,
           0,
           0,
           0,
           0,
           0,
           0,
           100,
           100,
           0,
           0,
           0,
           0,
           0,
           0,
           0,
           100,
           0,
           0,
           0,
           0,
           0,
           0,
           0,
           0,
           0,
           0,
           0
          ],
          [
           299,
           299,
           100,
           0,
           199,
           100,
           0,
           0,
           0,
           0,
           0,
           0,
           0,
           100,
           0,
           0,
           0,
           0,
           0,
           0,
           0,
           0,
           99,
           0,
           0,
           0,
           0,
           0,
           0,
           0,
           0,
           100,
           0,
           0,
           0,
           0,
           0,
           0,
           0,
           0,
           0,
           0
          ],
          [
           0,
           0,
           100,
           0,
           0,
           0,
           0,
           400,
           300,
           0,
           0,
           0,
           0,
           200,
           0,
           0,
           0,
           0,
           0,
           0,
           100,
           100,
           0,
           0,
           0,
           0,
           0,
           0,
           0,
           0,
           0,
           0,
           0,
           0,
           0,
           0,
           0,
           0,
           0,
           0,
           0,
           0
          ],
          [
           300,
           100,
           200,
           100,
           0,
           0,
           100,
           0,
           0,
           100,
           0,
           200,
           0,
           0,
           0,
           0,
           0,
           0,
           0,
           0,
           0,
           0,
           0,
           0,
           0,
           0,
           0,
           0,
           0,
           0,
           0,
           0,
           0,
           0,
           100,
           0,
           0,
           0,
           0,
           0,
           0,
           0
          ],
          [
           200,
           200,
           0,
           100,
           0,
           200,
           0,
           0,
           0,
           0,
           0,
           0,
           100,
           0,
           0,
           0,
           0,
           0,
           0,
           0,
           0,
           0,
           0,
           200,
           100,
           100,
           0,
           0,
           0,
           0,
           0,
           0,
           0,
           0,
           0,
           0,
           0,
           0,
           0,
           0,
           0,
           0
          ],
          [
           100,
           200,
           100,
           0,
           0,
           0,
           100,
           100,
           77,
           100,
           0,
           0,
           77,
           0,
           0,
           0,
           0,
           0,
           0,
           0,
           177,
           0,
           0,
           0,
           0,
           0,
           0,
           0,
           0,
           0,
           0,
           0,
           0,
           0,
           0,
           0,
           0,
           100,
           0,
           0,
           0,
           0
          ],
          [
           100,
           0,
           0,
           0,
           0,
           0,
           0,
           100,
           277,
           100,
           0,
           0,
           77,
           100,
           0,
           0,
           100,
           0,
           0,
           177,
           0,
           0,
           0,
           0,
           0,
           0,
           0,
           0,
           0,
           0,
           0,
           0,
           0,
           0,
           0,
           0,
           0,
           0,
           0,
           0,
           0,
           0
          ],
          [
           100,
           100,
           0,
           0,
           0,
           0,
           0,
           300,
           200,
           0,
           0,
           0,
           0,
           0,
           100,
           0,
           100,
           0,
           0,
           0,
           0,
           0,
           0,
           0,
           0,
           0,
           0,
           0,
           0,
           0,
           100,
           0,
           0,
           0,
           0,
           0,
           0,
           0,
           0,
           0,
           0,
           0
          ],
          [
           299,
           199,
           0,
           0,
           199,
           0,
           0,
           0,
           0,
           0,
           100,
           0,
           0,
           0,
           100,
           99,
           0,
           0,
           0,
           0,
           0,
           0,
           0,
           0,
           0,
           0,
           0,
           0,
           0,
           0,
           0,
           0,
           0,
           0,
           0,
           0,
           0,
           0,
           0,
           0,
           0,
           0
          ],
          [
           0,
           200,
           0,
           0,
           0,
           200,
           0,
           0,
           0,
           0,
           0,
           0,
           0,
           0,
           0,
           0,
           0,
           0,
           100,
           0,
           0,
           0,
           0,
           0,
           0,
           100,
           0,
           0,
           0,
           0,
           0,
           0,
           0,
           0,
           0,
           0,
           100,
           0,
           0,
           0,
           0,
           0
          ],
          [
           0,
           200,
           0,
           0,
           0,
           200,
           0,
           0,
           0,
           0,
           0,
           0,
           0,
           0,
           0,
           0,
           0,
           0,
           100,
           0,
           0,
           0,
           0,
           0,
           100,
           0,
           0,
           0,
           0,
           0,
           0,
           0,
           0,
           0,
           0,
           0,
           0,
           0,
           0,
           100,
           0,
           0
          ],
          [
           200,
           100,
           0,
           100,
           0,
           0,
           0,
           0,
           0,
           0,
           0,
           0,
           100,
           0,
           0,
           0,
           0,
           0,
           200,
           0,
           0,
           0,
           0,
           0,
           0,
           0,
           0,
           0,
           0,
           0,
           0,
           0,
           0,
           0,
           0,
           0,
           0,
           0,
           0,
           0,
           0,
           0
          ],
          [
           100,
           0,
           0,
           0,
           0,
           100,
           0,
           0,
           0,
           100,
           0,
           100,
           0,
           0,
           0,
           0,
           0,
           0,
           0,
           0,
           0,
           0,
           0,
           0,
           0,
           0,
           0,
           100,
           0,
           0,
           0,
           0,
           0,
           0,
           0,
           0,
           0,
           0,
           0,
           0,
           0,
           0
          ],
          [
           0,
           0,
           100,
           100,
           0,
           200,
           0,
           0,
           0,
           0,
           0,
           0,
           0,
           0,
           0,
           0,
           0,
           0,
           0,
           0,
           0,
           0,
           0,
           0,
           0,
           0,
           100,
           0,
           0,
           0,
           0,
           0,
           0,
           0,
           0,
           0,
           0,
           0,
           0,
           0,
           0,
           0
          ],
          [
           200,
           100,
           0,
           100,
           0,
           0,
           0,
           0,
           0,
           100,
           0,
           0,
           0,
           0,
           0,
           0,
           0,
           0,
           0,
           0,
           0,
           0,
           0,
           0,
           0,
           0,
           0,
           0,
           0,
           0,
           0,
           0,
           0,
           0,
           0,
           0,
           0,
           0,
           0,
           0,
           0,
           0
          ],
          [
           100,
           100,
           0,
           100,
           0,
           0,
           0,
           0,
           0,
           0,
           0,
           0,
           100,
           0,
           0,
           0,
           0,
           0,
           0,
           0,
           0,
           0,
           0,
           0,
           0,
           0,
           0,
           0,
           0,
           0,
           0,
           0,
           0,
           0,
           0,
           0,
           0,
           0,
           0,
           0,
           0,
           0
          ],
          [
           100,
           100,
           0,
           0,
           0,
           0,
           0,
           0,
           0,
           0,
           0,
           0,
           0,
           0,
           100,
           0,
           0,
           0,
           0,
           0,
           0,
           100,
           0,
           0,
           0,
           0,
           0,
           0,
           0,
           0,
           0,
           0,
           0,
           0,
           0,
           0,
           0,
           0,
           0,
           0,
           0,
           0
          ],
          [
           100,
           0,
           100,
           0,
           0,
           100,
           0,
           0,
           0,
           0,
           0,
           0,
           0,
           0,
           0,
           100,
           0,
           0,
           0,
           0,
           0,
           0,
           0,
           0,
           0,
           0,
           0,
           0,
           0,
           0,
           0,
           0,
           0,
           0,
           0,
           0,
           0,
           0,
           0,
           0,
           0,
           0
          ],
          [
           100,
           0,
           0,
           0,
           0,
           0,
           0,
           0,
           100,
           0,
           0,
           0,
           0,
           0,
           0,
           0,
           0,
           0,
           0,
           0,
           0,
           0,
           0,
           0,
           0,
           0,
           0,
           0,
           0,
           0,
           0,
           0,
           0,
           100,
           0,
           0,
           0,
           0,
           0,
           0,
           0,
           0
          ],
          [
           0,
           100,
           0,
           0,
           0,
           100,
           0,
           0,
           0,
           0,
           0,
           0,
           0,
           0,
           0,
           0,
           0,
           0,
           0,
           0,
           0,
           0,
           0,
           0,
           100,
           0,
           0,
           0,
           0,
           0,
           0,
           0,
           0,
           0,
           0,
           0,
           0,
           0,
           0,
           0,
           0,
           0
          ],
          [
           100,
           0,
           100,
           0,
           0,
           0,
           100,
           0,
           0,
           0,
           0,
           0,
           0,
           0,
           0,
           0,
           0,
           0,
           0,
           0,
           0,
           0,
           0,
           0,
           0,
           0,
           0,
           0,
           0,
           0,
           0,
           0,
           0,
           0,
           0,
           0,
           0,
           0,
           0,
           0,
           0,
           0
          ],
          [
           0,
           0,
           100,
           100,
           0,
           0,
           0,
           0,
           0,
           0,
           0,
           0,
           0,
           0,
           0,
           0,
           0,
           100,
           0,
           0,
           0,
           0,
           0,
           0,
           0,
           0,
           0,
           0,
           0,
           0,
           0,
           0,
           0,
           0,
           0,
           0,
           0,
           0,
           0,
           0,
           0,
           0
          ],
          [
           100,
           100,
           0,
           0,
           0,
           0,
           0,
           0,
           0,
           0,
           0,
           0,
           0,
           0,
           0,
           0,
           0,
           0,
           0,
           0,
           0,
           0,
           0,
           0,
           0,
           0,
           0,
           0,
           0,
           0,
           0,
           0,
           0,
           0,
           0,
           100,
           0,
           0,
           0,
           0,
           0,
           0
          ],
          [
           0,
           0,
           0,
           0,
           0,
           0,
           0,
           100,
           0,
           0,
           0,
           0,
           0,
           0,
           0,
           0,
           0,
           0,
           0,
           100,
           0,
           0,
           0,
           0,
           0,
           0,
           0,
           0,
           0,
           0,
           0,
           0,
           0,
           0,
           0,
           0,
           0,
           0,
           0,
           0,
           0,
           0
          ],
          [
           0,
           0,
           0,
           0,
           0,
           0,
           0,
           199,
           0,
           0,
           0,
           0,
           0,
           0,
           0,
           0,
           0,
           0,
           0,
           0,
           0,
           0,
           0,
           0,
           0,
           0,
           0,
           0,
           0,
           0,
           0,
           0,
           0,
           0,
           0,
           0,
           0,
           0,
           0,
           0,
           0,
           0
          ],
          [
           0,
           0,
           0,
           0,
           0,
           0,
           0,
           0,
           0,
           0,
           0,
           0,
           0,
           0,
           0,
           0,
           0,
           0,
           0,
           0,
           0,
           0,
           0,
           0,
           0,
           100,
           0,
           0,
           0,
           0,
           0,
           0,
           0,
           0,
           0,
           0,
           0,
           0,
           0,
           0,
           0,
           0
          ],
          [
           0,
           0,
           0,
           0,
           0,
           0,
           0,
           0,
           99,
           0,
           0,
           0,
           0,
           0,
           0,
           0,
           0,
           0,
           0,
           0,
           0,
           0,
           0,
           0,
           0,
           0,
           0,
           0,
           0,
           0,
           0,
           0,
           0,
           0,
           0,
           0,
           0,
           0,
           0,
           0,
           0,
           0
          ],
          [
           0,
           0,
           0,
           0,
           0,
           0,
           0,
           0,
           0,
           0,
           0,
           0,
           0,
           0,
           0,
           0,
           0,
           0,
           0,
           0,
           0,
           0,
           0,
           0,
           0,
           0,
           0,
           0,
           0,
           0,
           0,
           0,
           0,
           0,
           0,
           0,
           0,
           0,
           0,
           0,
           0,
           0
          ]
         ]
        }
       ],
       "layout": {
        "coloraxis": {
         "colorbar": {
          "title": {
           "text": "Count"
          }
         },
         "colorscale": [
          [
           0,
           "rgb(255,245,240)"
          ],
          [
           0.125,
           "rgb(254,224,210)"
          ],
          [
           0.25,
           "rgb(252,187,161)"
          ],
          [
           0.375,
           "rgb(252,146,114)"
          ],
          [
           0.5,
           "rgb(251,106,74)"
          ],
          [
           0.625,
           "rgb(239,59,44)"
          ],
          [
           0.75,
           "rgb(203,24,29)"
          ],
          [
           0.875,
           "rgb(165,15,21)"
          ],
          [
           1,
           "rgb(103,0,13)"
          ]
         ]
        },
        "height": 1200,
        "template": {
         "data": {
          "bar": [
           {
            "error_x": {
             "color": "#2a3f5f"
            },
            "error_y": {
             "color": "#2a3f5f"
            },
            "marker": {
             "line": {
              "color": "#E5ECF6",
              "width": 0.5
             },
             "pattern": {
              "fillmode": "overlay",
              "size": 10,
              "solidity": 0.2
             }
            },
            "type": "bar"
           }
          ],
          "barpolar": [
           {
            "marker": {
             "line": {
              "color": "#E5ECF6",
              "width": 0.5
             },
             "pattern": {
              "fillmode": "overlay",
              "size": 10,
              "solidity": 0.2
             }
            },
            "type": "barpolar"
           }
          ],
          "carpet": [
           {
            "aaxis": {
             "endlinecolor": "#2a3f5f",
             "gridcolor": "white",
             "linecolor": "white",
             "minorgridcolor": "white",
             "startlinecolor": "#2a3f5f"
            },
            "baxis": {
             "endlinecolor": "#2a3f5f",
             "gridcolor": "white",
             "linecolor": "white",
             "minorgridcolor": "white",
             "startlinecolor": "#2a3f5f"
            },
            "type": "carpet"
           }
          ],
          "choropleth": [
           {
            "colorbar": {
             "outlinewidth": 0,
             "ticks": ""
            },
            "type": "choropleth"
           }
          ],
          "contour": [
           {
            "colorbar": {
             "outlinewidth": 0,
             "ticks": ""
            },
            "colorscale": [
             [
              0,
              "#0d0887"
             ],
             [
              0.1111111111111111,
              "#46039f"
             ],
             [
              0.2222222222222222,
              "#7201a8"
             ],
             [
              0.3333333333333333,
              "#9c179e"
             ],
             [
              0.4444444444444444,
              "#bd3786"
             ],
             [
              0.5555555555555556,
              "#d8576b"
             ],
             [
              0.6666666666666666,
              "#ed7953"
             ],
             [
              0.7777777777777778,
              "#fb9f3a"
             ],
             [
              0.8888888888888888,
              "#fdca26"
             ],
             [
              1,
              "#f0f921"
             ]
            ],
            "type": "contour"
           }
          ],
          "contourcarpet": [
           {
            "colorbar": {
             "outlinewidth": 0,
             "ticks": ""
            },
            "type": "contourcarpet"
           }
          ],
          "heatmap": [
           {
            "colorbar": {
             "outlinewidth": 0,
             "ticks": ""
            },
            "colorscale": [
             [
              0,
              "#0d0887"
             ],
             [
              0.1111111111111111,
              "#46039f"
             ],
             [
              0.2222222222222222,
              "#7201a8"
             ],
             [
              0.3333333333333333,
              "#9c179e"
             ],
             [
              0.4444444444444444,
              "#bd3786"
             ],
             [
              0.5555555555555556,
              "#d8576b"
             ],
             [
              0.6666666666666666,
              "#ed7953"
             ],
             [
              0.7777777777777778,
              "#fb9f3a"
             ],
             [
              0.8888888888888888,
              "#fdca26"
             ],
             [
              1,
              "#f0f921"
             ]
            ],
            "type": "heatmap"
           }
          ],
          "heatmapgl": [
           {
            "colorbar": {
             "outlinewidth": 0,
             "ticks": ""
            },
            "colorscale": [
             [
              0,
              "#0d0887"
             ],
             [
              0.1111111111111111,
              "#46039f"
             ],
             [
              0.2222222222222222,
              "#7201a8"
             ],
             [
              0.3333333333333333,
              "#9c179e"
             ],
             [
              0.4444444444444444,
              "#bd3786"
             ],
             [
              0.5555555555555556,
              "#d8576b"
             ],
             [
              0.6666666666666666,
              "#ed7953"
             ],
             [
              0.7777777777777778,
              "#fb9f3a"
             ],
             [
              0.8888888888888888,
              "#fdca26"
             ],
             [
              1,
              "#f0f921"
             ]
            ],
            "type": "heatmapgl"
           }
          ],
          "histogram": [
           {
            "marker": {
             "pattern": {
              "fillmode": "overlay",
              "size": 10,
              "solidity": 0.2
             }
            },
            "type": "histogram"
           }
          ],
          "histogram2d": [
           {
            "colorbar": {
             "outlinewidth": 0,
             "ticks": ""
            },
            "colorscale": [
             [
              0,
              "#0d0887"
             ],
             [
              0.1111111111111111,
              "#46039f"
             ],
             [
              0.2222222222222222,
              "#7201a8"
             ],
             [
              0.3333333333333333,
              "#9c179e"
             ],
             [
              0.4444444444444444,
              "#bd3786"
             ],
             [
              0.5555555555555556,
              "#d8576b"
             ],
             [
              0.6666666666666666,
              "#ed7953"
             ],
             [
              0.7777777777777778,
              "#fb9f3a"
             ],
             [
              0.8888888888888888,
              "#fdca26"
             ],
             [
              1,
              "#f0f921"
             ]
            ],
            "type": "histogram2d"
           }
          ],
          "histogram2dcontour": [
           {
            "colorbar": {
             "outlinewidth": 0,
             "ticks": ""
            },
            "colorscale": [
             [
              0,
              "#0d0887"
             ],
             [
              0.1111111111111111,
              "#46039f"
             ],
             [
              0.2222222222222222,
              "#7201a8"
             ],
             [
              0.3333333333333333,
              "#9c179e"
             ],
             [
              0.4444444444444444,
              "#bd3786"
             ],
             [
              0.5555555555555556,
              "#d8576b"
             ],
             [
              0.6666666666666666,
              "#ed7953"
             ],
             [
              0.7777777777777778,
              "#fb9f3a"
             ],
             [
              0.8888888888888888,
              "#fdca26"
             ],
             [
              1,
              "#f0f921"
             ]
            ],
            "type": "histogram2dcontour"
           }
          ],
          "mesh3d": [
           {
            "colorbar": {
             "outlinewidth": 0,
             "ticks": ""
            },
            "type": "mesh3d"
           }
          ],
          "parcoords": [
           {
            "line": {
             "colorbar": {
              "outlinewidth": 0,
              "ticks": ""
             }
            },
            "type": "parcoords"
           }
          ],
          "pie": [
           {
            "automargin": true,
            "type": "pie"
           }
          ],
          "scatter": [
           {
            "fillpattern": {
             "fillmode": "overlay",
             "size": 10,
             "solidity": 0.2
            },
            "type": "scatter"
           }
          ],
          "scatter3d": [
           {
            "line": {
             "colorbar": {
              "outlinewidth": 0,
              "ticks": ""
             }
            },
            "marker": {
             "colorbar": {
              "outlinewidth": 0,
              "ticks": ""
             }
            },
            "type": "scatter3d"
           }
          ],
          "scattercarpet": [
           {
            "marker": {
             "colorbar": {
              "outlinewidth": 0,
              "ticks": ""
             }
            },
            "type": "scattercarpet"
           }
          ],
          "scattergeo": [
           {
            "marker": {
             "colorbar": {
              "outlinewidth": 0,
              "ticks": ""
             }
            },
            "type": "scattergeo"
           }
          ],
          "scattergl": [
           {
            "marker": {
             "colorbar": {
              "outlinewidth": 0,
              "ticks": ""
             }
            },
            "type": "scattergl"
           }
          ],
          "scattermapbox": [
           {
            "marker": {
             "colorbar": {
              "outlinewidth": 0,
              "ticks": ""
             }
            },
            "type": "scattermapbox"
           }
          ],
          "scatterpolar": [
           {
            "marker": {
             "colorbar": {
              "outlinewidth": 0,
              "ticks": ""
             }
            },
            "type": "scatterpolar"
           }
          ],
          "scatterpolargl": [
           {
            "marker": {
             "colorbar": {
              "outlinewidth": 0,
              "ticks": ""
             }
            },
            "type": "scatterpolargl"
           }
          ],
          "scatterternary": [
           {
            "marker": {
             "colorbar": {
              "outlinewidth": 0,
              "ticks": ""
             }
            },
            "type": "scatterternary"
           }
          ],
          "surface": [
           {
            "colorbar": {
             "outlinewidth": 0,
             "ticks": ""
            },
            "colorscale": [
             [
              0,
              "#0d0887"
             ],
             [
              0.1111111111111111,
              "#46039f"
             ],
             [
              0.2222222222222222,
              "#7201a8"
             ],
             [
              0.3333333333333333,
              "#9c179e"
             ],
             [
              0.4444444444444444,
              "#bd3786"
             ],
             [
              0.5555555555555556,
              "#d8576b"
             ],
             [
              0.6666666666666666,
              "#ed7953"
             ],
             [
              0.7777777777777778,
              "#fb9f3a"
             ],
             [
              0.8888888888888888,
              "#fdca26"
             ],
             [
              1,
              "#f0f921"
             ]
            ],
            "type": "surface"
           }
          ],
          "table": [
           {
            "cells": {
             "fill": {
              "color": "#EBF0F8"
             },
             "line": {
              "color": "white"
             }
            },
            "header": {
             "fill": {
              "color": "#C8D4E3"
             },
             "line": {
              "color": "white"
             }
            },
            "type": "table"
           }
          ]
         },
         "layout": {
          "annotationdefaults": {
           "arrowcolor": "#2a3f5f",
           "arrowhead": 0,
           "arrowwidth": 1
          },
          "autotypenumbers": "strict",
          "coloraxis": {
           "colorbar": {
            "outlinewidth": 0,
            "ticks": ""
           }
          },
          "colorscale": {
           "diverging": [
            [
             0,
             "#8e0152"
            ],
            [
             0.1,
             "#c51b7d"
            ],
            [
             0.2,
             "#de77ae"
            ],
            [
             0.3,
             "#f1b6da"
            ],
            [
             0.4,
             "#fde0ef"
            ],
            [
             0.5,
             "#f7f7f7"
            ],
            [
             0.6,
             "#e6f5d0"
            ],
            [
             0.7,
             "#b8e186"
            ],
            [
             0.8,
             "#7fbc41"
            ],
            [
             0.9,
             "#4d9221"
            ],
            [
             1,
             "#276419"
            ]
           ],
           "sequential": [
            [
             0,
             "#0d0887"
            ],
            [
             0.1111111111111111,
             "#46039f"
            ],
            [
             0.2222222222222222,
             "#7201a8"
            ],
            [
             0.3333333333333333,
             "#9c179e"
            ],
            [
             0.4444444444444444,
             "#bd3786"
            ],
            [
             0.5555555555555556,
             "#d8576b"
            ],
            [
             0.6666666666666666,
             "#ed7953"
            ],
            [
             0.7777777777777778,
             "#fb9f3a"
            ],
            [
             0.8888888888888888,
             "#fdca26"
            ],
            [
             1,
             "#f0f921"
            ]
           ],
           "sequentialminus": [
            [
             0,
             "#0d0887"
            ],
            [
             0.1111111111111111,
             "#46039f"
            ],
            [
             0.2222222222222222,
             "#7201a8"
            ],
            [
             0.3333333333333333,
             "#9c179e"
            ],
            [
             0.4444444444444444,
             "#bd3786"
            ],
            [
             0.5555555555555556,
             "#d8576b"
            ],
            [
             0.6666666666666666,
             "#ed7953"
            ],
            [
             0.7777777777777778,
             "#fb9f3a"
            ],
            [
             0.8888888888888888,
             "#fdca26"
            ],
            [
             1,
             "#f0f921"
            ]
           ]
          },
          "colorway": [
           "#636efa",
           "#EF553B",
           "#00cc96",
           "#ab63fa",
           "#FFA15A",
           "#19d3f3",
           "#FF6692",
           "#B6E880",
           "#FF97FF",
           "#FECB52"
          ],
          "font": {
           "color": "#2a3f5f"
          },
          "geo": {
           "bgcolor": "white",
           "lakecolor": "white",
           "landcolor": "#E5ECF6",
           "showlakes": true,
           "showland": true,
           "subunitcolor": "white"
          },
          "hoverlabel": {
           "align": "left"
          },
          "hovermode": "closest",
          "mapbox": {
           "style": "light"
          },
          "paper_bgcolor": "white",
          "plot_bgcolor": "#E5ECF6",
          "polar": {
           "angularaxis": {
            "gridcolor": "white",
            "linecolor": "white",
            "ticks": ""
           },
           "bgcolor": "#E5ECF6",
           "radialaxis": {
            "gridcolor": "white",
            "linecolor": "white",
            "ticks": ""
           }
          },
          "scene": {
           "xaxis": {
            "backgroundcolor": "#E5ECF6",
            "gridcolor": "white",
            "gridwidth": 2,
            "linecolor": "white",
            "showbackground": true,
            "ticks": "",
            "zerolinecolor": "white"
           },
           "yaxis": {
            "backgroundcolor": "#E5ECF6",
            "gridcolor": "white",
            "gridwidth": 2,
            "linecolor": "white",
            "showbackground": true,
            "ticks": "",
            "zerolinecolor": "white"
           },
           "zaxis": {
            "backgroundcolor": "#E5ECF6",
            "gridcolor": "white",
            "gridwidth": 2,
            "linecolor": "white",
            "showbackground": true,
            "ticks": "",
            "zerolinecolor": "white"
           }
          },
          "shapedefaults": {
           "line": {
            "color": "#2a3f5f"
           }
          },
          "ternary": {
           "aaxis": {
            "gridcolor": "white",
            "linecolor": "white",
            "ticks": ""
           },
           "baxis": {
            "gridcolor": "white",
            "linecolor": "white",
            "ticks": ""
           },
           "bgcolor": "#E5ECF6",
           "caxis": {
            "gridcolor": "white",
            "linecolor": "white",
            "ticks": ""
           }
          },
          "title": {
           "x": 0.05
          },
          "xaxis": {
           "automargin": true,
           "gridcolor": "white",
           "linecolor": "white",
           "ticks": "",
           "title": {
            "standoff": 15
           },
           "zerolinecolor": "white",
           "zerolinewidth": 2
          },
          "yaxis": {
           "automargin": true,
           "gridcolor": "white",
           "linecolor": "white",
           "ticks": "",
           "title": {
            "standoff": 15
           },
           "zerolinecolor": "white",
           "zerolinewidth": 2
          }
         }
        },
        "title": {
         "text": "Co-occurrence matrix for the Cuisines (All co-occurring words)"
        },
        "width": 1200,
        "xaxis": {
         "anchor": "y",
         "constrain": "domain",
         "domain": [
          0,
          1
         ],
         "scaleanchor": "y",
         "title": {
          "text": "Words"
         }
        },
        "yaxis": {
         "anchor": "x",
         "autorange": "reversed",
         "constrain": "domain",
         "domain": [
          0,
          1
         ],
         "title": {
          "text": "Words"
         }
        }
       }
      }
     },
     "metadata": {},
     "output_type": "display_data"
    }
   ],
   "source": [
    "fig = px.imshow(cuisines_cooccurrence_window.iloc[:, :], color_continuous_scale='reds', \n",
    "                labels=dict(x=\"Words\", y=\"Words\", color=\"Count\"),\n",
    "                title=\"Co-occurrence matrix for the Cuisines (All co-occurring words)\", \n",
    "                width=1200, height=1200)\n",
    "\n",
    "fig.show()"
   ]
  },
  {
   "cell_type": "markdown",
   "metadata": {},
   "source": [
    "From this data exploration we concluded:\n",
    "- There are a lot of stop words in the `Reviews` with only 4 words in the top 20 most common words that are not stop words\n",
    "- In the list of the 20 most common cuisine types it was used bigramns in order to capture some types that had two words foming them\n",
    "such as `North Indian`, however this led to other common combinations also appearing in the graph, from this plot we can conclude that `North Indian`, `Chinese` and `Continental` are the most common types of cuisines\n",
    "- `North Indian` and `Chinese` are by far the two cuisine types that appear together in restaurants\n"
   ]
  },
  {
   "cell_type": "markdown",
   "metadata": {},
   "source": [
    "<font color='#BFD72F' size=5>3. Sentiment Analysis</font> <a class=\"anchor\" id=\"P3\"></a>\n",
    "  \n",
    "[Back to TOC](#toc)\n"
   ]
  },
  {
   "cell_type": "code",
   "execution_count": 45,
   "metadata": {},
   "outputs": [
    {
     "data": {
      "text/html": [
       "<div>\n",
       "<style scoped>\n",
       "    .dataframe tbody tr th:only-of-type {\n",
       "        vertical-align: middle;\n",
       "    }\n",
       "\n",
       "    .dataframe tbody tr th {\n",
       "        vertical-align: top;\n",
       "    }\n",
       "\n",
       "    .dataframe thead th {\n",
       "        text-align: right;\n",
       "    }\n",
       "</style>\n",
       "<table border=\"1\" class=\"dataframe\">\n",
       "  <thead>\n",
       "    <tr style=\"text-align: right;\">\n",
       "      <th></th>\n",
       "      <th>Restaurant</th>\n",
       "      <th>Reviewer</th>\n",
       "      <th>Review</th>\n",
       "      <th>Rating</th>\n",
       "      <th>Metadata</th>\n",
       "      <th>Time</th>\n",
       "      <th>Pictures</th>\n",
       "      <th>Cuisine</th>\n",
       "    </tr>\n",
       "  </thead>\n",
       "  <tbody>\n",
       "    <tr>\n",
       "      <th>0</th>\n",
       "      <td>Beyond Flavours</td>\n",
       "      <td>Rusha Chakraborty</td>\n",
       "      <td>The ambience was good, food was quite good . h...</td>\n",
       "      <td>5</td>\n",
       "      <td>1 Review , 2 Followers</td>\n",
       "      <td>5/25/2019 15:54</td>\n",
       "      <td>0</td>\n",
       "      <td>Chinese, Continental, Kebab, European, South I...</td>\n",
       "    </tr>\n",
       "    <tr>\n",
       "      <th>1</th>\n",
       "      <td>Beyond Flavours</td>\n",
       "      <td>Anusha Tirumalaneedi</td>\n",
       "      <td>Ambience is too good for a pleasant evening. S...</td>\n",
       "      <td>5</td>\n",
       "      <td>3 Reviews , 2 Followers</td>\n",
       "      <td>5/25/2019 14:20</td>\n",
       "      <td>0</td>\n",
       "      <td>Chinese, Continental, Kebab, European, South I...</td>\n",
       "    </tr>\n",
       "    <tr>\n",
       "      <th>2</th>\n",
       "      <td>Beyond Flavours</td>\n",
       "      <td>Ashok Shekhawat</td>\n",
       "      <td>A must try.. great food great ambience. Thnx f...</td>\n",
       "      <td>5</td>\n",
       "      <td>2 Reviews , 3 Followers</td>\n",
       "      <td>5/24/2019 22:54</td>\n",
       "      <td>0</td>\n",
       "      <td>Chinese, Continental, Kebab, European, South I...</td>\n",
       "    </tr>\n",
       "    <tr>\n",
       "      <th>3</th>\n",
       "      <td>Beyond Flavours</td>\n",
       "      <td>Swapnil Sarkar</td>\n",
       "      <td>Soumen das and Arun was a great guy. Only beca...</td>\n",
       "      <td>5</td>\n",
       "      <td>1 Review , 1 Follower</td>\n",
       "      <td>5/24/2019 22:11</td>\n",
       "      <td>0</td>\n",
       "      <td>Chinese, Continental, Kebab, European, South I...</td>\n",
       "    </tr>\n",
       "    <tr>\n",
       "      <th>4</th>\n",
       "      <td>Beyond Flavours</td>\n",
       "      <td>Dileep</td>\n",
       "      <td>Food is good.we ordered Kodi drumsticks and ba...</td>\n",
       "      <td>5</td>\n",
       "      <td>3 Reviews , 2 Followers</td>\n",
       "      <td>5/24/2019 21:37</td>\n",
       "      <td>0</td>\n",
       "      <td>Chinese, Continental, Kebab, European, South I...</td>\n",
       "    </tr>\n",
       "    <tr>\n",
       "      <th>...</th>\n",
       "      <td>...</td>\n",
       "      <td>...</td>\n",
       "      <td>...</td>\n",
       "      <td>...</td>\n",
       "      <td>...</td>\n",
       "      <td>...</td>\n",
       "      <td>...</td>\n",
       "      <td>...</td>\n",
       "    </tr>\n",
       "    <tr>\n",
       "      <th>9995</th>\n",
       "      <td>Chinese Pavilion</td>\n",
       "      <td>Abhishek Mahajan</td>\n",
       "      <td>Madhumathi Mahajan Well to start with nice cou...</td>\n",
       "      <td>3</td>\n",
       "      <td>53 Reviews , 54 Followers</td>\n",
       "      <td>6/5/2016 0:08</td>\n",
       "      <td>0</td>\n",
       "      <td>Chinese, Seafood</td>\n",
       "    </tr>\n",
       "    <tr>\n",
       "      <th>9996</th>\n",
       "      <td>Chinese Pavilion</td>\n",
       "      <td>Sharad Agrawal</td>\n",
       "      <td>This place has never disappointed us.. The foo...</td>\n",
       "      <td>4.5</td>\n",
       "      <td>2 Reviews , 53 Followers</td>\n",
       "      <td>6/4/2016 22:01</td>\n",
       "      <td>0</td>\n",
       "      <td>Chinese, Seafood</td>\n",
       "    </tr>\n",
       "    <tr>\n",
       "      <th>9997</th>\n",
       "      <td>Chinese Pavilion</td>\n",
       "      <td>Ramandeep</td>\n",
       "      <td>Bad rating is mainly because of \"Chicken Bone ...</td>\n",
       "      <td>1.5</td>\n",
       "      <td>65 Reviews , 423 Followers</td>\n",
       "      <td>6/3/2016 10:37</td>\n",
       "      <td>3</td>\n",
       "      <td>Chinese, Seafood</td>\n",
       "    </tr>\n",
       "    <tr>\n",
       "      <th>9998</th>\n",
       "      <td>Chinese Pavilion</td>\n",
       "      <td>Nayana Shanbhag</td>\n",
       "      <td>I personally love and prefer Chinese Food. Had...</td>\n",
       "      <td>4</td>\n",
       "      <td>13 Reviews , 144 Followers</td>\n",
       "      <td>5/31/2016 17:22</td>\n",
       "      <td>0</td>\n",
       "      <td>Chinese, Seafood</td>\n",
       "    </tr>\n",
       "    <tr>\n",
       "      <th>9999</th>\n",
       "      <td>Chinese Pavilion</td>\n",
       "      <td>Bhargava Krishna</td>\n",
       "      <td>Checked in here to try some delicious chinese ...</td>\n",
       "      <td>3.5</td>\n",
       "      <td>472 Reviews , 1302 Followers</td>\n",
       "      <td>5/31/2016 16:41</td>\n",
       "      <td>6</td>\n",
       "      <td>Chinese, Seafood</td>\n",
       "    </tr>\n",
       "  </tbody>\n",
       "</table>\n",
       "<p>10000 rows × 8 columns</p>\n",
       "</div>"
      ],
      "text/plain": [
       "            Restaurant              Reviewer  \\\n",
       "0      Beyond Flavours     Rusha Chakraborty   \n",
       "1      Beyond Flavours  Anusha Tirumalaneedi   \n",
       "2      Beyond Flavours       Ashok Shekhawat   \n",
       "3      Beyond Flavours        Swapnil Sarkar   \n",
       "4      Beyond Flavours                Dileep   \n",
       "...                ...                   ...   \n",
       "9995  Chinese Pavilion      Abhishek Mahajan   \n",
       "9996  Chinese Pavilion        Sharad Agrawal   \n",
       "9997  Chinese Pavilion             Ramandeep   \n",
       "9998  Chinese Pavilion       Nayana Shanbhag   \n",
       "9999  Chinese Pavilion      Bhargava Krishna   \n",
       "\n",
       "                                                 Review Rating  \\\n",
       "0     The ambience was good, food was quite good . h...      5   \n",
       "1     Ambience is too good for a pleasant evening. S...      5   \n",
       "2     A must try.. great food great ambience. Thnx f...      5   \n",
       "3     Soumen das and Arun was a great guy. Only beca...      5   \n",
       "4     Food is good.we ordered Kodi drumsticks and ba...      5   \n",
       "...                                                 ...    ...   \n",
       "9995  Madhumathi Mahajan Well to start with nice cou...      3   \n",
       "9996  This place has never disappointed us.. The foo...    4.5   \n",
       "9997  Bad rating is mainly because of \"Chicken Bone ...    1.5   \n",
       "9998  I personally love and prefer Chinese Food. Had...      4   \n",
       "9999  Checked in here to try some delicious chinese ...    3.5   \n",
       "\n",
       "                          Metadata             Time  Pictures  \\\n",
       "0           1 Review , 2 Followers  5/25/2019 15:54         0   \n",
       "1          3 Reviews , 2 Followers  5/25/2019 14:20         0   \n",
       "2          2 Reviews , 3 Followers  5/24/2019 22:54         0   \n",
       "3            1 Review , 1 Follower  5/24/2019 22:11         0   \n",
       "4          3 Reviews , 2 Followers  5/24/2019 21:37         0   \n",
       "...                            ...              ...       ...   \n",
       "9995     53 Reviews , 54 Followers    6/5/2016 0:08         0   \n",
       "9996      2 Reviews , 53 Followers   6/4/2016 22:01         0   \n",
       "9997    65 Reviews , 423 Followers   6/3/2016 10:37         3   \n",
       "9998    13 Reviews , 144 Followers  5/31/2016 17:22         0   \n",
       "9999  472 Reviews , 1302 Followers  5/31/2016 16:41         6   \n",
       "\n",
       "                                                Cuisine  \n",
       "0     Chinese, Continental, Kebab, European, South I...  \n",
       "1     Chinese, Continental, Kebab, European, South I...  \n",
       "2     Chinese, Continental, Kebab, European, South I...  \n",
       "3     Chinese, Continental, Kebab, European, South I...  \n",
       "4     Chinese, Continental, Kebab, European, South I...  \n",
       "...                                                 ...  \n",
       "9995                                   Chinese, Seafood  \n",
       "9996                                   Chinese, Seafood  \n",
       "9997                                   Chinese, Seafood  \n",
       "9998                                   Chinese, Seafood  \n",
       "9999                                   Chinese, Seafood  \n",
       "\n",
       "[10000 rows x 8 columns]"
      ]
     },
     "execution_count": 45,
     "metadata": {},
     "output_type": "execute_result"
    }
   ],
   "source": [
    "reviews"
   ]
  },
  {
   "cell_type": "code",
   "execution_count": 46,
   "metadata": {},
   "outputs": [
    {
     "data": {
      "text/plain": [
       "Review    0\n",
       "Rating    0\n",
       "dtype: int64"
      ]
     },
     "execution_count": 46,
     "metadata": {},
     "output_type": "execute_result"
    }
   ],
   "source": [
    "sent_analysis = reviews.copy()\n",
    "sent_analysis.drop(columns = [\"Restaurant\", \"Reviewer\", \"Metadata\", \"Time\", \"Cuisine\", \"Pictures\"], inplace = True)\n",
    "sent_analysis.dropna(subset = \"Review\", inplace = True)\n",
    "sent_analysis.isna().sum()"
   ]
  },
  {
   "cell_type": "code",
   "execution_count": 47,
   "metadata": {},
   "outputs": [
    {
     "data": {
      "text/html": [
       "<div>\n",
       "<style scoped>\n",
       "    .dataframe tbody tr th:only-of-type {\n",
       "        vertical-align: middle;\n",
       "    }\n",
       "\n",
       "    .dataframe tbody tr th {\n",
       "        vertical-align: top;\n",
       "    }\n",
       "\n",
       "    .dataframe thead th {\n",
       "        text-align: right;\n",
       "    }\n",
       "</style>\n",
       "<table border=\"1\" class=\"dataframe\">\n",
       "  <thead>\n",
       "    <tr style=\"text-align: right;\">\n",
       "      <th></th>\n",
       "      <th>Review</th>\n",
       "      <th>Rating</th>\n",
       "    </tr>\n",
       "  </thead>\n",
       "  <tbody>\n",
       "    <tr>\n",
       "      <th>7601</th>\n",
       "      <td>One of the best pizzas to try. It served with ...</td>\n",
       "      <td>Like</td>\n",
       "    </tr>\n",
       "  </tbody>\n",
       "</table>\n",
       "</div>"
      ],
      "text/plain": [
       "                                                 Review Rating\n",
       "7601  One of the best pizzas to try. It served with ...   Like"
      ]
     },
     "execution_count": 47,
     "metadata": {},
     "output_type": "execute_result"
    }
   ],
   "source": [
    "unknown_rating = sent_analysis.loc[sent_analysis[\"Rating\"] == \"Like\"].copy()\n",
    "unknown_rating"
   ]
  },
  {
   "cell_type": "code",
   "execution_count": 48,
   "metadata": {},
   "outputs": [],
   "source": [
    "sent_analysis[\"Rating\"] = sent_analysis[\"Rating\"].apply(lambda x: float(x) if x != \"Like\" else np.nan)\n",
    "sent_analysis.dropna(inplace=True)"
   ]
  },
  {
   "cell_type": "code",
   "execution_count": 49,
   "metadata": {},
   "outputs": [
    {
     "data": {
      "text/html": [
       "<div>\n",
       "<style scoped>\n",
       "    .dataframe tbody tr th:only-of-type {\n",
       "        vertical-align: middle;\n",
       "    }\n",
       "\n",
       "    .dataframe tbody tr th {\n",
       "        vertical-align: top;\n",
       "    }\n",
       "\n",
       "    .dataframe thead th {\n",
       "        text-align: right;\n",
       "    }\n",
       "</style>\n",
       "<table border=\"1\" class=\"dataframe\">\n",
       "  <thead>\n",
       "    <tr style=\"text-align: right;\">\n",
       "      <th></th>\n",
       "      <th>Rating</th>\n",
       "    </tr>\n",
       "  </thead>\n",
       "  <tbody>\n",
       "    <tr>\n",
       "      <th>count</th>\n",
       "      <td>9954.000000</td>\n",
       "    </tr>\n",
       "    <tr>\n",
       "      <th>mean</th>\n",
       "      <td>3.600261</td>\n",
       "    </tr>\n",
       "    <tr>\n",
       "      <th>std</th>\n",
       "      <td>1.483573</td>\n",
       "    </tr>\n",
       "    <tr>\n",
       "      <th>min</th>\n",
       "      <td>1.000000</td>\n",
       "    </tr>\n",
       "    <tr>\n",
       "      <th>25%</th>\n",
       "      <td>3.000000</td>\n",
       "    </tr>\n",
       "    <tr>\n",
       "      <th>50%</th>\n",
       "      <td>4.000000</td>\n",
       "    </tr>\n",
       "    <tr>\n",
       "      <th>75%</th>\n",
       "      <td>5.000000</td>\n",
       "    </tr>\n",
       "    <tr>\n",
       "      <th>max</th>\n",
       "      <td>5.000000</td>\n",
       "    </tr>\n",
       "  </tbody>\n",
       "</table>\n",
       "</div>"
      ],
      "text/plain": [
       "            Rating\n",
       "count  9954.000000\n",
       "mean      3.600261\n",
       "std       1.483573\n",
       "min       1.000000\n",
       "25%       3.000000\n",
       "50%       4.000000\n",
       "75%       5.000000\n",
       "max       5.000000"
      ]
     },
     "execution_count": 49,
     "metadata": {},
     "output_type": "execute_result"
    }
   ],
   "source": [
    "sent_analysis.describe()"
   ]
  },
  {
   "cell_type": "markdown",
   "metadata": {},
   "source": [
    "- There were missing values in the `Reviews`column which were dropped\n",
    "- The \"Like\" in `Rating` previously mentioned was removed from the dataset but stored in a new variable to later on try and see what the probable value of the rating is based on the model that works best\n",
    "- The mean rating is 3.6"
   ]
  },
  {
   "cell_type": "markdown",
   "metadata": {},
   "source": [
    "<font color='#BFD72F' size=4>3.1 Data Prepocessing</font> <a class=\"anchor\" id=\"P31\"></a>\n",
    "  \n",
    "[Back to TOC](#toc)"
   ]
  },
  {
   "cell_type": "code",
   "execution_count": 50,
   "metadata": {},
   "outputs": [],
   "source": [
    "sent_tokenizer = PunktSentenceTokenizer()"
   ]
  },
  {
   "cell_type": "code",
   "execution_count": 51,
   "metadata": {},
   "outputs": [],
   "source": [
    "sent_analysis[\"Review_prepared\"] = sent_analysis[\"Review\"].apply(lambda x: main_pipeline(x,\n",
    "                                                                                    print_output=False,\n",
    "                                                                                    no_stopwords=False,\n",
    "                                                                                    lowercase=False,\n",
    "                                                                                    lemmatized=False,\n",
    "                                                                                    no_punctuation=False,\n",
    "                                                                                    no_emojis = False\n",
    "                                                                                    ))"
   ]
  },
  {
   "cell_type": "code",
   "execution_count": 52,
   "metadata": {},
   "outputs": [],
   "source": [
    "unknown_rating[\"Review_prepared\"] = unknown_rating[\"Review\"].apply(lambda x: main_pipeline(x,\n",
    "                                                                                    print_output=False,\n",
    "                                                                                    no_stopwords=False,\n",
    "                                                                                    lowercase=False,\n",
    "                                                                                    lemmatized=False,\n",
    "                                                                                    no_punctuation=False,\n",
    "                                                                                    no_emojis = False\n",
    "                                                                                    ))"
   ]
  },
  {
   "cell_type": "code",
   "execution_count": 53,
   "metadata": {},
   "outputs": [],
   "source": [
    "sent_analysis[\"Review_prepared_sentences\"] =\\\n",
    "      sent_analysis[\"Review\"].map(lambda content : [main_pipeline(sentence,\n",
    "                                                                                    print_output=False,\n",
    "                                                                                    no_stopwords=False,\n",
    "                                                                                    lowercase=False,\n",
    "                                                                                    lemmatized=False,\n",
    "                                                                                    no_punctuation=False,\n",
    "                                                                                    no_emojis = False\n",
    "                                                                                    ) for sentence in sent_tokenizer.tokenize(content)])"
   ]
  },
  {
   "cell_type": "code",
   "execution_count": 54,
   "metadata": {},
   "outputs": [
    {
     "data": {
      "text/html": [
       "<div>\n",
       "<style scoped>\n",
       "    .dataframe tbody tr th:only-of-type {\n",
       "        vertical-align: middle;\n",
       "    }\n",
       "\n",
       "    .dataframe tbody tr th {\n",
       "        vertical-align: top;\n",
       "    }\n",
       "\n",
       "    .dataframe thead th {\n",
       "        text-align: right;\n",
       "    }\n",
       "</style>\n",
       "<table border=\"1\" class=\"dataframe\">\n",
       "  <thead>\n",
       "    <tr style=\"text-align: right;\">\n",
       "      <th></th>\n",
       "      <th>Review</th>\n",
       "      <th>Rating</th>\n",
       "      <th>Review_prepared</th>\n",
       "      <th>Review_prepared_sentences</th>\n",
       "    </tr>\n",
       "  </thead>\n",
       "  <tbody>\n",
       "    <tr>\n",
       "      <th>0</th>\n",
       "      <td>The ambience was good, food was quite good . h...</td>\n",
       "      <td>5.0</td>\n",
       "      <td>The ambience was good, food was quite good . h...</td>\n",
       "      <td>[The ambience was good, food was quite good., ...</td>\n",
       "    </tr>\n",
       "    <tr>\n",
       "      <th>1</th>\n",
       "      <td>Ambience is too good for a pleasant evening. S...</td>\n",
       "      <td>5.0</td>\n",
       "      <td>Ambience is too good for a pleasant evening . ...</td>\n",
       "      <td>[Ambience is too good for a pleasant evening.,...</td>\n",
       "    </tr>\n",
       "    <tr>\n",
       "      <th>2</th>\n",
       "      <td>A must try.. great food great ambience. Thnx f...</td>\n",
       "      <td>5.0</td>\n",
       "      <td>A must try .. great food great ambience . Thnx...</td>\n",
       "      <td>[A must try .. great food great ambience., Thn...</td>\n",
       "    </tr>\n",
       "    <tr>\n",
       "      <th>3</th>\n",
       "      <td>Soumen das and Arun was a great guy. Only beca...</td>\n",
       "      <td>5.0</td>\n",
       "      <td>Soumen das and Arun was a great guy . Only bec...</td>\n",
       "      <td>[Soumen das and Arun was a great guy., Only be...</td>\n",
       "    </tr>\n",
       "    <tr>\n",
       "      <th>4</th>\n",
       "      <td>Food is good.we ordered Kodi drumsticks and ba...</td>\n",
       "      <td>5.0</td>\n",
       "      <td>Food is ordered Kodi drumsticks and basket mut...</td>\n",
       "      <td>[Food is ordered Kodi drumsticks and basket mu...</td>\n",
       "    </tr>\n",
       "    <tr>\n",
       "      <th>...</th>\n",
       "      <td>...</td>\n",
       "      <td>...</td>\n",
       "      <td>...</td>\n",
       "      <td>...</td>\n",
       "    </tr>\n",
       "    <tr>\n",
       "      <th>9995</th>\n",
       "      <td>Madhumathi Mahajan Well to start with nice cou...</td>\n",
       "      <td>3.0</td>\n",
       "      <td>Madhumathi Mahajan Well to start with nice cou...</td>\n",
       "      <td>[Madhumathi Mahajan Well to start with nice co...</td>\n",
       "    </tr>\n",
       "    <tr>\n",
       "      <th>9996</th>\n",
       "      <td>This place has never disappointed us.. The foo...</td>\n",
       "      <td>4.5</td>\n",
       "      <td>This place has never disappointed us .. The fo...</td>\n",
       "      <td>[This place has never disappointed us .. The f...</td>\n",
       "    </tr>\n",
       "    <tr>\n",
       "      <th>9997</th>\n",
       "      <td>Bad rating is mainly because of \"Chicken Bone ...</td>\n",
       "      <td>1.5</td>\n",
       "      <td>Bad rating is mainly because of \"Chicken Bone ...</td>\n",
       "      <td>[Bad rating is mainly because of \"Chicken Bone...</td>\n",
       "    </tr>\n",
       "    <tr>\n",
       "      <th>9998</th>\n",
       "      <td>I personally love and prefer Chinese Food. Had...</td>\n",
       "      <td>4.0</td>\n",
       "      <td>I personally love and prefer Chinese Food . Ha...</td>\n",
       "      <td>[I personally love and prefer Chinese Food., H...</td>\n",
       "    </tr>\n",
       "    <tr>\n",
       "      <th>9999</th>\n",
       "      <td>Checked in here to try some delicious chinese ...</td>\n",
       "      <td>3.5</td>\n",
       "      <td>Checked in here to try some delicious chinese ...</td>\n",
       "      <td>[Checked in here to try some delicious chinese...</td>\n",
       "    </tr>\n",
       "  </tbody>\n",
       "</table>\n",
       "<p>9954 rows × 4 columns</p>\n",
       "</div>"
      ],
      "text/plain": [
       "                                                 Review  Rating  \\\n",
       "0     The ambience was good, food was quite good . h...     5.0   \n",
       "1     Ambience is too good for a pleasant evening. S...     5.0   \n",
       "2     A must try.. great food great ambience. Thnx f...     5.0   \n",
       "3     Soumen das and Arun was a great guy. Only beca...     5.0   \n",
       "4     Food is good.we ordered Kodi drumsticks and ba...     5.0   \n",
       "...                                                 ...     ...   \n",
       "9995  Madhumathi Mahajan Well to start with nice cou...     3.0   \n",
       "9996  This place has never disappointed us.. The foo...     4.5   \n",
       "9997  Bad rating is mainly because of \"Chicken Bone ...     1.5   \n",
       "9998  I personally love and prefer Chinese Food. Had...     4.0   \n",
       "9999  Checked in here to try some delicious chinese ...     3.5   \n",
       "\n",
       "                                        Review_prepared  \\\n",
       "0     The ambience was good, food was quite good . h...   \n",
       "1     Ambience is too good for a pleasant evening . ...   \n",
       "2     A must try .. great food great ambience . Thnx...   \n",
       "3     Soumen das and Arun was a great guy . Only bec...   \n",
       "4     Food is ordered Kodi drumsticks and basket mut...   \n",
       "...                                                 ...   \n",
       "9995  Madhumathi Mahajan Well to start with nice cou...   \n",
       "9996  This place has never disappointed us .. The fo...   \n",
       "9997  Bad rating is mainly because of \"Chicken Bone ...   \n",
       "9998  I personally love and prefer Chinese Food . Ha...   \n",
       "9999  Checked in here to try some delicious chinese ...   \n",
       "\n",
       "                              Review_prepared_sentences  \n",
       "0     [The ambience was good, food was quite good., ...  \n",
       "1     [Ambience is too good for a pleasant evening.,...  \n",
       "2     [A must try .. great food great ambience., Thn...  \n",
       "3     [Soumen das and Arun was a great guy., Only be...  \n",
       "4     [Food is ordered Kodi drumsticks and basket mu...  \n",
       "...                                                 ...  \n",
       "9995  [Madhumathi Mahajan Well to start with nice co...  \n",
       "9996  [This place has never disappointed us .. The f...  \n",
       "9997  [Bad rating is mainly because of \"Chicken Bone...  \n",
       "9998  [I personally love and prefer Chinese Food., H...  \n",
       "9999  [Checked in here to try some delicious chinese...  \n",
       "\n",
       "[9954 rows x 4 columns]"
      ]
     },
     "execution_count": 54,
     "metadata": {},
     "output_type": "execute_result"
    }
   ],
   "source": [
    "sent_analysis"
   ]
  },
  {
   "cell_type": "markdown",
   "metadata": {},
   "source": [
    "<font color='#BFD72F' size=4>3.2 Model Implemetation - Vader</font> <a class=\"anchor\" id=\"P32\"></a>\n",
    "  \n",
    "[Back to TOC](#toc)"
   ]
  },
  {
   "cell_type": "code",
   "execution_count": 55,
   "metadata": {},
   "outputs": [],
   "source": [
    "vader = SentimentIntensityAnalyzer()"
   ]
  },
  {
   "cell_type": "code",
   "execution_count": 56,
   "metadata": {},
   "outputs": [],
   "source": [
    "def vader_wrapper(user_review):    \n",
    "    if type(user_review) == list:\n",
    "        sent_compound_list = []\n",
    "        for sentence in user_review:\n",
    "            sent_compound_list.append(vader.polarity_scores(sentence)[\"compound\"])\n",
    "        polarity = np.array(sent_compound_list).mean()\n",
    "    else:\n",
    "        polarity = vader.polarity_scores(user_review)[\"compound\"]\n",
    "    return polarity"
   ]
  },
  {
   "cell_type": "code",
   "execution_count": 68,
   "metadata": {},
   "outputs": [],
   "source": [
    "sent_analysis[\"Review_polarity_vader\"] = sent_analysis[\"Review_prepared\"].map(lambda review: vader_wrapper(review))\n",
    "sent_analysis[\"Review_sentences_mean_polarity_vader\"] = sent_analysis[\"Review_prepared_sentences\"].map(lambda review: vader_wrapper(review))"
   ]
  },
  {
   "cell_type": "code",
   "execution_count": 58,
   "metadata": {},
   "outputs": [
    {
     "data": {
      "text/html": [
       "<div>\n",
       "<style scoped>\n",
       "    .dataframe tbody tr th:only-of-type {\n",
       "        vertical-align: middle;\n",
       "    }\n",
       "\n",
       "    .dataframe tbody tr th {\n",
       "        vertical-align: top;\n",
       "    }\n",
       "\n",
       "    .dataframe thead th {\n",
       "        text-align: right;\n",
       "    }\n",
       "</style>\n",
       "<table border=\"1\" class=\"dataframe\">\n",
       "  <thead>\n",
       "    <tr style=\"text-align: right;\">\n",
       "      <th></th>\n",
       "      <th>Review</th>\n",
       "      <th>Rating</th>\n",
       "      <th>Review_prepared</th>\n",
       "      <th>Review_prepared_sentences</th>\n",
       "      <th>Review_polarity_vader</th>\n",
       "      <th>Review_sentences_mean_polarity_vader</th>\n",
       "    </tr>\n",
       "  </thead>\n",
       "  <tbody>\n",
       "    <tr>\n",
       "      <th>4379</th>\n",
       "      <td>right on time</td>\n",
       "      <td>5.0</td>\n",
       "      <td>right on time</td>\n",
       "      <td>[right on time]</td>\n",
       "      <td>0.0000</td>\n",
       "      <td>0.000000</td>\n",
       "    </tr>\n",
       "    <tr>\n",
       "      <th>3223</th>\n",
       "      <td>Decent place with good ambience specially the ...</td>\n",
       "      <td>4.0</td>\n",
       "      <td>Decent place with good ambience specially the ...</td>\n",
       "      <td>[Decent place with good ambience specially the...</td>\n",
       "      <td>0.9349</td>\n",
       "      <td>0.777900</td>\n",
       "    </tr>\n",
       "    <tr>\n",
       "      <th>3723</th>\n",
       "      <td>THEY SERVE WITH HOT AND YOU CAN ORDER SPICY OR...</td>\n",
       "      <td>4.0</td>\n",
       "      <td>THEY SERVE WITH HOT AND YOU CAN ORDER SPICY OR...</td>\n",
       "      <td>[THEY SERVE WITH HOT AND YOU CAN ORDER SPICY O...</td>\n",
       "      <td>0.2577</td>\n",
       "      <td>0.038600</td>\n",
       "    </tr>\n",
       "    <tr>\n",
       "      <th>5793</th>\n",
       "      <td>Not so good..</td>\n",
       "      <td>2.0</td>\n",
       "      <td>Not so good ..</td>\n",
       "      <td>[Not so good ..]</td>\n",
       "      <td>-0.3865</td>\n",
       "      <td>-0.386500</td>\n",
       "    </tr>\n",
       "    <tr>\n",
       "      <th>5512</th>\n",
       "      <td>My all time favorite for bakery items and pizz...</td>\n",
       "      <td>5.0</td>\n",
       "      <td>My all time favorite for bakery items and pizz...</td>\n",
       "      <td>[My all time favorite for bakery items and piz...</td>\n",
       "      <td>0.5337</td>\n",
       "      <td>0.143175</td>\n",
       "    </tr>\n",
       "  </tbody>\n",
       "</table>\n",
       "</div>"
      ],
      "text/plain": [
       "                                                 Review  Rating  \\\n",
       "4379                                      right on time     5.0   \n",
       "3223  Decent place with good ambience specially the ...     4.0   \n",
       "3723  THEY SERVE WITH HOT AND YOU CAN ORDER SPICY OR...     4.0   \n",
       "5793                                      Not so good..     2.0   \n",
       "5512  My all time favorite for bakery items and pizz...     5.0   \n",
       "\n",
       "                                        Review_prepared  \\\n",
       "4379                                      right on time   \n",
       "3223  Decent place with good ambience specially the ...   \n",
       "3723  THEY SERVE WITH HOT AND YOU CAN ORDER SPICY OR...   \n",
       "5793                                     Not so good ..   \n",
       "5512  My all time favorite for bakery items and pizz...   \n",
       "\n",
       "                              Review_prepared_sentences  \\\n",
       "4379                                    [right on time]   \n",
       "3223  [Decent place with good ambience specially the...   \n",
       "3723  [THEY SERVE WITH HOT AND YOU CAN ORDER SPICY O...   \n",
       "5793                                   [Not so good ..]   \n",
       "5512  [My all time favorite for bakery items and piz...   \n",
       "\n",
       "      Review_polarity_vader  Review_sentences_mean_polarity_vader  \n",
       "4379                 0.0000                              0.000000  \n",
       "3223                 0.9349                              0.777900  \n",
       "3723                 0.2577                              0.038600  \n",
       "5793                -0.3865                             -0.386500  \n",
       "5512                 0.5337                              0.143175  "
      ]
     },
     "execution_count": 58,
     "metadata": {},
     "output_type": "execute_result"
    }
   ],
   "source": [
    "sent_analysis.sample(5)"
   ]
  },
  {
   "cell_type": "markdown",
   "metadata": {},
   "source": [
    "<font color='#BFD72F' size=4>3.3 Model Evaluation - Vader</font> <a class=\"anchor\" id=\"P33\"></a>\n",
    "  \n",
    "[Back to TOC](#toc)"
   ]
  },
  {
   "cell_type": "code",
   "execution_count": 59,
   "metadata": {},
   "outputs": [
    {
     "data": {
      "text/plain": [
       "0.8210013150174684"
      ]
     },
     "execution_count": 59,
     "metadata": {},
     "output_type": "execute_result"
    }
   ],
   "source": [
    "pearson_r, p_value = pearsonr(sent_analysis[\"Review_sentences_mean_polarity_vader\"],sent_analysis[\"Review_polarity_vader\"])\n",
    "pearson_r"
   ]
  },
  {
   "cell_type": "code",
   "execution_count": 60,
   "metadata": {},
   "outputs": [
    {
     "data": {
      "text/plain": [
       "0.6983362875728562"
      ]
     },
     "execution_count": 60,
     "metadata": {},
     "output_type": "execute_result"
    }
   ],
   "source": [
    "pearson_r, p_value = pearsonr(sent_analysis[\"Review_sentences_mean_polarity_vader\"],sent_analysis[\"Rating\"])\n",
    "pearson_r"
   ]
  },
  {
   "cell_type": "code",
   "execution_count": 61,
   "metadata": {},
   "outputs": [
    {
     "data": {
      "text/plain": [
       "0.705935929965607"
      ]
     },
     "execution_count": 61,
     "metadata": {},
     "output_type": "execute_result"
    }
   ],
   "source": [
    "pearson_r, p_value = pearsonr(sent_analysis[\"Review_polarity_vader\"],sent_analysis[\"Rating\"])\n",
    "pearson_r"
   ]
  },
  {
   "cell_type": "markdown",
   "metadata": {},
   "source": [
    "Vader conclusions:\n",
    "- Theres a high correlation between separating the reviews into sentences or not which mean that they are given almost the same information\n",
    "- The correlation between the values obtained when doing the sentiment analysis separating reviews in sentences is slightly lower than when reviews are treated as whole (0.698 < 0.706)\n",
    "- With this we conclude that the best version of the Vader is the one that does not separate the reviews into sentences\n"
   ]
  },
  {
   "cell_type": "markdown",
   "metadata": {},
   "source": [
    "<font color='#BFD72F' size=4>3.4 Model Implemetation - TextBlob</font> <a class=\"anchor\" id=\"P34\"></a>\n",
    "  \n",
    "[Back to TOC](#toc)"
   ]
  },
  {
   "cell_type": "code",
   "execution_count": 62,
   "metadata": {},
   "outputs": [],
   "source": [
    "def textblob_wrapper(user_review):   \n",
    "    if type(user_review) == list:\n",
    "        sent_compound_list = []\n",
    "        for sentence in user_review:\n",
    "            sent_compound_list.append(TextBlob(sentence).sentiment.polarity)\n",
    "        polarity = np.array(sent_compound_list).mean()\n",
    "    else:\n",
    "        polarity = TextBlob(user_review).sentiment.polarity\n",
    "    return polarity"
   ]
  },
  {
   "cell_type": "code",
   "execution_count": 69,
   "metadata": {},
   "outputs": [],
   "source": [
    "sent_analysis[\"Review_polarity_textblob\"] = sent_analysis[\"Review_prepared\"].map(lambda review : textblob_wrapper(review))\n",
    "sent_analysis[\"Review_sentences_mean_polarity_textblob\"] = sent_analysis[\"Review_prepared_sentences\"].map(lambda review : textblob_wrapper(review))"
   ]
  },
  {
   "cell_type": "code",
   "execution_count": 70,
   "metadata": {},
   "outputs": [
    {
     "data": {
      "text/html": [
       "<div>\n",
       "<style scoped>\n",
       "    .dataframe tbody tr th:only-of-type {\n",
       "        vertical-align: middle;\n",
       "    }\n",
       "\n",
       "    .dataframe tbody tr th {\n",
       "        vertical-align: top;\n",
       "    }\n",
       "\n",
       "    .dataframe thead th {\n",
       "        text-align: right;\n",
       "    }\n",
       "</style>\n",
       "<table border=\"1\" class=\"dataframe\">\n",
       "  <thead>\n",
       "    <tr style=\"text-align: right;\">\n",
       "      <th></th>\n",
       "      <th>Review</th>\n",
       "      <th>Rating</th>\n",
       "      <th>Review_prepared</th>\n",
       "      <th>Review_prepared_sentences</th>\n",
       "      <th>Review_polarity_vader</th>\n",
       "      <th>Review_sentences_mean_polarity_vader</th>\n",
       "      <th>Review_polarity_textblob</th>\n",
       "      <th>Review_sentences_mean_polarity_textblob</th>\n",
       "    </tr>\n",
       "  </thead>\n",
       "  <tbody>\n",
       "    <tr>\n",
       "      <th>7728</th>\n",
       "      <td>The quality of the food is bad. The noodles, s...</td>\n",
       "      <td>1.0</td>\n",
       "      <td>The quality of the food is bad . The noodles, ...</td>\n",
       "      <td>[The quality of the food is bad., The noodles,...</td>\n",
       "      <td>-0.3818</td>\n",
       "      <td>-0.089175</td>\n",
       "      <td>-0.130000</td>\n",
       "      <td>-0.181250</td>\n",
       "    </tr>\n",
       "    <tr>\n",
       "      <th>9129</th>\n",
       "      <td>I visited cascade with my relatives, but there...</td>\n",
       "      <td>5.0</td>\n",
       "      <td>I visited cascade with my relatives, but there...</td>\n",
       "      <td>[I visited cascade with my relatives, but ther...</td>\n",
       "      <td>0.9953</td>\n",
       "      <td>0.554350</td>\n",
       "      <td>0.511905</td>\n",
       "      <td>0.535417</td>\n",
       "    </tr>\n",
       "    <tr>\n",
       "      <th>2777</th>\n",
       "      <td>Hello Govind. Your way of treating us is reall...</td>\n",
       "      <td>5.0</td>\n",
       "      <td>Hello Govind . Your way of treating us is real...</td>\n",
       "      <td>[Hello Govind., Your way of treating us is rea...</td>\n",
       "      <td>0.9310</td>\n",
       "      <td>0.441025</td>\n",
       "      <td>0.475000</td>\n",
       "      <td>0.387500</td>\n",
       "    </tr>\n",
       "    <tr>\n",
       "      <th>8370</th>\n",
       "      <td>excellent</td>\n",
       "      <td>5.0</td>\n",
       "      <td>excellent</td>\n",
       "      <td>[excellent]</td>\n",
       "      <td>0.5719</td>\n",
       "      <td>0.571900</td>\n",
       "      <td>1.000000</td>\n",
       "      <td>1.000000</td>\n",
       "    </tr>\n",
       "    <tr>\n",
       "      <th>8672</th>\n",
       "      <td>Not as regular, No choco Sticks are there, not...</td>\n",
       "      <td>1.0</td>\n",
       "      <td>Not as regular, No choco Sticks are there, not...</td>\n",
       "      <td>[Not as regular, No choco Sticks are there, no...</td>\n",
       "      <td>0.2057</td>\n",
       "      <td>0.205700</td>\n",
       "      <td>-0.125000</td>\n",
       "      <td>-0.125000</td>\n",
       "    </tr>\n",
       "  </tbody>\n",
       "</table>\n",
       "</div>"
      ],
      "text/plain": [
       "                                                 Review  Rating  \\\n",
       "7728  The quality of the food is bad. The noodles, s...     1.0   \n",
       "9129  I visited cascade with my relatives, but there...     5.0   \n",
       "2777  Hello Govind. Your way of treating us is reall...     5.0   \n",
       "8370                                          excellent     5.0   \n",
       "8672  Not as regular, No choco Sticks are there, not...     1.0   \n",
       "\n",
       "                                        Review_prepared  \\\n",
       "7728  The quality of the food is bad . The noodles, ...   \n",
       "9129  I visited cascade with my relatives, but there...   \n",
       "2777  Hello Govind . Your way of treating us is real...   \n",
       "8370                                          excellent   \n",
       "8672  Not as regular, No choco Sticks are there, not...   \n",
       "\n",
       "                              Review_prepared_sentences  \\\n",
       "7728  [The quality of the food is bad., The noodles,...   \n",
       "9129  [I visited cascade with my relatives, but ther...   \n",
       "2777  [Hello Govind., Your way of treating us is rea...   \n",
       "8370                                        [excellent]   \n",
       "8672  [Not as regular, No choco Sticks are there, no...   \n",
       "\n",
       "      Review_polarity_vader  Review_sentences_mean_polarity_vader  \\\n",
       "7728                -0.3818                             -0.089175   \n",
       "9129                 0.9953                              0.554350   \n",
       "2777                 0.9310                              0.441025   \n",
       "8370                 0.5719                              0.571900   \n",
       "8672                 0.2057                              0.205700   \n",
       "\n",
       "      Review_polarity_textblob  Review_sentences_mean_polarity_textblob  \n",
       "7728                 -0.130000                                -0.181250  \n",
       "9129                  0.511905                                 0.535417  \n",
       "2777                  0.475000                                 0.387500  \n",
       "8370                  1.000000                                 1.000000  \n",
       "8672                 -0.125000                                -0.125000  "
      ]
     },
     "execution_count": 70,
     "metadata": {},
     "output_type": "execute_result"
    }
   ],
   "source": [
    "sent_analysis.sample(5)"
   ]
  },
  {
   "cell_type": "markdown",
   "metadata": {},
   "source": [
    "<font color='#BFD72F' size=4>3.4 Model Evaluation - TextBlob</font> <a class=\"anchor\" id=\"P34\"></a>\n",
    "  \n",
    "[Back to TOC](#toc)"
   ]
  },
  {
   "cell_type": "code",
   "execution_count": 72,
   "metadata": {},
   "outputs": [
    {
     "data": {
      "text/plain": [
       "0.9554386058038353"
      ]
     },
     "execution_count": 72,
     "metadata": {},
     "output_type": "execute_result"
    }
   ],
   "source": [
    "pearson_r, p_value = pearsonr(sent_analysis[\"Review_sentences_mean_polarity_textblob\"],sent_analysis[\"Review_polarity_textblob\"])\n",
    "pearson_r"
   ]
  },
  {
   "cell_type": "code",
   "execution_count": 73,
   "metadata": {},
   "outputs": [
    {
     "data": {
      "text/plain": [
       "0.6784612861491148"
      ]
     },
     "execution_count": 73,
     "metadata": {},
     "output_type": "execute_result"
    }
   ],
   "source": [
    "pearson_r, p_value = pearsonr(sent_analysis[\"Review_sentences_mean_polarity_textblob\"],sent_analysis[\"Rating\"])\n",
    "pearson_r"
   ]
  },
  {
   "cell_type": "code",
   "execution_count": 74,
   "metadata": {},
   "outputs": [
    {
     "data": {
      "text/plain": [
       "0.6946786704212993"
      ]
     },
     "execution_count": 74,
     "metadata": {},
     "output_type": "execute_result"
    }
   ],
   "source": [
    "pearson_r, p_value = pearsonr(sent_analysis[\"Review_polarity_textblob\"],sent_analysis[\"Rating\"])\n",
    "pearson_r"
   ]
  },
  {
   "cell_type": "markdown",
   "metadata": {},
   "source": [
    "TextBlob conclusions:\n",
    "- Theres a very high correlation between separating the reviews into sentences or not which mean that they give pretty much the same information\n",
    "- The correlation between the values obtained when doing the sentiment analysis separating reviews in sentences is slightly lower than when reviews are treated as whole (0.678 < 0.695)\n",
    "- With this we conclude that the best version of the TextBlob is the one that does not separate the reviews into sentences"
   ]
  },
  {
   "cell_type": "markdown",
   "metadata": {},
   "source": [
    "<font color='#BFD72F' size=4>3.5 Model Evaluation - Vader vs TextBlob</font> <a class=\"anchor\" id=\"P35\"></a>\n",
    "  \n",
    "[Back to TOC](#toc)"
   ]
  },
  {
   "cell_type": "code",
   "execution_count": 75,
   "metadata": {},
   "outputs": [
    {
     "data": {
      "text/plain": [
       "0.6588012374782714"
      ]
     },
     "execution_count": 75,
     "metadata": {},
     "output_type": "execute_result"
    }
   ],
   "source": [
    "pearson_r, p_value = pearsonr(sent_analysis[\"Review_polarity_textblob\"],sent_analysis[\"Review_polarity_vader\"])\n",
    "pearson_r"
   ]
  },
  {
   "cell_type": "code",
   "execution_count": 84,
   "metadata": {},
   "outputs": [],
   "source": [
    "scaler = preprocessing.MinMaxScaler()\n",
    "#The \"reshape(-1,1)\" is there to make sure that the column is fed as a 2D (4915 x 1) array\n",
    "normalized_score = scaler.fit_transform(sent_analysis[\"Rating\"].to_numpy().reshape(-1, 1))\n",
    "normalized_polarity_vader = scaler.fit_transform(sent_analysis[\"Review_polarity_vader\"].to_numpy().reshape(-1, 1))\n",
    "normalized_polarity_textblob = scaler.fit_transform(sent_analysis[\"Review_polarity_textblob\"].to_numpy().reshape(-1, 1))\n",
    "normalized_polarity_vader_sent = scaler.fit_transform(sent_analysis[\"Review_sentences_mean_polarity_vader\"].to_numpy().reshape(-1, 1))\n",
    "normalized_polarity_textblob_sent = scaler.fit_transform(sent_analysis[\"Review_sentences_mean_polarity_textblob\"].to_numpy().reshape(-1, 1))"
   ]
  },
  {
   "cell_type": "code",
   "execution_count": 85,
   "metadata": {},
   "outputs": [
    {
     "name": "stdout",
     "output_type": "stream",
     "text": [
      "Texblob: RMSE: 0.278; MAPE: 261981172176405.2\n"
     ]
    }
   ],
   "source": [
    "rmse = mean_squared_error(normalized_score.reshape(-1), normalized_polarity_vader.reshape(-1), squared=False)\n",
    "mape = mean_absolute_percentage_error(normalized_score.reshape(-1), normalized_polarity_vader.reshape(-1))\n",
    "print(\"Vader: RMSE: {}; MAPE: {}\".format(round(rmse, 3), round(mape, 3)))"
   ]
  },
  {
   "cell_type": "code",
   "execution_count": 90,
   "metadata": {},
   "outputs": [
    {
     "name": "stdout",
     "output_type": "stream",
     "text": [
      "Vader diveded into sentences: RMSE: 0.275; MAPE: 314160828752742.2\n"
     ]
    }
   ],
   "source": [
    "rmse = mean_squared_error(normalized_score.reshape(-1), normalized_polarity_vader_sent.reshape(-1), squared=False)\n",
    "mape = mean_absolute_percentage_error(normalized_score.reshape(-1), normalized_polarity_vader_sent.reshape(-1))\n",
    "print(\"Vader diveded into sentences: RMSE: {}; MAPE: {}\".format(round(rmse, 3), round(mape, 3)))"
   ]
  },
  {
   "cell_type": "code",
   "execution_count": 87,
   "metadata": {},
   "outputs": [
    {
     "name": "stdout",
     "output_type": "stream",
     "text": [
      "Texblob diveded into sentences: RMSE: 0.278; MAPE: 312611745031681.0\n"
     ]
    }
   ],
   "source": [
    "rmse = mean_squared_error(normalized_score.reshape(-1), normalized_polarity_textblob.reshape(-1), squared=False)\n",
    "mape = mean_absolute_percentage_error(normalized_score.reshape(-1), normalized_polarity_textblob.reshape(-1))\n",
    "print(\"Texblob: RMSE: {}; MAPE: {}\".format(round(rmse, 3), round(mape, 3)))"
   ]
  },
  {
   "cell_type": "code",
   "execution_count": 89,
   "metadata": {},
   "outputs": [
    {
     "name": "stdout",
     "output_type": "stream",
     "text": [
      "Textblob: RMSE: 0.287; MAPE: 323722975947467.5\n"
     ]
    }
   ],
   "source": [
    "rmse = mean_squared_error(normalized_score.reshape(-1), normalized_polarity_textblob_sent.reshape(-1), squared=False)\n",
    "mape = mean_absolute_percentage_error(normalized_score.reshape(-1), normalized_polarity_textblob_sent.reshape(-1))\n",
    "print(\"Textblob diveded into sentences: RMSE: {}; MAPE: {}\".format(round(rmse, 3), round(mape, 3)))"
   ]
  },
  {
   "cell_type": "markdown",
   "metadata": {},
   "source": [
    "Final conclusions:\n",
    "- The RMSE is almost identical in all the models, only varying from 0.275 to 0.287, the Vader model when the reviews separated by sentences is the other that has a lower error\n",
    "- The MAPE is better in the Vader model that doesn't separate with value 261981172176405.2 which is much lower than the second best one that is the TextBlob model with value 312611745031681.0\n",
    "- Overall we think that the model that performed the best was the Vader that does not separate the reviews into sentences"
   ]
  },
  {
   "cell_type": "code",
   "execution_count": null,
   "metadata": {},
   "outputs": [],
   "source": []
  }
 ],
 "metadata": {
  "kernelspec": {
   "display_name": "text-miningggggg",
   "language": "python",
   "name": "python3"
  },
  "language_info": {
   "codemirror_mode": {
    "name": "ipython",
    "version": 3
   },
   "file_extension": ".py",
   "mimetype": "text/x-python",
   "name": "python",
   "nbconvert_exporter": "python",
   "pygments_lexer": "ipython3",
   "version": "3.10.9"
  }
 },
 "nbformat": 4,
 "nbformat_minor": 2
}
