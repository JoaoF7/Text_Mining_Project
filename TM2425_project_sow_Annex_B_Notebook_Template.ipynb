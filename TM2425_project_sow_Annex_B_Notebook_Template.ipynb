{
 "cells": [
  {
   "cell_type": "markdown",
   "metadata": {},
   "source": [
    "<i>## Comments will be provided using this format. Key takeaway: groups are encouraged to change the formatting, but not the structure. Groups are also allowed to create additional notebooks - for instance, create one notebook for data exploration, and one notebook for each preprocessing-modelling-evaluation pipeline -, but must strive to keep an unified style across notebooks.</i>\n",
    "\n",
    "#### NOVA IMS / BSc in Data Science / Text Mining 2024/2025\n",
    "### <b>Group Project: \"Solving the Hyderabadi Word Soup\"</b>\n",
    "#### Notebook `Notebook Title`\n",
    "\n",
    "#### Group:\n",
    "- `Group member #1`\n",
    "- `(...)`\n",
    "- `Group member #5`\n",
    "\n",
    "#### <font color='#BFD72'>Table of Contents </font> <a class=\"anchor\" id='toc'></a> \n",
    "- [1. Data Understanding](#P1)\n",
    "- [2. General Data Preparation](#P2) \n",
    "- [3. Multilabel Classification (Information Requirement 3311)](#P3)\n",
    "    - [3.1 Specific Data Preparation](#P31)\n",
    "    - [3.2 Model Implementation](#P32)\n",
    "    - [3.3 Model Evaluation](#P3n)\n",
    "- [4. Sentiment Analysis (Information Requirement 3312)](#P4)\n",
    "    - [4.1 Specific Data Preparation](#P41)\n",
    "    - [4.2 Model Implementation](#P42)\n",
    "    - [4.3 Model Evaluation](#P43)\n",
    "- [...]\n",
    "- [N. Additional Tasks (Information Requirements 332n)](#Pn)\n",
    "    - [N.1 Specific Data Preparation](#Pn1)\n",
    "    - [N.2 Model Implementation](#Pn2)\n",
    "    - [N.3 Model Evaluation](#Pn3)\n",
    "\n",
    "<i>## Note that the notebook structure differs from the report: instead of following the CRISP-DM phases and then specifying the different problems inside the phases, the notebook is structured by problem, with the CRISP-DM phases being defined for each specific problem."
   ]
  },
  {
   "cell_type": "code",
   "execution_count": 33,
   "metadata": {},
   "outputs": [
    {
     "name": "stdout",
     "output_type": "stream",
     "text": [
      "The autoreload extension is already loaded. To reload it, use:\n",
      "  %reload_ext autoreload\n"
     ]
    }
   ],
   "source": [
    "## All imports must be concentrated on a cell that immediately follow the table of contents\n",
    "%load_ext autoreload\n",
    "%autoreload 2\n",
    "\n",
    "import time\n",
    "import pandas as pd\n",
    "import numpy as np\n",
    "from utils.pipeline_v1d import main_pipeline\n",
    "from sklearn.feature_extraction.text import CountVectorizer\n",
    "import seaborn as sns\n",
    "import matplotlib.pyplot as plt\n",
    "import pickle\n",
    "from sklearn.feature_extraction.text import TfidfVectorizer\n",
    "import os\n",
    "from wordcloud import WordCloud\n",
    "import re\n",
    "import nltk\n",
    "import plotly.express as px\n",
    "from tqdm import tqdm\n",
    "from collections import Counter\n",
    "from collections import defaultdict"
   ]
  },
  {
   "cell_type": "markdown",
   "metadata": {},
   "source": [
    "<font color='#BFD72F' size=5>1. Data Exploration</font> <a class=\"anchor\" id=\"P1\"></a>\n",
    "  \n",
    "[Back to TOC](#toc)\n",
    "\n",
    "<i>## Use markdown cells to describe the purpose of the code cells that follow them.</i>"
   ]
  },
  {
   "cell_type": "code",
   "execution_count": 3,
   "metadata": {},
   "outputs": [],
   "source": [
    "reviews = pd.read_csv(\"data_hyderabad/10k_reviews.csv\")\n",
    "restaurants = pd.read_csv(\"data_hyderabad/105_restaurants.csv\")"
   ]
  },
  {
   "cell_type": "code",
   "execution_count": 4,
   "metadata": {},
   "outputs": [
    {
     "data": {
      "text/html": [
       "<div>\n",
       "<style scoped>\n",
       "    .dataframe tbody tr th:only-of-type {\n",
       "        vertical-align: middle;\n",
       "    }\n",
       "\n",
       "    .dataframe tbody tr th {\n",
       "        vertical-align: top;\n",
       "    }\n",
       "\n",
       "    .dataframe thead th {\n",
       "        text-align: right;\n",
       "    }\n",
       "</style>\n",
       "<table border=\"1\" class=\"dataframe\">\n",
       "  <thead>\n",
       "    <tr style=\"text-align: right;\">\n",
       "      <th></th>\n",
       "      <th>Restaurant</th>\n",
       "      <th>Reviewer</th>\n",
       "      <th>Review</th>\n",
       "      <th>Rating</th>\n",
       "      <th>Metadata</th>\n",
       "      <th>Time</th>\n",
       "      <th>Pictures</th>\n",
       "    </tr>\n",
       "  </thead>\n",
       "  <tbody>\n",
       "    <tr>\n",
       "      <th>0</th>\n",
       "      <td>Beyond Flavours</td>\n",
       "      <td>Rusha Chakraborty</td>\n",
       "      <td>The ambience was good, food was quite good . h...</td>\n",
       "      <td>5</td>\n",
       "      <td>1 Review , 2 Followers</td>\n",
       "      <td>5/25/2019 15:54</td>\n",
       "      <td>0</td>\n",
       "    </tr>\n",
       "    <tr>\n",
       "      <th>1</th>\n",
       "      <td>Beyond Flavours</td>\n",
       "      <td>Anusha Tirumalaneedi</td>\n",
       "      <td>Ambience is too good for a pleasant evening. S...</td>\n",
       "      <td>5</td>\n",
       "      <td>3 Reviews , 2 Followers</td>\n",
       "      <td>5/25/2019 14:20</td>\n",
       "      <td>0</td>\n",
       "    </tr>\n",
       "    <tr>\n",
       "      <th>2</th>\n",
       "      <td>Beyond Flavours</td>\n",
       "      <td>Ashok Shekhawat</td>\n",
       "      <td>A must try.. great food great ambience. Thnx f...</td>\n",
       "      <td>5</td>\n",
       "      <td>2 Reviews , 3 Followers</td>\n",
       "      <td>5/24/2019 22:54</td>\n",
       "      <td>0</td>\n",
       "    </tr>\n",
       "    <tr>\n",
       "      <th>3</th>\n",
       "      <td>Beyond Flavours</td>\n",
       "      <td>Swapnil Sarkar</td>\n",
       "      <td>Soumen das and Arun was a great guy. Only beca...</td>\n",
       "      <td>5</td>\n",
       "      <td>1 Review , 1 Follower</td>\n",
       "      <td>5/24/2019 22:11</td>\n",
       "      <td>0</td>\n",
       "    </tr>\n",
       "    <tr>\n",
       "      <th>4</th>\n",
       "      <td>Beyond Flavours</td>\n",
       "      <td>Dileep</td>\n",
       "      <td>Food is good.we ordered Kodi drumsticks and ba...</td>\n",
       "      <td>5</td>\n",
       "      <td>3 Reviews , 2 Followers</td>\n",
       "      <td>5/24/2019 21:37</td>\n",
       "      <td>0</td>\n",
       "    </tr>\n",
       "    <tr>\n",
       "      <th>...</th>\n",
       "      <td>...</td>\n",
       "      <td>...</td>\n",
       "      <td>...</td>\n",
       "      <td>...</td>\n",
       "      <td>...</td>\n",
       "      <td>...</td>\n",
       "      <td>...</td>\n",
       "    </tr>\n",
       "    <tr>\n",
       "      <th>9995</th>\n",
       "      <td>Chinese Pavilion</td>\n",
       "      <td>Abhishek Mahajan</td>\n",
       "      <td>Madhumathi Mahajan Well to start with nice cou...</td>\n",
       "      <td>3</td>\n",
       "      <td>53 Reviews , 54 Followers</td>\n",
       "      <td>6/5/2016 0:08</td>\n",
       "      <td>0</td>\n",
       "    </tr>\n",
       "    <tr>\n",
       "      <th>9996</th>\n",
       "      <td>Chinese Pavilion</td>\n",
       "      <td>Sharad Agrawal</td>\n",
       "      <td>This place has never disappointed us.. The foo...</td>\n",
       "      <td>4.5</td>\n",
       "      <td>2 Reviews , 53 Followers</td>\n",
       "      <td>6/4/2016 22:01</td>\n",
       "      <td>0</td>\n",
       "    </tr>\n",
       "    <tr>\n",
       "      <th>9997</th>\n",
       "      <td>Chinese Pavilion</td>\n",
       "      <td>Ramandeep</td>\n",
       "      <td>Bad rating is mainly because of \"Chicken Bone ...</td>\n",
       "      <td>1.5</td>\n",
       "      <td>65 Reviews , 423 Followers</td>\n",
       "      <td>6/3/2016 10:37</td>\n",
       "      <td>3</td>\n",
       "    </tr>\n",
       "    <tr>\n",
       "      <th>9998</th>\n",
       "      <td>Chinese Pavilion</td>\n",
       "      <td>Nayana Shanbhag</td>\n",
       "      <td>I personally love and prefer Chinese Food. Had...</td>\n",
       "      <td>4</td>\n",
       "      <td>13 Reviews , 144 Followers</td>\n",
       "      <td>5/31/2016 17:22</td>\n",
       "      <td>0</td>\n",
       "    </tr>\n",
       "    <tr>\n",
       "      <th>9999</th>\n",
       "      <td>Chinese Pavilion</td>\n",
       "      <td>Bhargava Krishna</td>\n",
       "      <td>Checked in here to try some delicious chinese ...</td>\n",
       "      <td>3.5</td>\n",
       "      <td>472 Reviews , 1302 Followers</td>\n",
       "      <td>5/31/2016 16:41</td>\n",
       "      <td>6</td>\n",
       "    </tr>\n",
       "  </tbody>\n",
       "</table>\n",
       "<p>10000 rows × 7 columns</p>\n",
       "</div>"
      ],
      "text/plain": [
       "            Restaurant              Reviewer  \\\n",
       "0      Beyond Flavours     Rusha Chakraborty   \n",
       "1      Beyond Flavours  Anusha Tirumalaneedi   \n",
       "2      Beyond Flavours       Ashok Shekhawat   \n",
       "3      Beyond Flavours        Swapnil Sarkar   \n",
       "4      Beyond Flavours                Dileep   \n",
       "...                ...                   ...   \n",
       "9995  Chinese Pavilion      Abhishek Mahajan   \n",
       "9996  Chinese Pavilion        Sharad Agrawal   \n",
       "9997  Chinese Pavilion             Ramandeep   \n",
       "9998  Chinese Pavilion       Nayana Shanbhag   \n",
       "9999  Chinese Pavilion      Bhargava Krishna   \n",
       "\n",
       "                                                 Review Rating  \\\n",
       "0     The ambience was good, food was quite good . h...      5   \n",
       "1     Ambience is too good for a pleasant evening. S...      5   \n",
       "2     A must try.. great food great ambience. Thnx f...      5   \n",
       "3     Soumen das and Arun was a great guy. Only beca...      5   \n",
       "4     Food is good.we ordered Kodi drumsticks and ba...      5   \n",
       "...                                                 ...    ...   \n",
       "9995  Madhumathi Mahajan Well to start with nice cou...      3   \n",
       "9996  This place has never disappointed us.. The foo...    4.5   \n",
       "9997  Bad rating is mainly because of \"Chicken Bone ...    1.5   \n",
       "9998  I personally love and prefer Chinese Food. Had...      4   \n",
       "9999  Checked in here to try some delicious chinese ...    3.5   \n",
       "\n",
       "                          Metadata             Time  Pictures  \n",
       "0           1 Review , 2 Followers  5/25/2019 15:54         0  \n",
       "1          3 Reviews , 2 Followers  5/25/2019 14:20         0  \n",
       "2          2 Reviews , 3 Followers  5/24/2019 22:54         0  \n",
       "3            1 Review , 1 Follower  5/24/2019 22:11         0  \n",
       "4          3 Reviews , 2 Followers  5/24/2019 21:37         0  \n",
       "...                            ...              ...       ...  \n",
       "9995     53 Reviews , 54 Followers    6/5/2016 0:08         0  \n",
       "9996      2 Reviews , 53 Followers   6/4/2016 22:01         0  \n",
       "9997    65 Reviews , 423 Followers   6/3/2016 10:37         3  \n",
       "9998    13 Reviews , 144 Followers  5/31/2016 17:22         0  \n",
       "9999  472 Reviews , 1302 Followers  5/31/2016 16:41         6  \n",
       "\n",
       "[10000 rows x 7 columns]"
      ]
     },
     "execution_count": 4,
     "metadata": {},
     "output_type": "execute_result"
    }
   ],
   "source": [
    "reviews"
   ]
  },
  {
   "cell_type": "code",
   "execution_count": 5,
   "metadata": {},
   "outputs": [
    {
     "data": {
      "text/html": [
       "<div>\n",
       "<style scoped>\n",
       "    .dataframe tbody tr th:only-of-type {\n",
       "        vertical-align: middle;\n",
       "    }\n",
       "\n",
       "    .dataframe tbody tr th {\n",
       "        vertical-align: top;\n",
       "    }\n",
       "\n",
       "    .dataframe thead th {\n",
       "        text-align: right;\n",
       "    }\n",
       "</style>\n",
       "<table border=\"1\" class=\"dataframe\">\n",
       "  <thead>\n",
       "    <tr style=\"text-align: right;\">\n",
       "      <th></th>\n",
       "      <th>Restaurant</th>\n",
       "      <th>Reviewer</th>\n",
       "      <th>Review</th>\n",
       "      <th>Rating</th>\n",
       "      <th>Metadata</th>\n",
       "      <th>Time</th>\n",
       "      <th>Pictures</th>\n",
       "    </tr>\n",
       "  </thead>\n",
       "  <tbody>\n",
       "    <tr>\n",
       "      <th>count</th>\n",
       "      <td>10000</td>\n",
       "      <td>9962</td>\n",
       "      <td>9955</td>\n",
       "      <td>9962</td>\n",
       "      <td>9962</td>\n",
       "      <td>9962</td>\n",
       "      <td>10000.000000</td>\n",
       "    </tr>\n",
       "    <tr>\n",
       "      <th>unique</th>\n",
       "      <td>100</td>\n",
       "      <td>7446</td>\n",
       "      <td>9364</td>\n",
       "      <td>10</td>\n",
       "      <td>2477</td>\n",
       "      <td>9782</td>\n",
       "      <td>NaN</td>\n",
       "    </tr>\n",
       "    <tr>\n",
       "      <th>top</th>\n",
       "      <td>Beyond Flavours</td>\n",
       "      <td>Parijat Ray</td>\n",
       "      <td>good</td>\n",
       "      <td>5</td>\n",
       "      <td>1 Review</td>\n",
       "      <td>7/29/2018 20:34</td>\n",
       "      <td>NaN</td>\n",
       "    </tr>\n",
       "    <tr>\n",
       "      <th>freq</th>\n",
       "      <td>100</td>\n",
       "      <td>13</td>\n",
       "      <td>237</td>\n",
       "      <td>3832</td>\n",
       "      <td>919</td>\n",
       "      <td>3</td>\n",
       "      <td>NaN</td>\n",
       "    </tr>\n",
       "    <tr>\n",
       "      <th>mean</th>\n",
       "      <td>NaN</td>\n",
       "      <td>NaN</td>\n",
       "      <td>NaN</td>\n",
       "      <td>NaN</td>\n",
       "      <td>NaN</td>\n",
       "      <td>NaN</td>\n",
       "      <td>0.748600</td>\n",
       "    </tr>\n",
       "    <tr>\n",
       "      <th>std</th>\n",
       "      <td>NaN</td>\n",
       "      <td>NaN</td>\n",
       "      <td>NaN</td>\n",
       "      <td>NaN</td>\n",
       "      <td>NaN</td>\n",
       "      <td>NaN</td>\n",
       "      <td>2.570381</td>\n",
       "    </tr>\n",
       "    <tr>\n",
       "      <th>min</th>\n",
       "      <td>NaN</td>\n",
       "      <td>NaN</td>\n",
       "      <td>NaN</td>\n",
       "      <td>NaN</td>\n",
       "      <td>NaN</td>\n",
       "      <td>NaN</td>\n",
       "      <td>0.000000</td>\n",
       "    </tr>\n",
       "    <tr>\n",
       "      <th>25%</th>\n",
       "      <td>NaN</td>\n",
       "      <td>NaN</td>\n",
       "      <td>NaN</td>\n",
       "      <td>NaN</td>\n",
       "      <td>NaN</td>\n",
       "      <td>NaN</td>\n",
       "      <td>0.000000</td>\n",
       "    </tr>\n",
       "    <tr>\n",
       "      <th>50%</th>\n",
       "      <td>NaN</td>\n",
       "      <td>NaN</td>\n",
       "      <td>NaN</td>\n",
       "      <td>NaN</td>\n",
       "      <td>NaN</td>\n",
       "      <td>NaN</td>\n",
       "      <td>0.000000</td>\n",
       "    </tr>\n",
       "    <tr>\n",
       "      <th>75%</th>\n",
       "      <td>NaN</td>\n",
       "      <td>NaN</td>\n",
       "      <td>NaN</td>\n",
       "      <td>NaN</td>\n",
       "      <td>NaN</td>\n",
       "      <td>NaN</td>\n",
       "      <td>0.000000</td>\n",
       "    </tr>\n",
       "    <tr>\n",
       "      <th>max</th>\n",
       "      <td>NaN</td>\n",
       "      <td>NaN</td>\n",
       "      <td>NaN</td>\n",
       "      <td>NaN</td>\n",
       "      <td>NaN</td>\n",
       "      <td>NaN</td>\n",
       "      <td>64.000000</td>\n",
       "    </tr>\n",
       "  </tbody>\n",
       "</table>\n",
       "</div>"
      ],
      "text/plain": [
       "             Restaurant     Reviewer Review Rating  Metadata             Time  \\\n",
       "count             10000         9962   9955   9962      9962             9962   \n",
       "unique              100         7446   9364     10      2477             9782   \n",
       "top     Beyond Flavours  Parijat Ray   good      5  1 Review  7/29/2018 20:34   \n",
       "freq                100           13    237   3832       919                3   \n",
       "mean                NaN          NaN    NaN    NaN       NaN              NaN   \n",
       "std                 NaN          NaN    NaN    NaN       NaN              NaN   \n",
       "min                 NaN          NaN    NaN    NaN       NaN              NaN   \n",
       "25%                 NaN          NaN    NaN    NaN       NaN              NaN   \n",
       "50%                 NaN          NaN    NaN    NaN       NaN              NaN   \n",
       "75%                 NaN          NaN    NaN    NaN       NaN              NaN   \n",
       "max                 NaN          NaN    NaN    NaN       NaN              NaN   \n",
       "\n",
       "            Pictures  \n",
       "count   10000.000000  \n",
       "unique           NaN  \n",
       "top              NaN  \n",
       "freq             NaN  \n",
       "mean        0.748600  \n",
       "std         2.570381  \n",
       "min         0.000000  \n",
       "25%         0.000000  \n",
       "50%         0.000000  \n",
       "75%         0.000000  \n",
       "max        64.000000  "
      ]
     },
     "execution_count": 5,
     "metadata": {},
     "output_type": "execute_result"
    }
   ],
   "source": [
    "reviews.describe(include = \"all\")"
   ]
  },
  {
   "cell_type": "code",
   "execution_count": 6,
   "metadata": {},
   "outputs": [
    {
     "name": "stdout",
     "output_type": "stream",
     "text": [
      "<class 'pandas.core.frame.DataFrame'>\n",
      "RangeIndex: 10000 entries, 0 to 9999\n",
      "Data columns (total 7 columns):\n",
      " #   Column      Non-Null Count  Dtype \n",
      "---  ------      --------------  ----- \n",
      " 0   Restaurant  10000 non-null  object\n",
      " 1   Reviewer    9962 non-null   object\n",
      " 2   Review      9955 non-null   object\n",
      " 3   Rating      9962 non-null   object\n",
      " 4   Metadata    9962 non-null   object\n",
      " 5   Time        9962 non-null   object\n",
      " 6   Pictures    10000 non-null  int64 \n",
      "dtypes: int64(1), object(6)\n",
      "memory usage: 547.0+ KB\n"
     ]
    }
   ],
   "source": [
    "reviews.info()"
   ]
  },
  {
   "cell_type": "code",
   "execution_count": 7,
   "metadata": {},
   "outputs": [
    {
     "data": {
      "text/html": [
       "<div>\n",
       "<style scoped>\n",
       "    .dataframe tbody tr th:only-of-type {\n",
       "        vertical-align: middle;\n",
       "    }\n",
       "\n",
       "    .dataframe tbody tr th {\n",
       "        vertical-align: top;\n",
       "    }\n",
       "\n",
       "    .dataframe thead th {\n",
       "        text-align: right;\n",
       "    }\n",
       "</style>\n",
       "<table border=\"1\" class=\"dataframe\">\n",
       "  <thead>\n",
       "    <tr style=\"text-align: right;\">\n",
       "      <th></th>\n",
       "      <th>Restaurant</th>\n",
       "      <th>Reviewer</th>\n",
       "      <th>Review</th>\n",
       "      <th>Rating</th>\n",
       "      <th>Metadata</th>\n",
       "      <th>Time</th>\n",
       "      <th>Pictures</th>\n",
       "    </tr>\n",
       "  </thead>\n",
       "  <tbody>\n",
       "  </tbody>\n",
       "</table>\n",
       "</div>"
      ],
      "text/plain": [
       "Empty DataFrame\n",
       "Columns: [Restaurant, Reviewer, Review, Rating, Metadata, Time, Pictures]\n",
       "Index: []"
      ]
     },
     "execution_count": 7,
     "metadata": {},
     "output_type": "execute_result"
    }
   ],
   "source": [
    "reviews.dropna(subset=['Review'], inplace=True)\n",
    "reviews[reviews[\"Review\"].isna()]"
   ]
  },
  {
   "cell_type": "code",
   "execution_count": 8,
   "metadata": {},
   "outputs": [],
   "source": [
    "reviews.drop(columns = [\"Reviewer\", \"Time\", \"Pictures\"], inplace= True)"
   ]
  },
  {
   "cell_type": "code",
   "execution_count": 9,
   "metadata": {},
   "outputs": [
    {
     "data": {
      "text/html": [
       "<div>\n",
       "<style scoped>\n",
       "    .dataframe tbody tr th:only-of-type {\n",
       "        vertical-align: middle;\n",
       "    }\n",
       "\n",
       "    .dataframe tbody tr th {\n",
       "        vertical-align: top;\n",
       "    }\n",
       "\n",
       "    .dataframe thead th {\n",
       "        text-align: right;\n",
       "    }\n",
       "</style>\n",
       "<table border=\"1\" class=\"dataframe\">\n",
       "  <thead>\n",
       "    <tr style=\"text-align: right;\">\n",
       "      <th></th>\n",
       "      <th>Name</th>\n",
       "      <th>Links</th>\n",
       "      <th>Cost</th>\n",
       "      <th>Collections</th>\n",
       "      <th>Cuisines</th>\n",
       "      <th>Timings</th>\n",
       "    </tr>\n",
       "  </thead>\n",
       "  <tbody>\n",
       "    <tr>\n",
       "      <th>0</th>\n",
       "      <td>Beyond Flavours</td>\n",
       "      <td>https://www.zomato.com/hyderabad/beyond-flavou...</td>\n",
       "      <td>800</td>\n",
       "      <td>Food Hygiene Rated Restaurants in Hyderabad, C...</td>\n",
       "      <td>Chinese, Continental, Kebab, European, South I...</td>\n",
       "      <td>12noon to 3:30pm, 6:30pm to 11:30pm (Mon-Sun)</td>\n",
       "    </tr>\n",
       "    <tr>\n",
       "      <th>1</th>\n",
       "      <td>Paradise</td>\n",
       "      <td>https://www.zomato.com/hyderabad/paradise-gach...</td>\n",
       "      <td>800</td>\n",
       "      <td>Hyderabad's Hottest</td>\n",
       "      <td>Biryani, North Indian, Chinese</td>\n",
       "      <td>11 AM to 11 PM</td>\n",
       "    </tr>\n",
       "    <tr>\n",
       "      <th>2</th>\n",
       "      <td>Flechazo</td>\n",
       "      <td>https://www.zomato.com/hyderabad/flechazo-gach...</td>\n",
       "      <td>1,300</td>\n",
       "      <td>Great Buffets, Hyderabad's Hottest</td>\n",
       "      <td>Asian, Mediterranean, North Indian, Desserts</td>\n",
       "      <td>11:30 AM to 4:30 PM, 6:30 PM to 11 PM</td>\n",
       "    </tr>\n",
       "    <tr>\n",
       "      <th>3</th>\n",
       "      <td>Shah Ghouse Hotel &amp; Restaurant</td>\n",
       "      <td>https://www.zomato.com/hyderabad/shah-ghouse-h...</td>\n",
       "      <td>800</td>\n",
       "      <td>Late Night Restaurants</td>\n",
       "      <td>Biryani, North Indian, Chinese, Seafood, Bever...</td>\n",
       "      <td>12 Noon to 2 AM</td>\n",
       "    </tr>\n",
       "    <tr>\n",
       "      <th>4</th>\n",
       "      <td>Over The Moon Brew Company</td>\n",
       "      <td>https://www.zomato.com/hyderabad/over-the-moon...</td>\n",
       "      <td>1,200</td>\n",
       "      <td>Best Bars &amp; Pubs, Food Hygiene Rated Restauran...</td>\n",
       "      <td>Asian, Continental, North Indian, Chinese, Med...</td>\n",
       "      <td>12noon to 11pm (Mon, Tue, Wed, Thu, Sun), 12no...</td>\n",
       "    </tr>\n",
       "    <tr>\n",
       "      <th>...</th>\n",
       "      <td>...</td>\n",
       "      <td>...</td>\n",
       "      <td>...</td>\n",
       "      <td>...</td>\n",
       "      <td>...</td>\n",
       "      <td>...</td>\n",
       "    </tr>\n",
       "    <tr>\n",
       "      <th>100</th>\n",
       "      <td>IndiBlaze</td>\n",
       "      <td>https://www.zomato.com/hyderabad/indiblaze-gac...</td>\n",
       "      <td>600</td>\n",
       "      <td>NaN</td>\n",
       "      <td>Fast Food, Salad</td>\n",
       "      <td>11 AM to 11 PM</td>\n",
       "    </tr>\n",
       "    <tr>\n",
       "      <th>101</th>\n",
       "      <td>Sweet Basket</td>\n",
       "      <td>https://www.zomato.com/hyderabad/sweet-basket-...</td>\n",
       "      <td>200</td>\n",
       "      <td>NaN</td>\n",
       "      <td>Bakery, Mithai</td>\n",
       "      <td>10 AM to 10 PM (Mon-Thu), 8 AM to 10:30 PM (Fr...</td>\n",
       "    </tr>\n",
       "    <tr>\n",
       "      <th>102</th>\n",
       "      <td>Angaara Counts 3</td>\n",
       "      <td>https://www.zomato.com/hyderabad/angaara-count...</td>\n",
       "      <td>500</td>\n",
       "      <td>NaN</td>\n",
       "      <td>North Indian, Biryani, Chinese</td>\n",
       "      <td>12 Noon to 11 PM</td>\n",
       "    </tr>\n",
       "    <tr>\n",
       "      <th>103</th>\n",
       "      <td>Wich Please</td>\n",
       "      <td>https://www.zomato.com/hyderabad/wich-please-1...</td>\n",
       "      <td>250</td>\n",
       "      <td>NaN</td>\n",
       "      <td>Fast Food</td>\n",
       "      <td>8am to 12:30AM (Mon-Sun)</td>\n",
       "    </tr>\n",
       "    <tr>\n",
       "      <th>104</th>\n",
       "      <td>Republic Of Noodles - Lemon Tree Hotel</td>\n",
       "      <td>https://www.zomato.com/hyderabad/republic-of-n...</td>\n",
       "      <td>1,700</td>\n",
       "      <td>Pan-Asian Delicacies</td>\n",
       "      <td>Thai, Asian, Chinese, Malaysian</td>\n",
       "      <td>11:30 AM to 3 PM, 7 PM to 12 Midnight</td>\n",
       "    </tr>\n",
       "  </tbody>\n",
       "</table>\n",
       "<p>105 rows × 6 columns</p>\n",
       "</div>"
      ],
      "text/plain": [
       "                                       Name  \\\n",
       "0                           Beyond Flavours   \n",
       "1                                  Paradise   \n",
       "2                                  Flechazo   \n",
       "3            Shah Ghouse Hotel & Restaurant   \n",
       "4                Over The Moon Brew Company   \n",
       "..                                      ...   \n",
       "100                               IndiBlaze   \n",
       "101                            Sweet Basket   \n",
       "102                        Angaara Counts 3   \n",
       "103                             Wich Please   \n",
       "104  Republic Of Noodles - Lemon Tree Hotel   \n",
       "\n",
       "                                                 Links   Cost  \\\n",
       "0    https://www.zomato.com/hyderabad/beyond-flavou...    800   \n",
       "1    https://www.zomato.com/hyderabad/paradise-gach...    800   \n",
       "2    https://www.zomato.com/hyderabad/flechazo-gach...  1,300   \n",
       "3    https://www.zomato.com/hyderabad/shah-ghouse-h...    800   \n",
       "4    https://www.zomato.com/hyderabad/over-the-moon...  1,200   \n",
       "..                                                 ...    ...   \n",
       "100  https://www.zomato.com/hyderabad/indiblaze-gac...    600   \n",
       "101  https://www.zomato.com/hyderabad/sweet-basket-...    200   \n",
       "102  https://www.zomato.com/hyderabad/angaara-count...    500   \n",
       "103  https://www.zomato.com/hyderabad/wich-please-1...    250   \n",
       "104  https://www.zomato.com/hyderabad/republic-of-n...  1,700   \n",
       "\n",
       "                                           Collections  \\\n",
       "0    Food Hygiene Rated Restaurants in Hyderabad, C...   \n",
       "1                                  Hyderabad's Hottest   \n",
       "2                   Great Buffets, Hyderabad's Hottest   \n",
       "3                               Late Night Restaurants   \n",
       "4    Best Bars & Pubs, Food Hygiene Rated Restauran...   \n",
       "..                                                 ...   \n",
       "100                                                NaN   \n",
       "101                                                NaN   \n",
       "102                                                NaN   \n",
       "103                                                NaN   \n",
       "104                               Pan-Asian Delicacies   \n",
       "\n",
       "                                              Cuisines  \\\n",
       "0    Chinese, Continental, Kebab, European, South I...   \n",
       "1                       Biryani, North Indian, Chinese   \n",
       "2         Asian, Mediterranean, North Indian, Desserts   \n",
       "3    Biryani, North Indian, Chinese, Seafood, Bever...   \n",
       "4    Asian, Continental, North Indian, Chinese, Med...   \n",
       "..                                                 ...   \n",
       "100                                   Fast Food, Salad   \n",
       "101                                     Bakery, Mithai   \n",
       "102                     North Indian, Biryani, Chinese   \n",
       "103                                          Fast Food   \n",
       "104                    Thai, Asian, Chinese, Malaysian   \n",
       "\n",
       "                                               Timings  \n",
       "0        12noon to 3:30pm, 6:30pm to 11:30pm (Mon-Sun)  \n",
       "1                                       11 AM to 11 PM  \n",
       "2                11:30 AM to 4:30 PM, 6:30 PM to 11 PM  \n",
       "3                                      12 Noon to 2 AM  \n",
       "4    12noon to 11pm (Mon, Tue, Wed, Thu, Sun), 12no...  \n",
       "..                                                 ...  \n",
       "100                                     11 AM to 11 PM  \n",
       "101  10 AM to 10 PM (Mon-Thu), 8 AM to 10:30 PM (Fr...  \n",
       "102                                   12 Noon to 11 PM  \n",
       "103                           8am to 12:30AM (Mon-Sun)  \n",
       "104              11:30 AM to 3 PM, 7 PM to 12 Midnight  \n",
       "\n",
       "[105 rows x 6 columns]"
      ]
     },
     "execution_count": 9,
     "metadata": {},
     "output_type": "execute_result"
    }
   ],
   "source": [
    "restaurants"
   ]
  },
  {
   "cell_type": "code",
   "execution_count": 10,
   "metadata": {},
   "outputs": [
    {
     "name": "stdout",
     "output_type": "stream",
     "text": [
      "<class 'pandas.core.frame.DataFrame'>\n",
      "RangeIndex: 105 entries, 0 to 104\n",
      "Data columns (total 6 columns):\n",
      " #   Column       Non-Null Count  Dtype \n",
      "---  ------       --------------  ----- \n",
      " 0   Name         105 non-null    object\n",
      " 1   Links        105 non-null    object\n",
      " 2   Cost         105 non-null    object\n",
      " 3   Collections  51 non-null     object\n",
      " 4   Cuisines     105 non-null    object\n",
      " 5   Timings      104 non-null    object\n",
      "dtypes: object(6)\n",
      "memory usage: 5.0+ KB\n"
     ]
    }
   ],
   "source": [
    "restaurants.info()"
   ]
  },
  {
   "cell_type": "code",
   "execution_count": 11,
   "metadata": {},
   "outputs": [
    {
     "data": {
      "text/html": [
       "<div>\n",
       "<style scoped>\n",
       "    .dataframe tbody tr th:only-of-type {\n",
       "        vertical-align: middle;\n",
       "    }\n",
       "\n",
       "    .dataframe tbody tr th {\n",
       "        vertical-align: top;\n",
       "    }\n",
       "\n",
       "    .dataframe thead th {\n",
       "        text-align: right;\n",
       "    }\n",
       "</style>\n",
       "<table border=\"1\" class=\"dataframe\">\n",
       "  <thead>\n",
       "    <tr style=\"text-align: right;\">\n",
       "      <th></th>\n",
       "      <th>Name</th>\n",
       "      <th>Links</th>\n",
       "      <th>Cost</th>\n",
       "      <th>Collections</th>\n",
       "      <th>Cuisines</th>\n",
       "      <th>Timings</th>\n",
       "    </tr>\n",
       "  </thead>\n",
       "  <tbody>\n",
       "    <tr>\n",
       "      <th>count</th>\n",
       "      <td>105</td>\n",
       "      <td>105</td>\n",
       "      <td>105</td>\n",
       "      <td>51</td>\n",
       "      <td>105</td>\n",
       "      <td>104</td>\n",
       "    </tr>\n",
       "    <tr>\n",
       "      <th>unique</th>\n",
       "      <td>105</td>\n",
       "      <td>105</td>\n",
       "      <td>29</td>\n",
       "      <td>42</td>\n",
       "      <td>92</td>\n",
       "      <td>77</td>\n",
       "    </tr>\n",
       "    <tr>\n",
       "      <th>top</th>\n",
       "      <td>Beyond Flavours</td>\n",
       "      <td>https://www.zomato.com/hyderabad/beyond-flavou...</td>\n",
       "      <td>500</td>\n",
       "      <td>Food Hygiene Rated Restaurants in Hyderabad</td>\n",
       "      <td>North Indian, Chinese</td>\n",
       "      <td>11 AM to 11 PM</td>\n",
       "    </tr>\n",
       "    <tr>\n",
       "      <th>freq</th>\n",
       "      <td>1</td>\n",
       "      <td>1</td>\n",
       "      <td>13</td>\n",
       "      <td>4</td>\n",
       "      <td>4</td>\n",
       "      <td>6</td>\n",
       "    </tr>\n",
       "  </tbody>\n",
       "</table>\n",
       "</div>"
      ],
      "text/plain": [
       "                   Name                                              Links  \\\n",
       "count               105                                                105   \n",
       "unique              105                                                105   \n",
       "top     Beyond Flavours  https://www.zomato.com/hyderabad/beyond-flavou...   \n",
       "freq                  1                                                  1   \n",
       "\n",
       "       Cost                                  Collections  \\\n",
       "count   105                                           51   \n",
       "unique   29                                           42   \n",
       "top     500  Food Hygiene Rated Restaurants in Hyderabad   \n",
       "freq     13                                            4   \n",
       "\n",
       "                     Cuisines         Timings  \n",
       "count                     105             104  \n",
       "unique                     92              77  \n",
       "top     North Indian, Chinese  11 AM to 11 PM  \n",
       "freq                        4               6  "
      ]
     },
     "execution_count": 11,
     "metadata": {},
     "output_type": "execute_result"
    }
   ],
   "source": [
    "restaurants.describe(include=\"all\")"
   ]
  },
  {
   "cell_type": "code",
   "execution_count": 12,
   "metadata": {},
   "outputs": [],
   "source": [
    "dicti = {}\n",
    "for i in range(len(restaurants)):\n",
    "    dicti[restaurants[\"Name\"][i]] = restaurants[\"Cuisines\"][i]"
   ]
  },
  {
   "cell_type": "code",
   "execution_count": 13,
   "metadata": {},
   "outputs": [],
   "source": [
    "reviews[\"Cuisine\"] = None\n",
    "for i in reviews.index:\n",
    "    reviews[\"Cuisine\"][i] = dicti[reviews[\"Restaurant\"][i]]"
   ]
  },
  {
   "cell_type": "code",
   "execution_count": 14,
   "metadata": {},
   "outputs": [
    {
     "data": {
      "text/html": [
       "<div>\n",
       "<style scoped>\n",
       "    .dataframe tbody tr th:only-of-type {\n",
       "        vertical-align: middle;\n",
       "    }\n",
       "\n",
       "    .dataframe tbody tr th {\n",
       "        vertical-align: top;\n",
       "    }\n",
       "\n",
       "    .dataframe thead th {\n",
       "        text-align: right;\n",
       "    }\n",
       "</style>\n",
       "<table border=\"1\" class=\"dataframe\">\n",
       "  <thead>\n",
       "    <tr style=\"text-align: right;\">\n",
       "      <th></th>\n",
       "      <th>Restaurant</th>\n",
       "      <th>Review</th>\n",
       "      <th>Rating</th>\n",
       "      <th>Metadata</th>\n",
       "      <th>Cuisine</th>\n",
       "    </tr>\n",
       "  </thead>\n",
       "  <tbody>\n",
       "    <tr>\n",
       "      <th>0</th>\n",
       "      <td>Beyond Flavours</td>\n",
       "      <td>The ambience was good, food was quite good . h...</td>\n",
       "      <td>5</td>\n",
       "      <td>1 Review , 2 Followers</td>\n",
       "      <td>Chinese, Continental, Kebab, European, South I...</td>\n",
       "    </tr>\n",
       "    <tr>\n",
       "      <th>1</th>\n",
       "      <td>Beyond Flavours</td>\n",
       "      <td>Ambience is too good for a pleasant evening. S...</td>\n",
       "      <td>5</td>\n",
       "      <td>3 Reviews , 2 Followers</td>\n",
       "      <td>Chinese, Continental, Kebab, European, South I...</td>\n",
       "    </tr>\n",
       "    <tr>\n",
       "      <th>2</th>\n",
       "      <td>Beyond Flavours</td>\n",
       "      <td>A must try.. great food great ambience. Thnx f...</td>\n",
       "      <td>5</td>\n",
       "      <td>2 Reviews , 3 Followers</td>\n",
       "      <td>Chinese, Continental, Kebab, European, South I...</td>\n",
       "    </tr>\n",
       "    <tr>\n",
       "      <th>3</th>\n",
       "      <td>Beyond Flavours</td>\n",
       "      <td>Soumen das and Arun was a great guy. Only beca...</td>\n",
       "      <td>5</td>\n",
       "      <td>1 Review , 1 Follower</td>\n",
       "      <td>Chinese, Continental, Kebab, European, South I...</td>\n",
       "    </tr>\n",
       "    <tr>\n",
       "      <th>4</th>\n",
       "      <td>Beyond Flavours</td>\n",
       "      <td>Food is good.we ordered Kodi drumsticks and ba...</td>\n",
       "      <td>5</td>\n",
       "      <td>3 Reviews , 2 Followers</td>\n",
       "      <td>Chinese, Continental, Kebab, European, South I...</td>\n",
       "    </tr>\n",
       "    <tr>\n",
       "      <th>...</th>\n",
       "      <td>...</td>\n",
       "      <td>...</td>\n",
       "      <td>...</td>\n",
       "      <td>...</td>\n",
       "      <td>...</td>\n",
       "    </tr>\n",
       "    <tr>\n",
       "      <th>9995</th>\n",
       "      <td>Chinese Pavilion</td>\n",
       "      <td>Madhumathi Mahajan Well to start with nice cou...</td>\n",
       "      <td>3</td>\n",
       "      <td>53 Reviews , 54 Followers</td>\n",
       "      <td>Chinese, Seafood</td>\n",
       "    </tr>\n",
       "    <tr>\n",
       "      <th>9996</th>\n",
       "      <td>Chinese Pavilion</td>\n",
       "      <td>This place has never disappointed us.. The foo...</td>\n",
       "      <td>4.5</td>\n",
       "      <td>2 Reviews , 53 Followers</td>\n",
       "      <td>Chinese, Seafood</td>\n",
       "    </tr>\n",
       "    <tr>\n",
       "      <th>9997</th>\n",
       "      <td>Chinese Pavilion</td>\n",
       "      <td>Bad rating is mainly because of \"Chicken Bone ...</td>\n",
       "      <td>1.5</td>\n",
       "      <td>65 Reviews , 423 Followers</td>\n",
       "      <td>Chinese, Seafood</td>\n",
       "    </tr>\n",
       "    <tr>\n",
       "      <th>9998</th>\n",
       "      <td>Chinese Pavilion</td>\n",
       "      <td>I personally love and prefer Chinese Food. Had...</td>\n",
       "      <td>4</td>\n",
       "      <td>13 Reviews , 144 Followers</td>\n",
       "      <td>Chinese, Seafood</td>\n",
       "    </tr>\n",
       "    <tr>\n",
       "      <th>9999</th>\n",
       "      <td>Chinese Pavilion</td>\n",
       "      <td>Checked in here to try some delicious chinese ...</td>\n",
       "      <td>3.5</td>\n",
       "      <td>472 Reviews , 1302 Followers</td>\n",
       "      <td>Chinese, Seafood</td>\n",
       "    </tr>\n",
       "  </tbody>\n",
       "</table>\n",
       "<p>9955 rows × 5 columns</p>\n",
       "</div>"
      ],
      "text/plain": [
       "            Restaurant                                             Review  \\\n",
       "0      Beyond Flavours  The ambience was good, food was quite good . h...   \n",
       "1      Beyond Flavours  Ambience is too good for a pleasant evening. S...   \n",
       "2      Beyond Flavours  A must try.. great food great ambience. Thnx f...   \n",
       "3      Beyond Flavours  Soumen das and Arun was a great guy. Only beca...   \n",
       "4      Beyond Flavours  Food is good.we ordered Kodi drumsticks and ba...   \n",
       "...                ...                                                ...   \n",
       "9995  Chinese Pavilion  Madhumathi Mahajan Well to start with nice cou...   \n",
       "9996  Chinese Pavilion  This place has never disappointed us.. The foo...   \n",
       "9997  Chinese Pavilion  Bad rating is mainly because of \"Chicken Bone ...   \n",
       "9998  Chinese Pavilion  I personally love and prefer Chinese Food. Had...   \n",
       "9999  Chinese Pavilion  Checked in here to try some delicious chinese ...   \n",
       "\n",
       "     Rating                      Metadata  \\\n",
       "0         5        1 Review , 2 Followers   \n",
       "1         5       3 Reviews , 2 Followers   \n",
       "2         5       2 Reviews , 3 Followers   \n",
       "3         5         1 Review , 1 Follower   \n",
       "4         5       3 Reviews , 2 Followers   \n",
       "...     ...                           ...   \n",
       "9995      3     53 Reviews , 54 Followers   \n",
       "9996    4.5      2 Reviews , 53 Followers   \n",
       "9997    1.5    65 Reviews , 423 Followers   \n",
       "9998      4    13 Reviews , 144 Followers   \n",
       "9999    3.5  472 Reviews , 1302 Followers   \n",
       "\n",
       "                                                Cuisine  \n",
       "0     Chinese, Continental, Kebab, European, South I...  \n",
       "1     Chinese, Continental, Kebab, European, South I...  \n",
       "2     Chinese, Continental, Kebab, European, South I...  \n",
       "3     Chinese, Continental, Kebab, European, South I...  \n",
       "4     Chinese, Continental, Kebab, European, South I...  \n",
       "...                                                 ...  \n",
       "9995                                   Chinese, Seafood  \n",
       "9996                                   Chinese, Seafood  \n",
       "9997                                   Chinese, Seafood  \n",
       "9998                                   Chinese, Seafood  \n",
       "9999                                   Chinese, Seafood  \n",
       "\n",
       "[9955 rows x 5 columns]"
      ]
     },
     "execution_count": 14,
     "metadata": {},
     "output_type": "execute_result"
    }
   ],
   "source": [
    "reviews"
   ]
  },
  {
   "cell_type": "code",
   "execution_count": 15,
   "metadata": {},
   "outputs": [
    {
     "name": "stdout",
     "output_type": "stream",
     "text": [
      "9061    The food was superb!\\nOrdered:\\nHoney chilli c...\n",
      "8924    Sorry to say but got rotten tomato and cucumbe...\n",
      "7026    Amazing place with historical collection , col...\n",
      "9252    Visited this place for dinner. Classy ambience...\n",
      "5698    I am sorry to say this but nothing, i mean not...\n",
      "2590    Visited this place on a Saturday evening cause...\n",
      "9575                                        very bad item\n",
      "5773                                                 good\n",
      "5380    delivery person is not all good very much trou...\n",
      "230     Oh I had so much hope on this place looking at...\n",
      "8133    aloo Paratha and pulav which I have tried were...\n",
      "2556    Love the terrace sitting area. The music and c...\n",
      "Name: Review, dtype: object\n"
     ]
    }
   ],
   "source": [
    "print(reviews[\"Review\"].sample(12))"
   ]
  },
  {
   "cell_type": "code",
   "execution_count": 16,
   "metadata": {},
   "outputs": [
    {
     "name": "stdout",
     "output_type": "stream",
     "text": [
      "2464                   North Indian, Chinese, Continental\n",
      "1098                 Street Food, North Indian, Fast Food\n",
      "8274    North Indian, Chinese, Seafood, Biryani, Hyder...\n",
      "110                        Biryani, North Indian, Chinese\n",
      "429     Asian, Continental, North Indian, Chinese, Med...\n",
      "706                                              Lebanese\n",
      "7912          North Indian, Chinese, Continental, Biryani\n",
      "3075                   Andhra, South Indian, North Indian\n",
      "5573                                         Cafe, Bakery\n",
      "5293                       North Indian, Biryani, Chinese\n",
      "4057              European, Italian, Continental, Spanish\n",
      "9222    Continental, Italian, North Indian, Chinese, A...\n",
      "Name: Cuisine, dtype: object\n"
     ]
    }
   ],
   "source": [
    "print(reviews[\"Cuisine\"].sample(12))"
   ]
  },
  {
   "cell_type": "markdown",
   "metadata": {},
   "source": [
    "From the data exploration we concluded:\n",
    "- There were missing values e some columns however, the only meaningful one was the `Review` and those were dropped, the other missing were kept\n",
    "- We joined the cuisines from the `restaurants` to the `reviews` dataset so that we have the important information merged in only one dataset\n",
    "- After taking samples of the `Review`, it is a string of words, numbers and emojis\n",
    "- After taking samples of the `Cuisine`, it is a of types of cuisines seperated by comas"
   ]
  },
  {
   "cell_type": "markdown",
   "metadata": {},
   "source": [
    "<font color='#BFD72F' size=5>2. Visualization and understanding</font> <a class=\"anchor\" id=\"P1\"></a>\n",
    "  \n",
    "[Back to TOC](#toc)\n"
   ]
  },
  {
   "cell_type": "code",
   "execution_count": 17,
   "metadata": {},
   "outputs": [],
   "source": [
    "reviews[\"Review_feat_extraction\"] = reviews[\"Review\"].apply(lambda x: main_pipeline(x, print_output= False, tokenized_output=False, no_punctuation = False))"
   ]
  },
  {
   "cell_type": "code",
   "execution_count": 18,
   "metadata": {},
   "outputs": [
    {
     "name": "stdout",
     "output_type": "stream",
     "text": [
      "I have given my b'day treat to my friends. Guys! It's an awesome place to dine. Their Starters are so good to have. We had great time with Jayant.\n",
      "give b'day treat friend . guys! awesome place dine . starters good . great time jayant.\n"
     ]
    }
   ],
   "source": [
    "n = np.random.randint(0,9555)\n",
    "print(reviews.iloc[n][\"Review\"])\n",
    "print(reviews.iloc[n][\"Review_feat_extraction\"])"
   ]
  },
  {
   "cell_type": "markdown",
   "metadata": {},
   "source": [
    "<font color='#BFD72F' size=4>2.1 BOW plot for the reviews</font> <a class=\"anchor\" id=\"P1\"></a>\n",
    "  \n",
    "[Back to TOC](#toc)"
   ]
  },
  {
   "cell_type": "code",
   "execution_count": 19,
   "metadata": {},
   "outputs": [],
   "source": [
    "def word_freq_calculator(td_matrix, word_list, df_output=True):\n",
    "    #counts the number of times a word appears\n",
    "    word_counts = np.sum(td_matrix, axis=0).tolist()\n",
    "    if df_output == False:\n",
    "        word_counts_dict = dict(zip(word_list, word_counts))\n",
    "        return word_counts_dict\n",
    "    else:\n",
    "        word_counts_df = pd.DataFrame({\"words\":word_list, \"frequency\":word_counts})\n",
    "        word_counts_df = word_counts_df.sort_values(by=[\"frequency\"], ascending=False)\n",
    "        return word_counts_df"
   ]
  },
  {
   "cell_type": "code",
   "execution_count": 20,
   "metadata": {},
   "outputs": [
    {
     "data": {
      "text/html": [
       "<div>\n",
       "<style scoped>\n",
       "    .dataframe tbody tr th:only-of-type {\n",
       "        vertical-align: middle;\n",
       "    }\n",
       "\n",
       "    .dataframe tbody tr th {\n",
       "        vertical-align: top;\n",
       "    }\n",
       "\n",
       "    .dataframe thead th {\n",
       "        text-align: right;\n",
       "    }\n",
       "</style>\n",
       "<table border=\"1\" class=\"dataframe\">\n",
       "  <thead>\n",
       "    <tr style=\"text-align: right;\">\n",
       "      <th></th>\n",
       "      <th>words</th>\n",
       "      <th>frequency</th>\n",
       "    </tr>\n",
       "  </thead>\n",
       "  <tbody>\n",
       "    <tr>\n",
       "      <th>4929</th>\n",
       "      <td>good</td>\n",
       "      <td>7621</td>\n",
       "    </tr>\n",
       "    <tr>\n",
       "      <th>4456</th>\n",
       "      <td>food</td>\n",
       "      <td>6567</td>\n",
       "    </tr>\n",
       "    <tr>\n",
       "      <th>8651</th>\n",
       "      <td>place</td>\n",
       "      <td>6003</td>\n",
       "    </tr>\n",
       "    <tr>\n",
       "      <th>10166</th>\n",
       "      <td>service</td>\n",
       "      <td>3250</td>\n",
       "    </tr>\n",
       "    <tr>\n",
       "      <th>8027</th>\n",
       "      <td>order</td>\n",
       "      <td>3144</td>\n",
       "    </tr>\n",
       "    <tr>\n",
       "      <th>...</th>\n",
       "      <td>...</td>\n",
       "      <td>...</td>\n",
       "    </tr>\n",
       "    <tr>\n",
       "      <th>7828</th>\n",
       "      <td>nthis</td>\n",
       "      <td>1</td>\n",
       "    </tr>\n",
       "    <tr>\n",
       "      <th>7827</th>\n",
       "      <td>ntg</td>\n",
       "      <td>1</td>\n",
       "    </tr>\n",
       "    <tr>\n",
       "      <th>2935</th>\n",
       "      <td>crafty</td>\n",
       "      <td>1</td>\n",
       "    </tr>\n",
       "    <tr>\n",
       "      <th>2938</th>\n",
       "      <td>crampy</td>\n",
       "      <td>1</td>\n",
       "    </tr>\n",
       "    <tr>\n",
       "      <th>12843</th>\n",
       "      <td>zyada</td>\n",
       "      <td>1</td>\n",
       "    </tr>\n",
       "  </tbody>\n",
       "</table>\n",
       "<p>12844 rows × 2 columns</p>\n",
       "</div>"
      ],
      "text/plain": [
       "         words  frequency\n",
       "4929      good       7621\n",
       "4456      food       6567\n",
       "8651     place       6003\n",
       "10166  service       3250\n",
       "8027     order       3144\n",
       "...        ...        ...\n",
       "7828     nthis          1\n",
       "7827       ntg          1\n",
       "2935    crafty          1\n",
       "2938    crampy          1\n",
       "12843    zyada          1\n",
       "\n",
       "[12844 rows x 2 columns]"
      ]
     },
     "execution_count": 20,
     "metadata": {},
     "output_type": "execute_result"
    }
   ],
   "source": [
    "#Create a BOW and get the number of times each word in the reviews appears\n",
    "bow_vectorizer = CountVectorizer()\n",
    "clean_bow_td_matrix = bow_vectorizer.fit_transform(reviews[\"Review_feat_extraction\"]).toarray()\n",
    "clean_bow_word_list = bow_vectorizer.get_feature_names_out().tolist()\n",
    "clean_bow_words_freq = word_freq_calculator(clean_bow_td_matrix, clean_bow_word_list)\n",
    "clean_bow_words_freq"
   ]
  },
  {
   "cell_type": "code",
   "execution_count": 21,
   "metadata": {},
   "outputs": [],
   "source": [
    "reviews[\"Clean_BOW\"] = clean_bow_td_matrix.tolist()"
   ]
  },
  {
   "cell_type": "code",
   "execution_count": 22,
   "metadata": {},
   "outputs": [],
   "source": [
    "def plot_term_frequency(df, nr_terms, df_name, show=True):\n",
    "    \n",
    "    # Create the Seaborn bar plot\n",
    "    plt.figure(figsize=(10, 8))\n",
    "    sns_plot = sns.barplot(x='frequency', y='words', data=df.head(nr_terms))  # Plotting top 20 terms for better visualization\n",
    "    plt.title('Top 20 Term Frequencies of {}'.format(df_name))\n",
    "    plt.xlabel('Frequency')\n",
    "    plt.ylabel('Words')\n",
    "    if show:\n",
    "        plt.show()\n",
    "\n",
    "    fig = sns_plot.get_figure()\n",
    "\n",
    "    return fig"
   ]
  },
  {
   "cell_type": "code",
   "execution_count": 23,
   "metadata": {},
   "outputs": [
    {
     "data": {
      "image/png": "[encoded data removed]",
      "text/plain": [
       "<Figure size 1000x800 with 1 Axes>"
      ]
     },
     "metadata": {},
     "output_type": "display_data"
    }
   ],
   "source": [
    "graph_clean_freq = plot_term_frequency(clean_bow_words_freq, 20, \"Clean BOW\", show = False)"
   ]
  },
  {
   "cell_type": "markdown",
   "metadata": {},
   "source": [
    "<font color='#BFD72F' size=4>2.2 TF-IDF word cloud for the reviews</font> <a class=\"anchor\" id=\"P1\"></a>\n",
    "  \n",
    "[Back to TOC](#toc)"
   ]
  },
  {
   "cell_type": "code",
   "execution_count": 24,
   "metadata": {},
   "outputs": [],
   "source": [
    "def word_cloud_generator(folder_path,reviews, wc, path, list_output = False):\n",
    "    if not os.path.exists(folder_path):\n",
    "        os.makedirs(folder_path)\n",
    "\n",
    "    tfidf_vectorizer = TfidfVectorizer(token_pattern=r\"(?u)\\b\\w+\\b\")\n",
    "    tfidf_td_matrix = tfidf_vectorizer.fit_transform(reviews[\"Review_feat_extraction\"]).toarray()\n",
    "    word_list = tfidf_vectorizer.get_feature_names_out().tolist()\n",
    "    tfidf_df = pd.DataFrame({\"words\":word_list,\"frequency\":tfidf_vectorizer.idf_.tolist()})\n",
    "    tfidf_df = tfidf_df.sort_values(by=\"frequency\", ascending=True)\n",
    "\n",
    "    ##TFIDF visualization\n",
    "    tfidf_df = word_freq_calculator(tfidf_td_matrix,word_list, df_output=False)\n",
    "    wc.generate_from_frequencies(tfidf_df)\n",
    "    wc.to_file(os.path.join(folder_path, path))\n",
    "    \n",
    "    if list_output:\n",
    "        return tfidf_td_matrix.tolist()"
   ]
  },
  {
   "cell_type": "code",
   "execution_count": 25,
   "metadata": {},
   "outputs": [],
   "source": [
    "wc = WordCloud(background_color=\"white\",max_words=120, width = 220,height = 220, color_func=lambda *args, **kwargs: (0,0,0))\n",
    "reviews[\"Clean_TDIDF\"] = word_cloud_generator(\"graphs\",reviews, wc, path=\"WC_TFIDF.png\", list_output=True)\n"
   ]
  },
  {
   "cell_type": "code",
   "execution_count": 26,
   "metadata": {},
   "outputs": [
    {
     "data": {
      "text/plain": [
       "0       [0.0, 0.0, 0.0, 0.0, 0.0, 0.0, 0.0, 0.0, 0.0, ...\n",
       "1       [0.0, 0.0, 0.0, 0.0, 0.0, 0.0, 0.0, 0.0, 0.0, ...\n",
       "2       [0.0, 0.0, 0.0, 0.0, 0.0, 0.0, 0.0, 0.0, 0.0, ...\n",
       "3       [0.0, 0.0, 0.0, 0.0, 0.0, 0.0, 0.0, 0.0, 0.0, ...\n",
       "4       [0.0, 0.0, 0.0, 0.0, 0.0, 0.0, 0.0, 0.0, 0.0, ...\n",
       "                              ...                        \n",
       "9995    [0.0, 0.0, 0.0, 0.0, 0.0, 0.0, 0.0, 0.0, 0.0, ...\n",
       "9996    [0.0, 0.0, 0.0, 0.0, 0.0, 0.0, 0.0, 0.0, 0.0, ...\n",
       "9997    [0.0, 0.0, 0.0, 0.0, 0.0, 0.0, 0.0, 0.0, 0.0, ...\n",
       "9998    [0.0, 0.0, 0.0, 0.0, 0.0, 0.0, 0.0, 0.0, 0.0, ...\n",
       "9999    [0.0, 0.0, 0.0, 0.0, 0.0, 0.0, 0.0, 0.0, 0.0, ...\n",
       "Name: Clean_TDIDF, Length: 9955, dtype: object"
      ]
     },
     "execution_count": 26,
     "metadata": {},
     "output_type": "execute_result"
    }
   ],
   "source": [
    "reviews[\"Clean_TDIDF\"]"
   ]
  },
  {
   "cell_type": "code",
   "execution_count": 27,
   "metadata": {},
   "outputs": [],
   "source": [
    "def pos_color_func(word, font_size, position, orientation, random_state=None,**kwargs):\n",
    "    \n",
    "    pos_tag = nltk.tag.pos_tag([word])[0][1]\n",
    "    \n",
    "    if type(re.match(\"NN\",pos_tag)) is not type(None):\n",
    "        return (0,0,255)\n",
    "    elif type(re.match(\"VB\",pos_tag)) is not type(None):\n",
    "        return (255,0,0)\n",
    "    elif type(re.match(\"JJ|RB\",pos_tag)) is not type(None):\n",
    "        return (0,255,0)\n",
    "    else:\n",
    "        return (0,0,0)\n",
    "    "
   ]
  },
  {
   "cell_type": "code",
   "execution_count": 28,
   "metadata": {},
   "outputs": [],
   "source": [
    "wc_pos = WordCloud(background_color=\"white\",max_words=240, width = 220,height = 220, color_func=pos_color_func)\n",
    "word_cloud_generator(\"graphs\",reviews, wc_pos, path = \"WC_TFIDF_Colored.png\")"
   ]
  },
  {
   "cell_type": "markdown",
   "metadata": {},
   "source": [
    "<font color='#BFD72F' size=4>2.3 BOW treemap for the reviews</font> <a class=\"anchor\" id=\"P1\"></a>\n",
    "  \n",
    "[Back to TOC](#toc)"
   ]
  },
  {
   "cell_type": "code",
   "execution_count": 29,
   "metadata": {},
   "outputs": [],
   "source": [
    "def get_pos_tag(word):\n",
    "    tag = nltk.tag.pos_tag([word])[0][1]\n",
    "    return tag"
   ]
  },
  {
   "cell_type": "code",
   "execution_count": 30,
   "metadata": {},
   "outputs": [
    {
     "data": {
      "application/vnd.plotly.v1+json": {
       "config": {
        "plotlyServerURL": "https://plot.ly"
       },
       "data": [
        {
         "branchvalues": "total",
         "customdata": [
          [
           226
          ],
          [
           182
          ],
          [
           259
          ],
          [
           208
          ],
          [
           229
          ],
          [
           1587
          ],
          [
           366
          ],
          [
           851
          ],
          [
           158
          ],
          [
           629
          ],
          [
           2074
          ],
          [
           147
          ],
          [
           178
          ],
          [
           268
          ],
          [
           286
          ],
          [
           485
          ],
          [
           188
          ],
          [
           286
          ],
          [
           413
          ],
          [
           841
          ],
          [
           315
          ],
          [
           1073
          ],
          [
           204
          ],
          [
           172
          ],
          [
           250
          ],
          [
           1436
          ],
          [
           319
          ],
          [
           165
          ],
          [
           233
          ],
          [
           1373
          ],
          [
           565
          ],
          [
           174
          ],
          [
           220
          ],
          [
           212
          ],
          [
           671
          ],
          [
           414
          ],
          [
           384
          ],
          [
           168
          ],
          [
           493
          ],
          [
           267
          ],
          [
           203
          ],
          [
           142
          ],
          [
           422
          ],
          [
           191
          ],
          [
           3086
          ],
          [
           272
          ],
          [
           302
          ],
          [
           396
          ],
          [
           152
          ],
          [
           160
          ],
          [
           143
          ],
          [
           186
          ],
          [
           264
          ],
          [
           219
          ],
          [
           173
          ],
          [
           878
          ],
          [
           152
          ],
          [
           166
          ],
          [
           407
          ],
          [
           178
          ],
          [
           306
          ],
          [
           173
          ],
          [
           580
          ],
          [
           145
          ],
          [
           180
          ],
          [
           566
          ],
          [
           246
          ],
          [
           471
          ],
          [
           275
          ],
          [
           352
          ],
          [
           190
          ],
          [
           432
          ],
          [
           426
          ],
          [
           205
          ],
          [
           241
          ],
          [
           434
          ],
          [
           489
          ],
          [
           491
          ],
          [
           638
          ],
          [
           319
          ],
          [
           519
          ],
          [
           437
          ],
          [
           352
          ],
          [
           166
          ],
          [
           463
          ],
          [
           479
          ],
          [
           989
          ],
          [
           189
          ],
          [
           142
          ],
          [
           674
          ],
          [
           185
          ],
          [
           589
          ],
          [
           209
          ],
          [
           196
          ],
          [
           469
          ],
          [
           225
          ],
          [
           293
          ],
          [
           1101
          ],
          [
           411
          ],
          [
           336
          ],
          [
           355
          ],
          [
           473
          ],
          [
           298
          ],
          [
           159
          ],
          [
           1221
          ],
          [
           168
          ],
          [
           363
          ],
          [
           188
          ],
          [
           182
          ],
          [
           417
          ],
          [
           212
          ],
          [
           201
          ],
          [
           428
          ],
          [
           212
          ],
          [
           474
          ],
          [
           528
          ],
          [
           191
          ],
          [
           308
          ],
          [
           291
          ],
          [
           6567
          ],
          [
           315
          ],
          [
           823
          ],
          [
           554
          ],
          [
           618
          ],
          [
           260
          ],
          [
           392
          ],
          [
           264
          ],
          [
           1339
          ],
          [
           925
          ],
          [
           1629
          ],
          [
           203
          ],
          [
           7621
          ],
          [
           195
          ],
          [
           1953
          ],
          [
           215
          ],
          [
           326
          ],
          [
           160
          ],
          [
           265
          ],
          [
           266
          ],
          [
           147
          ],
          [
           303
          ],
          [
           194
          ],
          [
           181
          ],
          [
           371
          ],
          [
           222
          ],
          [
           199
          ],
          [
           170
          ],
          [
           544
          ],
          [
           454
          ],
          [
           292
          ],
          [
           362
          ],
          [
           182
          ],
          [
           711
          ],
          [
           338
          ],
          [
           323
          ],
          [
           235
          ],
          [
           333
          ],
          [
           230
          ],
          [
           264
          ],
          [
           473
          ],
          [
           186
          ],
          [
           233
          ],
          [
           1778
          ],
          [
           521
          ],
          [
           246
          ],
          [
           208
          ],
          [
           504
          ],
          [
           511
          ],
          [
           1086
          ],
          [
           191
          ],
          [
           152
          ],
          [
           213
          ],
          [
           578
          ],
          [
           611
          ],
          [
           1096
          ],
          [
           236
          ],
          [
           207
          ],
          [
           363
          ],
          [
           180
          ],
          [
           312
          ],
          [
           218
          ],
          [
           207
          ],
          [
           711
          ],
          [
           170
          ],
          [
           158
          ],
          [
           174
          ],
          [
           151
          ],
          [
           498
          ],
          [
           176
          ],
          [
           144
          ],
          [
           666
          ],
          [
           204
          ],
          [
           531
          ],
          [
           940
          ],
          [
           373
          ],
          [
           184
          ],
          [
           280
          ],
          [
           433
          ],
          [
           488
          ],
          [
           172
          ],
          [
           215
          ],
          [
           1483
          ],
          [
           408
          ],
          [
           440
          ],
          [
           304
          ],
          [
           216
          ],
          [
           271
          ],
          [
           317
          ],
          [
           142
          ],
          [
           398
          ],
          [
           233
          ],
          [
           160
          ],
          [
           2022
          ],
          [
           160
          ],
          [
           219
          ],
          [
           473
          ],
          [
           3144
          ],
          [
           460
          ],
          [
           176
          ],
          [
           154
          ],
          [
           751
          ],
          [
           266
          ],
          [
           184
          ],
          [
           715
          ],
          [
           181
          ],
          [
           250
          ],
          [
           288
          ],
          [
           301
          ],
          [
           199
          ],
          [
           201
          ],
          [
           544
          ],
          [
           414
          ],
          [
           209
          ],
          [
           343
          ],
          [
           550
          ],
          [
           6003
          ],
          [
           142
          ],
          [
           276
          ],
          [
           169
          ],
          [
           293
          ],
          [
           152
          ],
          [
           265
          ],
          [
           146
          ],
          [
           360
          ],
          [
           824
          ],
          [
           142
          ],
          [
           263
          ],
          [
           157
          ],
          [
           862
          ],
          [
           687
          ],
          [
           272
          ],
          [
           464
          ],
          [
           265
          ],
          [
           1667
          ],
          [
           148
          ],
          [
           707
          ],
          [
           144
          ],
          [
           149
          ],
          [
           1427
          ],
          [
           308
          ],
          [
           782
          ],
          [
           233
          ],
          [
           171
          ],
          [
           183
          ],
          [
           160
          ],
          [
           170
          ],
          [
           418
          ],
          [
           663
          ],
          [
           413
          ],
          [
           298
          ],
          [
           182
          ],
          [
           1426
          ],
          [
           3250
          ],
          [
           190
          ],
          [
           210
          ],
          [
           249
          ],
          [
           162
          ],
          [
           234
          ],
          [
           238
          ],
          [
           329
          ],
          [
           239
          ],
          [
           265
          ],
          [
           156
          ],
          [
           437
          ],
          [
           437
          ],
          [
           187
          ],
          [
           170
          ],
          [
           258
          ],
          [
           596
          ],
          [
           213
          ],
          [
           1368
          ],
          [
           304
          ],
          [
           279
          ],
          [
           930
          ],
          [
           148
          ],
          [
           190
          ],
          [
           179
          ],
          [
           229
          ],
          [
           239
          ],
          [
           275
          ],
          [
           398
          ],
          [
           507
          ],
          [
           793
          ],
          [
           185
          ],
          [
           2948
          ],
          [
           705
          ],
          [
           330
          ],
          [
           193
          ],
          [
           339
          ],
          [
           157
          ],
          [
           164
          ],
          [
           476
          ],
          [
           331
          ],
          [
           461
          ],
          [
           381
          ],
          [
           2020
          ],
          [
           172
          ],
          [
           353
          ],
          [
           165
          ],
          [
           1929
          ],
          [
           315
          ],
          [
           290
          ],
          [
           257
          ],
          [
           489
          ],
          [
           194
          ],
          [
           1243
          ],
          [
           247
          ],
          [
           199
          ],
          [
           1724
          ],
          [
           151
          ],
          [
           333
          ],
          [
           268
          ],
          [
           491
          ],
          [
           152
          ],
          [
           216
          ],
          [
           311
          ],
          [
           193
          ],
          [
           1138
          ],
          [
           223
          ],
          [
           154
          ],
          [
           227
          ],
          [
           180
          ],
          [
           154
          ],
          [
           264
          ],
          [
           169
          ],
          [
           507
          ],
          [
           1118
          ],
          [
           152
          ],
          [
           207
          ],
          [
           504
          ],
          [
           1653.8373000390168
          ],
          [
           252.91445427728613
          ],
          [
           1055.805944055944
          ],
          [
           2988.1412002233774
          ],
          [
           1302.590031152648
          ],
          [
           936.2865807429871
          ],
          [
           1547.0638405047853
          ],
          [
           365.29
          ],
          [
           822.7143088509191
          ],
          [
           918.2501503307276
          ],
          [
           223
          ],
          [
           185.46927374301677
          ],
          [
           337.7581047381546
          ],
          [
           1610.0922950981474
          ]
         ],
         "domain": {
          "x": [
           0,
           1
          ],
          "y": [
           0,
           1
          ]
         },
         "hovertemplate": "labels=%{label}<br>frequency_sum=%{value}<br>parent=%{parent}<br>id=%{id}<br>frequency=%{color}<extra></extra>",
         "ids": [
          "Reviews/CD/10",
          "Reviews/RB/absolutely",
          "Reviews/VB/add",
          "Reviews/RB/almost",
          "Reviews/IN/along",
          "Reviews/RB/also",
          "Reviews/RB/always",
          "Reviews/NN/amaze",
          "Reviews/VBG/amazing",
          "Reviews/NN/ambiance",
          "Reviews/NN/ambience",
          "Reviews/NN/amount",
          "Reviews/DT/another",
          "Reviews/NN/area",
          "Reviews/IN/around",
          "Reviews/NN/ask",
          "Reviews/JJ/authentic",
          "Reviews/JJ/available",
          "Reviews/JJ/average",
          "Reviews/NN/awesome",
          "Reviews/RB/back",
          "Reviews/JJ/bad",
          "Reviews/NN/bar",
          "Reviews/NN/beautiful",
          "Reviews/NN/beer",
          "Reviews/JJS/best",
          "Reviews/JJ/big",
          "Reviews/NN/bill",
          "Reviews/NN/biriyani",
          "Reviews/NN/biryani",
          "Reviews/NN/bite",
          "Reviews/NN/box",
          "Reviews/NN/bread",
          "Reviews/NN/brownie",
          "Reviews/NN/buffet",
          "Reviews/NN/burger",
          "Reviews/NN/butter",
          "Reviews/NN/cafe",
          "Reviews/NN/cake",
          "Reviews/NN/call",
          "Reviews/NN/care",
          "Reviews/NN/charge",
          "Reviews/NN/cheese",
          "Reviews/NN/chef",
          "Reviews/NN/chicken",
          "Reviews/NN/chilli",
          "Reviews/JJ/chinese",
          "Reviews/NN/chocolate",
          "Reviews/NN/choice",
          "Reviews/NN/choose",
          "Reviews/NN/chutney",
          "Reviews/NN/city",
          "Reviews/NN/coffee",
          "Reviews/NN/cold",
          "Reviews/NN/combo",
          "Reviews/VB/come",
          "Reviews/VBG/coming",
          "Reviews/NN/compare",
          "Reviews/NN/cook",
          "Reviews/NN/cool",
          "Reviews/NN/corn",
          "Reviews/NN/cost",
          "Reviews/MD/could",
          "Reviews/NN/counter",
          "Reviews/NN/couple",
          "Reviews/NN/course",
          "Reviews/JJ/courteous",
          "Reviews/NN/cream",
          "Reviews/NN/crispy",
          "Reviews/NN/crowd",
          "Reviews/NN/cuisine",
          "Reviews/NN/curry",
          "Reviews/NN/customer",
          "Reviews/NN/dal",
          "Reviews/NN/dance",
          "Reviews/NN/day",
          "Reviews/NN/decent",
          "Reviews/RB/definitely",
          "Reviews/JJ/delicious",
          "Reviews/NN/deliver",
          "Reviews/NN/delivery",
          "Reviews/NN/dessert",
          "Reviews/JJ/different",
          "Reviews/NN/din",
          "Reviews/NN/dinner",
          "Reviews/NN/disappoint",
          "Reviews/NN/dish",
          "Reviews/NN/dj",
          "Reviews/NN/dont",
          "Reviews/NN/drink",
          "Reviews/NN/dry",
          "Reviews/NN/eat",
          "Reviews/NN/egg",
          "Reviews/NN/end",
          "Reviews/NN/enjoy",
          "Reviews/RB/enough",
          "Reviews/RB/especially",
          "Reviews/RB/even",
          "Reviews/RB/ever",
          "Reviews/DT/every",
          "Reviews/NN/everything",
          "Reviews/NN/excellent",
          "Reviews/VB/expect",
          "Reviews/JJ/expensive",
          "Reviews/NN/experience",
          "Reviews/RB/extremely",
          "Reviews/NN/family",
          "Reviews/NN/fast",
          "Reviews/NN/favourite",
          "Reviews/NN/feel",
          "Reviews/NN/felt",
          "Reviews/NN/fill",
          "Reviews/VB/find",
          "Reviews/NN/fine",
          "Reviews/RB/first",
          "Reviews/NN/fish",
          "Reviews/NN/flavor",
          "Reviews/NN/flavour",
          "Reviews/NN/floor",
          "Reviews/NN/food",
          "Reviews/JJ/fresh",
          "Reviews/NN/friend",
          "Reviews/RB/friendly",
          "Reviews/NN/fry",
          "Reviews/JJ/full",
          "Reviews/NN/gachibowli",
          "Reviews/NN/garlic",
          "Reviews/VB/get",
          "Reviews/VB/give",
          "Reviews/VB/go",
          "Reviews/NN/gold",
          "Reviews/JJ/good",
          "Reviews/NN/gravy",
          "Reviews/JJ/great",
          "Reviews/NN/grill",
          "Reviews/NN/guy",
          "Reviews/NN/half",
          "Reviews/NN/hangout",
          "Reviews/JJ/happy",
          "Reviews/JJ/hard",
          "Reviews/JJ/high",
          "Reviews/RB/highly",
          "Reviews/NN/hospitality",
          "Reviews/JJ/hot",
          "Reviews/NN/hour",
          "Reviews/RB/however",
          "Reviews/JJ/huge",
          "Reviews/NN/hyderabad",
          "Reviews/NN/ice",
          "Reviews/VB/improve",
          "Reviews/JJ/indian",
          "Reviews/IN/inside",
          "Reviews/NN/item",
          "Reviews/NN/kebab",
          "Reviews/VB/keep",
          "Reviews/NN/kind",
          "Reviews/VB/know",
          "Reviews/JJ/last",
          "Reviews/RB/late",
          "Reviews/NN/le",
          "Reviews/VB/leave",
          "Reviews/NN/light",
          "Reviews/IN/like",
          "Reviews/JJ/little",
          "Reviews/JJ/live",
          "Reviews/RB/long",
          "Reviews/NN/look",
          "Reviews/NN/lot",
          "Reviews/NN/love",
          "Reviews/VBN/loved",
          "Reviews/RB/lovely",
          "Reviews/NN/lover",
          "Reviews/NN/lunch",
          "Reviews/JJ/main",
          "Reviews/VB/make",
          "Reviews/NN/manager",
          "Reviews/NN/mandi",
          "Reviews/JJ/many",
          "Reviews/NN/mark",
          "Reviews/NN/masala",
          "Reviews/NN/meal",
          "Reviews/NN/mention",
          "Reviews/NN/menu",
          "Reviews/NN/min",
          "Reviews/NN/miss",
          "Reviews/NN/mix",
          "Reviews/NNS/momos",
          "Reviews/NN/money",
          "Reviews/NN/mouth",
          "Reviews/NN/mr",
          "Reviews/JJ/much",
          "Reviews/NN/mushroom",
          "Reviews/NN/music",
          "Reviews/MD/must",
          "Reviews/NN/mutton",
          "Reviews/NN/naan",
          "Reviews/NN/name",
          "Reviews/NN/need",
          "Reviews/RB/never",
          "Reviews/JJ/new",
          "Reviews/JJ/next",
          "Reviews/JJ/nice",
          "Reviews/NN/night",
          "Reviews/NN/non",
          "Reviews/NN/noodle",
          "Reviews/NN/north",
          "Reviews/NN/nothing",
          "Reviews/NN/offer",
          "Reviews/NN/office",
          "Reviews/NN/ok",
          "Reviews/NN/okay",
          "Reviews/JJ/old",
          "Reviews/CD/one",
          "Reviews/NN/onion",
          "Reviews/JJ/open",
          "Reviews/NN/option",
          "Reviews/NN/order",
          "Reviews/VBN/ordered",
          "Reviews/NN/outlet",
          "Reviews/IN/outside",
          "Reviews/JJ/overall",
          "Reviews/NN/pack",
          "Reviews/NN/package",
          "Reviews/NN/paneer",
          "Reviews/NN/paratha",
          "Reviews/NN/part",
          "Reviews/NN/party",
          "Reviews/NN/pasta",
          "Reviews/JJ/pathetic",
          "Reviews/NN/pay",
          "Reviews/NNS/people",
          "Reviews/NN/perfect",
          "Reviews/NN/person",
          "Reviews/NN/piece",
          "Reviews/NN/pizza",
          "Reviews/NN/place",
          "Reviews/NN/plate",
          "Reviews/NN/please",
          "Reviews/NN/pocket",
          "Reviews/NN/polite",
          "Reviews/NN/potato",
          "Reviews/NN/prawn",
          "Reviews/NN/prepare",
          "Reviews/RB/pretty",
          "Reviews/NN/price",
          "Reviews/RB/properly",
          "Reviews/NN/provide",
          "Reviews/NN/punjabi",
          "Reviews/NN/quality",
          "Reviews/NN/quantity",
          "Reviews/NN/quick",
          "Reviews/RB/quite",
          "Reviews/NN/rat",
          "Reviews/RB/really",
          "Reviews/NN/receive",
          "Reviews/NN/recommend",
          "Reviews/JJ/red",
          "Reviews/JJ/regular",
          "Reviews/NN/restaurant",
          "Reviews/NN/review",
          "Reviews/NN/rice",
          "Reviews/NN/right",
          "Reviews/NN/roti",
          "Reviews/NN/salad",
          "Reviews/NN/sandwich",
          "Reviews/NN/satisfy",
          "Reviews/NN/sauce",
          "Reviews/VB/say",
          "Reviews/NN/seat",
          "Reviews/VB/see",
          "Reviews/NN/seem",
          "Reviews/NN/serve",
          "Reviews/NN/service",
          "Reviews/NN/shake",
          "Reviews/NN/shawarma",
          "Reviews/NN/side",
          "Reviews/IN/since",
          "Reviews/NN/sit",
          "Reviews/VB/slow",
          "Reviews/JJ/small",
          "Reviews/JJ/soft",
          "Reviews/NN/something",
          "Reviews/RB/soon",
          "Reviews/NN/soup",
          "Reviews/JJ/special",
          "Reviews/RB/specially",
          "Reviews/NN/spend",
          "Reviews/NN/spice",
          "Reviews/NN/spicy",
          "Reviews/NN/spread",
          "Reviews/NN/staff",
          "Reviews/NN/star",
          "Reviews/NN/start",
          "Reviews/NN/starter",
          "Reviews/NNS/starters",
          "Reviews/RB/still",
          "Reviews/NN/stuff",
          "Reviews/NN/suggest",
          "Reviews/NN/super",
          "Reviews/NN/sure",
          "Reviews/NN/sweet",
          "Reviews/NN/table",
          "Reviews/VB/take",
          "Reviews/NN/tandoori",
          "Reviews/NN/taste",
          "Reviews/NN/tasty",
          "Reviews/NN/team",
          "Reviews/NN/tell",
          "Reviews/NN/thank",
          "Reviews/NNS/thanks",
          "Reviews/DT/the",
          "Reviews/NN/thing",
          "Reviews/NN/think",
          "Reviews/IN/though",
          "Reviews/NN/tikka",
          "Reviews/NN/time",
          "Reviews/NN/today",
          "Reviews/NN/top",
          "Reviews/RB/totally",
          "Reviews/NN/try",
          "Reviews/CD/two",
          "Reviews/NN/use",
          "Reviews/NN/value",
          "Reviews/NN/variety",
          "Reviews/NN/ve",
          "Reviews/NN/veg",
          "Reviews/JJ/vegetarian",
          "Reviews/NN/view",
          "Reviews/NN/visit",
          "Reviews/VBN/visited",
          "Reviews/NN/wait",
          "Reviews/NN/waiter",
          "Reviews/NN/want",
          "Reviews/NN/waste",
          "Reviews/NN/water",
          "Reviews/NN/way",
          "Reviews/NN/weekend",
          "Reviews/RB/well",
          "Reviews/VBD/went",
          "Reviews/JJ/whole",
          "Reviews/VBG/wing",
          "Reviews/IN/without",
          "Reviews/NN/wonderful",
          "Reviews/NN/work",
          "Reviews/JJS/worst",
          "Reviews/NN/worth",
          "Reviews/MD/would",
          "Reviews/NN/wrap",
          "Reviews/NN/yummy",
          "Reviews/NN/zomato",
          "Reviews/CD",
          "Reviews/DT",
          "Reviews/IN",
          "Reviews/JJ",
          "Reviews/JJS",
          "Reviews/MD",
          "Reviews/NN",
          "Reviews/NNS",
          "Reviews/RB",
          "Reviews/VB",
          "Reviews/VBD",
          "Reviews/VBG",
          "Reviews/VBN",
          "Reviews"
         ],
         "labels": [
          "10",
          "absolutely",
          "add",
          "almost",
          "along",
          "also",
          "always",
          "amaze",
          "amazing",
          "ambiance",
          "ambience",
          "amount",
          "another",
          "area",
          "around",
          "ask",
          "authentic",
          "available",
          "average",
          "awesome",
          "back",
          "bad",
          "bar",
          "beautiful",
          "beer",
          "best",
          "big",
          "bill",
          "biriyani",
          "biryani",
          "bite",
          "box",
          "bread",
          "brownie",
          "buffet",
          "burger",
          "butter",
          "cafe",
          "cake",
          "call",
          "care",
          "charge",
          "cheese",
          "chef",
          "chicken",
          "chilli",
          "chinese",
          "chocolate",
          "choice",
          "choose",
          "chutney",
          "city",
          "coffee",
          "cold",
          "combo",
          "come",
          "coming",
          "compare",
          "cook",
          "cool",
          "corn",
          "cost",
          "could",
          "counter",
          "couple",
          "course",
          "courteous",
          "cream",
          "crispy",
          "crowd",
          "cuisine",
          "curry",
          "customer",
          "dal",
          "dance",
          "day",
          "decent",
          "definitely",
          "delicious",
          "deliver",
          "delivery",
          "dessert",
          "different",
          "din",
          "dinner",
          "disappoint",
          "dish",
          "dj",
          "dont",
          "drink",
          "dry",
          "eat",
          "egg",
          "end",
          "enjoy",
          "enough",
          "especially",
          "even",
          "ever",
          "every",
          "everything",
          "excellent",
          "expect",
          "expensive",
          "experience",
          "extremely",
          "family",
          "fast",
          "favourite",
          "feel",
          "felt",
          "fill",
          "find",
          "fine",
          "first",
          "fish",
          "flavor",
          "flavour",
          "floor",
          "food",
          "fresh",
          "friend",
          "friendly",
          "fry",
          "full",
          "gachibowli",
          "garlic",
          "get",
          "give",
          "go",
          "gold",
          "good",
          "gravy",
          "great",
          "grill",
          "guy",
          "half",
          "hangout",
          "happy",
          "hard",
          "high",
          "highly",
          "hospitality",
          "hot",
          "hour",
          "however",
          "huge",
          "hyderabad",
          "ice",
          "improve",
          "indian",
          "inside",
          "item",
          "kebab",
          "keep",
          "kind",
          "know",
          "last",
          "late",
          "le",
          "leave",
          "light",
          "like",
          "little",
          "live",
          "long",
          "look",
          "lot",
          "love",
          "loved",
          "lovely",
          "lover",
          "lunch",
          "main",
          "make",
          "manager",
          "mandi",
          "many",
          "mark",
          "masala",
          "meal",
          "mention",
          "menu",
          "min",
          "miss",
          "mix",
          "momos",
          "money",
          "mouth",
          "mr",
          "much",
          "mushroom",
          "music",
          "must",
          "mutton",
          "naan",
          "name",
          "need",
          "never",
          "new",
          "next",
          "nice",
          "night",
          "non",
          "noodle",
          "north",
          "nothing",
          "offer",
          "office",
          "ok",
          "okay",
          "old",
          "one",
          "onion",
          "open",
          "option",
          "order",
          "ordered",
          "outlet",
          "outside",
          "overall",
          "pack",
          "package",
          "paneer",
          "paratha",
          "part",
          "party",
          "pasta",
          "pathetic",
          "pay",
          "people",
          "perfect",
          "person",
          "piece",
          "pizza",
          "place",
          "plate",
          "please",
          "pocket",
          "polite",
          "potato",
          "prawn",
          "prepare",
          "pretty",
          "price",
          "properly",
          "provide",
          "punjabi",
          "quality",
          "quantity",
          "quick",
          "quite",
          "rat",
          "really",
          "receive",
          "recommend",
          "red",
          "regular",
          "restaurant",
          "review",
          "rice",
          "right",
          "roti",
          "salad",
          "sandwich",
          "satisfy",
          "sauce",
          "say",
          "seat",
          "see",
          "seem",
          "serve",
          "service",
          "shake",
          "shawarma",
          "side",
          "since",
          "sit",
          "slow",
          "small",
          "soft",
          "something",
          "soon",
          "soup",
          "special",
          "specially",
          "spend",
          "spice",
          "spicy",
          "spread",
          "staff",
          "star",
          "start",
          "starter",
          "starters",
          "still",
          "stuff",
          "suggest",
          "super",
          "sure",
          "sweet",
          "table",
          "take",
          "tandoori",
          "taste",
          "tasty",
          "team",
          "tell",
          "thank",
          "thanks",
          "the",
          "thing",
          "think",
          "though",
          "tikka",
          "time",
          "today",
          "top",
          "totally",
          "try",
          "two",
          "use",
          "value",
          "variety",
          "ve",
          "veg",
          "vegetarian",
          "view",
          "visit",
          "visited",
          "wait",
          "waiter",
          "want",
          "waste",
          "water",
          "way",
          "weekend",
          "well",
          "went",
          "whole",
          "wing",
          "without",
          "wonderful",
          "work",
          "worst",
          "worth",
          "would",
          "wrap",
          "yummy",
          "zomato",
          "CD",
          "DT",
          "IN",
          "JJ",
          "JJS",
          "MD",
          "NN",
          "NNS",
          "RB",
          "VB",
          "VBD",
          "VBG",
          "VBN",
          "Reviews"
         ],
         "marker": {
          "coloraxis": "coloraxis",
          "colors": [
           226,
           182,
           259,
           208,
           229,
           1587,
           366,
           851,
           158,
           629,
           2074,
           147,
           178,
           268,
           286,
           485,
           188,
           286,
           413,
           841,
           315,
           1073,
           204,
           172,
           250,
           1436,
           319,
           165,
           233,
           1373,
           565,
           174,
           220,
           212,
           671,
           414,
           384,
           168,
           493,
           267,
           203,
           142,
           422,
           191,
           3086,
           272,
           302,
           396,
           152,
           160,
           143,
           186,
           264,
           219,
           173,
           878,
           152,
           166,
           407,
           178,
           306,
           173,
           580,
           145,
           180,
           566,
           246,
           471,
           275,
           352,
           190,
           432,
           426,
           205,
           241,
           434,
           489,
           491,
           638,
           319,
           519,
           437,
           352,
           166,
           463,
           479,
           989,
           189,
           142,
           674,
           185,
           589,
           209,
           196,
           469,
           225,
           293,
           1101,
           411,
           336,
           355,
           473,
           298,
           159,
           1221,
           168,
           363,
           188,
           182,
           417,
           212,
           201,
           428,
           212,
           474,
           528,
           191,
           308,
           291,
           6567,
           315,
           823,
           554,
           618,
           260,
           392,
           264,
           1339,
           925,
           1629,
           203,
           7621,
           195,
           1953,
           215,
           326,
           160,
           265,
           266,
           147,
           303,
           194,
           181,
           371,
           222,
           199,
           170,
           544,
           454,
           292,
           362,
           182,
           711,
           338,
           323,
           235,
           333,
           230,
           264,
           473,
           186,
           233,
           1778,
           521,
           246,
           208,
           504,
           511,
           1086,
           191,
           152,
           213,
           578,
           611,
           1096,
           236,
           207,
           363,
           180,
           312,
           218,
           207,
           711,
           170,
           158,
           174,
           151,
           498,
           176,
           144,
           666,
           204,
           531,
           940,
           373,
           184,
           280,
           433,
           488,
           172,
           215,
           1483,
           408,
           440,
           304,
           216,
           271,
           317,
           142,
           398,
           233,
           160,
           2022,
           160,
           219,
           473,
           3144,
           460,
           176,
           154,
           751,
           266,
           184,
           715,
           181,
           250,
           288,
           301,
           199,
           201,
           544,
           414,
           209,
           343,
           550,
           6003,
           142,
           276,
           169,
           293,
           152,
           265,
           146,
           360,
           824,
           142,
           263,
           157,
           862,
           687,
           272,
           464,
           265,
           1667,
           148,
           707,
           144,
           149,
           1427,
           308,
           782,
           233,
           171,
           183,
           160,
           170,
           418,
           663,
           413,
           298,
           182,
           1426,
           3250,
           190,
           210,
           249,
           162,
           234,
           238,
           329,
           239,
           265,
           156,
           437,
           437,
           187,
           170,
           258,
           596,
           213,
           1368,
           304,
           279,
           930,
           148,
           190,
           179,
           229,
           239,
           275,
           398,
           507,
           793,
           185,
           2948,
           705,
           330,
           193,
           339,
           157,
           164,
           476,
           331,
           461,
           381,
           2020,
           172,
           353,
           165,
           1929,
           315,
           290,
           257,
           489,
           194,
           1243,
           247,
           199,
           1724,
           151,
           333,
           268,
           491,
           152,
           216,
           311,
           193,
           1138,
           223,
           154,
           227,
           180,
           154,
           264,
           169,
           507,
           1118,
           152,
           207,
           504,
           1653.8373000390168,
           252.91445427728613,
           1055.805944055944,
           2988.1412002233774,
           1302.590031152648,
           936.2865807429871,
           1547.0638405047853,
           365.29,
           822.7143088509191,
           918.2501503307276,
           223,
           185.46927374301677,
           337.7581047381546,
           1610.0922950981474
          ]
         },
         "name": "",
         "parents": [
          "Reviews/CD",
          "Reviews/RB",
          "Reviews/VB",
          "Reviews/RB",
          "Reviews/IN",
          "Reviews/RB",
          "Reviews/RB",
          "Reviews/NN",
          "Reviews/VBG",
          "Reviews/NN",
          "Reviews/NN",
          "Reviews/NN",
          "Reviews/DT",
          "Reviews/NN",
          "Reviews/IN",
          "Reviews/NN",
          "Reviews/JJ",
          "Reviews/JJ",
          "Reviews/JJ",
          "Reviews/NN",
          "Reviews/RB",
          "Reviews/JJ",
          "Reviews/NN",
          "Reviews/NN",
          "Reviews/NN",
          "Reviews/JJS",
          "Reviews/JJ",
          "Reviews/NN",
          "Reviews/NN",
          "Reviews/NN",
          "Reviews/NN",
          "Reviews/NN",
          "Reviews/NN",
          "Reviews/NN",
          "Reviews/NN",
          "Reviews/NN",
          "Reviews/NN",
          "Reviews/NN",
          "Reviews/NN",
          "Reviews/NN",
          "Reviews/NN",
          "Reviews/NN",
          "Reviews/NN",
          "Reviews/NN",
          "Reviews/NN",
          "Reviews/NN",
          "Reviews/JJ",
          "Reviews/NN",
          "Reviews/NN",
          "Reviews/NN",
          "Reviews/NN",
          "Reviews/NN",
          "Reviews/NN",
          "Reviews/NN",
          "Reviews/NN",
          "Reviews/VB",
          "Reviews/VBG",
          "Reviews/NN",
          "Reviews/NN",
          "Reviews/NN",
          "Reviews/NN",
          "Reviews/NN",
          "Reviews/MD",
          "Reviews/NN",
          "Reviews/NN",
          "Reviews/NN",
          "Reviews/JJ",
          "Reviews/NN",
          "Reviews/NN",
          "Reviews/NN",
          "Reviews/NN",
          "Reviews/NN",
          "Reviews/NN",
          "Reviews/NN",
          "Reviews/NN",
          "Reviews/NN",
          "Reviews/NN",
          "Reviews/RB",
          "Reviews/JJ",
          "Reviews/NN",
          "Reviews/NN",
          "Reviews/NN",
          "Reviews/JJ",
          "Reviews/NN",
          "Reviews/NN",
          "Reviews/NN",
          "Reviews/NN",
          "Reviews/NN",
          "Reviews/NN",
          "Reviews/NN",
          "Reviews/NN",
          "Reviews/NN",
          "Reviews/NN",
          "Reviews/NN",
          "Reviews/NN",
          "Reviews/RB",
          "Reviews/RB",
          "Reviews/RB",
          "Reviews/RB",
          "Reviews/DT",
          "Reviews/NN",
          "Reviews/NN",
          "Reviews/VB",
          "Reviews/JJ",
          "Reviews/NN",
          "Reviews/RB",
          "Reviews/NN",
          "Reviews/NN",
          "Reviews/NN",
          "Reviews/NN",
          "Reviews/NN",
          "Reviews/NN",
          "Reviews/VB",
          "Reviews/NN",
          "Reviews/RB",
          "Reviews/NN",
          "Reviews/NN",
          "Reviews/NN",
          "Reviews/NN",
          "Reviews/NN",
          "Reviews/JJ",
          "Reviews/NN",
          "Reviews/RB",
          "Reviews/NN",
          "Reviews/JJ",
          "Reviews/NN",
          "Reviews/NN",
          "Reviews/VB",
          "Reviews/VB",
          "Reviews/VB",
          "Reviews/NN",
          "Reviews/JJ",
          "Reviews/NN",
          "Reviews/JJ",
          "Reviews/NN",
          "Reviews/NN",
          "Reviews/NN",
          "Reviews/NN",
          "Reviews/JJ",
          "Reviews/JJ",
          "Reviews/JJ",
          "Reviews/RB",
          "Reviews/NN",
          "Reviews/JJ",
          "Reviews/NN",
          "Reviews/RB",
          "Reviews/JJ",
          "Reviews/NN",
          "Reviews/NN",
          "Reviews/VB",
          "Reviews/JJ",
          "Reviews/IN",
          "Reviews/NN",
          "Reviews/NN",
          "Reviews/VB",
          "Reviews/NN",
          "Reviews/VB",
          "Reviews/JJ",
          "Reviews/RB",
          "Reviews/NN",
          "Reviews/VB",
          "Reviews/NN",
          "Reviews/IN",
          "Reviews/JJ",
          "Reviews/JJ",
          "Reviews/RB",
          "Reviews/NN",
          "Reviews/NN",
          "Reviews/NN",
          "Reviews/VBN",
          "Reviews/RB",
          "Reviews/NN",
          "Reviews/NN",
          "Reviews/JJ",
          "Reviews/VB",
          "Reviews/NN",
          "Reviews/NN",
          "Reviews/JJ",
          "Reviews/NN",
          "Reviews/NN",
          "Reviews/NN",
          "Reviews/NN",
          "Reviews/NN",
          "Reviews/NN",
          "Reviews/NN",
          "Reviews/NN",
          "Reviews/NNS",
          "Reviews/NN",
          "Reviews/NN",
          "Reviews/NN",
          "Reviews/JJ",
          "Reviews/NN",
          "Reviews/NN",
          "Reviews/MD",
          "Reviews/NN",
          "Reviews/NN",
          "Reviews/NN",
          "Reviews/NN",
          "Reviews/RB",
          "Reviews/JJ",
          "Reviews/JJ",
          "Reviews/JJ",
          "Reviews/NN",
          "Reviews/NN",
          "Reviews/NN",
          "Reviews/NN",
          "Reviews/NN",
          "Reviews/NN",
          "Reviews/NN",
          "Reviews/NN",
          "Reviews/NN",
          "Reviews/JJ",
          "Reviews/CD",
          "Reviews/NN",
          "Reviews/JJ",
          "Reviews/NN",
          "Reviews/NN",
          "Reviews/VBN",
          "Reviews/NN",
          "Reviews/IN",
          "Reviews/JJ",
          "Reviews/NN",
          "Reviews/NN",
          "Reviews/NN",
          "Reviews/NN",
          "Reviews/NN",
          "Reviews/NN",
          "Reviews/NN",
          "Reviews/JJ",
          "Reviews/NN",
          "Reviews/NNS",
          "Reviews/NN",
          "Reviews/NN",
          "Reviews/NN",
          "Reviews/NN",
          "Reviews/NN",
          "Reviews/NN",
          "Reviews/NN",
          "Reviews/NN",
          "Reviews/NN",
          "Reviews/NN",
          "Reviews/NN",
          "Reviews/NN",
          "Reviews/RB",
          "Reviews/NN",
          "Reviews/RB",
          "Reviews/NN",
          "Reviews/NN",
          "Reviews/NN",
          "Reviews/NN",
          "Reviews/NN",
          "Reviews/RB",
          "Reviews/NN",
          "Reviews/RB",
          "Reviews/NN",
          "Reviews/NN",
          "Reviews/JJ",
          "Reviews/JJ",
          "Reviews/NN",
          "Reviews/NN",
          "Reviews/NN",
          "Reviews/NN",
          "Reviews/NN",
          "Reviews/NN",
          "Reviews/NN",
          "Reviews/NN",
          "Reviews/NN",
          "Reviews/VB",
          "Reviews/NN",
          "Reviews/VB",
          "Reviews/NN",
          "Reviews/NN",
          "Reviews/NN",
          "Reviews/NN",
          "Reviews/NN",
          "Reviews/NN",
          "Reviews/IN",
          "Reviews/NN",
          "Reviews/VB",
          "Reviews/JJ",
          "Reviews/JJ",
          "Reviews/NN",
          "Reviews/RB",
          "Reviews/NN",
          "Reviews/JJ",
          "Reviews/RB",
          "Reviews/NN",
          "Reviews/NN",
          "Reviews/NN",
          "Reviews/NN",
          "Reviews/NN",
          "Reviews/NN",
          "Reviews/NN",
          "Reviews/NN",
          "Reviews/NNS",
          "Reviews/RB",
          "Reviews/NN",
          "Reviews/NN",
          "Reviews/NN",
          "Reviews/NN",
          "Reviews/NN",
          "Reviews/NN",
          "Reviews/VB",
          "Reviews/NN",
          "Reviews/NN",
          "Reviews/NN",
          "Reviews/NN",
          "Reviews/NN",
          "Reviews/NN",
          "Reviews/NNS",
          "Reviews/DT",
          "Reviews/NN",
          "Reviews/NN",
          "Reviews/IN",
          "Reviews/NN",
          "Reviews/NN",
          "Reviews/NN",
          "Reviews/NN",
          "Reviews/RB",
          "Reviews/NN",
          "Reviews/CD",
          "Reviews/NN",
          "Reviews/NN",
          "Reviews/NN",
          "Reviews/NN",
          "Reviews/NN",
          "Reviews/JJ",
          "Reviews/NN",
          "Reviews/NN",
          "Reviews/VBN",
          "Reviews/NN",
          "Reviews/NN",
          "Reviews/NN",
          "Reviews/NN",
          "Reviews/NN",
          "Reviews/NN",
          "Reviews/NN",
          "Reviews/RB",
          "Reviews/VBD",
          "Reviews/JJ",
          "Reviews/VBG",
          "Reviews/IN",
          "Reviews/NN",
          "Reviews/NN",
          "Reviews/JJS",
          "Reviews/NN",
          "Reviews/MD",
          "Reviews/NN",
          "Reviews/NN",
          "Reviews/NN",
          "Reviews",
          "Reviews",
          "Reviews",
          "Reviews",
          "Reviews",
          "Reviews",
          "Reviews",
          "Reviews",
          "Reviews",
          "Reviews",
          "Reviews",
          "Reviews",
          "Reviews",
          ""
         ],
         "type": "treemap",
         "values": [
          226,
          182,
          259,
          208,
          229,
          1587,
          366,
          851,
          158,
          629,
          2074,
          147,
          178,
          268,
          286,
          485,
          188,
          286,
          413,
          841,
          315,
          1073,
          204,
          172,
          250,
          1436,
          319,
          165,
          233,
          1373,
          565,
          174,
          220,
          212,
          671,
          414,
          384,
          168,
          493,
          267,
          203,
          142,
          422,
          191,
          3086,
          272,
          302,
          396,
          152,
          160,
          143,
          186,
          264,
          219,
          173,
          878,
          152,
          166,
          407,
          178,
          306,
          173,
          580,
          145,
          180,
          566,
          246,
          471,
          275,
          352,
          190,
          432,
          426,
          205,
          241,
          434,
          489,
          491,
          638,
          319,
          519,
          437,
          352,
          166,
          463,
          479,
          989,
          189,
          142,
          674,
          185,
          589,
          209,
          196,
          469,
          225,
          293,
          1101,
          411,
          336,
          355,
          473,
          298,
          159,
          1221,
          168,
          363,
          188,
          182,
          417,
          212,
          201,
          428,
          212,
          474,
          528,
          191,
          308,
          291,
          6567,
          315,
          823,
          554,
          618,
          260,
          392,
          264,
          1339,
          925,
          1629,
          203,
          7621,
          195,
          1953,
          215,
          326,
          160,
          265,
          266,
          147,
          303,
          194,
          181,
          371,
          222,
          199,
          170,
          544,
          454,
          292,
          362,
          182,
          711,
          338,
          323,
          235,
          333,
          230,
          264,
          473,
          186,
          233,
          1778,
          521,
          246,
          208,
          504,
          511,
          1086,
          191,
          152,
          213,
          578,
          611,
          1096,
          236,
          207,
          363,
          180,
          312,
          218,
          207,
          711,
          170,
          158,
          174,
          151,
          498,
          176,
          144,
          666,
          204,
          531,
          940,
          373,
          184,
          280,
          433,
          488,
          172,
          215,
          1483,
          408,
          440,
          304,
          216,
          271,
          317,
          142,
          398,
          233,
          160,
          2022,
          160,
          219,
          473,
          3144,
          460,
          176,
          154,
          751,
          266,
          184,
          715,
          181,
          250,
          288,
          301,
          199,
          201,
          544,
          414,
          209,
          343,
          550,
          6003,
          142,
          276,
          169,
          293,
          152,
          265,
          146,
          360,
          824,
          142,
          263,
          157,
          862,
          687,
          272,
          464,
          265,
          1667,
          148,
          707,
          144,
          149,
          1427,
          308,
          782,
          233,
          171,
          183,
          160,
          170,
          418,
          663,
          413,
          298,
          182,
          1426,
          3250,
          190,
          210,
          249,
          162,
          234,
          238,
          329,
          239,
          265,
          156,
          437,
          437,
          187,
          170,
          258,
          596,
          213,
          1368,
          304,
          279,
          930,
          148,
          190,
          179,
          229,
          239,
          275,
          398,
          507,
          793,
          185,
          2948,
          705,
          330,
          193,
          339,
          157,
          164,
          476,
          331,
          461,
          381,
          2020,
          172,
          353,
          165,
          1929,
          315,
          290,
          257,
          489,
          194,
          1243,
          247,
          199,
          1724,
          151,
          333,
          268,
          491,
          152,
          216,
          311,
          193,
          1138,
          223,
          154,
          227,
          180,
          154,
          264,
          169,
          507,
          1118,
          152,
          207,
          504,
          2563,
          678,
          3432,
          23279,
          1605,
          2638,
          113157,
          1000,
          12349,
          9978,
          223,
          537,
          802,
          172241
         ]
        }
       ],
       "layout": {
        "coloraxis": {
         "colorbar": {
          "title": {
           "text": "frequency"
          }
         },
         "colorscale": [
          [
           0,
           "#440154"
          ],
          [
           0.1111111111111111,
           "#482878"
          ],
          [
           0.2222222222222222,
           "#3e4989"
          ],
          [
           0.3333333333333333,
           "#31688e"
          ],
          [
           0.4444444444444444,
           "#26828e"
          ],
          [
           0.5555555555555556,
           "#1f9e89"
          ],
          [
           0.6666666666666666,
           "#35b779"
          ],
          [
           0.7777777777777778,
           "#6ece58"
          ],
          [
           0.8888888888888888,
           "#b5de2b"
          ],
          [
           1,
           "#fde725"
          ]
         ]
        },
        "legend": {
         "tracegroupgap": 0
        },
        "margin": {
         "b": 25,
         "l": 25,
         "r": 25,
         "t": 50
        },
        "template": {
         "data": {
          "bar": [
           {
            "error_x": {
             "color": "#2a3f5f"
            },
            "error_y": {
             "color": "#2a3f5f"
            },
            "marker": {
             "line": {
              "color": "#E5ECF6",
              "width": 0.5
             },
             "pattern": {
              "fillmode": "overlay",
              "size": 10,
              "solidity": 0.2
             }
            },
            "type": "bar"
           }
          ],
          "barpolar": [
           {
            "marker": {
             "line": {
              "color": "#E5ECF6",
              "width": 0.5
             },
             "pattern": {
              "fillmode": "overlay",
              "size": 10,
              "solidity": 0.2
             }
            },
            "type": "barpolar"
           }
          ],
          "carpet": [
           {
            "aaxis": {
             "endlinecolor": "#2a3f5f",
             "gridcolor": "white",
             "linecolor": "white",
             "minorgridcolor": "white",
             "startlinecolor": "#2a3f5f"
            },
            "baxis": {
             "endlinecolor": "#2a3f5f",
             "gridcolor": "white",
             "linecolor": "white",
             "minorgridcolor": "white",
             "startlinecolor": "#2a3f5f"
            },
            "type": "carpet"
           }
          ],
          "choropleth": [
           {
            "colorbar": {
             "outlinewidth": 0,
             "ticks": ""
            },
            "type": "choropleth"
           }
          ],
          "contour": [
           {
            "colorbar": {
             "outlinewidth": 0,
             "ticks": ""
            },
            "colorscale": [
             [
              0,
              "#0d0887"
             ],
             [
              0.1111111111111111,
              "#46039f"
             ],
             [
              0.2222222222222222,
              "#7201a8"
             ],
             [
              0.3333333333333333,
              "#9c179e"
             ],
             [
              0.4444444444444444,
              "#bd3786"
             ],
             [
              0.5555555555555556,
              "#d8576b"
             ],
             [
              0.6666666666666666,
              "#ed7953"
             ],
             [
              0.7777777777777778,
              "#fb9f3a"
             ],
             [
              0.8888888888888888,
              "#fdca26"
             ],
             [
              1,
              "#f0f921"
             ]
            ],
            "type": "contour"
           }
          ],
          "contourcarpet": [
           {
            "colorbar": {
             "outlinewidth": 0,
             "ticks": ""
            },
            "type": "contourcarpet"
           }
          ],
          "heatmap": [
           {
            "colorbar": {
             "outlinewidth": 0,
             "ticks": ""
            },
            "colorscale": [
             [
              0,
              "#0d0887"
             ],
             [
              0.1111111111111111,
              "#46039f"
             ],
             [
              0.2222222222222222,
              "#7201a8"
             ],
             [
              0.3333333333333333,
              "#9c179e"
             ],
             [
              0.4444444444444444,
              "#bd3786"
             ],
             [
              0.5555555555555556,
              "#d8576b"
             ],
             [
              0.6666666666666666,
              "#ed7953"
             ],
             [
              0.7777777777777778,
              "#fb9f3a"
             ],
             [
              0.8888888888888888,
              "#fdca26"
             ],
             [
              1,
              "#f0f921"
             ]
            ],
            "type": "heatmap"
           }
          ],
          "heatmapgl": [
           {
            "colorbar": {
             "outlinewidth": 0,
             "ticks": ""
            },
            "colorscale": [
             [
              0,
              "#0d0887"
             ],
             [
              0.1111111111111111,
              "#46039f"
             ],
             [
              0.2222222222222222,
              "#7201a8"
             ],
             [
              0.3333333333333333,
              "#9c179e"
             ],
             [
              0.4444444444444444,
              "#bd3786"
             ],
             [
              0.5555555555555556,
              "#d8576b"
             ],
             [
              0.6666666666666666,
              "#ed7953"
             ],
             [
              0.7777777777777778,
              "#fb9f3a"
             ],
             [
              0.8888888888888888,
              "#fdca26"
             ],
             [
              1,
              "#f0f921"
             ]
            ],
            "type": "heatmapgl"
           }
          ],
          "histogram": [
           {
            "marker": {
             "pattern": {
              "fillmode": "overlay",
              "size": 10,
              "solidity": 0.2
             }
            },
            "type": "histogram"
           }
          ],
          "histogram2d": [
           {
            "colorbar": {
             "outlinewidth": 0,
             "ticks": ""
            },
            "colorscale": [
             [
              0,
              "#0d0887"
             ],
             [
              0.1111111111111111,
              "#46039f"
             ],
             [
              0.2222222222222222,
              "#7201a8"
             ],
             [
              0.3333333333333333,
              "#9c179e"
             ],
             [
              0.4444444444444444,
              "#bd3786"
             ],
             [
              0.5555555555555556,
              "#d8576b"
             ],
             [
              0.6666666666666666,
              "#ed7953"
             ],
             [
              0.7777777777777778,
              "#fb9f3a"
             ],
             [
              0.8888888888888888,
              "#fdca26"
             ],
             [
              1,
              "#f0f921"
             ]
            ],
            "type": "histogram2d"
           }
          ],
          "histogram2dcontour": [
           {
            "colorbar": {
             "outlinewidth": 0,
             "ticks": ""
            },
            "colorscale": [
             [
              0,
              "#0d0887"
             ],
             [
              0.1111111111111111,
              "#46039f"
             ],
             [
              0.2222222222222222,
              "#7201a8"
             ],
             [
              0.3333333333333333,
              "#9c179e"
             ],
             [
              0.4444444444444444,
              "#bd3786"
             ],
             [
              0.5555555555555556,
              "#d8576b"
             ],
             [
              0.6666666666666666,
              "#ed7953"
             ],
             [
              0.7777777777777778,
              "#fb9f3a"
             ],
             [
              0.8888888888888888,
              "#fdca26"
             ],
             [
              1,
              "#f0f921"
             ]
            ],
            "type": "histogram2dcontour"
           }
          ],
          "mesh3d": [
           {
            "colorbar": {
             "outlinewidth": 0,
             "ticks": ""
            },
            "type": "mesh3d"
           }
          ],
          "parcoords": [
           {
            "line": {
             "colorbar": {
              "outlinewidth": 0,
              "ticks": ""
             }
            },
            "type": "parcoords"
           }
          ],
          "pie": [
           {
            "automargin": true,
            "type": "pie"
           }
          ],
          "scatter": [
           {
            "fillpattern": {
             "fillmode": "overlay",
             "size": 10,
             "solidity": 0.2
            },
            "type": "scatter"
           }
          ],
          "scatter3d": [
           {
            "line": {
             "colorbar": {
              "outlinewidth": 0,
              "ticks": ""
             }
            },
            "marker": {
             "colorbar": {
              "outlinewidth": 0,
              "ticks": ""
             }
            },
            "type": "scatter3d"
           }
          ],
          "scattercarpet": [
           {
            "marker": {
             "colorbar": {
              "outlinewidth": 0,
              "ticks": ""
             }
            },
            "type": "scattercarpet"
           }
          ],
          "scattergeo": [
           {
            "marker": {
             "colorbar": {
              "outlinewidth": 0,
              "ticks": ""
             }
            },
            "type": "scattergeo"
           }
          ],
          "scattergl": [
           {
            "marker": {
             "colorbar": {
              "outlinewidth": 0,
              "ticks": ""
             }
            },
            "type": "scattergl"
           }
          ],
          "scattermapbox": [
           {
            "marker": {
             "colorbar": {
              "outlinewidth": 0,
              "ticks": ""
             }
            },
            "type": "scattermapbox"
           }
          ],
          "scatterpolar": [
           {
            "marker": {
             "colorbar": {
              "outlinewidth": 0,
              "ticks": ""
             }
            },
            "type": "scatterpolar"
           }
          ],
          "scatterpolargl": [
           {
            "marker": {
             "colorbar": {
              "outlinewidth": 0,
              "ticks": ""
             }
            },
            "type": "scatterpolargl"
           }
          ],
          "scatterternary": [
           {
            "marker": {
             "colorbar": {
              "outlinewidth": 0,
              "ticks": ""
             }
            },
            "type": "scatterternary"
           }
          ],
          "surface": [
           {
            "colorbar": {
             "outlinewidth": 0,
             "ticks": ""
            },
            "colorscale": [
             [
              0,
              "#0d0887"
             ],
             [
              0.1111111111111111,
              "#46039f"
             ],
             [
              0.2222222222222222,
              "#7201a8"
             ],
             [
              0.3333333333333333,
              "#9c179e"
             ],
             [
              0.4444444444444444,
              "#bd3786"
             ],
             [
              0.5555555555555556,
              "#d8576b"
             ],
             [
              0.6666666666666666,
              "#ed7953"
             ],
             [
              0.7777777777777778,
              "#fb9f3a"
             ],
             [
              0.8888888888888888,
              "#fdca26"
             ],
             [
              1,
              "#f0f921"
             ]
            ],
            "type": "surface"
           }
          ],
          "table": [
           {
            "cells": {
             "fill": {
              "color": "#EBF0F8"
             },
             "line": {
              "color": "white"
             }
            },
            "header": {
             "fill": {
              "color": "#C8D4E3"
             },
             "line": {
              "color": "white"
             }
            },
            "type": "table"
           }
          ]
         },
         "layout": {
          "annotationdefaults": {
           "arrowcolor": "#2a3f5f",
           "arrowhead": 0,
           "arrowwidth": 1
          },
          "autotypenumbers": "strict",
          "coloraxis": {
           "colorbar": {
            "outlinewidth": 0,
            "ticks": ""
           }
          },
          "colorscale": {
           "diverging": [
            [
             0,
             "#8e0152"
            ],
            [
             0.1,
             "#c51b7d"
            ],
            [
             0.2,
             "#de77ae"
            ],
            [
             0.3,
             "#f1b6da"
            ],
            [
             0.4,
             "#fde0ef"
            ],
            [
             0.5,
             "#f7f7f7"
            ],
            [
             0.6,
             "#e6f5d0"
            ],
            [
             0.7,
             "#b8e186"
            ],
            [
             0.8,
             "#7fbc41"
            ],
            [
             0.9,
             "#4d9221"
            ],
            [
             1,
             "#276419"
            ]
           ],
           "sequential": [
            [
             0,
             "#0d0887"
            ],
            [
             0.1111111111111111,
             "#46039f"
            ],
            [
             0.2222222222222222,
             "#7201a8"
            ],
            [
             0.3333333333333333,
             "#9c179e"
            ],
            [
             0.4444444444444444,
             "#bd3786"
            ],
            [
             0.5555555555555556,
             "#d8576b"
            ],
            [
             0.6666666666666666,
             "#ed7953"
            ],
            [
             0.7777777777777778,
             "#fb9f3a"
            ],
            [
             0.8888888888888888,
             "#fdca26"
            ],
            [
             1,
             "#f0f921"
            ]
           ],
           "sequentialminus": [
            [
             0,
             "#0d0887"
            ],
            [
             0.1111111111111111,
             "#46039f"
            ],
            [
             0.2222222222222222,
             "#7201a8"
            ],
            [
             0.3333333333333333,
             "#9c179e"
            ],
            [
             0.4444444444444444,
             "#bd3786"
            ],
            [
             0.5555555555555556,
             "#d8576b"
            ],
            [
             0.6666666666666666,
             "#ed7953"
            ],
            [
             0.7777777777777778,
             "#fb9f3a"
            ],
            [
             0.8888888888888888,
             "#fdca26"
            ],
            [
             1,
             "#f0f921"
            ]
           ]
          },
          "colorway": [
           "#636efa",
           "#EF553B",
           "#00cc96",
           "#ab63fa",
           "#FFA15A",
           "#19d3f3",
           "#FF6692",
           "#B6E880",
           "#FF97FF",
           "#FECB52"
          ],
          "font": {
           "color": "#2a3f5f"
          },
          "geo": {
           "bgcolor": "white",
           "lakecolor": "white",
           "landcolor": "#E5ECF6",
           "showlakes": true,
           "showland": true,
           "subunitcolor": "white"
          },
          "hoverlabel": {
           "align": "left"
          },
          "hovermode": "closest",
          "mapbox": {
           "style": "light"
          },
          "paper_bgcolor": "white",
          "plot_bgcolor": "#E5ECF6",
          "polar": {
           "angularaxis": {
            "gridcolor": "white",
            "linecolor": "white",
            "ticks": ""
           },
           "bgcolor": "#E5ECF6",
           "radialaxis": {
            "gridcolor": "white",
            "linecolor": "white",
            "ticks": ""
           }
          },
          "scene": {
           "xaxis": {
            "backgroundcolor": "#E5ECF6",
            "gridcolor": "white",
            "gridwidth": 2,
            "linecolor": "white",
            "showbackground": true,
            "ticks": "",
            "zerolinecolor": "white"
           },
           "yaxis": {
            "backgroundcolor": "#E5ECF6",
            "gridcolor": "white",
            "gridwidth": 2,
            "linecolor": "white",
            "showbackground": true,
            "ticks": "",
            "zerolinecolor": "white"
           },
           "zaxis": {
            "backgroundcolor": "#E5ECF6",
            "gridcolor": "white",
            "gridwidth": 2,
            "linecolor": "white",
            "showbackground": true,
            "ticks": "",
            "zerolinecolor": "white"
           }
          },
          "shapedefaults": {
           "line": {
            "color": "#2a3f5f"
           }
          },
          "ternary": {
           "aaxis": {
            "gridcolor": "white",
            "linecolor": "white",
            "ticks": ""
           },
           "baxis": {
            "gridcolor": "white",
            "linecolor": "white",
            "ticks": ""
           },
           "bgcolor": "#E5ECF6",
           "caxis": {
            "gridcolor": "white",
            "linecolor": "white",
            "ticks": ""
           }
          },
          "title": {
           "x": 0.05
          },
          "xaxis": {
           "automargin": true,
           "gridcolor": "white",
           "linecolor": "white",
           "ticks": "",
           "title": {
            "standoff": 15
           },
           "zerolinecolor": "white",
           "zerolinewidth": 2
          },
          "yaxis": {
           "automargin": true,
           "gridcolor": "white",
           "linecolor": "white",
           "ticks": "",
           "title": {
            "standoff": 15
           },
           "zerolinecolor": "white",
           "zerolinewidth": 2
          }
         }
        }
       }
      }
     },
     "metadata": {},
     "output_type": "display_data"
    }
   ],
   "source": [
    "clean_bow_words_freq[\"pos_tag\"] = clean_bow_words_freq[\"words\"].apply(get_pos_tag)\n",
    "\n",
    "#create a tree map\n",
    "fig = px.treemap(clean_bow_words_freq[:350], \n",
    "                path=[px.Constant('Reviews'), 'pos_tag','words'], \n",
    "                values='frequency',\n",
    "                color='frequency',\n",
    "                color_continuous_scale='viridis',\n",
    "                )\n",
    "\n",
    "fig.update_layout(margin = dict(t=50, l=25, r=25, b=25))\n",
    "fig.show()"
   ]
  },
  {
   "cell_type": "markdown",
   "metadata": {},
   "source": [
    "<font color='#BFD72F' size=4>2.4 BOW plot for the cuisine types</font> <a class=\"anchor\" id=\"P1\"></a>\n",
    "  \n",
    "[Back to TOC](#toc)"
   ]
  },
  {
   "cell_type": "code",
   "execution_count": 31,
   "metadata": {},
   "outputs": [
    {
     "data": {
      "text/html": [
       "<div>\n",
       "<style scoped>\n",
       "    .dataframe tbody tr th:only-of-type {\n",
       "        vertical-align: middle;\n",
       "    }\n",
       "\n",
       "    .dataframe tbody tr th {\n",
       "        vertical-align: top;\n",
       "    }\n",
       "\n",
       "    .dataframe thead th {\n",
       "        text-align: right;\n",
       "    }\n",
       "</style>\n",
       "<table border=\"1\" class=\"dataframe\">\n",
       "  <thead>\n",
       "    <tr style=\"text-align: right;\">\n",
       "      <th></th>\n",
       "      <th>words</th>\n",
       "      <th>frequency</th>\n",
       "    </tr>\n",
       "  </thead>\n",
       "  <tbody>\n",
       "    <tr>\n",
       "      <th>23</th>\n",
       "      <td>indian</td>\n",
       "      <td>7095</td>\n",
       "    </tr>\n",
       "    <tr>\n",
       "      <th>35</th>\n",
       "      <td>north</td>\n",
       "      <td>6095</td>\n",
       "    </tr>\n",
       "    <tr>\n",
       "      <th>10</th>\n",
       "      <td>chinese</td>\n",
       "      <td>4095</td>\n",
       "    </tr>\n",
       "    <tr>\n",
       "      <th>11</th>\n",
       "      <td>continental</td>\n",
       "      <td>2084</td>\n",
       "    </tr>\n",
       "    <tr>\n",
       "      <th>18</th>\n",
       "      <td>food</td>\n",
       "      <td>1776</td>\n",
       "    </tr>\n",
       "    <tr>\n",
       "      <th>7</th>\n",
       "      <td>biryani</td>\n",
       "      <td>1498</td>\n",
       "    </tr>\n",
       "    <tr>\n",
       "      <th>3</th>\n",
       "      <td>asian</td>\n",
       "      <td>1400</td>\n",
       "    </tr>\n",
       "    <tr>\n",
       "      <th>25</th>\n",
       "      <td>italian</td>\n",
       "      <td>1400</td>\n",
       "    </tr>\n",
       "    <tr>\n",
       "      <th>13</th>\n",
       "      <td>desserts</td>\n",
       "      <td>1299</td>\n",
       "    </tr>\n",
       "    <tr>\n",
       "      <th>16</th>\n",
       "      <td>fast</td>\n",
       "      <td>1276</td>\n",
       "    </tr>\n",
       "    <tr>\n",
       "      <th>39</th>\n",
       "      <td>south</td>\n",
       "      <td>900</td>\n",
       "    </tr>\n",
       "    <tr>\n",
       "      <th>34</th>\n",
       "      <td>mughlai</td>\n",
       "      <td>600</td>\n",
       "    </tr>\n",
       "    <tr>\n",
       "      <th>4</th>\n",
       "      <td>bakery</td>\n",
       "      <td>600</td>\n",
       "    </tr>\n",
       "    <tr>\n",
       "      <th>28</th>\n",
       "      <td>kebab</td>\n",
       "      <td>600</td>\n",
       "    </tr>\n",
       "    <tr>\n",
       "      <th>9</th>\n",
       "      <td>cafe</td>\n",
       "      <td>600</td>\n",
       "    </tr>\n",
       "    <tr>\n",
       "      <th>1</th>\n",
       "      <td>andhra</td>\n",
       "      <td>600</td>\n",
       "    </tr>\n",
       "    <tr>\n",
       "      <th>0</th>\n",
       "      <td>american</td>\n",
       "      <td>577</td>\n",
       "    </tr>\n",
       "    <tr>\n",
       "      <th>6</th>\n",
       "      <td>beverages</td>\n",
       "      <td>500</td>\n",
       "    </tr>\n",
       "    <tr>\n",
       "      <th>30</th>\n",
       "      <td>mediterranean</td>\n",
       "      <td>500</td>\n",
       "    </tr>\n",
       "    <tr>\n",
       "      <th>8</th>\n",
       "      <td>burger</td>\n",
       "      <td>477</td>\n",
       "    </tr>\n",
       "    <tr>\n",
       "      <th>33</th>\n",
       "      <td>momos</td>\n",
       "      <td>400</td>\n",
       "    </tr>\n",
       "    <tr>\n",
       "      <th>15</th>\n",
       "      <td>european</td>\n",
       "      <td>400</td>\n",
       "    </tr>\n",
       "    <tr>\n",
       "      <th>42</th>\n",
       "      <td>sushi</td>\n",
       "      <td>400</td>\n",
       "    </tr>\n",
       "    <tr>\n",
       "      <th>21</th>\n",
       "      <td>hyderabadi</td>\n",
       "      <td>399</td>\n",
       "    </tr>\n",
       "    <tr>\n",
       "      <th>38</th>\n",
       "      <td>seafood</td>\n",
       "      <td>399</td>\n",
       "    </tr>\n",
       "    <tr>\n",
       "      <th>37</th>\n",
       "      <td>salad</td>\n",
       "      <td>377</td>\n",
       "    </tr>\n",
       "    <tr>\n",
       "      <th>17</th>\n",
       "      <td>finger</td>\n",
       "      <td>200</td>\n",
       "    </tr>\n",
       "    <tr>\n",
       "      <th>41</th>\n",
       "      <td>street</td>\n",
       "      <td>200</td>\n",
       "    </tr>\n",
       "    <tr>\n",
       "      <th>43</th>\n",
       "      <td>thai</td>\n",
       "      <td>200</td>\n",
       "    </tr>\n",
       "    <tr>\n",
       "      <th>26</th>\n",
       "      <td>japanese</td>\n",
       "      <td>200</td>\n",
       "    </tr>\n",
       "    <tr>\n",
       "      <th>5</th>\n",
       "      <td>bbq</td>\n",
       "      <td>200</td>\n",
       "    </tr>\n",
       "    <tr>\n",
       "      <th>2</th>\n",
       "      <td>arabian</td>\n",
       "      <td>200</td>\n",
       "    </tr>\n",
       "    <tr>\n",
       "      <th>32</th>\n",
       "      <td>modern</td>\n",
       "      <td>200</td>\n",
       "    </tr>\n",
       "    <tr>\n",
       "      <th>22</th>\n",
       "      <td>ice</td>\n",
       "      <td>199</td>\n",
       "    </tr>\n",
       "    <tr>\n",
       "      <th>12</th>\n",
       "      <td>cream</td>\n",
       "      <td>199</td>\n",
       "    </tr>\n",
       "    <tr>\n",
       "      <th>31</th>\n",
       "      <td>mexican</td>\n",
       "      <td>100</td>\n",
       "    </tr>\n",
       "    <tr>\n",
       "      <th>29</th>\n",
       "      <td>lebanese</td>\n",
       "      <td>100</td>\n",
       "    </tr>\n",
       "    <tr>\n",
       "      <th>27</th>\n",
       "      <td>juices</td>\n",
       "      <td>100</td>\n",
       "    </tr>\n",
       "    <tr>\n",
       "      <th>24</th>\n",
       "      <td>indonesian</td>\n",
       "      <td>100</td>\n",
       "    </tr>\n",
       "    <tr>\n",
       "      <th>20</th>\n",
       "      <td>healthy</td>\n",
       "      <td>100</td>\n",
       "    </tr>\n",
       "    <tr>\n",
       "      <th>40</th>\n",
       "      <td>spanish</td>\n",
       "      <td>100</td>\n",
       "    </tr>\n",
       "    <tr>\n",
       "      <th>19</th>\n",
       "      <td>goan</td>\n",
       "      <td>100</td>\n",
       "    </tr>\n",
       "    <tr>\n",
       "      <th>14</th>\n",
       "      <td>eastern</td>\n",
       "      <td>100</td>\n",
       "    </tr>\n",
       "    <tr>\n",
       "      <th>44</th>\n",
       "      <td>wraps</td>\n",
       "      <td>100</td>\n",
       "    </tr>\n",
       "    <tr>\n",
       "      <th>36</th>\n",
       "      <td>pizza</td>\n",
       "      <td>99</td>\n",
       "    </tr>\n",
       "  </tbody>\n",
       "</table>\n",
       "</div>"
      ],
      "text/plain": [
       "            words  frequency\n",
       "23         indian       7095\n",
       "35          north       6095\n",
       "10        chinese       4095\n",
       "11    continental       2084\n",
       "18           food       1776\n",
       "7         biryani       1498\n",
       "3           asian       1400\n",
       "25        italian       1400\n",
       "13       desserts       1299\n",
       "16           fast       1276\n",
       "39          south        900\n",
       "34        mughlai        600\n",
       "4          bakery        600\n",
       "28          kebab        600\n",
       "9            cafe        600\n",
       "1          andhra        600\n",
       "0        american        577\n",
       "6       beverages        500\n",
       "30  mediterranean        500\n",
       "8          burger        477\n",
       "33          momos        400\n",
       "15       european        400\n",
       "42          sushi        400\n",
       "21     hyderabadi        399\n",
       "38        seafood        399\n",
       "37          salad        377\n",
       "17         finger        200\n",
       "41         street        200\n",
       "43           thai        200\n",
       "26       japanese        200\n",
       "5             bbq        200\n",
       "2         arabian        200\n",
       "32         modern        200\n",
       "22            ice        199\n",
       "12          cream        199\n",
       "31        mexican        100\n",
       "29       lebanese        100\n",
       "27         juices        100\n",
       "24     indonesian        100\n",
       "20        healthy        100\n",
       "40        spanish        100\n",
       "19           goan        100\n",
       "14        eastern        100\n",
       "44          wraps        100\n",
       "36          pizza         99"
      ]
     },
     "execution_count": 31,
     "metadata": {},
     "output_type": "execute_result"
    }
   ],
   "source": [
    "#Create a BOW and get the number of times each type of cuisine appears\n",
    "bow_vectorizer = CountVectorizer()\n",
    "cuisine_td_matrix = bow_vectorizer.fit_transform(reviews[\"Cuisine\"]).toarray()\n",
    "cuisine_word_list = bow_vectorizer.get_feature_names_out().tolist()\n",
    "cuisine_words_freq = word_freq_calculator(cuisine_td_matrix, cuisine_word_list)\n",
    "cuisine_words_freq"
   ]
  },
  {
   "cell_type": "code",
   "execution_count": 32,
   "metadata": {},
   "outputs": [
    {
     "data": {
      "image/png": "[encoded data removed]",
      "text/plain": [
       "<Figure size 1000x800 with 1 Axes>"
      ]
     },
     "metadata": {},
     "output_type": "display_data"
    }
   ],
   "source": [
    "graph_clean_freq = plot_term_frequency(cuisine_words_freq, 20, \"Cuisines\", show = False)"
   ]
  },
  {
   "cell_type": "markdown",
   "metadata": {},
   "source": [
    "<font color='#BFD72F' size=4>2.5 Co-occurrence in `Review` visualization</font> <a class=\"anchor\" id=\"P1\"></a>\n",
    "  \n",
    "[Back to TOC](#toc)"
   ]
  },
  {
   "cell_type": "code",
   "execution_count": 36,
   "metadata": {},
   "outputs": [],
   "source": [
    "reviews[\"Review_cooccurrence_analysis\"] = reviews[\"Review\"].apply(lambda x: main_pipeline(x, print_output= False, tokenized_output=True, no_punctuation = True))"
   ]
  },
  {
   "cell_type": "code",
   "execution_count": 37,
   "metadata": {},
   "outputs": [],
   "source": [
    "def cooccurrence_matrix_window_generator(preproc_sentences, window_size):\n",
    "\n",
    "    co_occurrences = defaultdict(Counter)\n",
    "\n",
    "    # Compute co-occurrences\n",
    "    for sentence in tqdm(preproc_sentences):\n",
    "        for i, word in enumerate(sentence):\n",
    "            for j in range(max(0, i - window_size), min(len(sentence), i + window_size + 1)):\n",
    "                if i != j:\n",
    "                    co_occurrences[word][sentence[j]] += 1\n",
    "\n",
    "    #ensure that words are unique\n",
    "    unique_words = list(set([word for sentence in preproc_sentences for word in sentence]))\n",
    "\n",
    "    # Initialize the co-occurrence matrix\n",
    "    co_matrix = np.zeros((len(unique_words), len(unique_words)), dtype=int)\n",
    "\n",
    "    # Populate the co-occurrence matrix\n",
    "    word_index = {word: idx for idx, word in enumerate(unique_words)}\n",
    "    for word, neighbors in co_occurrences.items():\n",
    "        for neighbor, count in neighbors.items():\n",
    "            co_matrix[word_index[word]][word_index[neighbor]] = count\n",
    "\n",
    "    # Create a DataFrame for better readability\n",
    "    co_matrix_df = pd.DataFrame(co_matrix, index=unique_words, columns=unique_words)\n",
    "\n",
    "    co_matrix_df = co_matrix_df.reindex(co_matrix_df.sum().sort_values(ascending=False).index, axis=1)\n",
    "    co_matrix_df = co_matrix_df.reindex(co_matrix_df.sum().sort_values(ascending=False).index, axis=0)\n",
    "\n",
    "    # Return the co-occurrence matrix\n",
    "    return co_matrix_df"
   ]
  },
  {
   "cell_type": "code",
   "execution_count": 83,
   "metadata": {},
   "outputs": [
    {
     "name": "stderr",
     "output_type": "stream",
     "text": [
      "100%|██████████| 9955/9955 [00:01<00:00, 5325.87it/s]\n"
     ]
    }
   ],
   "source": [
    "##Context window = 2 words\n",
    "reviews_cooccurrence_window = cooccurrence_matrix_window_generator(reviews[\"Review_cooccurrence_analysis\"].tolist(),5)"
   ]
  },
  {
   "cell_type": "code",
   "execution_count": 84,
   "metadata": {},
   "outputs": [
    {
     "data": {
      "application/vnd.plotly.v1+json": {
       "config": {
        "plotlyServerURL": "https://plot.ly"
       },
       "data": [
        {
         "coloraxis": "coloraxis",
         "hovertemplate": "Words: %{x}<br>Words: %{y}<br>Count: %{z}<extra></extra>",
         "name": "0",
         "type": "heatmap",
         "x": [
          "good",
          "food",
          "place",
          "chicken",
          "order",
          "service",
          "taste",
          "one",
          "try",
          "ambience",
          "time",
          "like",
          "great",
          "really",
          "also",
          "go",
          "visit",
          "serve",
          "get",
          "staff",
          "restaurant",
          "best",
          "biryani",
          "nice",
          "-",
          "u",
          "veg",
          "make",
          "well",
          "even",
          "would",
          "experience",
          "love",
          "dish",
          "starter",
          "give",
          "must",
          "bad",
          "come",
          "amaze",
          "take",
          "quality",
          "price",
          "rice",
          "friend",
          "dont",
          "menu",
          "paneer",
          "item",
          "overall"
         ],
         "xaxis": "x",
         "y": [
          "good",
          "food",
          "place",
          "chicken",
          "order",
          "service",
          "taste",
          "one",
          "try",
          "ambience",
          "time",
          "like",
          "great",
          "really",
          "also",
          "go",
          "visit",
          "serve",
          "get",
          "staff",
          "restaurant",
          "best",
          "biryani",
          "nice",
          "-",
          "u",
          "veg",
          "make",
          "well",
          "even",
          "would",
          "experience",
          "love",
          "dish",
          "starter",
          "give",
          "must",
          "bad",
          "come",
          "amaze",
          "take",
          "quality",
          "price",
          "rice",
          "friend",
          "dont",
          "menu",
          "paneer",
          "item",
          "overall"
         ],
         "yaxis": "y",
         "z": [
          [
           1982,
           2369,
           1616,
           679,
           458,
           1329,
           1168,
           347,
           356,
           951,
           457,
           333,
           434,
           675,
           684,
           286,
           319,
           314,
           219,
           516,
           276,
           223,
           427,
           530,
           196,
           176,
           328,
           206,
           270,
           221,
           220,
           386,
           172,
           172,
           297,
           159,
           192,
           128,
           153,
           145,
           120,
           323,
           290,
           170,
           246,
           100,
           141,
           136,
           222,
           353
          ],
          [
           2369,
           928,
           1262,
           313,
           681,
           1289,
           625,
           248,
           303,
           877,
           448,
           383,
           748,
           449,
           316,
           289,
           305,
           385,
           277,
           433,
           331,
           278,
           159,
           473,
           361,
           194,
           193,
           169,
           210,
           220,
           193,
           256,
           283,
           98,
           165,
           160,
           187,
           267,
           188,
           290,
           146,
           429,
           261,
           71,
           143,
           147,
           143,
           71,
           161,
           168
          ],
          [
           1616,
           1262,
           938,
           164,
           431,
           495,
           270,
           478,
           357,
           593,
           459,
           283,
           567,
           347,
           208,
           482,
           927,
           180,
           235,
           230,
           141,
           474,
           147,
           547,
           93,
           140,
           77,
           172,
           186,
           213,
           271,
           199,
           334,
           97,
           91,
           133,
           301,
           114,
           137,
           229,
           101,
           101,
           129,
           36,
           447,
           97,
           93,
           32,
           71,
           194
          ],
          [
           679,
           313,
           164,
           1188,
           599,
           104,
           419,
           147,
           258,
           53,
           85,
           191,
           96,
           154,
           199,
           65,
           41,
           138,
           82,
           36,
           41,
           139,
           536,
           76,
           153,
           43,
           200,
           76,
           137,
           59,
           54,
           35,
           102,
           161,
           213,
           52,
           110,
           95,
           69,
           71,
           21,
           60,
           41,
           268,
           29,
           38,
           33,
           101,
           71,
           38
          ],
          [
           458,
           681,
           431,
           599,
           358,
           169,
           253,
           220,
           88,
           74,
           331,
           157,
           93,
           105,
           167,
           150,
           55,
           118,
           219,
           71,
           181,
           67,
           239,
           62,
           77,
           114,
           213,
           87,
           68,
           114,
           93,
           105,
           64,
           125,
           112,
           102,
           48,
           146,
           113,
           48,
           207,
           87,
           41,
           99,
           51,
           125,
           65,
           134,
           101,
           42
          ],
          [
           1329,
           1289,
           495,
           104,
           169,
           274,
           204,
           123,
           85,
           524,
           199,
           123,
           402,
           260,
           212,
           118,
           191,
           122,
           77,
           342,
           146,
           135,
           80,
           255,
           292,
           101,
           49,
           86,
           105,
           123,
           93,
           129,
           111,
           54,
           87,
           94,
           71,
           197,
           80,
           123,
           118,
           122,
           97,
           15,
           51,
           57,
           65,
           12,
           54,
           102
          ],
          [
           1168,
           625,
           270,
           419,
           253,
           204,
           264,
           136,
           157,
           136,
           128,
           275,
           208,
           198,
           223,
           97,
           83,
           120,
           95,
           78,
           94,
           121,
           300,
           101,
           126,
           48,
           107,
           97,
           123,
           91,
           78,
           65,
           96,
           126,
           99,
           75,
           67,
           189,
           66,
           93,
           45,
           173,
           130,
           115,
           30,
           58,
           58,
           98,
           101,
           76
          ],
          [
           347,
           248,
           478,
           147,
           220,
           123,
           136,
           216,
           160,
           85,
           118,
           97,
           65,
           91,
           106,
           108,
           105,
           124,
           97,
           74,
           110,
           365,
           112,
           40,
           54,
           67,
           66,
           67,
           53,
           86,
           77,
           71,
           84,
           83,
           51,
           63,
           64,
           82,
           60,
           40,
           72,
           41,
           30,
           39,
           61,
           35,
           39,
           34,
           50,
           38
          ],
          [
           356,
           303,
           357,
           258,
           88,
           85,
           157,
           160,
           122,
           87,
           118,
           102,
           90,
           97,
           155,
           86,
           109,
           59,
           55,
           56,
           84,
           101,
           118,
           62,
           67,
           70,
           96,
           56,
           57,
           44,
           103,
           32,
           98,
           126,
           78,
           95,
           510,
           26,
           35,
           54,
           27,
           26,
           40,
           40,
           34,
           57,
           85,
           54,
           91,
           44
          ],
          [
           951,
           877,
           593,
           53,
           74,
           524,
           136,
           85,
           87,
           56,
           95,
           102,
           328,
           160,
           111,
           105,
           107,
           55,
           47,
           185,
           88,
           108,
           31,
           248,
           234,
           38,
           37,
           43,
           80,
           48,
           55,
           76,
           97,
           32,
           37,
           40,
           62,
           24,
           28,
           98,
           32,
           55,
           75,
           12,
           45,
           28,
           31,
           14,
           26,
           76
          ],
          [
           457,
           448,
           459,
           85,
           331,
           199,
           128,
           118,
           118,
           95,
           210,
           99,
           188,
           103,
           78,
           151,
           245,
           110,
           132,
           72,
           101,
           77,
           76,
           84,
           37,
           95,
           41,
           44,
           56,
           91,
           68,
           116,
           95,
           55,
           38,
           79,
           34,
           63,
           97,
           44,
           136,
           72,
           25,
           24,
           99,
           46,
           31,
           16,
           45,
           50
          ],
          [
           333,
           383,
           283,
           191,
           157,
           123,
           275,
           97,
           102,
           102,
           99,
           118,
           66,
           153,
           106,
           62,
           75,
           94,
           64,
           54,
           76,
           44,
           103,
           54,
           45,
           79,
           49,
           91,
           48,
           60,
           144,
           43,
           47,
           78,
           69,
           48,
           23,
           63,
           50,
           34,
           42,
           42,
           37,
           65,
           36,
           69,
           40,
           53,
           49,
           42
          ],
          [
           434,
           748,
           567,
           96,
           93,
           402,
           208,
           65,
           90,
           328,
           188,
           66,
           266,
           119,
           97,
           88,
           119,
           67,
           60,
           147,
           52,
           82,
           47,
           125,
           48,
           55,
           48,
           54,
           62,
           58,
           76,
           151,
           72,
           45,
           56,
           44,
           57,
           21,
           37,
           71,
           38,
           66,
           60,
           22,
           86,
           15,
           45,
           30,
           23,
           81
          ],
          [
           675,
           449,
           347,
           154,
           105,
           260,
           198,
           91,
           97,
           160,
           103,
           153,
           119,
           194,
           95,
           84,
           89,
           78,
           46,
           124,
           58,
           62,
           66,
           200,
           21,
           54,
           48,
           49,
           82,
           46,
           56,
           94,
           75,
           46,
           61,
           37,
           55,
           83,
           38,
           94,
           29,
           63,
           38,
           28,
           38,
           35,
           30,
           31,
           36,
           35
          ],
          [
           684,
           316,
           208,
           199,
           167,
           212,
           223,
           106,
           155,
           111,
           78,
           106,
           97,
           95,
           152,
           53,
           79,
           111,
           50,
           103,
           69,
           51,
           81,
           140,
           12,
           49,
           57,
           46,
           55,
           40,
           56,
           45,
           72,
           72,
           54,
           59,
           56,
           36,
           32,
           40,
           33,
           59,
           67,
           40,
           39,
           20,
           50,
           40,
           56,
           35
          ],
          [
           286,
           289,
           482,
           65,
           150,
           118,
           97,
           108,
           86,
           105,
           151,
           62,
           88,
           84,
           53,
           98,
           51,
           55,
           84,
           46,
           91,
           53,
           45,
           50,
           36,
           63,
           25,
           51,
           79,
           81,
           105,
           71,
           44,
           44,
           35,
           29,
           55,
           51,
           21,
           39,
           44,
           36,
           26,
           26,
           103,
           74,
           39,
           18,
           30,
           31
          ],
          [
           319,
           305,
           927,
           41,
           55,
           191,
           83,
           105,
           109,
           107,
           245,
           75,
           119,
           89,
           79,
           51,
           110,
           41,
           53,
           60,
           130,
           90,
           41,
           81,
           23,
           44,
           19,
           62,
           42,
           48,
           152,
           101,
           110,
           33,
           19,
           36,
           261,
           26,
           31,
           52,
           23,
           26,
           35,
           4,
           121,
           38,
           29,
           3,
           32,
           55
          ],
          [
           314,
           385,
           180,
           138,
           118,
           122,
           120,
           124,
           59,
           55,
           110,
           94,
           67,
           78,
           111,
           55,
           41,
           108,
           56,
           86,
           48,
           67,
           76,
           53,
           25,
           174,
           60,
           44,
           90,
           90,
           34,
           54,
           40,
           74,
           114,
           30,
           31,
           59,
           45,
           32,
           59,
           59,
           34,
           44,
           13,
           43,
           36,
           30,
           50,
           24
          ],
          [
           219,
           277,
           235,
           82,
           219,
           77,
           95,
           97,
           55,
           47,
           132,
           64,
           60,
           46,
           50,
           84,
           53,
           56,
           80,
           32,
           74,
           62,
           61,
           30,
           25,
           87,
           42,
           39,
           32,
           57,
           43,
           44,
           23,
           39,
           34,
           31,
           14,
           66,
           36,
           29,
           55,
           18,
           30,
           25,
           24,
           52,
           42,
           24,
           42,
           17
          ],
          [
           516,
           433,
           230,
           36,
           71,
           342,
           78,
           74,
           56,
           185,
           72,
           54,
           147,
           124,
           103,
           46,
           60,
           86,
           32,
           64,
           52,
           60,
           19,
           158,
           53,
           61,
           21,
           59,
           94,
           52,
           48,
           71,
           54,
           43,
           38,
           43,
           30,
           36,
           42,
           57,
           69,
           29,
           29,
           4,
           31,
           30,
           43,
           4,
           26,
           34
          ],
          [
           276,
           331,
           141,
           41,
           181,
           146,
           94,
           110,
           84,
           88,
           101,
           76,
           52,
           58,
           69,
           91,
           130,
           48,
           74,
           52,
           122,
           83,
           57,
           58,
           21,
           42,
           33,
           47,
           49,
           44,
           54,
           72,
           32,
           53,
           10,
           52,
           36,
           67,
           38,
           29,
           43,
           51,
           39,
           17,
           43,
           46,
           40,
           11,
           14,
           32
          ],
          [
           223,
           278,
           474,
           139,
           67,
           135,
           121,
           365,
           101,
           108,
           77,
           44,
           82,
           62,
           51,
           53,
           90,
           67,
           62,
           60,
           83,
           126,
           74,
           44,
           28,
           43,
           24,
           50,
           32,
           30,
           41,
           50,
           54,
           60,
           51,
           28,
           48,
           15,
           33,
           45,
           15,
           41,
           42,
           20,
           53,
           15,
           29,
           20,
           37,
           16
          ],
          [
           427,
           159,
           147,
           536,
           239,
           80,
           300,
           112,
           118,
           31,
           76,
           103,
           47,
           66,
           81,
           45,
           41,
           76,
           61,
           19,
           57,
           74,
           460,
           53,
           19,
           29,
           122,
           34,
           37,
           41,
           25,
           26,
           40,
           40,
           37,
           30,
           41,
           86,
           30,
           25,
           14,
           41,
           37,
           107,
           12,
           56,
           16,
           40,
           29,
           18
          ],
          [
           530,
           473,
           547,
           76,
           62,
           255,
           101,
           40,
           62,
           248,
           84,
           54,
           125,
           200,
           140,
           50,
           81,
           53,
           30,
           158,
           58,
           44,
           53,
           216,
           20,
           46,
           26,
           33,
           56,
           27,
           35,
           92,
           43,
           27,
           38,
           25,
           37,
           8,
           32,
           43,
           16,
           35,
           24,
           23,
           81,
           6,
           22,
           13,
           15,
           93
          ],
          [
           196,
           361,
           93,
           153,
           77,
           292,
           126,
           54,
           67,
           234,
           37,
           45,
           48,
           21,
           12,
           36,
           23,
           25,
           25,
           53,
           21,
           28,
           19,
           20,
           716,
           21,
           39,
           17,
           35,
           21,
           31,
           38,
           31,
           24,
           36,
           21,
           36,
           18,
           20,
           16,
           12,
           30,
           34,
           29,
           14,
           10,
           20,
           28,
           13,
           62
          ],
          [
           176,
           194,
           140,
           43,
           114,
           101,
           48,
           67,
           70,
           38,
           95,
           79,
           55,
           54,
           49,
           63,
           44,
           174,
           87,
           61,
           42,
           43,
           29,
           46,
           21,
           170,
           20,
           105,
           65,
           68,
           36,
           50,
           26,
           57,
           27,
           108,
           34,
           29,
           61,
           31,
           96,
           14,
           16,
           15,
           17,
           28,
           26,
           14,
           22,
           29
          ],
          [
           328,
           193,
           77,
           200,
           213,
           49,
           107,
           66,
           96,
           37,
           41,
           49,
           48,
           48,
           57,
           25,
           19,
           60,
           42,
           21,
           33,
           24,
           122,
           26,
           39,
           20,
           388,
           24,
           53,
           19,
           19,
           11,
           26,
           50,
           202,
           13,
           38,
           33,
           32,
           33,
           12,
           16,
           17,
           80,
           14,
           17,
           24,
           103,
           56,
           10
          ],
          [
           206,
           169,
           172,
           76,
           87,
           86,
           97,
           67,
           56,
           43,
           44,
           91,
           54,
           49,
           46,
           51,
           62,
           44,
           39,
           59,
           47,
           50,
           34,
           33,
           17,
           105,
           24,
           78,
           63,
           61,
           56,
           54,
           31,
           47,
           25,
           40,
           22,
           32,
           27,
           29,
           36,
           27,
           13,
           21,
           9,
           27,
           29,
           17,
           21,
           17
          ],
          [
           270,
           210,
           186,
           137,
           68,
           105,
           123,
           53,
           57,
           80,
           56,
           48,
           62,
           82,
           55,
           79,
           42,
           90,
           32,
           94,
           49,
           32,
           37,
           56,
           35,
           65,
           53,
           63,
           72,
           22,
           32,
           31,
           59,
           38,
           45,
           30,
           30,
           18,
           31,
           30,
           27,
           26,
           28,
           37,
           20,
           17,
           40,
           21,
           25,
           39
          ],
          [
           221,
           220,
           213,
           59,
           114,
           123,
           91,
           86,
           44,
           48,
           91,
           60,
           58,
           46,
           40,
           81,
           48,
           90,
           57,
           52,
           44,
           30,
           41,
           27,
           21,
           68,
           19,
           61,
           22,
           70,
           46,
           39,
           24,
           32,
           37,
           57,
           14,
           64,
           36,
           16,
           47,
           25,
           29,
           18,
           33,
           59,
           33,
           13,
           36,
           17
          ],
          [
           220,
           193,
           271,
           54,
           93,
           93,
           78,
           77,
           103,
           55,
           68,
           144,
           76,
           56,
           56,
           105,
           152,
           34,
           43,
           48,
           54,
           41,
           25,
           35,
           31,
           36,
           19,
           56,
           32,
           46,
           56,
           70,
           130,
           33,
           16,
           70,
           21,
           25,
           41,
           20,
           27,
           26,
           39,
           9,
           35,
           15,
           26,
           12,
           27,
           47
          ],
          [
           386,
           256,
           199,
           35,
           105,
           129,
           65,
           71,
           32,
           76,
           116,
           43,
           151,
           94,
           45,
           71,
           101,
           54,
           44,
           71,
           72,
           50,
           26,
           92,
           38,
           50,
           11,
           54,
           31,
           39,
           70,
           28,
           30,
           22,
           22,
           45,
           21,
           209,
           37,
           60,
           23,
           22,
           20,
           13,
           35,
           23,
           10,
           8,
           21,
           227
          ],
          [
           172,
           283,
           334,
           102,
           64,
           111,
           96,
           84,
           98,
           97,
           95,
           47,
           72,
           75,
           72,
           44,
           110,
           40,
           23,
           54,
           32,
           54,
           40,
           43,
           31,
           26,
           26,
           31,
           59,
           24,
           130,
           30,
           72,
           36,
           40,
           25,
           39,
           1,
           44,
           37,
           13,
           24,
           22,
           16,
           45,
           13,
           26,
           17,
           26,
           10
          ],
          [
           172,
           98,
           97,
           161,
           125,
           54,
           126,
           83,
           126,
           32,
           55,
           78,
           45,
           46,
           72,
           44,
           33,
           74,
           39,
           43,
           53,
           60,
           40,
           27,
           24,
           57,
           50,
           47,
           38,
           32,
           33,
           22,
           36,
           100,
           34,
           29,
           60,
           21,
           34,
           28,
           28,
           29,
           33,
           51,
           10,
           20,
           53,
           37,
           21,
           27
          ],
          [
           297,
           165,
           91,
           213,
           112,
           87,
           99,
           51,
           78,
           37,
           38,
           69,
           56,
           61,
           54,
           35,
           19,
           114,
           34,
           38,
           10,
           51,
           37,
           38,
           36,
           27,
           202,
           25,
           45,
           37,
           16,
           22,
           40,
           34,
           112,
           8,
           30,
           13,
           38,
           36,
           29,
           17,
           18,
           12,
           19,
           11,
           25,
           53,
           31,
           19
          ],
          [
           159,
           160,
           133,
           52,
           102,
           94,
           75,
           63,
           95,
           40,
           79,
           48,
           44,
           37,
           59,
           29,
           36,
           30,
           31,
           43,
           52,
           28,
           30,
           25,
           21,
           108,
           13,
           40,
           30,
           57,
           70,
           45,
           25,
           29,
           8,
           48,
           9,
           33,
           30,
           19,
           24,
           20,
           20,
           32,
           21,
           53,
           31,
           9,
           21,
           15
          ],
          [
           192,
           187,
           301,
           110,
           48,
           71,
           67,
           64,
           510,
           62,
           34,
           23,
           57,
           55,
           56,
           55,
           261,
           31,
           14,
           30,
           36,
           48,
           41,
           37,
           36,
           34,
           38,
           22,
           30,
           14,
           21,
           21,
           39,
           60,
           30,
           9,
           48,
           3,
           20,
           39,
           11,
           16,
           25,
           22,
           16,
           9,
           23,
           21,
           29,
           23
          ],
          [
           128,
           267,
           114,
           95,
           146,
           197,
           189,
           82,
           26,
           24,
           63,
           63,
           21,
           83,
           36,
           51,
           26,
           59,
           66,
           36,
           67,
           15,
           86,
           8,
           18,
           29,
           33,
           32,
           18,
           64,
           25,
           209,
           1,
           21,
           13,
           33,
           3,
           162,
           25,
           2,
           24,
           83,
           19,
           40,
           11,
           69,
           16,
           24,
           15,
           28
          ],
          [
           153,
           188,
           137,
           69,
           113,
           80,
           66,
           60,
           35,
           28,
           97,
           50,
           37,
           38,
           32,
           21,
           31,
           45,
           36,
           42,
           38,
           33,
           30,
           32,
           20,
           61,
           32,
           27,
           31,
           36,
           41,
           37,
           44,
           34,
           38,
           30,
           20,
           25,
           36,
           14,
           51,
           15,
           14,
           14,
           33,
           24,
           12,
           10,
           17,
           9
          ],
          [
           145,
           290,
           229,
           71,
           48,
           123,
           93,
           40,
           54,
           98,
           44,
           34,
           71,
           94,
           40,
           39,
           52,
           32,
           29,
           57,
           29,
           45,
           25,
           43,
           16,
           31,
           33,
           29,
           30,
           16,
           20,
           60,
           37,
           28,
           36,
           19,
           39,
           2,
           14,
           48,
           5,
           29,
           18,
           13,
           25,
           9,
           16,
           16,
           6,
           24
          ],
          [
           120,
           146,
           101,
           21,
           207,
           118,
           45,
           72,
           27,
           32,
           136,
           42,
           38,
           29,
           33,
           44,
           23,
           59,
           55,
           69,
           43,
           15,
           14,
           16,
           12,
           96,
           12,
           36,
           27,
           47,
           27,
           23,
           13,
           28,
           29,
           24,
           11,
           24,
           51,
           5,
           48,
           14,
           8,
           1,
           14,
           28,
           13,
           6,
           17,
           6
          ],
          [
           323,
           429,
           101,
           60,
           87,
           122,
           173,
           41,
           26,
           55,
           72,
           42,
           66,
           63,
           59,
           36,
           26,
           59,
           18,
           29,
           51,
           41,
           41,
           35,
           30,
           14,
           16,
           27,
           26,
           25,
           26,
           22,
           24,
           29,
           17,
           20,
           16,
           83,
           15,
           29,
           14,
           28,
           64,
           42,
           19,
           22,
           12,
           16,
           19,
           26
          ],
          [
           290,
           261,
           129,
           41,
           41,
           97,
           130,
           30,
           40,
           75,
           25,
           37,
           60,
           38,
           67,
           26,
           35,
           34,
           30,
           29,
           39,
           42,
           37,
           24,
           34,
           16,
           17,
           13,
           28,
           29,
           39,
           20,
           22,
           33,
           18,
           20,
           25,
           19,
           14,
           18,
           8,
           64,
           52,
           16,
           17,
           16,
           35,
           8,
           35,
           36
          ],
          [
           170,
           71,
           36,
           268,
           99,
           15,
           115,
           39,
           40,
           12,
           24,
           65,
           22,
           28,
           40,
           26,
           4,
           44,
           25,
           4,
           17,
           20,
           107,
           23,
           29,
           15,
           80,
           21,
           37,
           18,
           9,
           13,
           16,
           51,
           12,
           32,
           22,
           40,
           14,
           13,
           1,
           42,
           16,
           122,
           6,
           14,
           10,
           43,
           24,
           15
          ],
          [
           246,
           143,
           447,
           29,
           51,
           51,
           30,
           61,
           34,
           45,
           99,
           36,
           86,
           38,
           39,
           103,
           121,
           13,
           24,
           31,
           43,
           53,
           12,
           81,
           14,
           17,
           14,
           9,
           20,
           33,
           35,
           35,
           45,
           10,
           19,
           21,
           16,
           11,
           33,
           25,
           14,
           19,
           17,
           6,
           22,
           8,
           14,
           10,
           11,
           24
          ],
          [
           100,
           147,
           97,
           38,
           125,
           57,
           58,
           35,
           57,
           28,
           46,
           69,
           15,
           35,
           20,
           74,
           38,
           43,
           52,
           30,
           46,
           15,
           56,
           6,
           10,
           28,
           17,
           27,
           17,
           59,
           15,
           23,
           13,
           20,
           11,
           53,
           9,
           69,
           24,
           9,
           28,
           22,
           16,
           14,
           8,
           48,
           26,
           12,
           22,
           7
          ],
          [
           141,
           143,
           93,
           33,
           65,
           65,
           58,
           39,
           85,
           31,
           31,
           40,
           45,
           30,
           50,
           39,
           29,
           36,
           42,
           43,
           40,
           29,
           16,
           22,
           20,
           26,
           24,
           29,
           40,
           33,
           26,
           10,
           26,
           53,
           25,
           31,
           23,
           16,
           12,
           16,
           13,
           12,
           35,
           10,
           14,
           26,
           52,
           5,
           110,
           19
          ],
          [
           136,
           71,
           32,
           101,
           134,
           12,
           98,
           34,
           54,
           14,
           16,
           53,
           30,
           31,
           40,
           18,
           3,
           30,
           24,
           4,
           11,
           20,
           40,
           13,
           28,
           14,
           103,
           17,
           21,
           13,
           12,
           8,
           17,
           37,
           53,
           9,
           21,
           24,
           10,
           16,
           6,
           16,
           8,
           43,
           10,
           12,
           5,
           152,
           17,
           8
          ],
          [
           222,
           161,
           71,
           71,
           101,
           54,
           101,
           50,
           91,
           26,
           45,
           49,
           23,
           36,
           56,
           30,
           32,
           50,
           42,
           26,
           14,
           37,
           29,
           15,
           13,
           22,
           56,
           21,
           25,
           36,
           27,
           21,
           26,
           21,
           31,
           21,
           29,
           15,
           17,
           6,
           17,
           19,
           35,
           24,
           11,
           22,
           110,
           17,
           68,
           13
          ],
          [
           353,
           168,
           194,
           38,
           42,
           102,
           76,
           38,
           44,
           76,
           50,
           42,
           81,
           35,
           35,
           31,
           55,
           24,
           17,
           34,
           32,
           16,
           18,
           93,
           62,
           29,
           10,
           17,
           39,
           17,
           47,
           227,
           10,
           27,
           19,
           15,
           23,
           28,
           9,
           24,
           6,
           26,
           36,
           15,
           24,
           7,
           19,
           8,
           13,
           2
          ]
         ]
        }
       ],
       "layout": {
        "coloraxis": {
         "colorbar": {
          "title": {
           "text": "Count"
          }
         },
         "colorscale": [
          [
           0,
           "rgb(255,245,240)"
          ],
          [
           0.125,
           "rgb(254,224,210)"
          ],
          [
           0.25,
           "rgb(252,187,161)"
          ],
          [
           0.375,
           "rgb(252,146,114)"
          ],
          [
           0.5,
           "rgb(251,106,74)"
          ],
          [
           0.625,
           "rgb(239,59,44)"
          ],
          [
           0.75,
           "rgb(203,24,29)"
          ],
          [
           0.875,
           "rgb(165,15,21)"
          ],
          [
           1,
           "rgb(103,0,13)"
          ]
         ]
        },
        "height": 1200,
        "template": {
         "data": {
          "bar": [
           {
            "error_x": {
             "color": "#2a3f5f"
            },
            "error_y": {
             "color": "#2a3f5f"
            },
            "marker": {
             "line": {
              "color": "#E5ECF6",
              "width": 0.5
             },
             "pattern": {
              "fillmode": "overlay",
              "size": 10,
              "solidity": 0.2
             }
            },
            "type": "bar"
           }
          ],
          "barpolar": [
           {
            "marker": {
             "line": {
              "color": "#E5ECF6",
              "width": 0.5
             },
             "pattern": {
              "fillmode": "overlay",
              "size": 10,
              "solidity": 0.2
             }
            },
            "type": "barpolar"
           }
          ],
          "carpet": [
           {
            "aaxis": {
             "endlinecolor": "#2a3f5f",
             "gridcolor": "white",
             "linecolor": "white",
             "minorgridcolor": "white",
             "startlinecolor": "#2a3f5f"
            },
            "baxis": {
             "endlinecolor": "#2a3f5f",
             "gridcolor": "white",
             "linecolor": "white",
             "minorgridcolor": "white",
             "startlinecolor": "#2a3f5f"
            },
            "type": "carpet"
           }
          ],
          "choropleth": [
           {
            "colorbar": {
             "outlinewidth": 0,
             "ticks": ""
            },
            "type": "choropleth"
           }
          ],
          "contour": [
           {
            "colorbar": {
             "outlinewidth": 0,
             "ticks": ""
            },
            "colorscale": [
             [
              0,
              "#0d0887"
             ],
             [
              0.1111111111111111,
              "#46039f"
             ],
             [
              0.2222222222222222,
              "#7201a8"
             ],
             [
              0.3333333333333333,
              "#9c179e"
             ],
             [
              0.4444444444444444,
              "#bd3786"
             ],
             [
              0.5555555555555556,
              "#d8576b"
             ],
             [
              0.6666666666666666,
              "#ed7953"
             ],
             [
              0.7777777777777778,
              "#fb9f3a"
             ],
             [
              0.8888888888888888,
              "#fdca26"
             ],
             [
              1,
              "#f0f921"
             ]
            ],
            "type": "contour"
           }
          ],
          "contourcarpet": [
           {
            "colorbar": {
             "outlinewidth": 0,
             "ticks": ""
            },
            "type": "contourcarpet"
           }
          ],
          "heatmap": [
           {
            "colorbar": {
             "outlinewidth": 0,
             "ticks": ""
            },
            "colorscale": [
             [
              0,
              "#0d0887"
             ],
             [
              0.1111111111111111,
              "#46039f"
             ],
             [
              0.2222222222222222,
              "#7201a8"
             ],
             [
              0.3333333333333333,
              "#9c179e"
             ],
             [
              0.4444444444444444,
              "#bd3786"
             ],
             [
              0.5555555555555556,
              "#d8576b"
             ],
             [
              0.6666666666666666,
              "#ed7953"
             ],
             [
              0.7777777777777778,
              "#fb9f3a"
             ],
             [
              0.8888888888888888,
              "#fdca26"
             ],
             [
              1,
              "#f0f921"
             ]
            ],
            "type": "heatmap"
           }
          ],
          "heatmapgl": [
           {
            "colorbar": {
             "outlinewidth": 0,
             "ticks": ""
            },
            "colorscale": [
             [
              0,
              "#0d0887"
             ],
             [
              0.1111111111111111,
              "#46039f"
             ],
             [
              0.2222222222222222,
              "#7201a8"
             ],
             [
              0.3333333333333333,
              "#9c179e"
             ],
             [
              0.4444444444444444,
              "#bd3786"
             ],
             [
              0.5555555555555556,
              "#d8576b"
             ],
             [
              0.6666666666666666,
              "#ed7953"
             ],
             [
              0.7777777777777778,
              "#fb9f3a"
             ],
             [
              0.8888888888888888,
              "#fdca26"
             ],
             [
              1,
              "#f0f921"
             ]
            ],
            "type": "heatmapgl"
           }
          ],
          "histogram": [
           {
            "marker": {
             "pattern": {
              "fillmode": "overlay",
              "size": 10,
              "solidity": 0.2
             }
            },
            "type": "histogram"
           }
          ],
          "histogram2d": [
           {
            "colorbar": {
             "outlinewidth": 0,
             "ticks": ""
            },
            "colorscale": [
             [
              0,
              "#0d0887"
             ],
             [
              0.1111111111111111,
              "#46039f"
             ],
             [
              0.2222222222222222,
              "#7201a8"
             ],
             [
              0.3333333333333333,
              "#9c179e"
             ],
             [
              0.4444444444444444,
              "#bd3786"
             ],
             [
              0.5555555555555556,
              "#d8576b"
             ],
             [
              0.6666666666666666,
              "#ed7953"
             ],
             [
              0.7777777777777778,
              "#fb9f3a"
             ],
             [
              0.8888888888888888,
              "#fdca26"
             ],
             [
              1,
              "#f0f921"
             ]
            ],
            "type": "histogram2d"
           }
          ],
          "histogram2dcontour": [
           {
            "colorbar": {
             "outlinewidth": 0,
             "ticks": ""
            },
            "colorscale": [
             [
              0,
              "#0d0887"
             ],
             [
              0.1111111111111111,
              "#46039f"
             ],
             [
              0.2222222222222222,
              "#7201a8"
             ],
             [
              0.3333333333333333,
              "#9c179e"
             ],
             [
              0.4444444444444444,
              "#bd3786"
             ],
             [
              0.5555555555555556,
              "#d8576b"
             ],
             [
              0.6666666666666666,
              "#ed7953"
             ],
             [
              0.7777777777777778,
              "#fb9f3a"
             ],
             [
              0.8888888888888888,
              "#fdca26"
             ],
             [
              1,
              "#f0f921"
             ]
            ],
            "type": "histogram2dcontour"
           }
          ],
          "mesh3d": [
           {
            "colorbar": {
             "outlinewidth": 0,
             "ticks": ""
            },
            "type": "mesh3d"
           }
          ],
          "parcoords": [
           {
            "line": {
             "colorbar": {
              "outlinewidth": 0,
              "ticks": ""
             }
            },
            "type": "parcoords"
           }
          ],
          "pie": [
           {
            "automargin": true,
            "type": "pie"
           }
          ],
          "scatter": [
           {
            "fillpattern": {
             "fillmode": "overlay",
             "size": 10,
             "solidity": 0.2
            },
            "type": "scatter"
           }
          ],
          "scatter3d": [
           {
            "line": {
             "colorbar": {
              "outlinewidth": 0,
              "ticks": ""
             }
            },
            "marker": {
             "colorbar": {
              "outlinewidth": 0,
              "ticks": ""
             }
            },
            "type": "scatter3d"
           }
          ],
          "scattercarpet": [
           {
            "marker": {
             "colorbar": {
              "outlinewidth": 0,
              "ticks": ""
             }
            },
            "type": "scattercarpet"
           }
          ],
          "scattergeo": [
           {
            "marker": {
             "colorbar": {
              "outlinewidth": 0,
              "ticks": ""
             }
            },
            "type": "scattergeo"
           }
          ],
          "scattergl": [
           {
            "marker": {
             "colorbar": {
              "outlinewidth": 0,
              "ticks": ""
             }
            },
            "type": "scattergl"
           }
          ],
          "scattermapbox": [
           {
            "marker": {
             "colorbar": {
              "outlinewidth": 0,
              "ticks": ""
             }
            },
            "type": "scattermapbox"
           }
          ],
          "scatterpolar": [
           {
            "marker": {
             "colorbar": {
              "outlinewidth": 0,
              "ticks": ""
             }
            },
            "type": "scatterpolar"
           }
          ],
          "scatterpolargl": [
           {
            "marker": {
             "colorbar": {
              "outlinewidth": 0,
              "ticks": ""
             }
            },
            "type": "scatterpolargl"
           }
          ],
          "scatterternary": [
           {
            "marker": {
             "colorbar": {
              "outlinewidth": 0,
              "ticks": ""
             }
            },
            "type": "scatterternary"
           }
          ],
          "surface": [
           {
            "colorbar": {
             "outlinewidth": 0,
             "ticks": ""
            },
            "colorscale": [
             [
              0,
              "#0d0887"
             ],
             [
              0.1111111111111111,
              "#46039f"
             ],
             [
              0.2222222222222222,
              "#7201a8"
             ],
             [
              0.3333333333333333,
              "#9c179e"
             ],
             [
              0.4444444444444444,
              "#bd3786"
             ],
             [
              0.5555555555555556,
              "#d8576b"
             ],
             [
              0.6666666666666666,
              "#ed7953"
             ],
             [
              0.7777777777777778,
              "#fb9f3a"
             ],
             [
              0.8888888888888888,
              "#fdca26"
             ],
             [
              1,
              "#f0f921"
             ]
            ],
            "type": "surface"
           }
          ],
          "table": [
           {
            "cells": {
             "fill": {
              "color": "#EBF0F8"
             },
             "line": {
              "color": "white"
             }
            },
            "header": {
             "fill": {
              "color": "#C8D4E3"
             },
             "line": {
              "color": "white"
             }
            },
            "type": "table"
           }
          ]
         },
         "layout": {
          "annotationdefaults": {
           "arrowcolor": "#2a3f5f",
           "arrowhead": 0,
           "arrowwidth": 1
          },
          "autotypenumbers": "strict",
          "coloraxis": {
           "colorbar": {
            "outlinewidth": 0,
            "ticks": ""
           }
          },
          "colorscale": {
           "diverging": [
            [
             0,
             "#8e0152"
            ],
            [
             0.1,
             "#c51b7d"
            ],
            [
             0.2,
             "#de77ae"
            ],
            [
             0.3,
             "#f1b6da"
            ],
            [
             0.4,
             "#fde0ef"
            ],
            [
             0.5,
             "#f7f7f7"
            ],
            [
             0.6,
             "#e6f5d0"
            ],
            [
             0.7,
             "#b8e186"
            ],
            [
             0.8,
             "#7fbc41"
            ],
            [
             0.9,
             "#4d9221"
            ],
            [
             1,
             "#276419"
            ]
           ],
           "sequential": [
            [
             0,
             "#0d0887"
            ],
            [
             0.1111111111111111,
             "#46039f"
            ],
            [
             0.2222222222222222,
             "#7201a8"
            ],
            [
             0.3333333333333333,
             "#9c179e"
            ],
            [
             0.4444444444444444,
             "#bd3786"
            ],
            [
             0.5555555555555556,
             "#d8576b"
            ],
            [
             0.6666666666666666,
             "#ed7953"
            ],
            [
             0.7777777777777778,
             "#fb9f3a"
            ],
            [
             0.8888888888888888,
             "#fdca26"
            ],
            [
             1,
             "#f0f921"
            ]
           ],
           "sequentialminus": [
            [
             0,
             "#0d0887"
            ],
            [
             0.1111111111111111,
             "#46039f"
            ],
            [
             0.2222222222222222,
             "#7201a8"
            ],
            [
             0.3333333333333333,
             "#9c179e"
            ],
            [
             0.4444444444444444,
             "#bd3786"
            ],
            [
             0.5555555555555556,
             "#d8576b"
            ],
            [
             0.6666666666666666,
             "#ed7953"
            ],
            [
             0.7777777777777778,
             "#fb9f3a"
            ],
            [
             0.8888888888888888,
             "#fdca26"
            ],
            [
             1,
             "#f0f921"
            ]
           ]
          },
          "colorway": [
           "#636efa",
           "#EF553B",
           "#00cc96",
           "#ab63fa",
           "#FFA15A",
           "#19d3f3",
           "#FF6692",
           "#B6E880",
           "#FF97FF",
           "#FECB52"
          ],
          "font": {
           "color": "#2a3f5f"
          },
          "geo": {
           "bgcolor": "white",
           "lakecolor": "white",
           "landcolor": "#E5ECF6",
           "showlakes": true,
           "showland": true,
           "subunitcolor": "white"
          },
          "hoverlabel": {
           "align": "left"
          },
          "hovermode": "closest",
          "mapbox": {
           "style": "light"
          },
          "paper_bgcolor": "white",
          "plot_bgcolor": "#E5ECF6",
          "polar": {
           "angularaxis": {
            "gridcolor": "white",
            "linecolor": "white",
            "ticks": ""
           },
           "bgcolor": "#E5ECF6",
           "radialaxis": {
            "gridcolor": "white",
            "linecolor": "white",
            "ticks": ""
           }
          },
          "scene": {
           "xaxis": {
            "backgroundcolor": "#E5ECF6",
            "gridcolor": "white",
            "gridwidth": 2,
            "linecolor": "white",
            "showbackground": true,
            "ticks": "",
            "zerolinecolor": "white"
           },
           "yaxis": {
            "backgroundcolor": "#E5ECF6",
            "gridcolor": "white",
            "gridwidth": 2,
            "linecolor": "white",
            "showbackground": true,
            "ticks": "",
            "zerolinecolor": "white"
           },
           "zaxis": {
            "backgroundcolor": "#E5ECF6",
            "gridcolor": "white",
            "gridwidth": 2,
            "linecolor": "white",
            "showbackground": true,
            "ticks": "",
            "zerolinecolor": "white"
           }
          },
          "shapedefaults": {
           "line": {
            "color": "#2a3f5f"
           }
          },
          "ternary": {
           "aaxis": {
            "gridcolor": "white",
            "linecolor": "white",
            "ticks": ""
           },
           "baxis": {
            "gridcolor": "white",
            "linecolor": "white",
            "ticks": ""
           },
           "bgcolor": "#E5ECF6",
           "caxis": {
            "gridcolor": "white",
            "linecolor": "white",
            "ticks": ""
           }
          },
          "title": {
           "x": 0.05
          },
          "xaxis": {
           "automargin": true,
           "gridcolor": "white",
           "linecolor": "white",
           "ticks": "",
           "title": {
            "standoff": 15
           },
           "zerolinecolor": "white",
           "zerolinewidth": 2
          },
          "yaxis": {
           "automargin": true,
           "gridcolor": "white",
           "linecolor": "white",
           "ticks": "",
           "title": {
            "standoff": 15
           },
           "zerolinecolor": "white",
           "zerolinewidth": 2
          }
         }
        },
        "title": {
         "text": "Co-occurrence matrix for the Reviews (50 most frequent co-occurring words in a 5-token context window)"
        },
        "width": 1200,
        "xaxis": {
         "anchor": "y",
         "constrain": "domain",
         "domain": [
          0,
          1
         ],
         "scaleanchor": "y",
         "title": {
          "text": "Words"
         }
        },
        "yaxis": {
         "anchor": "x",
         "autorange": "reversed",
         "constrain": "domain",
         "domain": [
          0,
          1
         ],
         "title": {
          "text": "Words"
         }
        }
       }
      }
     },
     "metadata": {},
     "output_type": "display_data"
    }
   ],
   "source": [
    "## Plot the most common co-occurrences\n",
    "fig = px.imshow(reviews_cooccurrence_window.iloc[:50, :50], color_continuous_scale='reds', \n",
    "                labels=dict(x=\"Words\", y=\"Words\", color=\"Count\"),\n",
    "                title=\"Co-occurrence matrix for the Reviews (50 most frequent co-occurring words in a 5-token context window)\", \n",
    "                width=1200, height=1200)\n",
    "\n",
    "fig.show()"
   ]
  },
  {
   "cell_type": "markdown",
   "metadata": {},
   "source": [
    "<font color='#BFD72F' size=4>2.5 Co-occurrence in `Cuisines` visualization</font> <a class=\"anchor\" id=\"P1\"></a>\n",
    "  \n",
    "[Back to TOC](#toc)"
   ]
  },
  {
   "cell_type": "code",
   "execution_count": 133,
   "metadata": {},
   "outputs": [],
   "source": [
    "reviews[\"Cuisine_spit\"] = reviews[\"Cuisine\"].apply(lambda x: x.lower().split(\", \"))"
   ]
  },
  {
   "cell_type": "code",
   "execution_count": 134,
   "metadata": {},
   "outputs": [
    {
     "name": "stdout",
     "output_type": "stream",
     "text": [
      "2665    [mexican, italian, north indian, chinese, salad]\n",
      "Name: Cuisine_spit, dtype: object\n"
     ]
    }
   ],
   "source": [
    "print(reviews[\"Cuisine_spit\"].sample(1))"
   ]
  },
  {
   "cell_type": "code",
   "execution_count": 141,
   "metadata": {},
   "outputs": [
    {
     "name": "stderr",
     "output_type": "stream",
     "text": [
      "100%|██████████| 9955/9955 [00:00<00:00, 175091.71it/s]\n"
     ]
    }
   ],
   "source": [
    "cuisines_cooccurrence_window = cooccurrence_matrix_window_generator(reviews[\"Cuisine_spit\"].tolist(),10)"
   ]
  },
  {
   "cell_type": "code",
   "execution_count": 144,
   "metadata": {},
   "outputs": [
    {
     "data": {
      "application/vnd.plotly.v1+json": {
       "config": {
        "plotlyServerURL": "https://plot.ly"
       },
       "data": [
        {
         "coloraxis": "coloraxis",
         "hovertemplate": "Words: %{x}<br>Words: %{y}<br>Count: %{z}<extra></extra>",
         "name": "0",
         "type": "heatmap",
         "x": [
          "north indian",
          "chinese",
          "continental",
          "italian",
          "biryani",
          "asian",
          "south indian",
          "desserts",
          "fast food",
          "kebab",
          "andhra",
          "mediterranean",
          "salad",
          "beverages",
          "mughlai",
          "seafood",
          "sushi",
          "cafe",
          "european",
          "american",
          "burger",
          "bakery",
          "hyderabadi",
          "thai",
          "momos",
          "japanese",
          "bbq",
          "modern indian",
          "finger food",
          "goan",
          "mexican",
          "juices",
          "street food",
          "arabian",
          "spanish",
          "indonesian",
          "healthy food",
          "wraps",
          "ice cream",
          "north eastern",
          "pizza",
          "lebanese"
         ],
         "xaxis": "x",
         "y": [
          "north indian",
          "chinese",
          "continental",
          "italian",
          "biryani",
          "asian",
          "south indian",
          "desserts",
          "fast food",
          "kebab",
          "andhra",
          "mediterranean",
          "salad",
          "beverages",
          "mughlai",
          "seafood",
          "sushi",
          "cafe",
          "european",
          "american",
          "burger",
          "bakery",
          "hyderabadi",
          "momos",
          "japanese",
          "thai",
          "bbq",
          "modern indian",
          "finger food",
          "goan",
          "mexican",
          "juices",
          "indonesian",
          "healthy food",
          "street food",
          "spanish",
          "arabian",
          "wraps",
          "ice cream",
          "north eastern",
          "pizza",
          "lebanese"
         ],
         "yaxis": "y",
         "z": [
          [
           0,
           3395,
           1399,
           1100,
           1298,
           700,
           900,
           100,
           300,
           600,
           600,
           500,
           300,
           200,
           400,
           299,
           200,
           0,
           300,
           100,
           100,
           100,
           299,
           0,
           0,
           200,
           100,
           0,
           200,
           100,
           100,
           100,
           100,
           100,
           0,
           0,
           100,
           0,
           0,
           0,
           0,
           0
          ],
          [
           3395,
           0,
           899,
           500,
           1198,
           500,
           500,
           0,
           100,
           300,
           400,
           100,
           200,
           100,
           300,
           299,
           200,
           0,
           100,
           200,
           0,
           100,
           199,
           200,
           200,
           100,
           0,
           0,
           100,
           0,
           100,
           100,
           0,
           100,
           0,
           100,
           0,
           0,
           0,
           0,
           0,
           0
          ],
          [
           1399,
           899,
           0,
           900,
           99,
           600,
           200,
           100,
           0,
           200,
           0,
           100,
           0,
           0,
           0,
           100,
           0,
           100,
           200,
           100,
           0,
           0,
           0,
           0,
           0,
           0,
           0,
           100,
           0,
           100,
           0,
           0,
           0,
           0,
           100,
           0,
           100,
           0,
           0,
           0,
           0,
           0
          ],
          [
           1100,
           500,
           900,
           0,
           0,
           500,
           100,
           0,
           0,
           100,
           0,
           0,
           300,
           0,
           0,
           0,
           100,
           0,
           100,
           0,
           0,
           0,
           0,
           0,
           0,
           100,
           0,
           100,
           100,
           0,
           100,
           0,
           0,
           0,
           100,
           0,
           0,
           0,
           0,
           0,
           0,
           0
          ],
          [
           1298,
           1198,
           99,
           0,
           0,
           0,
           100,
           100,
           100,
           0,
           400,
           0,
           0,
           100,
           200,
           199,
           0,
           0,
           0,
           0,
           0,
           0,
           199,
           0,
           0,
           0,
           0,
           0,
           0,
           0,
           0,
           0,
           0,
           0,
           0,
           0,
           0,
           0,
           0,
           0,
           0,
           0
          ],
          [
           700,
           500,
           600,
           500,
           0,
           0,
           100,
           100,
           0,
           0,
           0,
           200,
           0,
           0,
           0,
           100,
           200,
           0,
           0,
           0,
           0,
           0,
           0,
           200,
           200,
           0,
           100,
           200,
           0,
           100,
           0,
           0,
           0,
           0,
           0,
           100,
           0,
           0,
           0,
           0,
           0,
           0
          ],
          [
           900,
           500,
           200,
           100,
           100,
           100,
           0,
           0,
           0,
           200,
           200,
           0,
           0,
           0,
           0,
           0,
           0,
           0,
           100,
           100,
           0,
           0,
           0,
           0,
           0,
           0,
           0,
           0,
           0,
           0,
           0,
           0,
           0,
           0,
           0,
           0,
           100,
           0,
           0,
           0,
           0,
           0
          ],
          [
           100,
           0,
           100,
           0,
           100,
           100,
           0,
           0,
           500,
           0,
           0,
           100,
           0,
           200,
           0,
           0,
           0,
           400,
           0,
           100,
           100,
           300,
           0,
           0,
           0,
           0,
           0,
           0,
           0,
           0,
           0,
           0,
           0,
           0,
           0,
           0,
           0,
           100,
           199,
           0,
           0,
           0
          ],
          [
           300,
           100,
           0,
           0,
           100,
           0,
           0,
           500,
           0,
           0,
           0,
           0,
           77,
           200,
           0,
           0,
           0,
           300,
           0,
           77,
           277,
           200,
           0,
           0,
           0,
           0,
           0,
           0,
           0,
           0,
           0,
           0,
           100,
           0,
           0,
           0,
           0,
           0,
           0,
           0,
           99,
           0
          ],
          [
           600,
           300,
           200,
           100,
           0,
           0,
           200,
           0,
           0,
           0,
           0,
           100,
           0,
           0,
           0,
           0,
           0,
           0,
           100,
           100,
           100,
           0,
           0,
           0,
           0,
           0,
           100,
           0,
           100,
           0,
           0,
           0,
           0,
           0,
           0,
           0,
           0,
           0,
           0,
           0,
           0,
           0
          ],
          [
           600,
           400,
           0,
           0,
           400,
           0,
           200,
           0,
           0,
           0,
           0,
           0,
           0,
           0,
           0,
           0,
           0,
           0,
           0,
           0,
           0,
           0,
           100,
           0,
           0,
           0,
           0,
           0,
           0,
           0,
           0,
           0,
           0,
           0,
           0,
           0,
           0,
           0,
           0,
           0,
           0,
           0
          ],
          [
           500,
           100,
           100,
           0,
           0,
           200,
           0,
           100,
           0,
           100,
           0,
           0,
           0,
           0,
           0,
           0,
           0,
           0,
           200,
           0,
           0,
           0,
           0,
           0,
           0,
           0,
           100,
           0,
           0,
           0,
           0,
           0,
           0,
           0,
           0,
           0,
           0,
           0,
           0,
           0,
           0,
           0
          ],
          [
           300,
           200,
           0,
           300,
           0,
           0,
           0,
           0,
           77,
           0,
           0,
           0,
           0,
           0,
           0,
           0,
           100,
           0,
           0,
           77,
           77,
           0,
           0,
           0,
           0,
           100,
           0,
           0,
           0,
           0,
           100,
           0,
           0,
           0,
           0,
           0,
           0,
           0,
           0,
           0,
           0,
           0
          ],
          [
           200,
           100,
           0,
           0,
           100,
           0,
           0,
           200,
           200,
           0,
           0,
           0,
           0,
           0,
           100,
           100,
           0,
           200,
           0,
           0,
           100,
           0,
           0,
           0,
           0,
           0,
           0,
           0,
           0,
           0,
           0,
           0,
           0,
           0,
           0,
           0,
           0,
           0,
           0,
           0,
           0,
           0
          ],
          [
           400,
           300,
           0,
           0,
           200,
           0,
           0,
           0,
           0,
           0,
           0,
           0,
           0,
           100,
           0,
           0,
           0,
           0,
           0,
           0,
           0,
           100,
           100,
           0,
           0,
           0,
           0,
           0,
           0,
           0,
           0,
           100,
           0,
           0,
           0,
           0,
           0,
           0,
           0,
           0,
           0,
           0
          ],
          [
           299,
           299,
           100,
           0,
           199,
           100,
           0,
           0,
           0,
           0,
           0,
           0,
           0,
           100,
           0,
           0,
           0,
           0,
           0,
           0,
           0,
           0,
           99,
           0,
           0,
           0,
           0,
           0,
           0,
           100,
           0,
           0,
           0,
           0,
           0,
           0,
           0,
           0,
           0,
           0,
           0,
           0
          ],
          [
           200,
           200,
           0,
           100,
           0,
           200,
           0,
           0,
           0,
           0,
           0,
           0,
           100,
           0,
           0,
           0,
           0,
           0,
           0,
           0,
           0,
           0,
           0,
           100,
           100,
           200,
           0,
           0,
           0,
           0,
           0,
           0,
           0,
           0,
           0,
           0,
           0,
           0,
           0,
           0,
           0,
           0
          ],
          [
           0,
           0,
           100,
           0,
           0,
           0,
           0,
           400,
           300,
           0,
           0,
           0,
           0,
           200,
           0,
           0,
           0,
           0,
           0,
           0,
           100,
           100,
           0,
           0,
           0,
           0,
           0,
           0,
           0,
           0,
           0,
           0,
           0,
           0,
           0,
           0,
           0,
           0,
           0,
           0,
           0,
           0
          ],
          [
           300,
           100,
           200,
           100,
           0,
           0,
           100,
           0,
           0,
           100,
           0,
           200,
           0,
           0,
           0,
           0,
           0,
           0,
           0,
           0,
           0,
           0,
           0,
           0,
           0,
           0,
           0,
           0,
           0,
           0,
           0,
           0,
           0,
           0,
           100,
           0,
           0,
           0,
           0,
           0,
           0,
           0
          ],
          [
           100,
           200,
           100,
           0,
           0,
           0,
           100,
           100,
           77,
           100,
           0,
           0,
           77,
           0,
           0,
           0,
           0,
           0,
           0,
           0,
           177,
           0,
           0,
           0,
           0,
           0,
           0,
           0,
           0,
           0,
           0,
           0,
           0,
           0,
           0,
           0,
           0,
           100,
           0,
           0,
           0,
           0
          ],
          [
           100,
           0,
           0,
           0,
           0,
           0,
           0,
           100,
           277,
           100,
           0,
           0,
           77,
           100,
           0,
           0,
           0,
           100,
           0,
           177,
           0,
           0,
           0,
           0,
           0,
           0,
           0,
           0,
           0,
           0,
           0,
           0,
           0,
           0,
           0,
           0,
           0,
           0,
           0,
           0,
           0,
           0
          ],
          [
           100,
           100,
           0,
           0,
           0,
           0,
           0,
           300,
           200,
           0,
           0,
           0,
           0,
           0,
           100,
           0,
           0,
           100,
           0,
           0,
           0,
           0,
           0,
           0,
           0,
           0,
           0,
           0,
           0,
           0,
           0,
           100,
           0,
           0,
           0,
           0,
           0,
           0,
           0,
           0,
           0,
           0
          ],
          [
           299,
           199,
           0,
           0,
           199,
           0,
           0,
           0,
           0,
           0,
           100,
           0,
           0,
           0,
           100,
           99,
           0,
           0,
           0,
           0,
           0,
           0,
           0,
           0,
           0,
           0,
           0,
           0,
           0,
           0,
           0,
           0,
           0,
           0,
           0,
           0,
           0,
           0,
           0,
           0,
           0,
           0
          ],
          [
           0,
           200,
           0,
           0,
           0,
           200,
           0,
           0,
           0,
           0,
           0,
           0,
           0,
           0,
           0,
           0,
           100,
           0,
           0,
           0,
           0,
           0,
           0,
           100,
           0,
           0,
           0,
           0,
           0,
           0,
           0,
           0,
           0,
           0,
           0,
           0,
           0,
           0,
           0,
           100,
           0,
           0
          ],
          [
           200,
           100,
           0,
           100,
           0,
           0,
           0,
           0,
           0,
           0,
           0,
           0,
           100,
           0,
           0,
           0,
           200,
           0,
           0,
           0,
           0,
           0,
           0,
           0,
           0,
           0,
           0,
           0,
           0,
           0,
           0,
           0,
           0,
           0,
           0,
           0,
           0,
           0,
           0,
           0,
           0,
           0
          ],
          [
           0,
           200,
           0,
           0,
           0,
           200,
           0,
           0,
           0,
           0,
           0,
           0,
           0,
           0,
           0,
           0,
           100,
           0,
           0,
           0,
           0,
           0,
           0,
           0,
           100,
           0,
           0,
           0,
           0,
           0,
           0,
           0,
           0,
           0,
           0,
           100,
           0,
           0,
           0,
           0,
           0,
           0
          ],
          [
           100,
           0,
           0,
           0,
           0,
           100,
           0,
           0,
           0,
           100,
           0,
           100,
           0,
           0,
           0,
           0,
           0,
           0,
           0,
           0,
           0,
           0,
           0,
           0,
           0,
           0,
           0,
           100,
           0,
           0,
           0,
           0,
           0,
           0,
           0,
           0,
           0,
           0,
           0,
           0,
           0,
           0
          ],
          [
           0,
           0,
           100,
           100,
           0,
           200,
           0,
           0,
           0,
           0,
           0,
           0,
           0,
           0,
           0,
           0,
           0,
           0,
           0,
           0,
           0,
           0,
           0,
           0,
           0,
           0,
           100,
           0,
           0,
           0,
           0,
           0,
           0,
           0,
           0,
           0,
           0,
           0,
           0,
           0,
           0,
           0
          ],
          [
           200,
           100,
           0,
           100,
           0,
           0,
           0,
           0,
           0,
           100,
           0,
           0,
           0,
           0,
           0,
           0,
           0,
           0,
           0,
           0,
           0,
           0,
           0,
           0,
           0,
           0,
           0,
           0,
           0,
           0,
           0,
           0,
           0,
           0,
           0,
           0,
           0,
           0,
           0,
           0,
           0,
           0
          ],
          [
           100,
           0,
           100,
           0,
           0,
           100,
           0,
           0,
           0,
           0,
           0,
           0,
           0,
           0,
           0,
           100,
           0,
           0,
           0,
           0,
           0,
           0,
           0,
           0,
           0,
           0,
           0,
           0,
           0,
           0,
           0,
           0,
           0,
           0,
           0,
           0,
           0,
           0,
           0,
           0,
           0,
           0
          ],
          [
           100,
           100,
           0,
           100,
           0,
           0,
           0,
           0,
           0,
           0,
           0,
           0,
           100,
           0,
           0,
           0,
           0,
           0,
           0,
           0,
           0,
           0,
           0,
           0,
           0,
           0,
           0,
           0,
           0,
           0,
           0,
           0,
           0,
           0,
           0,
           0,
           0,
           0,
           0,
           0,
           0,
           0
          ],
          [
           100,
           100,
           0,
           0,
           0,
           0,
           0,
           0,
           0,
           0,
           0,
           0,
           0,
           0,
           100,
           0,
           0,
           0,
           0,
           0,
           0,
           100,
           0,
           0,
           0,
           0,
           0,
           0,
           0,
           0,
           0,
           0,
           0,
           0,
           0,
           0,
           0,
           0,
           0,
           0,
           0,
           0
          ],
          [
           0,
           100,
           0,
           0,
           0,
           100,
           0,
           0,
           0,
           0,
           0,
           0,
           0,
           0,
           0,
           0,
           0,
           0,
           0,
           0,
           0,
           0,
           0,
           100,
           0,
           0,
           0,
           0,
           0,
           0,
           0,
           0,
           0,
           0,
           0,
           0,
           0,
           0,
           0,
           0,
           0,
           0
          ],
          [
           100,
           0,
           100,
           0,
           0,
           0,
           100,
           0,
           0,
           0,
           0,
           0,
           0,
           0,
           0,
           0,
           0,
           0,
           0,
           0,
           0,
           0,
           0,
           0,
           0,
           0,
           0,
           0,
           0,
           0,
           0,
           0,
           0,
           0,
           0,
           0,
           0,
           0,
           0,
           0,
           0,
           0
          ],
          [
           100,
           0,
           0,
           0,
           0,
           0,
           0,
           0,
           100,
           0,
           0,
           0,
           0,
           0,
           0,
           0,
           0,
           0,
           0,
           0,
           0,
           0,
           0,
           0,
           0,
           0,
           0,
           0,
           0,
           0,
           0,
           0,
           0,
           100,
           0,
           0,
           0,
           0,
           0,
           0,
           0,
           0
          ],
          [
           0,
           0,
           100,
           100,
           0,
           0,
           0,
           0,
           0,
           0,
           0,
           0,
           0,
           0,
           0,
           0,
           0,
           0,
           100,
           0,
           0,
           0,
           0,
           0,
           0,
           0,
           0,
           0,
           0,
           0,
           0,
           0,
           0,
           0,
           0,
           0,
           0,
           0,
           0,
           0,
           0,
           0
          ],
          [
           100,
           100,
           0,
           0,
           0,
           0,
           0,
           0,
           0,
           0,
           0,
           0,
           0,
           0,
           0,
           0,
           0,
           0,
           0,
           0,
           0,
           0,
           0,
           0,
           0,
           0,
           0,
           0,
           0,
           0,
           0,
           0,
           100,
           0,
           0,
           0,
           0,
           0,
           0,
           0,
           0,
           0
          ],
          [
           0,
           0,
           0,
           0,
           0,
           0,
           0,
           100,
           0,
           0,
           0,
           0,
           0,
           0,
           0,
           0,
           0,
           0,
           0,
           100,
           0,
           0,
           0,
           0,
           0,
           0,
           0,
           0,
           0,
           0,
           0,
           0,
           0,
           0,
           0,
           0,
           0,
           0,
           0,
           0,
           0,
           0
          ],
          [
           0,
           0,
           0,
           0,
           0,
           0,
           0,
           199,
           0,
           0,
           0,
           0,
           0,
           0,
           0,
           0,
           0,
           0,
           0,
           0,
           0,
           0,
           0,
           0,
           0,
           0,
           0,
           0,
           0,
           0,
           0,
           0,
           0,
           0,
           0,
           0,
           0,
           0,
           0,
           0,
           0,
           0
          ],
          [
           0,
           0,
           0,
           0,
           0,
           0,
           0,
           0,
           0,
           0,
           0,
           0,
           0,
           0,
           0,
           0,
           0,
           0,
           0,
           0,
           0,
           0,
           0,
           0,
           100,
           0,
           0,
           0,
           0,
           0,
           0,
           0,
           0,
           0,
           0,
           0,
           0,
           0,
           0,
           0,
           0,
           0
          ],
          [
           0,
           0,
           0,
           0,
           0,
           0,
           0,
           0,
           99,
           0,
           0,
           0,
           0,
           0,
           0,
           0,
           0,
           0,
           0,
           0,
           0,
           0,
           0,
           0,
           0,
           0,
           0,
           0,
           0,
           0,
           0,
           0,
           0,
           0,
           0,
           0,
           0,
           0,
           0,
           0,
           0,
           0
          ],
          [
           0,
           0,
           0,
           0,
           0,
           0,
           0,
           0,
           0,
           0,
           0,
           0,
           0,
           0,
           0,
           0,
           0,
           0,
           0,
           0,
           0,
           0,
           0,
           0,
           0,
           0,
           0,
           0,
           0,
           0,
           0,
           0,
           0,
           0,
           0,
           0,
           0,
           0,
           0,
           0,
           0,
           0
          ]
         ]
        }
       ],
       "layout": {
        "coloraxis": {
         "colorbar": {
          "title": {
           "text": "Count"
          }
         },
         "colorscale": [
          [
           0,
           "rgb(255,245,240)"
          ],
          [
           0.125,
           "rgb(254,224,210)"
          ],
          [
           0.25,
           "rgb(252,187,161)"
          ],
          [
           0.375,
           "rgb(252,146,114)"
          ],
          [
           0.5,
           "rgb(251,106,74)"
          ],
          [
           0.625,
           "rgb(239,59,44)"
          ],
          [
           0.75,
           "rgb(203,24,29)"
          ],
          [
           0.875,
           "rgb(165,15,21)"
          ],
          [
           1,
           "rgb(103,0,13)"
          ]
         ]
        },
        "height": 1200,
        "template": {
         "data": {
          "bar": [
           {
            "error_x": {
             "color": "#2a3f5f"
            },
            "error_y": {
             "color": "#2a3f5f"
            },
            "marker": {
             "line": {
              "color": "#E5ECF6",
              "width": 0.5
             },
             "pattern": {
              "fillmode": "overlay",
              "size": 10,
              "solidity": 0.2
             }
            },
            "type": "bar"
           }
          ],
          "barpolar": [
           {
            "marker": {
             "line": {
              "color": "#E5ECF6",
              "width": 0.5
             },
             "pattern": {
              "fillmode": "overlay",
              "size": 10,
              "solidity": 0.2
             }
            },
            "type": "barpolar"
           }
          ],
          "carpet": [
           {
            "aaxis": {
             "endlinecolor": "#2a3f5f",
             "gridcolor": "white",
             "linecolor": "white",
             "minorgridcolor": "white",
             "startlinecolor": "#2a3f5f"
            },
            "baxis": {
             "endlinecolor": "#2a3f5f",
             "gridcolor": "white",
             "linecolor": "white",
             "minorgridcolor": "white",
             "startlinecolor": "#2a3f5f"
            },
            "type": "carpet"
           }
          ],
          "choropleth": [
           {
            "colorbar": {
             "outlinewidth": 0,
             "ticks": ""
            },
            "type": "choropleth"
           }
          ],
          "contour": [
           {
            "colorbar": {
             "outlinewidth": 0,
             "ticks": ""
            },
            "colorscale": [
             [
              0,
              "#0d0887"
             ],
             [
              0.1111111111111111,
              "#46039f"
             ],
             [
              0.2222222222222222,
              "#7201a8"
             ],
             [
              0.3333333333333333,
              "#9c179e"
             ],
             [
              0.4444444444444444,
              "#bd3786"
             ],
             [
              0.5555555555555556,
              "#d8576b"
             ],
             [
              0.6666666666666666,
              "#ed7953"
             ],
             [
              0.7777777777777778,
              "#fb9f3a"
             ],
             [
              0.8888888888888888,
              "#fdca26"
             ],
             [
              1,
              "#f0f921"
             ]
            ],
            "type": "contour"
           }
          ],
          "contourcarpet": [
           {
            "colorbar": {
             "outlinewidth": 0,
             "ticks": ""
            },
            "type": "contourcarpet"
           }
          ],
          "heatmap": [
           {
            "colorbar": {
             "outlinewidth": 0,
             "ticks": ""
            },
            "colorscale": [
             [
              0,
              "#0d0887"
             ],
             [
              0.1111111111111111,
              "#46039f"
             ],
             [
              0.2222222222222222,
              "#7201a8"
             ],
             [
              0.3333333333333333,
              "#9c179e"
             ],
             [
              0.4444444444444444,
              "#bd3786"
             ],
             [
              0.5555555555555556,
              "#d8576b"
             ],
             [
              0.6666666666666666,
              "#ed7953"
             ],
             [
              0.7777777777777778,
              "#fb9f3a"
             ],
             [
              0.8888888888888888,
              "#fdca26"
             ],
             [
              1,
              "#f0f921"
             ]
            ],
            "type": "heatmap"
           }
          ],
          "heatmapgl": [
           {
            "colorbar": {
             "outlinewidth": 0,
             "ticks": ""
            },
            "colorscale": [
             [
              0,
              "#0d0887"
             ],
             [
              0.1111111111111111,
              "#46039f"
             ],
             [
              0.2222222222222222,
              "#7201a8"
             ],
             [
              0.3333333333333333,
              "#9c179e"
             ],
             [
              0.4444444444444444,
              "#bd3786"
             ],
             [
              0.5555555555555556,
              "#d8576b"
             ],
             [
              0.6666666666666666,
              "#ed7953"
             ],
             [
              0.7777777777777778,
              "#fb9f3a"
             ],
             [
              0.8888888888888888,
              "#fdca26"
             ],
             [
              1,
              "#f0f921"
             ]
            ],
            "type": "heatmapgl"
           }
          ],
          "histogram": [
           {
            "marker": {
             "pattern": {
              "fillmode": "overlay",
              "size": 10,
              "solidity": 0.2
             }
            },
            "type": "histogram"
           }
          ],
          "histogram2d": [
           {
            "colorbar": {
             "outlinewidth": 0,
             "ticks": ""
            },
            "colorscale": [
             [
              0,
              "#0d0887"
             ],
             [
              0.1111111111111111,
              "#46039f"
             ],
             [
              0.2222222222222222,
              "#7201a8"
             ],
             [
              0.3333333333333333,
              "#9c179e"
             ],
             [
              0.4444444444444444,
              "#bd3786"
             ],
             [
              0.5555555555555556,
              "#d8576b"
             ],
             [
              0.6666666666666666,
              "#ed7953"
             ],
             [
              0.7777777777777778,
              "#fb9f3a"
             ],
             [
              0.8888888888888888,
              "#fdca26"
             ],
             [
              1,
              "#f0f921"
             ]
            ],
            "type": "histogram2d"
           }
          ],
          "histogram2dcontour": [
           {
            "colorbar": {
             "outlinewidth": 0,
             "ticks": ""
            },
            "colorscale": [
             [
              0,
              "#0d0887"
             ],
             [
              0.1111111111111111,
              "#46039f"
             ],
             [
              0.2222222222222222,
              "#7201a8"
             ],
             [
              0.3333333333333333,
              "#9c179e"
             ],
             [
              0.4444444444444444,
              "#bd3786"
             ],
             [
              0.5555555555555556,
              "#d8576b"
             ],
             [
              0.6666666666666666,
              "#ed7953"
             ],
             [
              0.7777777777777778,
              "#fb9f3a"
             ],
             [
              0.8888888888888888,
              "#fdca26"
             ],
             [
              1,
              "#f0f921"
             ]
            ],
            "type": "histogram2dcontour"
           }
          ],
          "mesh3d": [
           {
            "colorbar": {
             "outlinewidth": 0,
             "ticks": ""
            },
            "type": "mesh3d"
           }
          ],
          "parcoords": [
           {
            "line": {
             "colorbar": {
              "outlinewidth": 0,
              "ticks": ""
             }
            },
            "type": "parcoords"
           }
          ],
          "pie": [
           {
            "automargin": true,
            "type": "pie"
           }
          ],
          "scatter": [
           {
            "fillpattern": {
             "fillmode": "overlay",
             "size": 10,
             "solidity": 0.2
            },
            "type": "scatter"
           }
          ],
          "scatter3d": [
           {
            "line": {
             "colorbar": {
              "outlinewidth": 0,
              "ticks": ""
             }
            },
            "marker": {
             "colorbar": {
              "outlinewidth": 0,
              "ticks": ""
             }
            },
            "type": "scatter3d"
           }
          ],
          "scattercarpet": [
           {
            "marker": {
             "colorbar": {
              "outlinewidth": 0,
              "ticks": ""
             }
            },
            "type": "scattercarpet"
           }
          ],
          "scattergeo": [
           {
            "marker": {
             "colorbar": {
              "outlinewidth": 0,
              "ticks": ""
             }
            },
            "type": "scattergeo"
           }
          ],
          "scattergl": [
           {
            "marker": {
             "colorbar": {
              "outlinewidth": 0,
              "ticks": ""
             }
            },
            "type": "scattergl"
           }
          ],
          "scattermapbox": [
           {
            "marker": {
             "colorbar": {
              "outlinewidth": 0,
              "ticks": ""
             }
            },
            "type": "scattermapbox"
           }
          ],
          "scatterpolar": [
           {
            "marker": {
             "colorbar": {
              "outlinewidth": 0,
              "ticks": ""
             }
            },
            "type": "scatterpolar"
           }
          ],
          "scatterpolargl": [
           {
            "marker": {
             "colorbar": {
              "outlinewidth": 0,
              "ticks": ""
             }
            },
            "type": "scatterpolargl"
           }
          ],
          "scatterternary": [
           {
            "marker": {
             "colorbar": {
              "outlinewidth": 0,
              "ticks": ""
             }
            },
            "type": "scatterternary"
           }
          ],
          "surface": [
           {
            "colorbar": {
             "outlinewidth": 0,
             "ticks": ""
            },
            "colorscale": [
             [
              0,
              "#0d0887"
             ],
             [
              0.1111111111111111,
              "#46039f"
             ],
             [
              0.2222222222222222,
              "#7201a8"
             ],
             [
              0.3333333333333333,
              "#9c179e"
             ],
             [
              0.4444444444444444,
              "#bd3786"
             ],
             [
              0.5555555555555556,
              "#d8576b"
             ],
             [
              0.6666666666666666,
              "#ed7953"
             ],
             [
              0.7777777777777778,
              "#fb9f3a"
             ],
             [
              0.8888888888888888,
              "#fdca26"
             ],
             [
              1,
              "#f0f921"
             ]
            ],
            "type": "surface"
           }
          ],
          "table": [
           {
            "cells": {
             "fill": {
              "color": "#EBF0F8"
             },
             "line": {
              "color": "white"
             }
            },
            "header": {
             "fill": {
              "color": "#C8D4E3"
             },
             "line": {
              "color": "white"
             }
            },
            "type": "table"
           }
          ]
         },
         "layout": {
          "annotationdefaults": {
           "arrowcolor": "#2a3f5f",
           "arrowhead": 0,
           "arrowwidth": 1
          },
          "autotypenumbers": "strict",
          "coloraxis": {
           "colorbar": {
            "outlinewidth": 0,
            "ticks": ""
           }
          },
          "colorscale": {
           "diverging": [
            [
             0,
             "#8e0152"
            ],
            [
             0.1,
             "#c51b7d"
            ],
            [
             0.2,
             "#de77ae"
            ],
            [
             0.3,
             "#f1b6da"
            ],
            [
             0.4,
             "#fde0ef"
            ],
            [
             0.5,
             "#f7f7f7"
            ],
            [
             0.6,
             "#e6f5d0"
            ],
            [
             0.7,
             "#b8e186"
            ],
            [
             0.8,
             "#7fbc41"
            ],
            [
             0.9,
             "#4d9221"
            ],
            [
             1,
             "#276419"
            ]
           ],
           "sequential": [
            [
             0,
             "#0d0887"
            ],
            [
             0.1111111111111111,
             "#46039f"
            ],
            [
             0.2222222222222222,
             "#7201a8"
            ],
            [
             0.3333333333333333,
             "#9c179e"
            ],
            [
             0.4444444444444444,
             "#bd3786"
            ],
            [
             0.5555555555555556,
             "#d8576b"
            ],
            [
             0.6666666666666666,
             "#ed7953"
            ],
            [
             0.7777777777777778,
             "#fb9f3a"
            ],
            [
             0.8888888888888888,
             "#fdca26"
            ],
            [
             1,
             "#f0f921"
            ]
           ],
           "sequentialminus": [
            [
             0,
             "#0d0887"
            ],
            [
             0.1111111111111111,
             "#46039f"
            ],
            [
             0.2222222222222222,
             "#7201a8"
            ],
            [
             0.3333333333333333,
             "#9c179e"
            ],
            [
             0.4444444444444444,
             "#bd3786"
            ],
            [
             0.5555555555555556,
             "#d8576b"
            ],
            [
             0.6666666666666666,
             "#ed7953"
            ],
            [
             0.7777777777777778,
             "#fb9f3a"
            ],
            [
             0.8888888888888888,
             "#fdca26"
            ],
            [
             1,
             "#f0f921"
            ]
           ]
          },
          "colorway": [
           "#636efa",
           "#EF553B",
           "#00cc96",
           "#ab63fa",
           "#FFA15A",
           "#19d3f3",
           "#FF6692",
           "#B6E880",
           "#FF97FF",
           "#FECB52"
          ],
          "font": {
           "color": "#2a3f5f"
          },
          "geo": {
           "bgcolor": "white",
           "lakecolor": "white",
           "landcolor": "#E5ECF6",
           "showlakes": true,
           "showland": true,
           "subunitcolor": "white"
          },
          "hoverlabel": {
           "align": "left"
          },
          "hovermode": "closest",
          "mapbox": {
           "style": "light"
          },
          "paper_bgcolor": "white",
          "plot_bgcolor": "#E5ECF6",
          "polar": {
           "angularaxis": {
            "gridcolor": "white",
            "linecolor": "white",
            "ticks": ""
           },
           "bgcolor": "#E5ECF6",
           "radialaxis": {
            "gridcolor": "white",
            "linecolor": "white",
            "ticks": ""
           }
          },
          "scene": {
           "xaxis": {
            "backgroundcolor": "#E5ECF6",
            "gridcolor": "white",
            "gridwidth": 2,
            "linecolor": "white",
            "showbackground": true,
            "ticks": "",
            "zerolinecolor": "white"
           },
           "yaxis": {
            "backgroundcolor": "#E5ECF6",
            "gridcolor": "white",
            "gridwidth": 2,
            "linecolor": "white",
            "showbackground": true,
            "ticks": "",
            "zerolinecolor": "white"
           },
           "zaxis": {
            "backgroundcolor": "#E5ECF6",
            "gridcolor": "white",
            "gridwidth": 2,
            "linecolor": "white",
            "showbackground": true,
            "ticks": "",
            "zerolinecolor": "white"
           }
          },
          "shapedefaults": {
           "line": {
            "color": "#2a3f5f"
           }
          },
          "ternary": {
           "aaxis": {
            "gridcolor": "white",
            "linecolor": "white",
            "ticks": ""
           },
           "baxis": {
            "gridcolor": "white",
            "linecolor": "white",
            "ticks": ""
           },
           "bgcolor": "#E5ECF6",
           "caxis": {
            "gridcolor": "white",
            "linecolor": "white",
            "ticks": ""
           }
          },
          "title": {
           "x": 0.05
          },
          "xaxis": {
           "automargin": true,
           "gridcolor": "white",
           "linecolor": "white",
           "ticks": "",
           "title": {
            "standoff": 15
           },
           "zerolinecolor": "white",
           "zerolinewidth": 2
          },
          "yaxis": {
           "automargin": true,
           "gridcolor": "white",
           "linecolor": "white",
           "ticks": "",
           "title": {
            "standoff": 15
           },
           "zerolinecolor": "white",
           "zerolinewidth": 2
          }
         }
        },
        "title": {
         "text": "Co-occurrence matrix for the Cuisines (All co-occurring words)"
        },
        "width": 1200,
        "xaxis": {
         "anchor": "y",
         "constrain": "domain",
         "domain": [
          0,
          1
         ],
         "scaleanchor": "y",
         "title": {
          "text": "Words"
         }
        },
        "yaxis": {
         "anchor": "x",
         "autorange": "reversed",
         "constrain": "domain",
         "domain": [
          0,
          1
         ],
         "title": {
          "text": "Words"
         }
        }
       }
      }
     },
     "metadata": {},
     "output_type": "display_data"
    }
   ],
   "source": [
    "fig = px.imshow(cuisines_cooccurrence_window.iloc[:, :], color_continuous_scale='reds', \n",
    "                labels=dict(x=\"Words\", y=\"Words\", color=\"Count\"),\n",
    "                title=\"Co-occurrence matrix for the Cuisines (All co-occurring words)\", \n",
    "                width=1200, height=1200)\n",
    "\n",
    "fig.show()"
   ]
  },
  {
   "cell_type": "code",
   "execution_count": null,
   "metadata": {},
   "outputs": [],
   "source": []
  }
 ],
 "metadata": {
  "kernelspec": {
   "display_name": "text-mining1",
   "language": "python",
   "name": "python3"
  },
  "language_info": {
   "codemirror_mode": {
    "name": "ipython",
    "version": 3
   },
   "file_extension": ".py",
   "mimetype": "text/x-python",
   "name": "python",
   "nbconvert_exporter": "python",
   "pygments_lexer": "ipython3",
   "version": "3.10.9"
  }
 },
 "nbformat": 4,
 "nbformat_minor": 2
}
